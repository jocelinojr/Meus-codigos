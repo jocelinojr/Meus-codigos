{
 "cells": [
  {
   "cell_type": "code",
   "execution_count": 1,
   "metadata": {},
   "outputs": [],
   "source": [
    "import json\n",
    "import requests\n",
    "import numpy as np\n",
    "import pandas as pd"
   ]
  },
  {
   "cell_type": "code",
   "execution_count": 2,
   "metadata": {},
   "outputs": [],
   "source": [
    "url ='http://wstcu.tce.al.gov.br/rest/pagamento/listar/2018/1'\n",
    "resposta_tce = requests.get(url)\n",
    "resposta_tce.raise_for_status()"
   ]
  },
  {
   "cell_type": "code",
   "execution_count": 4,
   "metadata": {},
   "outputs": [],
   "source": [
    "tce_dados = json.loads(resposta_tce.text)"
   ]
  },
  {
   "cell_type": "code",
   "execution_count": 3,
   "metadata": {
    "scrolled": false
   },
   "outputs": [],
   "source": [
    "#for i in np.arange(len(tce_dados)):\n",
    "#  print(tce_dados[i])"
   ]
  },
  {
   "cell_type": "code",
   "execution_count": 5,
   "metadata": {},
   "outputs": [],
   "source": [
    "dados = pd.DataFrame.from_dict(tce_dados)"
   ]
  },
  {
   "cell_type": "code",
   "execution_count": 8,
   "metadata": {},
   "outputs": [
    {
     "data": {
      "text/html": [
       "<div>\n",
       "<style scoped>\n",
       "    .dataframe tbody tr th:only-of-type {\n",
       "        vertical-align: middle;\n",
       "    }\n",
       "\n",
       "    .dataframe tbody tr th {\n",
       "        vertical-align: top;\n",
       "    }\n",
       "\n",
       "    .dataframe thead th {\n",
       "        text-align: right;\n",
       "    }\n",
       "</style>\n",
       "<table border=\"1\" class=\"dataframe\">\n",
       "  <thead>\n",
       "    <tr style=\"text-align: right;\">\n",
       "      <th></th>\n",
       "      <th>bimestre</th>\n",
       "      <th>chave</th>\n",
       "      <th>codigoua</th>\n",
       "      <th>codoperacao</th>\n",
       "      <th>codundgestora</th>\n",
       "      <th>datapagamento</th>\n",
       "      <th>exercicio</th>\n",
       "      <th>historico</th>\n",
       "      <th>numempenho</th>\n",
       "      <th>numliquidacao</th>\n",
       "      <th>numpagamento</th>\n",
       "      <th>numprocesso</th>\n",
       "      <th>sinal</th>\n",
       "      <th>valor</th>\n",
       "    </tr>\n",
       "  </thead>\n",
       "  <tbody>\n",
       "    <tr>\n",
       "      <th>0</th>\n",
       "      <td>1</td>\n",
       "      <td>A65C2FAE74B977493734CCF4DF4BC607</td>\n",
       "      <td>0</td>\n",
       "      <td>000</td>\n",
       "      <td>12356879000198</td>\n",
       "      <td>2016-05-16 00:00:00</td>\n",
       "      <td>2018</td>\n",
       "      <td>IMPORTÂNCIA QUE SE PAGA PARA FAZER FACE A BLOQ...</td>\n",
       "      <td>2016010000024</td>\n",
       "      <td>2016050001086</td>\n",
       "      <td>2016050001936</td>\n",
       "      <td>000000000000188</td>\n",
       "      <td>+</td>\n",
       "      <td>658.77</td>\n",
       "    </tr>\n",
       "    <tr>\n",
       "      <th>1</th>\n",
       "      <td>1</td>\n",
       "      <td>A65C2FAE74B977493734CCF4DF4BC607</td>\n",
       "      <td>0</td>\n",
       "      <td>000</td>\n",
       "      <td>12356879000198</td>\n",
       "      <td>2016-05-16 00:00:00</td>\n",
       "      <td>2018</td>\n",
       "      <td>IMPORTÂNCIA QUE SE PAGA PARA FAZER FACE A BLOQ...</td>\n",
       "      <td>2016010000024</td>\n",
       "      <td>2016050001096</td>\n",
       "      <td>2016050001946</td>\n",
       "      <td>000000000000188</td>\n",
       "      <td>+</td>\n",
       "      <td>446.88</td>\n",
       "    </tr>\n",
       "    <tr>\n",
       "      <th>2</th>\n",
       "      <td>1</td>\n",
       "      <td>A65C2FAE74B977493734CCF4DF4BC607</td>\n",
       "      <td>0</td>\n",
       "      <td>000</td>\n",
       "      <td>12356879000198</td>\n",
       "      <td>2016-05-16 00:00:00</td>\n",
       "      <td>2018</td>\n",
       "      <td>IMPORTÂNCIA QUE SE PAGA PARA FAZER FACE A BLOQ...</td>\n",
       "      <td>2016010000024</td>\n",
       "      <td>2016050001087</td>\n",
       "      <td>2016050001937</td>\n",
       "      <td>000000000000188</td>\n",
       "      <td>+</td>\n",
       "      <td>1861.39</td>\n",
       "    </tr>\n",
       "    <tr>\n",
       "      <th>3</th>\n",
       "      <td>1</td>\n",
       "      <td>A65C2FAE74B977493734CCF4DF4BC607</td>\n",
       "      <td>0</td>\n",
       "      <td>000</td>\n",
       "      <td>12356879000198</td>\n",
       "      <td>2016-05-20 00:00:00</td>\n",
       "      <td>2018</td>\n",
       "      <td>IMPORTÂNCIA QUE SE PAGA PARA FAZER FACE A BLOQ...</td>\n",
       "      <td>2016010000024</td>\n",
       "      <td>2016050001128</td>\n",
       "      <td>2016050002003</td>\n",
       "      <td>000000000000188</td>\n",
       "      <td>+</td>\n",
       "      <td>5160.78</td>\n",
       "    </tr>\n",
       "    <tr>\n",
       "      <th>4</th>\n",
       "      <td>1</td>\n",
       "      <td>A65C2FAE74B977493734CCF4DF4BC607</td>\n",
       "      <td>0</td>\n",
       "      <td>000</td>\n",
       "      <td>12356879000198</td>\n",
       "      <td>2016-05-16 00:00:00</td>\n",
       "      <td>2018</td>\n",
       "      <td>IMPORTÂNCIA QUE SE PAGA PARA FAZER FACE A BLOQ...</td>\n",
       "      <td>2016010000024</td>\n",
       "      <td>2016050001088</td>\n",
       "      <td>2016050001938</td>\n",
       "      <td>000000000000188</td>\n",
       "      <td>+</td>\n",
       "      <td>516.07</td>\n",
       "    </tr>\n",
       "  </tbody>\n",
       "</table>\n",
       "</div>"
      ],
      "text/plain": [
       "   bimestre                             chave codigoua codoperacao  \\\n",
       "0         1  A65C2FAE74B977493734CCF4DF4BC607        0         000   \n",
       "1         1  A65C2FAE74B977493734CCF4DF4BC607        0         000   \n",
       "2         1  A65C2FAE74B977493734CCF4DF4BC607        0         000   \n",
       "3         1  A65C2FAE74B977493734CCF4DF4BC607        0         000   \n",
       "4         1  A65C2FAE74B977493734CCF4DF4BC607        0         000   \n",
       "\n",
       "    codundgestora        datapagamento  exercicio  \\\n",
       "0  12356879000198  2016-05-16 00:00:00       2018   \n",
       "1  12356879000198  2016-05-16 00:00:00       2018   \n",
       "2  12356879000198  2016-05-16 00:00:00       2018   \n",
       "3  12356879000198  2016-05-20 00:00:00       2018   \n",
       "4  12356879000198  2016-05-16 00:00:00       2018   \n",
       "\n",
       "                                           historico     numempenho  \\\n",
       "0  IMPORTÂNCIA QUE SE PAGA PARA FAZER FACE A BLOQ...  2016010000024   \n",
       "1  IMPORTÂNCIA QUE SE PAGA PARA FAZER FACE A BLOQ...  2016010000024   \n",
       "2  IMPORTÂNCIA QUE SE PAGA PARA FAZER FACE A BLOQ...  2016010000024   \n",
       "3  IMPORTÂNCIA QUE SE PAGA PARA FAZER FACE A BLOQ...  2016010000024   \n",
       "4  IMPORTÂNCIA QUE SE PAGA PARA FAZER FACE A BLOQ...  2016010000024   \n",
       "\n",
       "   numliquidacao   numpagamento      numprocesso sinal    valor  \n",
       "0  2016050001086  2016050001936  000000000000188     +   658.77  \n",
       "1  2016050001096  2016050001946  000000000000188     +   446.88  \n",
       "2  2016050001087  2016050001937  000000000000188     +  1861.39  \n",
       "3  2016050001128  2016050002003  000000000000188     +  5160.78  \n",
       "4  2016050001088  2016050001938  000000000000188     +   516.07  "
      ]
     },
     "execution_count": 8,
     "metadata": {},
     "output_type": "execute_result"
    }
   ],
   "source": [
    "dados.head()"
   ]
  },
  {
   "cell_type": "code",
   "execution_count": 9,
   "metadata": {},
   "outputs": [],
   "source": [
    "dados.to_csv('TCE_AL_JSON.csv')"
   ]
  }
 ],
 "metadata": {
  "kernelspec": {
   "display_name": "Python 3",
   "language": "python",
   "name": "python3"
  },
  "language_info": {
   "codemirror_mode": {
    "name": "ipython",
    "version": 3
   },
   "file_extension": ".py",
   "mimetype": "text/x-python",
   "name": "python",
   "nbconvert_exporter": "python",
   "pygments_lexer": "ipython3",
   "version": "3.6.4"
  }
 },
 "nbformat": 4,
 "nbformat_minor": 2
}
