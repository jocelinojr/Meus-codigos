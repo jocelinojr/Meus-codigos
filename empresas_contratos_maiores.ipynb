{
 "cells": [
  {
   "cell_type": "code",
   "execution_count": 143,
   "metadata": {},
   "outputs": [],
   "source": [
    "from datascience import *\n",
    "import numpy as np\n",
    "import pandas as pd\n",
    "# These lines do some fancy plotting magic.\n",
    "import matplotlib\n",
    "%matplotlib inline\n",
    "import matplotlib.pyplot as plots\n",
    "plots.style.use('fivethirtyeight')\n",
    "import os\n",
    "from datetime import datetime"
   ]
  },
  {
   "cell_type": "code",
   "execution_count": 2,
   "metadata": {},
   "outputs": [],
   "source": [
    "# reads the dataset ina a pandas dataframe first\n",
    "siasg_df = pd.read_csv('siasg.csv', sep=';', encoding='ISO-8859-1')"
   ]
  },
  {
   "cell_type": "code",
   "execution_count": 3,
   "metadata": {},
   "outputs": [],
   "source": [
    "# converts the pd dataframe into a table\n",
    "siasg = Table().from_df(siasg_df)"
   ]
  },
  {
   "cell_type": "code",
   "execution_count": 4,
   "metadata": {},
   "outputs": [
    {
     "data": {
      "text/html": [
       "<table border=\"1\" class=\"dataframe\">\n",
       "    <thead>\n",
       "        <tr>\n",
       "            <th>Ano</th> <th>Mês</th> <th>UASG Contratante</th> <th>Objeto do Contrato</th> <th>Fornecedor Contratado</th> <th>Quantidade de Contratos</th> <th>Nome do Fornecedor Contratado</th> <th>Data Fim da Vigência</th> <th>Órgão Superior Contratante</th> <th>UF Contratado</th> <th>Município Contratado</th> <th>Porte do Fornecedor</th> <th>Identificação do Contrato</th> <th>Identificação de Item de Contrato</th> <th>Quantidade de Termos Aditivos</th> <th>Valor Contratado</th>\n",
       "        </tr>\n",
       "    </thead>\n",
       "    <tbody>\n",
       "        <tr>\n",
       "            <td>2013</td> <td>Jan </td> <td>153071 - MEC/UF/HOSP.UNIVERS.LAURO WANDERLEY/PB   </td> <td> Tem por objetivo a contratação com a Fundação José Amér ...</td> <td>08667750000123       </td> <td>1                      </td> <td>FUNDACAO JOSE AMERICO                          </td> <td>13/03/2013          </td> <td>MINISTERIO DA EDUCACAO    </td> <td>PB           </td> <td>JOAO PESSOA         </td> <td>Outros Portes      </td> <td>15307150000122012        </td> <td>1530715000012201200001           </td> <td>0                            </td> <td>R$ 1.307.928,60 </td>\n",
       "        </tr>\n",
       "    </tbody>\n",
       "        <tr>\n",
       "            <td>2013</td> <td>Jan </td> <td>158195 - UNIVERSIDADE FEDERAL DE CAMPINA GRANDE PB</td> <td> Locação de imóvel destinado à instalação da Comissão de ...</td> <td>00254177468          </td> <td>1                      </td> <td>PEDRO OLIVEIRA DE LUCENA                       </td> <td>31/12/2013          </td> <td>MINISTERIO DA EDUCACAO    </td> <td>PB           </td> <td>CAMPINA GRANDE      </td> <td>Outros Portes      </td> <td>15819550000162013        </td> <td>1581955000016201300002           </td> <td>0                            </td> <td>R$ 9.060,00     </td>\n",
       "        </tr>\n",
       "    </tbody>\n",
       "        <tr>\n",
       "            <td>2013</td> <td>Jan </td> <td>158195 - UNIVERSIDADE FEDERAL DE CAMPINA GRANDE PB</td> <td> Locação de imóvel destinado à instalação da residência  ...</td> <td>48632040430          </td> <td>1                      </td> <td>ROMERO MAYER                                   </td> <td>31/12/2013          </td> <td>MINISTERIO DA EDUCACAO    </td> <td>PB           </td> <td>CAMPINA GRANDE      </td> <td>Outros Portes      </td> <td>15819550000102013        </td> <td>1581955000010201300001           </td> <td>0                            </td> <td>R$ 10.800,00    </td>\n",
       "        </tr>\n",
       "    </tbody>\n",
       "        <tr>\n",
       "            <td>2013</td> <td>Jan </td> <td>158195 - UNIVERSIDADE FEDERAL DE CAMPINA GRANDE PB</td> <td> Locação de imóvel destinado ao alojamento de 25 estudan ...</td> <td>02409509410          </td> <td>1                      </td> <td>SHIGEAKI MARACAJA RAMOS                        </td> <td>31/12/2013          </td> <td>MINISTERIO DA EDUCACAO    </td> <td>PB           </td> <td>CAMPINA GRANDE      </td> <td>Outros Portes      </td> <td>15819550000092013        </td> <td>1581955000009201300002           </td> <td>0                            </td> <td>R$ 84.000,00    </td>\n",
       "        </tr>\n",
       "    </tbody>\n",
       "        <tr>\n",
       "            <td>2013</td> <td>Jan </td> <td>158195 - UNIVERSIDADE FEDERAL DE CAMPINA GRANDE PB</td> <td> Locação de imóvel destinado ao alojamento de 45 estudan ...</td> <td>02306158487          </td> <td>1                      </td> <td>JOSE EDIVALDO SOUSA                            </td> <td>31/12/2013          </td> <td>MINISTERIO DA EDUCACAO    </td> <td>PB           </td> <td>CAMPINA GRANDE      </td> <td>Outros Portes      </td> <td>15819550000112013        </td> <td>1581955000011201300001           </td> <td>0                            </td> <td>R$ 27.000,00    </td>\n",
       "        </tr>\n",
       "    </tbody>\n",
       "        <tr>\n",
       "            <td>2013</td> <td>Jan </td> <td>158195 - UNIVERSIDADE FEDERAL DE CAMPINA GRANDE PB</td> <td> Locação de imóvel destinado ao alojamento de 50 alunos  ...</td> <td>67615023491          </td> <td>1                      </td> <td>ALEXANDRE RIBEIRO MAYER                        </td> <td>31/12/2013          </td> <td>MINISTERIO DA EDUCACAO    </td> <td>PB           </td> <td>CAMPINA GRANDE      </td> <td>Outros Portes      </td> <td>15819550000132013        </td> <td>1581955000013201300001           </td> <td>0                            </td> <td>R$ 35.857,20    </td>\n",
       "        </tr>\n",
       "    </tbody>\n",
       "        <tr>\n",
       "            <td>2013</td> <td>Jan </td> <td>158197 - CENTRO DE FORMACAO DE PROFESSORES        </td> <td> Locação do Imóvel Residencial Situado à Avenida Ministr ...</td> <td>87403838491          </td> <td>1                      </td> <td>JANAINA ARRUDA XAVIER GADELHA                  </td> <td>31/12/2013          </td> <td>MINISTERIO DA EDUCACAO    </td> <td>PB           </td> <td>REMIGIO             </td> <td>Outros Portes      </td> <td>15819750000052013        </td> <td>1581975000005201300001           </td> <td>0                            </td> <td>R$ 15.000,00    </td>\n",
       "        </tr>\n",
       "    </tbody>\n",
       "        <tr>\n",
       "            <td>2013</td> <td>Jan </td> <td>158197 - CENTRO DE FORMACAO DE PROFESSORES        </td> <td> Locação do Imóvel Residencial Situado à Rua João Coleta ...</td> <td>75997240444          </td> <td>1                      </td> <td>TEREZINHA QUIRINO BRAGA                        </td> <td>31/12/2013          </td> <td>MINISTERIO DA EDUCACAO    </td> <td>PB           </td> <td>CAJAZEIRAS          </td> <td>Outros Portes      </td> <td>15819750000042013        </td> <td>1581975000004201300001           </td> <td>0                            </td> <td>R$ 11.400,00    </td>\n",
       "        </tr>\n",
       "    </tbody>\n",
       "        <tr>\n",
       "            <td>2013</td> <td>Jan </td> <td>158469 - INST FED.DA PARAIBA/CAMPUS JOÃO PESSOA   </td> <td> Contratação de empresa especializada em fornecimento de ...</td> <td>09123654000187       </td> <td>1                      </td> <td>COMPANHIA DE AGUA E ESGOTOS DA PARAIBA CAGEPA  </td> <td>31/12/2013          </td> <td>MINISTERIO DA EDUCACAO    </td> <td>PB           </td> <td>JOAO PESSOA         </td> <td>Outros Portes      </td> <td>15846950000062013        </td> <td>1584695000006201300001           </td> <td>0                            </td> <td>R$ 322.010,00   </td>\n",
       "        </tr>\n",
       "    </tbody>\n",
       "        <tr>\n",
       "            <td>2013</td> <td>Jan </td> <td>158469 - INST FED.DA PARAIBA/CAMPUS JOÃO PESSOA   </td> <td> Contratação de serviços de fornecimento de energia elet ...</td> <td>09095183000140       </td> <td>1                      </td> <td>ENERGISA PARAIBA - DISTRIBUIDORA DE ENERGIA S.A</td> <td>31/12/2013          </td> <td>MINISTERIO DA EDUCACAO    </td> <td>PB           </td> <td>JOAO PESSOA         </td> <td>Outros Portes      </td> <td>15846950000052013        </td> <td>1584695000005201300001           </td> <td>0                            </td> <td>R$ 793.900,00   </td>\n",
       "        </tr>\n",
       "    </tbody>\n",
       "</table>\n",
       "<p>... (11455 rows omitted)</p>"
      ],
      "text/plain": [
       "Ano  | Mês  | UASG Contratante                                   | Objeto do Contrato                                           | Fornecedor Contratado | Quantidade de Contratos | Nome do Fornecedor Contratado                   | Data Fim da Vigência | Órgão Superior Contratante | UF Contratado | Município Contratado | Porte do Fornecedor | Identificação do Contrato | Identificação de Item de Contrato | Quantidade de Termos Aditivos | Valor Contratado\n",
       "2013 | Jan  | 153071 - MEC/UF/HOSP.UNIVERS.LAURO WANDERLEY/PB    |  Tem por objetivo a contratação com a Fundação José Amér ... | 08667750000123        | 1                       | FUNDACAO JOSE AMERICO                           | 13/03/2013           | MINISTERIO DA EDUCACAO     | PB            | JOAO PESSOA          | Outros Portes       | 15307150000122012         | 1530715000012201200001            | 0                             | R$ 1.307.928,60\n",
       "2013 | Jan  | 158195 - UNIVERSIDADE FEDERAL DE CAMPINA GRANDE PB |  Locação de imóvel destinado à instalação da Comissão de ... | 00254177468           | 1                       | PEDRO OLIVEIRA DE LUCENA                        | 31/12/2013           | MINISTERIO DA EDUCACAO     | PB            | CAMPINA GRANDE       | Outros Portes       | 15819550000162013         | 1581955000016201300002            | 0                             | R$ 9.060,00\n",
       "2013 | Jan  | 158195 - UNIVERSIDADE FEDERAL DE CAMPINA GRANDE PB |  Locação de imóvel destinado à instalação da residência  ... | 48632040430           | 1                       | ROMERO MAYER                                    | 31/12/2013           | MINISTERIO DA EDUCACAO     | PB            | CAMPINA GRANDE       | Outros Portes       | 15819550000102013         | 1581955000010201300001            | 0                             | R$ 10.800,00\n",
       "2013 | Jan  | 158195 - UNIVERSIDADE FEDERAL DE CAMPINA GRANDE PB |  Locação de imóvel destinado ao alojamento de 25 estudan ... | 02409509410           | 1                       | SHIGEAKI MARACAJA RAMOS                         | 31/12/2013           | MINISTERIO DA EDUCACAO     | PB            | CAMPINA GRANDE       | Outros Portes       | 15819550000092013         | 1581955000009201300002            | 0                             | R$ 84.000,00\n",
       "2013 | Jan  | 158195 - UNIVERSIDADE FEDERAL DE CAMPINA GRANDE PB |  Locação de imóvel destinado ao alojamento de 45 estudan ... | 02306158487           | 1                       | JOSE EDIVALDO SOUSA                             | 31/12/2013           | MINISTERIO DA EDUCACAO     | PB            | CAMPINA GRANDE       | Outros Portes       | 15819550000112013         | 1581955000011201300001            | 0                             | R$ 27.000,00\n",
       "2013 | Jan  | 158195 - UNIVERSIDADE FEDERAL DE CAMPINA GRANDE PB |  Locação de imóvel destinado ao alojamento de 50 alunos  ... | 67615023491           | 1                       | ALEXANDRE RIBEIRO MAYER                         | 31/12/2013           | MINISTERIO DA EDUCACAO     | PB            | CAMPINA GRANDE       | Outros Portes       | 15819550000132013         | 1581955000013201300001            | 0                             | R$ 35.857,20\n",
       "2013 | Jan  | 158197 - CENTRO DE FORMACAO DE PROFESSORES         |  Locação do Imóvel Residencial Situado à Avenida Ministr ... | 87403838491           | 1                       | JANAINA ARRUDA XAVIER GADELHA                   | 31/12/2013           | MINISTERIO DA EDUCACAO     | PB            | REMIGIO              | Outros Portes       | 15819750000052013         | 1581975000005201300001            | 0                             | R$ 15.000,00\n",
       "2013 | Jan  | 158197 - CENTRO DE FORMACAO DE PROFESSORES         |  Locação do Imóvel Residencial Situado à Rua João Coleta ... | 75997240444           | 1                       | TEREZINHA QUIRINO BRAGA                         | 31/12/2013           | MINISTERIO DA EDUCACAO     | PB            | CAJAZEIRAS           | Outros Portes       | 15819750000042013         | 1581975000004201300001            | 0                             | R$ 11.400,00\n",
       "2013 | Jan  | 158469 - INST FED.DA PARAIBA/CAMPUS JOÃO PESSOA    |  Contratação de empresa especializada em fornecimento de ... | 09123654000187        | 1                       | COMPANHIA DE AGUA E ESGOTOS DA PARAIBA CAGEPA   | 31/12/2013           | MINISTERIO DA EDUCACAO     | PB            | JOAO PESSOA          | Outros Portes       | 15846950000062013         | 1584695000006201300001            | 0                             | R$ 322.010,00\n",
       "2013 | Jan  | 158469 - INST FED.DA PARAIBA/CAMPUS JOÃO PESSOA    |  Contratação de serviços de fornecimento de energia elet ... | 09095183000140        | 1                       | ENERGISA PARAIBA - DISTRIBUIDORA DE ENERGIA S.A | 31/12/2013           | MINISTERIO DA EDUCACAO     | PB            | JOAO PESSOA          | Outros Portes       | 15846950000052013         | 1584695000005201300001            | 0                             | R$ 793.900,00\n",
       "... (11455 rows omitted)"
      ]
     },
     "execution_count": 4,
     "metadata": {},
     "output_type": "execute_result"
    }
   ],
   "source": [
    "siasg"
   ]
  },
  {
   "cell_type": "code",
   "execution_count": 5,
   "metadata": {},
   "outputs": [
    {
     "data": {
      "text/plain": [
       "('Ano',\n",
       " 'Mês',\n",
       " 'UASG Contratante',\n",
       " 'Objeto do Contrato',\n",
       " 'Fornecedor Contratado',\n",
       " 'Quantidade de Contratos',\n",
       " 'Nome do Fornecedor Contratado',\n",
       " 'Data Fim da Vigência',\n",
       " 'Órgão Superior Contratante',\n",
       " 'UF Contratado',\n",
       " 'Município Contratado',\n",
       " 'Porte do Fornecedor',\n",
       " 'Identificação do Contrato',\n",
       " 'Identificação de Item de Contrato',\n",
       " 'Quantidade de Termos Aditivos',\n",
       " 'Valor Contratado')"
      ]
     },
     "execution_count": 5,
     "metadata": {},
     "output_type": "execute_result"
    }
   ],
   "source": [
    "siasg.labels"
   ]
  },
  {
   "cell_type": "code",
   "execution_count": 5,
   "metadata": {},
   "outputs": [
    {
     "data": {
      "text/html": [
       "<table border=\"1\" class=\"dataframe\">\n",
       "    <thead>\n",
       "        <tr>\n",
       "            <th>Ano</th> <th>Mês</th> <th>Contratante</th> <th>Objeto do Contrato</th> <th>CNPJ CPF For</th> <th>Quantidade de Contratos</th> <th>Nome_For</th> <th>Vigência</th> <th>Órgão Contratante</th> <th>UF Contratado</th> <th>Município Contratado</th> <th>Porte do Fornecedor</th> <th>Identificação do Contrato</th> <th>Contrato</th> <th>Quantidade de Termos Aditivos</th> <th>Valor Contratado</th>\n",
       "        </tr>\n",
       "    </thead>\n",
       "    <tbody>\n",
       "        <tr>\n",
       "            <td>2013</td> <td>Jan </td> <td>153071 - MEC/UF/HOSP.UNIVERS.LAURO WANDERLEY/PB   </td> <td> Tem por objetivo a contratação com a Fundação José Amér ...</td> <td>08667750000123</td> <td>1                      </td> <td>FUNDACAO JOSE AMERICO                          </td> <td>13/03/2013</td> <td>MINISTERIO DA EDUCACAO</td> <td>PB           </td> <td>JOAO PESSOA         </td> <td>Outros Portes      </td> <td>15307150000122012        </td> <td>1530715000012201200001</td> <td>0                            </td> <td>R$ 1.307.928,60 </td>\n",
       "        </tr>\n",
       "    </tbody>\n",
       "        <tr>\n",
       "            <td>2013</td> <td>Jan </td> <td>158195 - UNIVERSIDADE FEDERAL DE CAMPINA GRANDE PB</td> <td> Locação de imóvel destinado à instalação da Comissão de ...</td> <td>00254177468   </td> <td>1                      </td> <td>PEDRO OLIVEIRA DE LUCENA                       </td> <td>31/12/2013</td> <td>MINISTERIO DA EDUCACAO</td> <td>PB           </td> <td>CAMPINA GRANDE      </td> <td>Outros Portes      </td> <td>15819550000162013        </td> <td>1581955000016201300002</td> <td>0                            </td> <td>R$ 9.060,00     </td>\n",
       "        </tr>\n",
       "    </tbody>\n",
       "        <tr>\n",
       "            <td>2013</td> <td>Jan </td> <td>158195 - UNIVERSIDADE FEDERAL DE CAMPINA GRANDE PB</td> <td> Locação de imóvel destinado à instalação da residência  ...</td> <td>48632040430   </td> <td>1                      </td> <td>ROMERO MAYER                                   </td> <td>31/12/2013</td> <td>MINISTERIO DA EDUCACAO</td> <td>PB           </td> <td>CAMPINA GRANDE      </td> <td>Outros Portes      </td> <td>15819550000102013        </td> <td>1581955000010201300001</td> <td>0                            </td> <td>R$ 10.800,00    </td>\n",
       "        </tr>\n",
       "    </tbody>\n",
       "        <tr>\n",
       "            <td>2013</td> <td>Jan </td> <td>158195 - UNIVERSIDADE FEDERAL DE CAMPINA GRANDE PB</td> <td> Locação de imóvel destinado ao alojamento de 25 estudan ...</td> <td>02409509410   </td> <td>1                      </td> <td>SHIGEAKI MARACAJA RAMOS                        </td> <td>31/12/2013</td> <td>MINISTERIO DA EDUCACAO</td> <td>PB           </td> <td>CAMPINA GRANDE      </td> <td>Outros Portes      </td> <td>15819550000092013        </td> <td>1581955000009201300002</td> <td>0                            </td> <td>R$ 84.000,00    </td>\n",
       "        </tr>\n",
       "    </tbody>\n",
       "        <tr>\n",
       "            <td>2013</td> <td>Jan </td> <td>158195 - UNIVERSIDADE FEDERAL DE CAMPINA GRANDE PB</td> <td> Locação de imóvel destinado ao alojamento de 45 estudan ...</td> <td>02306158487   </td> <td>1                      </td> <td>JOSE EDIVALDO SOUSA                            </td> <td>31/12/2013</td> <td>MINISTERIO DA EDUCACAO</td> <td>PB           </td> <td>CAMPINA GRANDE      </td> <td>Outros Portes      </td> <td>15819550000112013        </td> <td>1581955000011201300001</td> <td>0                            </td> <td>R$ 27.000,00    </td>\n",
       "        </tr>\n",
       "    </tbody>\n",
       "        <tr>\n",
       "            <td>2013</td> <td>Jan </td> <td>158195 - UNIVERSIDADE FEDERAL DE CAMPINA GRANDE PB</td> <td> Locação de imóvel destinado ao alojamento de 50 alunos  ...</td> <td>67615023491   </td> <td>1                      </td> <td>ALEXANDRE RIBEIRO MAYER                        </td> <td>31/12/2013</td> <td>MINISTERIO DA EDUCACAO</td> <td>PB           </td> <td>CAMPINA GRANDE      </td> <td>Outros Portes      </td> <td>15819550000132013        </td> <td>1581955000013201300001</td> <td>0                            </td> <td>R$ 35.857,20    </td>\n",
       "        </tr>\n",
       "    </tbody>\n",
       "        <tr>\n",
       "            <td>2013</td> <td>Jan </td> <td>158197 - CENTRO DE FORMACAO DE PROFESSORES        </td> <td> Locação do Imóvel Residencial Situado à Avenida Ministr ...</td> <td>87403838491   </td> <td>1                      </td> <td>JANAINA ARRUDA XAVIER GADELHA                  </td> <td>31/12/2013</td> <td>MINISTERIO DA EDUCACAO</td> <td>PB           </td> <td>REMIGIO             </td> <td>Outros Portes      </td> <td>15819750000052013        </td> <td>1581975000005201300001</td> <td>0                            </td> <td>R$ 15.000,00    </td>\n",
       "        </tr>\n",
       "    </tbody>\n",
       "        <tr>\n",
       "            <td>2013</td> <td>Jan </td> <td>158197 - CENTRO DE FORMACAO DE PROFESSORES        </td> <td> Locação do Imóvel Residencial Situado à Rua João Coleta ...</td> <td>75997240444   </td> <td>1                      </td> <td>TEREZINHA QUIRINO BRAGA                        </td> <td>31/12/2013</td> <td>MINISTERIO DA EDUCACAO</td> <td>PB           </td> <td>CAJAZEIRAS          </td> <td>Outros Portes      </td> <td>15819750000042013        </td> <td>1581975000004201300001</td> <td>0                            </td> <td>R$ 11.400,00    </td>\n",
       "        </tr>\n",
       "    </tbody>\n",
       "        <tr>\n",
       "            <td>2013</td> <td>Jan </td> <td>158469 - INST FED.DA PARAIBA/CAMPUS JOÃO PESSOA   </td> <td> Contratação de empresa especializada em fornecimento de ...</td> <td>09123654000187</td> <td>1                      </td> <td>COMPANHIA DE AGUA E ESGOTOS DA PARAIBA CAGEPA  </td> <td>31/12/2013</td> <td>MINISTERIO DA EDUCACAO</td> <td>PB           </td> <td>JOAO PESSOA         </td> <td>Outros Portes      </td> <td>15846950000062013        </td> <td>1584695000006201300001</td> <td>0                            </td> <td>R$ 322.010,00   </td>\n",
       "        </tr>\n",
       "    </tbody>\n",
       "        <tr>\n",
       "            <td>2013</td> <td>Jan </td> <td>158469 - INST FED.DA PARAIBA/CAMPUS JOÃO PESSOA   </td> <td> Contratação de serviços de fornecimento de energia elet ...</td> <td>09095183000140</td> <td>1                      </td> <td>ENERGISA PARAIBA - DISTRIBUIDORA DE ENERGIA S.A</td> <td>31/12/2013</td> <td>MINISTERIO DA EDUCACAO</td> <td>PB           </td> <td>JOAO PESSOA         </td> <td>Outros Portes      </td> <td>15846950000052013        </td> <td>1584695000005201300001</td> <td>0                            </td> <td>R$ 793.900,00   </td>\n",
       "        </tr>\n",
       "    </tbody>\n",
       "</table>\n",
       "<p>... (11455 rows omitted)</p>"
      ],
      "text/plain": [
       "Ano  | Mês  | Contratante                                        | Objeto do Contrato                                           | CNPJ CPF For   | Quantidade de Contratos | Nome_For                                        | Vigência   | Órgão Contratante      | UF Contratado | Município Contratado | Porte do Fornecedor | Identificação do Contrato | Contrato               | Quantidade de Termos Aditivos | Valor Contratado\n",
       "2013 | Jan  | 153071 - MEC/UF/HOSP.UNIVERS.LAURO WANDERLEY/PB    |  Tem por objetivo a contratação com a Fundação José Amér ... | 08667750000123 | 1                       | FUNDACAO JOSE AMERICO                           | 13/03/2013 | MINISTERIO DA EDUCACAO | PB            | JOAO PESSOA          | Outros Portes       | 15307150000122012         | 1530715000012201200001 | 0                             | R$ 1.307.928,60\n",
       "2013 | Jan  | 158195 - UNIVERSIDADE FEDERAL DE CAMPINA GRANDE PB |  Locação de imóvel destinado à instalação da Comissão de ... | 00254177468    | 1                       | PEDRO OLIVEIRA DE LUCENA                        | 31/12/2013 | MINISTERIO DA EDUCACAO | PB            | CAMPINA GRANDE       | Outros Portes       | 15819550000162013         | 1581955000016201300002 | 0                             | R$ 9.060,00\n",
       "2013 | Jan  | 158195 - UNIVERSIDADE FEDERAL DE CAMPINA GRANDE PB |  Locação de imóvel destinado à instalação da residência  ... | 48632040430    | 1                       | ROMERO MAYER                                    | 31/12/2013 | MINISTERIO DA EDUCACAO | PB            | CAMPINA GRANDE       | Outros Portes       | 15819550000102013         | 1581955000010201300001 | 0                             | R$ 10.800,00\n",
       "2013 | Jan  | 158195 - UNIVERSIDADE FEDERAL DE CAMPINA GRANDE PB |  Locação de imóvel destinado ao alojamento de 25 estudan ... | 02409509410    | 1                       | SHIGEAKI MARACAJA RAMOS                         | 31/12/2013 | MINISTERIO DA EDUCACAO | PB            | CAMPINA GRANDE       | Outros Portes       | 15819550000092013         | 1581955000009201300002 | 0                             | R$ 84.000,00\n",
       "2013 | Jan  | 158195 - UNIVERSIDADE FEDERAL DE CAMPINA GRANDE PB |  Locação de imóvel destinado ao alojamento de 45 estudan ... | 02306158487    | 1                       | JOSE EDIVALDO SOUSA                             | 31/12/2013 | MINISTERIO DA EDUCACAO | PB            | CAMPINA GRANDE       | Outros Portes       | 15819550000112013         | 1581955000011201300001 | 0                             | R$ 27.000,00\n",
       "2013 | Jan  | 158195 - UNIVERSIDADE FEDERAL DE CAMPINA GRANDE PB |  Locação de imóvel destinado ao alojamento de 50 alunos  ... | 67615023491    | 1                       | ALEXANDRE RIBEIRO MAYER                         | 31/12/2013 | MINISTERIO DA EDUCACAO | PB            | CAMPINA GRANDE       | Outros Portes       | 15819550000132013         | 1581955000013201300001 | 0                             | R$ 35.857,20\n",
       "2013 | Jan  | 158197 - CENTRO DE FORMACAO DE PROFESSORES         |  Locação do Imóvel Residencial Situado à Avenida Ministr ... | 87403838491    | 1                       | JANAINA ARRUDA XAVIER GADELHA                   | 31/12/2013 | MINISTERIO DA EDUCACAO | PB            | REMIGIO              | Outros Portes       | 15819750000052013         | 1581975000005201300001 | 0                             | R$ 15.000,00\n",
       "2013 | Jan  | 158197 - CENTRO DE FORMACAO DE PROFESSORES         |  Locação do Imóvel Residencial Situado à Rua João Coleta ... | 75997240444    | 1                       | TEREZINHA QUIRINO BRAGA                         | 31/12/2013 | MINISTERIO DA EDUCACAO | PB            | CAJAZEIRAS           | Outros Portes       | 15819750000042013         | 1581975000004201300001 | 0                             | R$ 11.400,00\n",
       "2013 | Jan  | 158469 - INST FED.DA PARAIBA/CAMPUS JOÃO PESSOA    |  Contratação de empresa especializada em fornecimento de ... | 09123654000187 | 1                       | COMPANHIA DE AGUA E ESGOTOS DA PARAIBA CAGEPA   | 31/12/2013 | MINISTERIO DA EDUCACAO | PB            | JOAO PESSOA          | Outros Portes       | 15846950000062013         | 1584695000006201300001 | 0                             | R$ 322.010,00\n",
       "2013 | Jan  | 158469 - INST FED.DA PARAIBA/CAMPUS JOÃO PESSOA    |  Contratação de serviços de fornecimento de energia elet ... | 09095183000140 | 1                       | ENERGISA PARAIBA - DISTRIBUIDORA DE ENERGIA S.A | 31/12/2013 | MINISTERIO DA EDUCACAO | PB            | JOAO PESSOA          | Outros Portes       | 15846950000052013         | 1584695000005201300001 | 0                             | R$ 793.900,00\n",
       "... (11455 rows omitted)"
      ]
     },
     "execution_count": 5,
     "metadata": {},
     "output_type": "execute_result"
    }
   ],
   "source": [
    "# renames some columns\n",
    "siasg.relabel(\"Nome do Fornecedor Contratado\", \"Nome_For\")\n",
    "siasg.relabel(\"Órgão Superior Contratante\", \"Órgão Contratante\")\n",
    "siasg.relabel(\"UASG Contratante\", \"Contratante\")\n",
    "siasg.relabel(\"Fornecedor Contratado\", \"CNPJ CPF For\")\n",
    "siasg.relabel(\"Data Fim da Vigência\", \"Vigência\")\n",
    "siasg.relabel(\"Identificação de Item de Contrato\", \"Contrato\")"
   ]
  },
  {
   "cell_type": "code",
   "execution_count": 6,
   "metadata": {},
   "outputs": [
    {
     "data": {
      "text/plain": [
       "('Ano',\n",
       " 'Mês',\n",
       " 'Contratante',\n",
       " 'Objeto do Contrato',\n",
       " 'CNPJ CPF For',\n",
       " 'Quantidade de Contratos',\n",
       " 'Nome_For',\n",
       " 'Vigência',\n",
       " 'Órgão Contratante',\n",
       " 'UF Contratado',\n",
       " 'Município Contratado',\n",
       " 'Porte do Fornecedor',\n",
       " 'Identificação do Contrato',\n",
       " 'Contrato',\n",
       " 'Quantidade de Termos Aditivos',\n",
       " 'Valor Contratado')"
      ]
     },
     "execution_count": 6,
     "metadata": {},
     "output_type": "execute_result"
    }
   ],
   "source": [
    "siasg.labels"
   ]
  },
  {
   "cell_type": "code",
   "execution_count": 7,
   "metadata": {},
   "outputs": [],
   "source": [
    "# a new table with only the columns we want\n",
    "fornecedores = siasg.select(\"CNPJ CPF For\", \"Nome_For\", \"Vigência\", \"Valor Contratado\", \"Contratante\")"
   ]
  },
  {
   "cell_type": "code",
   "execution_count": 8,
   "metadata": {},
   "outputs": [
    {
     "data": {
      "text/html": [
       "<table border=\"1\" class=\"dataframe\">\n",
       "    <thead>\n",
       "        <tr>\n",
       "            <th>CNPJ CPF For</th> <th>Nome_For</th> <th>Vigência</th> <th>Valor Contratado</th> <th>Contratante</th>\n",
       "        </tr>\n",
       "    </thead>\n",
       "    <tbody>\n",
       "        <tr>\n",
       "            <td>08667750000123</td> <td>FUNDACAO JOSE AMERICO                          </td> <td>13/03/2013</td> <td>R$ 1.307.928,60 </td> <td>153071 - MEC/UF/HOSP.UNIVERS.LAURO WANDERLEY/PB   </td>\n",
       "        </tr>\n",
       "    </tbody>\n",
       "        <tr>\n",
       "            <td>00254177468   </td> <td>PEDRO OLIVEIRA DE LUCENA                       </td> <td>31/12/2013</td> <td>R$ 9.060,00     </td> <td>158195 - UNIVERSIDADE FEDERAL DE CAMPINA GRANDE PB</td>\n",
       "        </tr>\n",
       "    </tbody>\n",
       "        <tr>\n",
       "            <td>48632040430   </td> <td>ROMERO MAYER                                   </td> <td>31/12/2013</td> <td>R$ 10.800,00    </td> <td>158195 - UNIVERSIDADE FEDERAL DE CAMPINA GRANDE PB</td>\n",
       "        </tr>\n",
       "    </tbody>\n",
       "        <tr>\n",
       "            <td>02409509410   </td> <td>SHIGEAKI MARACAJA RAMOS                        </td> <td>31/12/2013</td> <td>R$ 84.000,00    </td> <td>158195 - UNIVERSIDADE FEDERAL DE CAMPINA GRANDE PB</td>\n",
       "        </tr>\n",
       "    </tbody>\n",
       "        <tr>\n",
       "            <td>02306158487   </td> <td>JOSE EDIVALDO SOUSA                            </td> <td>31/12/2013</td> <td>R$ 27.000,00    </td> <td>158195 - UNIVERSIDADE FEDERAL DE CAMPINA GRANDE PB</td>\n",
       "        </tr>\n",
       "    </tbody>\n",
       "        <tr>\n",
       "            <td>67615023491   </td> <td>ALEXANDRE RIBEIRO MAYER                        </td> <td>31/12/2013</td> <td>R$ 35.857,20    </td> <td>158195 - UNIVERSIDADE FEDERAL DE CAMPINA GRANDE PB</td>\n",
       "        </tr>\n",
       "    </tbody>\n",
       "        <tr>\n",
       "            <td>87403838491   </td> <td>JANAINA ARRUDA XAVIER GADELHA                  </td> <td>31/12/2013</td> <td>R$ 15.000,00    </td> <td>158197 - CENTRO DE FORMACAO DE PROFESSORES        </td>\n",
       "        </tr>\n",
       "    </tbody>\n",
       "        <tr>\n",
       "            <td>75997240444   </td> <td>TEREZINHA QUIRINO BRAGA                        </td> <td>31/12/2013</td> <td>R$ 11.400,00    </td> <td>158197 - CENTRO DE FORMACAO DE PROFESSORES        </td>\n",
       "        </tr>\n",
       "    </tbody>\n",
       "        <tr>\n",
       "            <td>09123654000187</td> <td>COMPANHIA DE AGUA E ESGOTOS DA PARAIBA CAGEPA  </td> <td>31/12/2013</td> <td>R$ 322.010,00   </td> <td>158469 - INST FED.DA PARAIBA/CAMPUS JOÃO PESSOA   </td>\n",
       "        </tr>\n",
       "    </tbody>\n",
       "        <tr>\n",
       "            <td>09095183000140</td> <td>ENERGISA PARAIBA - DISTRIBUIDORA DE ENERGIA S.A</td> <td>31/12/2013</td> <td>R$ 793.900,00   </td> <td>158469 - INST FED.DA PARAIBA/CAMPUS JOÃO PESSOA   </td>\n",
       "        </tr>\n",
       "    </tbody>\n",
       "</table>\n",
       "<p>... (11455 rows omitted)</p>"
      ],
      "text/plain": [
       "CNPJ CPF For   | Nome_For                                        | Vigência   | Valor Contratado | Contratante\n",
       "08667750000123 | FUNDACAO JOSE AMERICO                           | 13/03/2013 | R$ 1.307.928,60  | 153071 - MEC/UF/HOSP.UNIVERS.LAURO WANDERLEY/PB\n",
       "00254177468    | PEDRO OLIVEIRA DE LUCENA                        | 31/12/2013 | R$ 9.060,00      | 158195 - UNIVERSIDADE FEDERAL DE CAMPINA GRANDE PB\n",
       "48632040430    | ROMERO MAYER                                    | 31/12/2013 | R$ 10.800,00     | 158195 - UNIVERSIDADE FEDERAL DE CAMPINA GRANDE PB\n",
       "02409509410    | SHIGEAKI MARACAJA RAMOS                         | 31/12/2013 | R$ 84.000,00     | 158195 - UNIVERSIDADE FEDERAL DE CAMPINA GRANDE PB\n",
       "02306158487    | JOSE EDIVALDO SOUSA                             | 31/12/2013 | R$ 27.000,00     | 158195 - UNIVERSIDADE FEDERAL DE CAMPINA GRANDE PB\n",
       "67615023491    | ALEXANDRE RIBEIRO MAYER                         | 31/12/2013 | R$ 35.857,20     | 158195 - UNIVERSIDADE FEDERAL DE CAMPINA GRANDE PB\n",
       "87403838491    | JANAINA ARRUDA XAVIER GADELHA                   | 31/12/2013 | R$ 15.000,00     | 158197 - CENTRO DE FORMACAO DE PROFESSORES\n",
       "75997240444    | TEREZINHA QUIRINO BRAGA                         | 31/12/2013 | R$ 11.400,00     | 158197 - CENTRO DE FORMACAO DE PROFESSORES\n",
       "09123654000187 | COMPANHIA DE AGUA E ESGOTOS DA PARAIBA CAGEPA   | 31/12/2013 | R$ 322.010,00    | 158469 - INST FED.DA PARAIBA/CAMPUS JOÃO PESSOA\n",
       "09095183000140 | ENERGISA PARAIBA - DISTRIBUIDORA DE ENERGIA S.A | 31/12/2013 | R$ 793.900,00    | 158469 - INST FED.DA PARAIBA/CAMPUS JOÃO PESSOA\n",
       "... (11455 rows omitted)"
      ]
     },
     "execution_count": 8,
     "metadata": {},
     "output_type": "execute_result"
    }
   ],
   "source": [
    "fornecedores"
   ]
  },
  {
   "cell_type": "code",
   "execution_count": 9,
   "metadata": {},
   "outputs": [],
   "source": [
    "# remove the R$ from the column Valor Contratado\n",
    "def remove_real_converts(number_with_rs):\n",
    "    # replace the point for nothing\n",
    "    number_with_rs = number_with_rs.replace(\".\", \"\").replace(\",\", \".\")    \n",
    "    return float(number_with_rs.replace(\"R$\", \"\"))"
   ]
  },
  {
   "cell_type": "code",
   "execution_count": 10,
   "metadata": {},
   "outputs": [
    {
     "data": {
      "text/html": [
       "<table border=\"1\" class=\"dataframe\">\n",
       "    <thead>\n",
       "        <tr>\n",
       "            <th>CNPJ CPF For</th> <th>Nome_For</th> <th>Vigência</th> <th>Contratante</th> <th>Valor</th>\n",
       "        </tr>\n",
       "    </thead>\n",
       "    <tbody>\n",
       "        <tr>\n",
       "            <td>08667750000123</td> <td>FUNDACAO JOSE AMERICO                          </td> <td>13/03/2013</td> <td>153071 - MEC/UF/HOSP.UNIVERS.LAURO WANDERLEY/PB   </td> <td>1.30793e+06</td>\n",
       "        </tr>\n",
       "    </tbody>\n",
       "        <tr>\n",
       "            <td>00254177468   </td> <td>PEDRO OLIVEIRA DE LUCENA                       </td> <td>31/12/2013</td> <td>158195 - UNIVERSIDADE FEDERAL DE CAMPINA GRANDE PB</td> <td>9060       </td>\n",
       "        </tr>\n",
       "    </tbody>\n",
       "        <tr>\n",
       "            <td>48632040430   </td> <td>ROMERO MAYER                                   </td> <td>31/12/2013</td> <td>158195 - UNIVERSIDADE FEDERAL DE CAMPINA GRANDE PB</td> <td>10800      </td>\n",
       "        </tr>\n",
       "    </tbody>\n",
       "        <tr>\n",
       "            <td>02409509410   </td> <td>SHIGEAKI MARACAJA RAMOS                        </td> <td>31/12/2013</td> <td>158195 - UNIVERSIDADE FEDERAL DE CAMPINA GRANDE PB</td> <td>84000      </td>\n",
       "        </tr>\n",
       "    </tbody>\n",
       "        <tr>\n",
       "            <td>02306158487   </td> <td>JOSE EDIVALDO SOUSA                            </td> <td>31/12/2013</td> <td>158195 - UNIVERSIDADE FEDERAL DE CAMPINA GRANDE PB</td> <td>27000      </td>\n",
       "        </tr>\n",
       "    </tbody>\n",
       "        <tr>\n",
       "            <td>67615023491   </td> <td>ALEXANDRE RIBEIRO MAYER                        </td> <td>31/12/2013</td> <td>158195 - UNIVERSIDADE FEDERAL DE CAMPINA GRANDE PB</td> <td>35857.2    </td>\n",
       "        </tr>\n",
       "    </tbody>\n",
       "        <tr>\n",
       "            <td>87403838491   </td> <td>JANAINA ARRUDA XAVIER GADELHA                  </td> <td>31/12/2013</td> <td>158197 - CENTRO DE FORMACAO DE PROFESSORES        </td> <td>15000      </td>\n",
       "        </tr>\n",
       "    </tbody>\n",
       "        <tr>\n",
       "            <td>75997240444   </td> <td>TEREZINHA QUIRINO BRAGA                        </td> <td>31/12/2013</td> <td>158197 - CENTRO DE FORMACAO DE PROFESSORES        </td> <td>11400      </td>\n",
       "        </tr>\n",
       "    </tbody>\n",
       "        <tr>\n",
       "            <td>09123654000187</td> <td>COMPANHIA DE AGUA E ESGOTOS DA PARAIBA CAGEPA  </td> <td>31/12/2013</td> <td>158469 - INST FED.DA PARAIBA/CAMPUS JOÃO PESSOA   </td> <td>322010     </td>\n",
       "        </tr>\n",
       "    </tbody>\n",
       "        <tr>\n",
       "            <td>09095183000140</td> <td>ENERGISA PARAIBA - DISTRIBUIDORA DE ENERGIA S.A</td> <td>31/12/2013</td> <td>158469 - INST FED.DA PARAIBA/CAMPUS JOÃO PESSOA   </td> <td>793900     </td>\n",
       "        </tr>\n",
       "    </tbody>\n",
       "</table>\n",
       "<p>... (11455 rows omitted)</p>"
      ],
      "text/plain": [
       "CNPJ CPF For   | Nome_For                                        | Vigência   | Contratante                                        | Valor\n",
       "08667750000123 | FUNDACAO JOSE AMERICO                           | 13/03/2013 | 153071 - MEC/UF/HOSP.UNIVERS.LAURO WANDERLEY/PB    | 1.30793e+06\n",
       "00254177468    | PEDRO OLIVEIRA DE LUCENA                        | 31/12/2013 | 158195 - UNIVERSIDADE FEDERAL DE CAMPINA GRANDE PB | 9060\n",
       "48632040430    | ROMERO MAYER                                    | 31/12/2013 | 158195 - UNIVERSIDADE FEDERAL DE CAMPINA GRANDE PB | 10800\n",
       "02409509410    | SHIGEAKI MARACAJA RAMOS                         | 31/12/2013 | 158195 - UNIVERSIDADE FEDERAL DE CAMPINA GRANDE PB | 84000\n",
       "02306158487    | JOSE EDIVALDO SOUSA                             | 31/12/2013 | 158195 - UNIVERSIDADE FEDERAL DE CAMPINA GRANDE PB | 27000\n",
       "67615023491    | ALEXANDRE RIBEIRO MAYER                         | 31/12/2013 | 158195 - UNIVERSIDADE FEDERAL DE CAMPINA GRANDE PB | 35857.2\n",
       "87403838491    | JANAINA ARRUDA XAVIER GADELHA                   | 31/12/2013 | 158197 - CENTRO DE FORMACAO DE PROFESSORES         | 15000\n",
       "75997240444    | TEREZINHA QUIRINO BRAGA                         | 31/12/2013 | 158197 - CENTRO DE FORMACAO DE PROFESSORES         | 11400\n",
       "09123654000187 | COMPANHIA DE AGUA E ESGOTOS DA PARAIBA CAGEPA   | 31/12/2013 | 158469 - INST FED.DA PARAIBA/CAMPUS JOÃO PESSOA    | 322010\n",
       "09095183000140 | ENERGISA PARAIBA - DISTRIBUIDORA DE ENERGIA S.A | 31/12/2013 | 158469 - INST FED.DA PARAIBA/CAMPUS JOÃO PESSOA    | 793900\n",
       "... (11455 rows omitted)"
      ]
     },
     "execution_count": 10,
     "metadata": {},
     "output_type": "execute_result"
    }
   ],
   "source": [
    "fornecedores = fornecedores.with_column(\"Valor\", fornecedores.apply(remove_real_converts, \"Valor Contratado\"))\n",
    "fornecedores = fornecedores.drop('Valor Contratado')\n",
    "fornecedores"
   ]
  },
  {
   "cell_type": "code",
   "execution_count": 11,
   "metadata": {},
   "outputs": [
    {
     "data": {
      "text/html": [
       "<table border=\"1\" class=\"dataframe\">\n",
       "    <thead>\n",
       "        <tr>\n",
       "            <th>CNPJ CPF For</th> <th>Nome_For</th> <th>Vigência</th> <th>Contratante</th> <th>Valor</th>\n",
       "        </tr>\n",
       "    </thead>\n",
       "    <tbody>\n",
       "        <tr>\n",
       "            <td>04196645000100</td> <td>IMPRENSA NACIONAL                                </td> <td>Indeterminado</td> <td>155893 - INSTITUTO FED CIE TEC- IFPB CAMPUS ESPERANçA</td> <td>4000   </td>\n",
       "        </tr>\n",
       "    </tbody>\n",
       "        <tr>\n",
       "            <td>04196645000100</td> <td>IMPRENSA NACIONAL                                </td> <td>Indeterminado</td> <td>253021 - COORD.VIG.SANIT.PORTOS AERP.FRONT.DA PARAIBA</td> <td>3705   </td>\n",
       "        </tr>\n",
       "    </tbody>\n",
       "        <tr>\n",
       "            <td>09095183000140</td> <td>ENERGISA PARAIBA - DISTRIBUIDORA DE ENERGIA S.A  </td> <td>Indeterminado</td> <td>250027 - GERENCIA ESTADUAL DO MS/PB                  </td> <td>81342  </td>\n",
       "        </tr>\n",
       "    </tbody>\n",
       "        <tr>\n",
       "            <td>09095183000140</td> <td>ENERGISA PARAIBA - DISTRIBUIDORA DE ENERGIA S.A  </td> <td>Indeterminado</td> <td>250027 - GERENCIA ESTADUAL DO MS/PB                  </td> <td>85191.1</td>\n",
       "        </tr>\n",
       "    </tbody>\n",
       "        <tr>\n",
       "            <td>09095183000140</td> <td>ENERGISA PARAIBA - DISTRIBUIDORA DE ENERGIA S.A  </td> <td>Indeterminado</td> <td>158473 - INST.FED.DA PARAIBA/CAMPUS PICUÍ            </td> <td>276000 </td>\n",
       "        </tr>\n",
       "    </tbody>\n",
       "        <tr>\n",
       "            <td>08826596000195</td> <td>ENERGISA BORBOREMA - DISTRIBUIDORA DE ENERGIA S.A</td> <td>Indeterminado</td> <td>200396 - SUPERINTENDENCIA REG.DEP.POLICIA FEDERAL- PB</td> <td>115000 </td>\n",
       "        </tr>\n",
       "    </tbody>\n",
       "        <tr>\n",
       "            <td>04196645000100</td> <td>IMPRENSA NACIONAL                                </td> <td>Indeterminado</td> <td>158469 - INST FED.DA PARAIBA/CAMPUS JOÃO PESSOA      </td> <td>15000  </td>\n",
       "        </tr>\n",
       "    </tbody>\n",
       "        <tr>\n",
       "            <td>09095183000140</td> <td>ENERGISA PARAIBA - DISTRIBUIDORA DE ENERGIA S.A  </td> <td>Indeterminado</td> <td>200396 - SUPERINTENDENCIA REG.DEP.POLICIA FEDERAL- PB</td> <td>158566 </td>\n",
       "        </tr>\n",
       "    </tbody>\n",
       "        <tr>\n",
       "            <td>09095183000140</td> <td>ENERGISA PARAIBA - DISTRIBUIDORA DE ENERGIA S.A  </td> <td>Indeterminado</td> <td>380045 - DELEGACIA REGIONAL DO TRABALHO/PB           </td> <td>210615 </td>\n",
       "        </tr>\n",
       "    </tbody>\n",
       "        <tr>\n",
       "            <td>04196645000100</td> <td>IMPRENSA NACIONAL                                </td> <td>Indeterminado</td> <td>158472 - INST FED.DA PARAIBA/CAMPUS MONTEIRO         </td> <td>6000   </td>\n",
       "        </tr>\n",
       "    </tbody>\n",
       "</table>\n",
       "<p>... (11455 rows omitted)</p>"
      ],
      "text/plain": [
       "CNPJ CPF For   | Nome_For                                          | Vigência      | Contratante                                           | Valor\n",
       "04196645000100 | IMPRENSA NACIONAL                                 | Indeterminado | 155893 - INSTITUTO FED CIE TEC- IFPB CAMPUS ESPERANçA | 4000\n",
       "04196645000100 | IMPRENSA NACIONAL                                 | Indeterminado | 253021 - COORD.VIG.SANIT.PORTOS AERP.FRONT.DA PARAIBA | 3705\n",
       "09095183000140 | ENERGISA PARAIBA - DISTRIBUIDORA DE ENERGIA S.A   | Indeterminado | 250027 - GERENCIA ESTADUAL DO MS/PB                   | 81342\n",
       "09095183000140 | ENERGISA PARAIBA - DISTRIBUIDORA DE ENERGIA S.A   | Indeterminado | 250027 - GERENCIA ESTADUAL DO MS/PB                   | 85191.1\n",
       "09095183000140 | ENERGISA PARAIBA - DISTRIBUIDORA DE ENERGIA S.A   | Indeterminado | 158473 - INST.FED.DA PARAIBA/CAMPUS PICUÍ             | 276000\n",
       "08826596000195 | ENERGISA BORBOREMA - DISTRIBUIDORA DE ENERGIA S.A | Indeterminado | 200396 - SUPERINTENDENCIA REG.DEP.POLICIA FEDERAL- PB | 115000\n",
       "04196645000100 | IMPRENSA NACIONAL                                 | Indeterminado | 158469 - INST FED.DA PARAIBA/CAMPUS JOÃO PESSOA       | 15000\n",
       "09095183000140 | ENERGISA PARAIBA - DISTRIBUIDORA DE ENERGIA S.A   | Indeterminado | 200396 - SUPERINTENDENCIA REG.DEP.POLICIA FEDERAL- PB | 158566\n",
       "09095183000140 | ENERGISA PARAIBA - DISTRIBUIDORA DE ENERGIA S.A   | Indeterminado | 380045 - DELEGACIA REGIONAL DO TRABALHO/PB            | 210615\n",
       "04196645000100 | IMPRENSA NACIONAL                                 | Indeterminado | 158472 - INST FED.DA PARAIBA/CAMPUS MONTEIRO          | 6000\n",
       "... (11455 rows omitted)"
      ]
     },
     "execution_count": 11,
     "metadata": {},
     "output_type": "execute_result"
    }
   ],
   "source": [
    "fornecedores.sort('Vigência', descending=True)"
   ]
  },
  {
   "cell_type": "code",
   "execution_count": 12,
   "metadata": {},
   "outputs": [
    {
     "data": {
      "text/html": [
       "<table border=\"1\" class=\"dataframe\">\n",
       "    <thead>\n",
       "        <tr>\n",
       "            <th>CNPJ CPF For</th> <th>Nome_For</th> <th>Vigência</th> <th>Contratante</th> <th>Valor</th>\n",
       "        </tr>\n",
       "    </thead>\n",
       "    <tbody>\n",
       "        <tr>\n",
       "            <td>04196645000100</td> <td>IMPRENSA NACIONAL                                </td> <td>Indeterminado</td> <td>155893 - INSTITUTO FED CIE TEC- IFPB CAMPUS ESPERANçA</td> <td>4000   </td>\n",
       "        </tr>\n",
       "    </tbody>\n",
       "        <tr>\n",
       "            <td>04196645000100</td> <td>IMPRENSA NACIONAL                                </td> <td>Indeterminado</td> <td>253021 - COORD.VIG.SANIT.PORTOS AERP.FRONT.DA PARAIBA</td> <td>3705   </td>\n",
       "        </tr>\n",
       "    </tbody>\n",
       "        <tr>\n",
       "            <td>09095183000140</td> <td>ENERGISA PARAIBA - DISTRIBUIDORA DE ENERGIA S.A  </td> <td>Indeterminado</td> <td>250027 - GERENCIA ESTADUAL DO MS/PB                  </td> <td>81342  </td>\n",
       "        </tr>\n",
       "    </tbody>\n",
       "        <tr>\n",
       "            <td>09095183000140</td> <td>ENERGISA PARAIBA - DISTRIBUIDORA DE ENERGIA S.A  </td> <td>Indeterminado</td> <td>250027 - GERENCIA ESTADUAL DO MS/PB                  </td> <td>85191.1</td>\n",
       "        </tr>\n",
       "    </tbody>\n",
       "        <tr>\n",
       "            <td>09095183000140</td> <td>ENERGISA PARAIBA - DISTRIBUIDORA DE ENERGIA S.A  </td> <td>Indeterminado</td> <td>158473 - INST.FED.DA PARAIBA/CAMPUS PICUÍ            </td> <td>276000 </td>\n",
       "        </tr>\n",
       "    </tbody>\n",
       "        <tr>\n",
       "            <td>08826596000195</td> <td>ENERGISA BORBOREMA - DISTRIBUIDORA DE ENERGIA S.A</td> <td>Indeterminado</td> <td>200396 - SUPERINTENDENCIA REG.DEP.POLICIA FEDERAL- PB</td> <td>115000 </td>\n",
       "        </tr>\n",
       "    </tbody>\n",
       "        <tr>\n",
       "            <td>04196645000100</td> <td>IMPRENSA NACIONAL                                </td> <td>Indeterminado</td> <td>158469 - INST FED.DA PARAIBA/CAMPUS JOÃO PESSOA      </td> <td>15000  </td>\n",
       "        </tr>\n",
       "    </tbody>\n",
       "        <tr>\n",
       "            <td>09095183000140</td> <td>ENERGISA PARAIBA - DISTRIBUIDORA DE ENERGIA S.A  </td> <td>Indeterminado</td> <td>200396 - SUPERINTENDENCIA REG.DEP.POLICIA FEDERAL- PB</td> <td>158566 </td>\n",
       "        </tr>\n",
       "    </tbody>\n",
       "        <tr>\n",
       "            <td>09095183000140</td> <td>ENERGISA PARAIBA - DISTRIBUIDORA DE ENERGIA S.A  </td> <td>Indeterminado</td> <td>380045 - DELEGACIA REGIONAL DO TRABALHO/PB           </td> <td>210615 </td>\n",
       "        </tr>\n",
       "    </tbody>\n",
       "        <tr>\n",
       "            <td>04196645000100</td> <td>IMPRENSA NACIONAL                                </td> <td>Indeterminado</td> <td>158472 - INST FED.DA PARAIBA/CAMPUS MONTEIRO         </td> <td>6000   </td>\n",
       "        </tr>\n",
       "    </tbody>\n",
       "</table>\n",
       "<p>... (11455 rows omitted)</p>"
      ],
      "text/plain": [
       "CNPJ CPF For   | Nome_For                                          | Vigência      | Contratante                                           | Valor\n",
       "04196645000100 | IMPRENSA NACIONAL                                 | Indeterminado | 155893 - INSTITUTO FED CIE TEC- IFPB CAMPUS ESPERANçA | 4000\n",
       "04196645000100 | IMPRENSA NACIONAL                                 | Indeterminado | 253021 - COORD.VIG.SANIT.PORTOS AERP.FRONT.DA PARAIBA | 3705\n",
       "09095183000140 | ENERGISA PARAIBA - DISTRIBUIDORA DE ENERGIA S.A   | Indeterminado | 250027 - GERENCIA ESTADUAL DO MS/PB                   | 81342\n",
       "09095183000140 | ENERGISA PARAIBA - DISTRIBUIDORA DE ENERGIA S.A   | Indeterminado | 250027 - GERENCIA ESTADUAL DO MS/PB                   | 85191.1\n",
       "09095183000140 | ENERGISA PARAIBA - DISTRIBUIDORA DE ENERGIA S.A   | Indeterminado | 158473 - INST.FED.DA PARAIBA/CAMPUS PICUÍ             | 276000\n",
       "08826596000195 | ENERGISA BORBOREMA - DISTRIBUIDORA DE ENERGIA S.A | Indeterminado | 200396 - SUPERINTENDENCIA REG.DEP.POLICIA FEDERAL- PB | 115000\n",
       "04196645000100 | IMPRENSA NACIONAL                                 | Indeterminado | 158469 - INST FED.DA PARAIBA/CAMPUS JOÃO PESSOA       | 15000\n",
       "09095183000140 | ENERGISA PARAIBA - DISTRIBUIDORA DE ENERGIA S.A   | Indeterminado | 200396 - SUPERINTENDENCIA REG.DEP.POLICIA FEDERAL- PB | 158566\n",
       "09095183000140 | ENERGISA PARAIBA - DISTRIBUIDORA DE ENERGIA S.A   | Indeterminado | 380045 - DELEGACIA REGIONAL DO TRABALHO/PB            | 210615\n",
       "04196645000100 | IMPRENSA NACIONAL                                 | Indeterminado | 158472 - INST FED.DA PARAIBA/CAMPUS MONTEIRO          | 6000\n",
       "... (11455 rows omitted)"
      ]
     },
     "execution_count": 12,
     "metadata": {},
     "output_type": "execute_result"
    }
   ],
   "source": [
    "fornecedores.sort('Vigência', descending=True)"
   ]
  },
  {
   "cell_type": "code",
   "execution_count": 30,
   "metadata": {},
   "outputs": [
    {
     "data": {
      "text/html": [
       "<table border=\"1\" class=\"dataframe\">\n",
       "    <thead>\n",
       "        <tr>\n",
       "            <th>CNPJ CPF For</th> <th>Nome_For</th> <th>Vigência</th> <th>Contratante</th> <th>Valor</th>\n",
       "        </tr>\n",
       "    </thead>\n",
       "    <tbody>\n",
       "        <tr>\n",
       "            <td>03701380000180</td> <td>PORTO BELO ENGENHARIA E COMERCIO LTDA           </td> <td>31/12/2019</td> <td>200396 - SUPERINTENDENCIA REG.DEP.POLICIA FEDERAL- PB</td> <td>3.35015e+07</td>\n",
       "        </tr>\n",
       "    </tbody>\n",
       "        <tr>\n",
       "            <td>03977181000107</td> <td>PLATINA MINERAL LTDA - EPP                      </td> <td>31/12/2018</td> <td>380045 - DELEGACIA REGIONAL DO TRABALHO/PB           </td> <td>2610       </td>\n",
       "        </tr>\n",
       "    </tbody>\n",
       "        <tr>\n",
       "            <td>07227808000155</td> <td>BJ COMERCIO DE ALIMENTOS LTDA - EPP             </td> <td>31/12/2018</td> <td>380045 - DELEGACIA REGIONAL DO TRABALHO/PB           </td> <td>4425       </td>\n",
       "        </tr>\n",
       "    </tbody>\n",
       "        <tr>\n",
       "            <td>08717719000150</td> <td>H2O COMERCIO DE BEBIDAS E AGUA MINERAL LTDA - ME</td> <td>31/12/2018</td> <td>114613 - UNIDADE ESTADUAL DO IBGE NA PARAIBA         </td> <td>5760       </td>\n",
       "        </tr>\n",
       "    </tbody>\n",
       "        <tr>\n",
       "            <td>67682716000197</td> <td>CONTROLLTEC BRASIL LTDA                         </td> <td>31/12/2018</td> <td>158741 - INST. FED. CAMPUS SERRA TALHADA             </td> <td>1800       </td>\n",
       "        </tr>\n",
       "    </tbody>\n",
       "        <tr>\n",
       "            <td>00008075409   </td> <td>REGINEIDE TORRES PEDROSA                        </td> <td>31/12/2018</td> <td>158199 - CENTRO DE SAUDE E TECNOLOGIA RURAL          </td> <td>7200       </td>\n",
       "        </tr>\n",
       "    </tbody>\n",
       "        <tr>\n",
       "            <td>04320626451   </td> <td>MARIA AMANDA GUIMARAES CARVALHO                 </td> <td>31/12/2018</td> <td>158199 - CENTRO DE SAUDE E TECNOLOGIA RURAL          </td> <td>5640       </td>\n",
       "        </tr>\n",
       "    </tbody>\n",
       "        <tr>\n",
       "            <td>03506307000157</td> <td>TICKET SOLUCOES HDFGT S/A                       </td> <td>31/12/2018</td> <td>158198 - CENTRO DE CIENCIAS JURIDICAS E SOCIAIS      </td> <td>50000      </td>\n",
       "        </tr>\n",
       "    </tbody>\n",
       "        <tr>\n",
       "            <td>03506307000157</td> <td>TICKET SOLUCOES HDFGT S/A                       </td> <td>31/12/2018</td> <td>158198 - CENTRO DE CIENCIAS JURIDICAS E SOCIAIS      </td> <td>34000      </td>\n",
       "        </tr>\n",
       "    </tbody>\n",
       "        <tr>\n",
       "            <td>03506307000157</td> <td>TICKET SOLUCOES HDFGT S/A                       </td> <td>31/12/2018</td> <td>158198 - CENTRO DE CIENCIAS JURIDICAS E SOCIAIS      </td> <td>420        </td>\n",
       "        </tr>\n",
       "    </tbody>\n",
       "</table>\n",
       "<p>... (11397 rows omitted)</p>"
      ],
      "text/plain": [
       "CNPJ CPF For   | Nome_For                                         | Vigência   | Contratante                                           | Valor\n",
       "03701380000180 | PORTO BELO ENGENHARIA E COMERCIO LTDA            | 31/12/2019 | 200396 - SUPERINTENDENCIA REG.DEP.POLICIA FEDERAL- PB | 3.35015e+07\n",
       "03977181000107 | PLATINA MINERAL LTDA - EPP                       | 31/12/2018 | 380045 - DELEGACIA REGIONAL DO TRABALHO/PB            | 2610\n",
       "07227808000155 | BJ COMERCIO DE ALIMENTOS LTDA - EPP              | 31/12/2018 | 380045 - DELEGACIA REGIONAL DO TRABALHO/PB            | 4425\n",
       "08717719000150 | H2O COMERCIO DE BEBIDAS E AGUA MINERAL LTDA - ME | 31/12/2018 | 114613 - UNIDADE ESTADUAL DO IBGE NA PARAIBA          | 5760\n",
       "67682716000197 | CONTROLLTEC BRASIL LTDA                          | 31/12/2018 | 158741 - INST. FED. CAMPUS SERRA TALHADA              | 1800\n",
       "00008075409    | REGINEIDE TORRES PEDROSA                         | 31/12/2018 | 158199 - CENTRO DE SAUDE E TECNOLOGIA RURAL           | 7200\n",
       "04320626451    | MARIA AMANDA GUIMARAES CARVALHO                  | 31/12/2018 | 158199 - CENTRO DE SAUDE E TECNOLOGIA RURAL           | 5640\n",
       "03506307000157 | TICKET SOLUCOES HDFGT S/A                        | 31/12/2018 | 158198 - CENTRO DE CIENCIAS JURIDICAS E SOCIAIS       | 50000\n",
       "03506307000157 | TICKET SOLUCOES HDFGT S/A                        | 31/12/2018 | 158198 - CENTRO DE CIENCIAS JURIDICAS E SOCIAIS       | 34000\n",
       "03506307000157 | TICKET SOLUCOES HDFGT S/A                        | 31/12/2018 | 158198 - CENTRO DE CIENCIAS JURIDICAS E SOCIAIS       | 420\n",
       "... (11397 rows omitted)"
      ]
     },
     "execution_count": 30,
     "metadata": {},
     "output_type": "execute_result"
    }
   ],
   "source": [
    "# selects only the valid dates\n",
    "fornec_validos = fornecedores.where('Vigência', are.not_equal_to('Indeterminado'))\n",
    "fornec_validos = fornec_validos.where('Vigência', are.not_equal_to('-'))\n",
    "fornec_validos.sort('Vigência', descending=True)                               "
   ]
  },
  {
   "cell_type": "code",
   "execution_count": 31,
   "metadata": {},
   "outputs": [
    {
     "data": {
      "text/html": [
       "<table border=\"1\" class=\"dataframe\">\n",
       "    <thead>\n",
       "        <tr>\n",
       "            <th>CNPJ CPF For</th> <th>Nome_For</th> <th>Vigência</th> <th>Contratante</th> <th>Valor</th>\n",
       "        </tr>\n",
       "    </thead>\n",
       "    <tbody>\n",
       "        <tr>\n",
       "            <td>08667750000123</td> <td>FUNDACAO JOSE AMERICO                          </td> <td>13/03/2013</td> <td>153071 - MEC/UF/HOSP.UNIVERS.LAURO WANDERLEY/PB   </td> <td>1,307,928.60</td>\n",
       "        </tr>\n",
       "    </tbody>\n",
       "        <tr>\n",
       "            <td>00254177468   </td> <td>PEDRO OLIVEIRA DE LUCENA                       </td> <td>31/12/2013</td> <td>158195 - UNIVERSIDADE FEDERAL DE CAMPINA GRANDE PB</td> <td>9,060.00    </td>\n",
       "        </tr>\n",
       "    </tbody>\n",
       "        <tr>\n",
       "            <td>48632040430   </td> <td>ROMERO MAYER                                   </td> <td>31/12/2013</td> <td>158195 - UNIVERSIDADE FEDERAL DE CAMPINA GRANDE PB</td> <td>10,800.00   </td>\n",
       "        </tr>\n",
       "    </tbody>\n",
       "        <tr>\n",
       "            <td>02409509410   </td> <td>SHIGEAKI MARACAJA RAMOS                        </td> <td>31/12/2013</td> <td>158195 - UNIVERSIDADE FEDERAL DE CAMPINA GRANDE PB</td> <td>84,000.00   </td>\n",
       "        </tr>\n",
       "    </tbody>\n",
       "        <tr>\n",
       "            <td>02306158487   </td> <td>JOSE EDIVALDO SOUSA                            </td> <td>31/12/2013</td> <td>158195 - UNIVERSIDADE FEDERAL DE CAMPINA GRANDE PB</td> <td>27,000.00   </td>\n",
       "        </tr>\n",
       "    </tbody>\n",
       "        <tr>\n",
       "            <td>67615023491   </td> <td>ALEXANDRE RIBEIRO MAYER                        </td> <td>31/12/2013</td> <td>158195 - UNIVERSIDADE FEDERAL DE CAMPINA GRANDE PB</td> <td>35,857.20   </td>\n",
       "        </tr>\n",
       "    </tbody>\n",
       "        <tr>\n",
       "            <td>87403838491   </td> <td>JANAINA ARRUDA XAVIER GADELHA                  </td> <td>31/12/2013</td> <td>158197 - CENTRO DE FORMACAO DE PROFESSORES        </td> <td>15,000.00   </td>\n",
       "        </tr>\n",
       "    </tbody>\n",
       "        <tr>\n",
       "            <td>75997240444   </td> <td>TEREZINHA QUIRINO BRAGA                        </td> <td>31/12/2013</td> <td>158197 - CENTRO DE FORMACAO DE PROFESSORES        </td> <td>11,400.00   </td>\n",
       "        </tr>\n",
       "    </tbody>\n",
       "        <tr>\n",
       "            <td>09123654000187</td> <td>COMPANHIA DE AGUA E ESGOTOS DA PARAIBA CAGEPA  </td> <td>31/12/2013</td> <td>158469 - INST FED.DA PARAIBA/CAMPUS JOÃO PESSOA   </td> <td>322,010.00  </td>\n",
       "        </tr>\n",
       "    </tbody>\n",
       "        <tr>\n",
       "            <td>09095183000140</td> <td>ENERGISA PARAIBA - DISTRIBUIDORA DE ENERGIA S.A</td> <td>31/12/2013</td> <td>158469 - INST FED.DA PARAIBA/CAMPUS JOÃO PESSOA   </td> <td>793,900.00  </td>\n",
       "        </tr>\n",
       "    </tbody>\n",
       "</table>\n",
       "<p>... (11397 rows omitted)</p>"
      ],
      "text/plain": [
       "CNPJ CPF For   | Nome_For                                        | Vigência   | Contratante                                        | Valor\n",
       "08667750000123 | FUNDACAO JOSE AMERICO                           | 13/03/2013 | 153071 - MEC/UF/HOSP.UNIVERS.LAURO WANDERLEY/PB    | 1,307,928.60\n",
       "00254177468    | PEDRO OLIVEIRA DE LUCENA                        | 31/12/2013 | 158195 - UNIVERSIDADE FEDERAL DE CAMPINA GRANDE PB | 9,060.00\n",
       "48632040430    | ROMERO MAYER                                    | 31/12/2013 | 158195 - UNIVERSIDADE FEDERAL DE CAMPINA GRANDE PB | 10,800.00\n",
       "02409509410    | SHIGEAKI MARACAJA RAMOS                         | 31/12/2013 | 158195 - UNIVERSIDADE FEDERAL DE CAMPINA GRANDE PB | 84,000.00\n",
       "02306158487    | JOSE EDIVALDO SOUSA                             | 31/12/2013 | 158195 - UNIVERSIDADE FEDERAL DE CAMPINA GRANDE PB | 27,000.00\n",
       "67615023491    | ALEXANDRE RIBEIRO MAYER                         | 31/12/2013 | 158195 - UNIVERSIDADE FEDERAL DE CAMPINA GRANDE PB | 35,857.20\n",
       "87403838491    | JANAINA ARRUDA XAVIER GADELHA                   | 31/12/2013 | 158197 - CENTRO DE FORMACAO DE PROFESSORES         | 15,000.00\n",
       "75997240444    | TEREZINHA QUIRINO BRAGA                         | 31/12/2013 | 158197 - CENTRO DE FORMACAO DE PROFESSORES         | 11,400.00\n",
       "09123654000187 | COMPANHIA DE AGUA E ESGOTOS DA PARAIBA CAGEPA   | 31/12/2013 | 158469 - INST FED.DA PARAIBA/CAMPUS JOÃO PESSOA    | 322,010.00\n",
       "09095183000140 | ENERGISA PARAIBA - DISTRIBUIDORA DE ENERGIA S.A | 31/12/2013 | 158469 - INST FED.DA PARAIBA/CAMPUS JOÃO PESSOA    | 793,900.00\n",
       "... (11397 rows omitted)"
      ]
     },
     "execution_count": 31,
     "metadata": {},
     "output_type": "execute_result"
    }
   ],
   "source": [
    "fornec_validos.set_format('Valor', NumberFormatter)"
   ]
  },
  {
   "cell_type": "markdown",
   "metadata": {},
   "source": [
    "### Agrupa por Contratante"
   ]
  },
  {
   "cell_type": "code",
   "execution_count": 42,
   "metadata": {},
   "outputs": [
    {
     "data": {
      "text/html": [
       "<table border=\"1\" class=\"dataframe\">\n",
       "    <thead>\n",
       "        <tr>\n",
       "            <th>Contratante</th> <th>Nome_For</th> <th>count</th>\n",
       "        </tr>\n",
       "    </thead>\n",
       "    <tbody>\n",
       "        <tr>\n",
       "            <td>-          </td> <td>ALERE S/A                                                   </td> <td>3    </td>\n",
       "        </tr>\n",
       "    </tbody>\n",
       "        <tr>\n",
       "            <td>-          </td> <td>ARCOMAC REFRIGERACAO LTDA - ME                              </td> <td>1    </td>\n",
       "        </tr>\n",
       "    </tbody>\n",
       "        <tr>\n",
       "            <td>-          </td> <td>BETANIA MARIA MELO DA SILVA - ME                            </td> <td>8    </td>\n",
       "        </tr>\n",
       "    </tbody>\n",
       "        <tr>\n",
       "            <td>-          </td> <td>C2 COMERCIO DE MERCADORIAS EM GERAL E SERVICOS LTDA. - EPP  </td> <td>1    </td>\n",
       "        </tr>\n",
       "    </tbody>\n",
       "        <tr>\n",
       "            <td>-          </td> <td>CDH - CENTRO DE DIAGNOSTICO HUMANO LTDA                     </td> <td>1    </td>\n",
       "        </tr>\n",
       "    </tbody>\n",
       "        <tr>\n",
       "            <td>-          </td> <td>CL COMERCIO DE MATERIAIS MEDICOS HOSPITALARES LTDA - EPP    </td> <td>1    </td>\n",
       "        </tr>\n",
       "    </tbody>\n",
       "        <tr>\n",
       "            <td>-          </td> <td>CLARO S.A.                                                  </td> <td>14   </td>\n",
       "        </tr>\n",
       "    </tbody>\n",
       "        <tr>\n",
       "            <td>-          </td> <td>DIAS & DIAS COMERCIO E SERVICOS DE EDIFICACOES LTDA - ME    </td> <td>18   </td>\n",
       "        </tr>\n",
       "    </tbody>\n",
       "        <tr>\n",
       "            <td>-          </td> <td>DRAGER INDUSTRIA E COMERCIO LTDA.                           </td> <td>1    </td>\n",
       "        </tr>\n",
       "    </tbody>\n",
       "        <tr>\n",
       "            <td>-          </td> <td>EDWARDS LIFESCIENCES COMERCIO DE PRODUTOS MEDICO-CIRURGI ...</td> <td>1    </td>\n",
       "        </tr>\n",
       "    </tbody>\n",
       "</table>\n",
       "<p>... (2029 rows omitted)</p>"
      ],
      "text/plain": [
       "Contratante | Nome_For                                                     | count\n",
       "-           | ALERE S/A                                                    | 3\n",
       "-           | ARCOMAC REFRIGERACAO LTDA - ME                               | 1\n",
       "-           | BETANIA MARIA MELO DA SILVA - ME                             | 8\n",
       "-           | C2 COMERCIO DE MERCADORIAS EM GERAL E SERVICOS LTDA. - EPP   | 1\n",
       "-           | CDH - CENTRO DE DIAGNOSTICO HUMANO LTDA                      | 1\n",
       "-           | CL COMERCIO DE MATERIAIS MEDICOS HOSPITALARES LTDA - EPP     | 1\n",
       "-           | CLARO S.A.                                                   | 14\n",
       "-           | DIAS & DIAS COMERCIO E SERVICOS DE EDIFICACOES LTDA - ME     | 18\n",
       "-           | DRAGER INDUSTRIA E COMERCIO LTDA.                            | 1\n",
       "-           | EDWARDS LIFESCIENCES COMERCIO DE PRODUTOS MEDICO-CIRURGI ... | 1\n",
       "... (2029 rows omitted)"
      ]
     },
     "execution_count": 42,
     "metadata": {},
     "output_type": "execute_result"
    }
   ],
   "source": [
    "fornec_validos.group(make_array('Contratante', 'Nome_For'))"
   ]
  },
  {
   "cell_type": "code",
   "execution_count": 44,
   "metadata": {},
   "outputs": [
    {
     "data": {
      "text/html": [
       "<table border=\"1\" class=\"dataframe\">\n",
       "    <thead>\n",
       "        <tr>\n",
       "            <th>CNPJ CPF For</th> <th>Nome_For</th> <th>Vigência sum</th> <th>Contratante sum</th> <th>Valor sum</th>\n",
       "        </tr>\n",
       "    </thead>\n",
       "    <tbody>\n",
       "        <tr>\n",
       "            <td>00000000429945</td> <td>BANCO DO BRASIL SA                                          </td> <td>            </td> <td>               </td> <td>300000     </td>\n",
       "        </tr>\n",
       "    </tbody>\n",
       "        <tr>\n",
       "            <td>00008075409   </td> <td>REGINEIDE TORRES PEDROSA                                    </td> <td>            </td> <td>               </td> <td>19300      </td>\n",
       "        </tr>\n",
       "    </tbody>\n",
       "        <tr>\n",
       "            <td>00029372000493</td> <td>GE HEALTHCARE DO BRASIL COMERCIO E SERVICOS PARA EQUIPAM ...</td> <td>            </td> <td>               </td> <td>4.92539e+06</td>\n",
       "        </tr>\n",
       "    </tbody>\n",
       "        <tr>\n",
       "            <td>00083159000117</td> <td>CEC ENGENHARIA E CONSULTORIA S/S                            </td> <td>            </td> <td>               </td> <td>557840     </td>\n",
       "        </tr>\n",
       "    </tbody>\n",
       "        <tr>\n",
       "            <td>00149706000110</td> <td>ALAMO - SEGURANCA ELETRONICA LTDA - EPP                     </td> <td>            </td> <td>               </td> <td>53169.9    </td>\n",
       "        </tr>\n",
       "    </tbody>\n",
       "        <tr>\n",
       "            <td>00175233000125</td> <td>TRES LEOES MATERIAL HOSPITALAR LTDA                         </td> <td>            </td> <td>               </td> <td>31916      </td>\n",
       "        </tr>\n",
       "    </tbody>\n",
       "        <tr>\n",
       "            <td>00212655000123</td> <td>PERFIL - GRAFICA E EDITORA LTDA                             </td> <td>            </td> <td>               </td> <td>7140       </td>\n",
       "        </tr>\n",
       "    </tbody>\n",
       "        <tr>\n",
       "            <td>00215438000197</td> <td>EPAN SERVI OS E LOCA  ES LTDA - EPP                         </td> <td>            </td> <td>               </td> <td>105695     </td>\n",
       "        </tr>\n",
       "    </tbody>\n",
       "        <tr>\n",
       "            <td>00248414000134</td> <td>G.C. INDUSTRIAL, IMPORTADORA E EXPORTADORA DE LUBRIFICAN ...</td> <td>            </td> <td>               </td> <td>0          </td>\n",
       "        </tr>\n",
       "    </tbody>\n",
       "        <tr>\n",
       "            <td>00254177468   </td> <td>PEDRO OLIVEIRA DE LUCENA                                    </td> <td>            </td> <td>               </td> <td>17940      </td>\n",
       "        </tr>\n",
       "    </tbody>\n",
       "</table>\n",
       "<p>... (1151 rows omitted)</p>"
      ],
      "text/plain": [
       "CNPJ CPF For   | Nome_For                                                     | Vigência sum | Contratante sum | Valor sum\n",
       "00000000429945 | BANCO DO BRASIL SA                                           |              |                 | 300000\n",
       "00008075409    | REGINEIDE TORRES PEDROSA                                     |              |                 | 19300\n",
       "00029372000493 | GE HEALTHCARE DO BRASIL COMERCIO E SERVICOS PARA EQUIPAM ... |              |                 | 4.92539e+06\n",
       "00083159000117 | CEC ENGENHARIA E CONSULTORIA S/S                             |              |                 | 557840\n",
       "00149706000110 | ALAMO - SEGURANCA ELETRONICA LTDA - EPP                      |              |                 | 53169.9\n",
       "00175233000125 | TRES LEOES MATERIAL HOSPITALAR LTDA                          |              |                 | 31916\n",
       "00212655000123 | PERFIL - GRAFICA E EDITORA LTDA                              |              |                 | 7140\n",
       "00215438000197 | EPAN SERVI OS E LOCA  ES LTDA - EPP                          |              |                 | 105695\n",
       "00248414000134 | G.C. INDUSTRIAL, IMPORTADORA E EXPORTADORA DE LUBRIFICAN ... |              |                 | 0\n",
       "00254177468    | PEDRO OLIVEIRA DE LUCENA                                     |              |                 | 17940\n",
       "... (1151 rows omitted)"
      ]
     },
     "execution_count": 44,
     "metadata": {},
     "output_type": "execute_result"
    }
   ],
   "source": [
    "fornec_validos.group(make_array('CNPJ CPF For', 'Nome_For'), collect=sum)"
   ]
  },
  {
   "cell_type": "markdown",
   "metadata": {},
   "source": [
    "### Código obsoleto - não é preciso mais concatenar o CNPJ com o nome dos fornecedores"
   ]
  },
  {
   "cell_type": "markdown",
   "metadata": {
    "collapsed": true
   },
   "source": [
    "def concat_cnpj_nome(cnpj, nome):\n",
    "    return cnpj + '-' + nome"
   ]
  },
  {
   "cell_type": "markdown",
   "metadata": {},
   "source": [
    "fornec_validos = fornec_validos.with_column('CNPJ-Nome',\n",
    "                                             fornec_validos.apply(concat_cnpj_nome, 'CNPJ CPF For', 'Nome_For'))"
   ]
  },
  {
   "cell_type": "markdown",
   "metadata": {},
   "source": [
    "fornec_validos = fornec_validos.drop('CNPJ CPF For', 'Nome_For')"
   ]
  },
  {
   "cell_type": "code",
   "execution_count": 45,
   "metadata": {},
   "outputs": [],
   "source": [
    "def converts_str_date(date):\n",
    "    \"\"\"gets a string date and converts it into a datetime\"\"\"\n",
    "    return datetime.strptime(date, '%d/%m/%Y')    "
   ]
  },
  {
   "cell_type": "code",
   "execution_count": 46,
   "metadata": {},
   "outputs": [
    {
     "data": {
      "text/html": [
       "<table border=\"1\" class=\"dataframe\">\n",
       "    <thead>\n",
       "        <tr>\n",
       "            <th>CNPJ CPF For</th> <th>Nome_For</th> <th>Vigência</th> <th>Contratante</th> <th>Valor</th>\n",
       "        </tr>\n",
       "    </thead>\n",
       "    <tbody>\n",
       "        <tr>\n",
       "            <td>03701380000180</td> <td>PORTO BELO ENGENHARIA E COMERCIO LTDA           </td> <td>31/12/2019</td> <td>200396 - SUPERINTENDENCIA REG.DEP.POLICIA FEDERAL- PB</td> <td>33,501,517.90</td>\n",
       "        </tr>\n",
       "    </tbody>\n",
       "        <tr>\n",
       "            <td>03977181000107</td> <td>PLATINA MINERAL LTDA - EPP                      </td> <td>31/12/2018</td> <td>380045 - DELEGACIA REGIONAL DO TRABALHO/PB           </td> <td>2,610.00     </td>\n",
       "        </tr>\n",
       "    </tbody>\n",
       "        <tr>\n",
       "            <td>07227808000155</td> <td>BJ COMERCIO DE ALIMENTOS LTDA - EPP             </td> <td>31/12/2018</td> <td>380045 - DELEGACIA REGIONAL DO TRABALHO/PB           </td> <td>4,425.00     </td>\n",
       "        </tr>\n",
       "    </tbody>\n",
       "        <tr>\n",
       "            <td>08717719000150</td> <td>H2O COMERCIO DE BEBIDAS E AGUA MINERAL LTDA - ME</td> <td>31/12/2018</td> <td>114613 - UNIDADE ESTADUAL DO IBGE NA PARAIBA         </td> <td>5,760.00     </td>\n",
       "        </tr>\n",
       "    </tbody>\n",
       "        <tr>\n",
       "            <td>67682716000197</td> <td>CONTROLLTEC BRASIL LTDA                         </td> <td>31/12/2018</td> <td>158741 - INST. FED. CAMPUS SERRA TALHADA             </td> <td>1,800.00     </td>\n",
       "        </tr>\n",
       "    </tbody>\n",
       "        <tr>\n",
       "            <td>00008075409   </td> <td>REGINEIDE TORRES PEDROSA                        </td> <td>31/12/2018</td> <td>158199 - CENTRO DE SAUDE E TECNOLOGIA RURAL          </td> <td>7,200.00     </td>\n",
       "        </tr>\n",
       "    </tbody>\n",
       "        <tr>\n",
       "            <td>04320626451   </td> <td>MARIA AMANDA GUIMARAES CARVALHO                 </td> <td>31/12/2018</td> <td>158199 - CENTRO DE SAUDE E TECNOLOGIA RURAL          </td> <td>5,640.00     </td>\n",
       "        </tr>\n",
       "    </tbody>\n",
       "        <tr>\n",
       "            <td>03506307000157</td> <td>TICKET SOLUCOES HDFGT S/A                       </td> <td>31/12/2018</td> <td>158198 - CENTRO DE CIENCIAS JURIDICAS E SOCIAIS      </td> <td>50,000.00    </td>\n",
       "        </tr>\n",
       "    </tbody>\n",
       "        <tr>\n",
       "            <td>03506307000157</td> <td>TICKET SOLUCOES HDFGT S/A                       </td> <td>31/12/2018</td> <td>158198 - CENTRO DE CIENCIAS JURIDICAS E SOCIAIS      </td> <td>34,000.00    </td>\n",
       "        </tr>\n",
       "    </tbody>\n",
       "        <tr>\n",
       "            <td>03506307000157</td> <td>TICKET SOLUCOES HDFGT S/A                       </td> <td>31/12/2018</td> <td>158198 - CENTRO DE CIENCIAS JURIDICAS E SOCIAIS      </td> <td>420.00       </td>\n",
       "        </tr>\n",
       "    </tbody>\n",
       "</table>\n",
       "<p>... (11397 rows omitted)</p>"
      ],
      "text/plain": [
       "CNPJ CPF For   | Nome_For                                         | Vigência   | Contratante                                           | Valor\n",
       "03701380000180 | PORTO BELO ENGENHARIA E COMERCIO LTDA            | 31/12/2019 | 200396 - SUPERINTENDENCIA REG.DEP.POLICIA FEDERAL- PB | 33,501,517.90\n",
       "03977181000107 | PLATINA MINERAL LTDA - EPP                       | 31/12/2018 | 380045 - DELEGACIA REGIONAL DO TRABALHO/PB            | 2,610.00\n",
       "07227808000155 | BJ COMERCIO DE ALIMENTOS LTDA - EPP              | 31/12/2018 | 380045 - DELEGACIA REGIONAL DO TRABALHO/PB            | 4,425.00\n",
       "08717719000150 | H2O COMERCIO DE BEBIDAS E AGUA MINERAL LTDA - ME | 31/12/2018 | 114613 - UNIDADE ESTADUAL DO IBGE NA PARAIBA          | 5,760.00\n",
       "67682716000197 | CONTROLLTEC BRASIL LTDA                          | 31/12/2018 | 158741 - INST. FED. CAMPUS SERRA TALHADA              | 1,800.00\n",
       "00008075409    | REGINEIDE TORRES PEDROSA                         | 31/12/2018 | 158199 - CENTRO DE SAUDE E TECNOLOGIA RURAL           | 7,200.00\n",
       "04320626451    | MARIA AMANDA GUIMARAES CARVALHO                  | 31/12/2018 | 158199 - CENTRO DE SAUDE E TECNOLOGIA RURAL           | 5,640.00\n",
       "03506307000157 | TICKET SOLUCOES HDFGT S/A                        | 31/12/2018 | 158198 - CENTRO DE CIENCIAS JURIDICAS E SOCIAIS       | 50,000.00\n",
       "03506307000157 | TICKET SOLUCOES HDFGT S/A                        | 31/12/2018 | 158198 - CENTRO DE CIENCIAS JURIDICAS E SOCIAIS       | 34,000.00\n",
       "03506307000157 | TICKET SOLUCOES HDFGT S/A                        | 31/12/2018 | 158198 - CENTRO DE CIENCIAS JURIDICAS E SOCIAIS       | 420.00\n",
       "... (11397 rows omitted)"
      ]
     },
     "execution_count": 46,
     "metadata": {},
     "output_type": "execute_result"
    }
   ],
   "source": [
    "fornec_validos.sort('Vigência', descending=True)"
   ]
  },
  {
   "cell_type": "code",
   "execution_count": 47,
   "metadata": {},
   "outputs": [
    {
     "data": {
      "text/html": [
       "<table border=\"1\" class=\"dataframe\">\n",
       "    <thead>\n",
       "        <tr>\n",
       "            <th>CNPJ CPF For</th> <th>Nome_For</th> <th>Vigência</th> <th>Contratante</th> <th>Valor</th> <th>Data de Vigência</th>\n",
       "        </tr>\n",
       "    </thead>\n",
       "    <tbody>\n",
       "        <tr>\n",
       "            <td>08667750000123</td> <td>FUNDACAO JOSE AMERICO                          </td> <td>13/03/2013</td> <td>153071 - MEC/UF/HOSP.UNIVERS.LAURO WANDERLEY/PB   </td> <td>1,307,928.60</td> <td>2013-03-13 00:00:00</td>\n",
       "        </tr>\n",
       "    </tbody>\n",
       "        <tr>\n",
       "            <td>00254177468   </td> <td>PEDRO OLIVEIRA DE LUCENA                       </td> <td>31/12/2013</td> <td>158195 - UNIVERSIDADE FEDERAL DE CAMPINA GRANDE PB</td> <td>9,060.00    </td> <td>2013-12-31 00:00:00</td>\n",
       "        </tr>\n",
       "    </tbody>\n",
       "        <tr>\n",
       "            <td>48632040430   </td> <td>ROMERO MAYER                                   </td> <td>31/12/2013</td> <td>158195 - UNIVERSIDADE FEDERAL DE CAMPINA GRANDE PB</td> <td>10,800.00   </td> <td>2013-12-31 00:00:00</td>\n",
       "        </tr>\n",
       "    </tbody>\n",
       "        <tr>\n",
       "            <td>02409509410   </td> <td>SHIGEAKI MARACAJA RAMOS                        </td> <td>31/12/2013</td> <td>158195 - UNIVERSIDADE FEDERAL DE CAMPINA GRANDE PB</td> <td>84,000.00   </td> <td>2013-12-31 00:00:00</td>\n",
       "        </tr>\n",
       "    </tbody>\n",
       "        <tr>\n",
       "            <td>02306158487   </td> <td>JOSE EDIVALDO SOUSA                            </td> <td>31/12/2013</td> <td>158195 - UNIVERSIDADE FEDERAL DE CAMPINA GRANDE PB</td> <td>27,000.00   </td> <td>2013-12-31 00:00:00</td>\n",
       "        </tr>\n",
       "    </tbody>\n",
       "        <tr>\n",
       "            <td>67615023491   </td> <td>ALEXANDRE RIBEIRO MAYER                        </td> <td>31/12/2013</td> <td>158195 - UNIVERSIDADE FEDERAL DE CAMPINA GRANDE PB</td> <td>35,857.20   </td> <td>2013-12-31 00:00:00</td>\n",
       "        </tr>\n",
       "    </tbody>\n",
       "        <tr>\n",
       "            <td>87403838491   </td> <td>JANAINA ARRUDA XAVIER GADELHA                  </td> <td>31/12/2013</td> <td>158197 - CENTRO DE FORMACAO DE PROFESSORES        </td> <td>15,000.00   </td> <td>2013-12-31 00:00:00</td>\n",
       "        </tr>\n",
       "    </tbody>\n",
       "        <tr>\n",
       "            <td>75997240444   </td> <td>TEREZINHA QUIRINO BRAGA                        </td> <td>31/12/2013</td> <td>158197 - CENTRO DE FORMACAO DE PROFESSORES        </td> <td>11,400.00   </td> <td>2013-12-31 00:00:00</td>\n",
       "        </tr>\n",
       "    </tbody>\n",
       "        <tr>\n",
       "            <td>09123654000187</td> <td>COMPANHIA DE AGUA E ESGOTOS DA PARAIBA CAGEPA  </td> <td>31/12/2013</td> <td>158469 - INST FED.DA PARAIBA/CAMPUS JOÃO PESSOA   </td> <td>322,010.00  </td> <td>2013-12-31 00:00:00</td>\n",
       "        </tr>\n",
       "    </tbody>\n",
       "        <tr>\n",
       "            <td>09095183000140</td> <td>ENERGISA PARAIBA - DISTRIBUIDORA DE ENERGIA S.A</td> <td>31/12/2013</td> <td>158469 - INST FED.DA PARAIBA/CAMPUS JOÃO PESSOA   </td> <td>793,900.00  </td> <td>2013-12-31 00:00:00</td>\n",
       "        </tr>\n",
       "    </tbody>\n",
       "</table>\n",
       "<p>... (11397 rows omitted)</p>"
      ],
      "text/plain": [
       "CNPJ CPF For   | Nome_For                                        | Vigência   | Contratante                                        | Valor        | Data de Vigência\n",
       "08667750000123 | FUNDACAO JOSE AMERICO                           | 13/03/2013 | 153071 - MEC/UF/HOSP.UNIVERS.LAURO WANDERLEY/PB    | 1,307,928.60 | 2013-03-13 00:00:00\n",
       "00254177468    | PEDRO OLIVEIRA DE LUCENA                        | 31/12/2013 | 158195 - UNIVERSIDADE FEDERAL DE CAMPINA GRANDE PB | 9,060.00     | 2013-12-31 00:00:00\n",
       "48632040430    | ROMERO MAYER                                    | 31/12/2013 | 158195 - UNIVERSIDADE FEDERAL DE CAMPINA GRANDE PB | 10,800.00    | 2013-12-31 00:00:00\n",
       "02409509410    | SHIGEAKI MARACAJA RAMOS                         | 31/12/2013 | 158195 - UNIVERSIDADE FEDERAL DE CAMPINA GRANDE PB | 84,000.00    | 2013-12-31 00:00:00\n",
       "02306158487    | JOSE EDIVALDO SOUSA                             | 31/12/2013 | 158195 - UNIVERSIDADE FEDERAL DE CAMPINA GRANDE PB | 27,000.00    | 2013-12-31 00:00:00\n",
       "67615023491    | ALEXANDRE RIBEIRO MAYER                         | 31/12/2013 | 158195 - UNIVERSIDADE FEDERAL DE CAMPINA GRANDE PB | 35,857.20    | 2013-12-31 00:00:00\n",
       "87403838491    | JANAINA ARRUDA XAVIER GADELHA                   | 31/12/2013 | 158197 - CENTRO DE FORMACAO DE PROFESSORES         | 15,000.00    | 2013-12-31 00:00:00\n",
       "75997240444    | TEREZINHA QUIRINO BRAGA                         | 31/12/2013 | 158197 - CENTRO DE FORMACAO DE PROFESSORES         | 11,400.00    | 2013-12-31 00:00:00\n",
       "09123654000187 | COMPANHIA DE AGUA E ESGOTOS DA PARAIBA CAGEPA   | 31/12/2013 | 158469 - INST FED.DA PARAIBA/CAMPUS JOÃO PESSOA    | 322,010.00   | 2013-12-31 00:00:00\n",
       "09095183000140 | ENERGISA PARAIBA - DISTRIBUIDORA DE ENERGIA S.A | 31/12/2013 | 158469 - INST FED.DA PARAIBA/CAMPUS JOÃO PESSOA    | 793,900.00   | 2013-12-31 00:00:00\n",
       "... (11397 rows omitted)"
      ]
     },
     "execution_count": 47,
     "metadata": {},
     "output_type": "execute_result"
    }
   ],
   "source": [
    "# converts the str date to datetime\n",
    "fornec_validos = fornec_validos.with_column('Data de Vigência', fornec_validos.apply(converts_str_date, 'Vigência'))\n",
    "fornec_validos"
   ]
  },
  {
   "cell_type": "code",
   "execution_count": 48,
   "metadata": {},
   "outputs": [
    {
     "data": {
      "text/html": [
       "<table border=\"1\" class=\"dataframe\">\n",
       "    <thead>\n",
       "        <tr>\n",
       "            <th>CNPJ CPF For</th> <th>Nome_For</th> <th>Vigência</th> <th>Contratante</th> <th>Valor</th> <th>Data de Vigência</th>\n",
       "        </tr>\n",
       "    </thead>\n",
       "    <tbody>\n",
       "        <tr>\n",
       "            <td>07301782420   </td> <td>JOSE JORGE DA SILVA                            </td> <td>11/11/2024</td> <td>114613 - UNIDADE ESTADUAL DO IBGE NA PARAIBA   </td> <td>475,200.00   </td> <td>2024-11-11 00:00:00</td>\n",
       "        </tr>\n",
       "    </tbody>\n",
       "        <tr>\n",
       "            <td>79003060487   </td> <td>JACIE MARINHO DA SILVA           -             </td> <td>03/12/2023</td> <td>114613 - UNIDADE ESTADUAL DO IBGE NA PARAIBA   </td> <td>76,800.00    </td> <td>2023-12-03 00:00:00</td>\n",
       "        </tr>\n",
       "    </tbody>\n",
       "        <tr>\n",
       "            <td>93130597468   </td> <td>CONTRATADO : EDICELIA FERREIRA DE ABRANTES    -</td> <td>03/11/2023</td> <td>114613 - UNIDADE ESTADUAL DO IBGE NA PARAIBA   </td> <td>190,080.00   </td> <td>2023-11-03 00:00:00</td>\n",
       "        </tr>\n",
       "    </tbody>\n",
       "        <tr>\n",
       "            <td>05659288480   </td> <td>CONTRATADO : MARIA DE LOURDES VENTURA DE SOUSA-</td> <td>03/08/2023</td> <td>114613 - UNIDADE ESTADUAL DO IBGE NA PARAIBA   </td> <td>124,800.00   </td> <td>2023-08-03 00:00:00</td>\n",
       "        </tr>\n",
       "    </tbody>\n",
       "        <tr>\n",
       "            <td>09168704000142</td> <td>EMPRESA BRASIL DE COMUNICACAO S.A. - EBC       </td> <td>03/04/2023</td> <td>393017 - SUP. REG. DO DNIT NO ESTADO DA PARAIBA</td> <td>8,000.00     </td> <td>2023-04-03 00:00:00</td>\n",
       "        </tr>\n",
       "    </tbody>\n",
       "        <tr>\n",
       "            <td>01527612000108</td> <td>SHALOM ENGENHARIA LTDA                         </td> <td>01/04/2023</td> <td>393017 - SUP. REG. DO DNIT NO ESTADO DA PARAIBA</td> <td>52,350,000.00</td> <td>2023-04-01 00:00:00</td>\n",
       "        </tr>\n",
       "    </tbody>\n",
       "        <tr>\n",
       "            <td>09168704000142</td> <td>EMPRESA BRASIL DE COMUNICACAO S.A. - EBC       </td> <td>06/03/2023</td> <td>240114 - INST. NACIONAL DO SEMI-ARIDO-INSA     </td> <td>25,000.00    </td> <td>2023-03-06 00:00:00</td>\n",
       "        </tr>\n",
       "    </tbody>\n",
       "        <tr>\n",
       "            <td>50252909704   </td> <td>JOSE ARAUJO DE VASCONCELOS                     </td> <td>15/05/2022</td> <td>114613 - UNIDADE ESTADUAL DO IBGE NA PARAIBA   </td> <td>108,000.00   </td> <td>2022-05-15 00:00:00</td>\n",
       "        </tr>\n",
       "    </tbody>\n",
       "        <tr>\n",
       "            <td>04025024420   </td> <td>MANOEL BARBOSA SANTANA                         </td> <td>02/05/2022</td> <td>114613 - UNIDADE ESTADUAL DO IBGE NA PARAIBA   </td> <td>63,000.00    </td> <td>2022-05-02 00:00:00</td>\n",
       "        </tr>\n",
       "    </tbody>\n",
       "        <tr>\n",
       "            <td>34028316001932</td> <td>EMPRESA BRASILEIRA DE CORREIOS E TELEGRAFOS    </td> <td>20/03/2022</td> <td>158474 - INST FED.DA PARAIBA/CAMPUS CABEDELO   </td> <td>1,200.00     </td> <td>2022-03-20 00:00:00</td>\n",
       "        </tr>\n",
       "    </tbody>\n",
       "</table>\n",
       "<p>... (11397 rows omitted)</p>"
      ],
      "text/plain": [
       "CNPJ CPF For   | Nome_For                                        | Vigência   | Contratante                                     | Valor         | Data de Vigência\n",
       "07301782420    | JOSE JORGE DA SILVA                             | 11/11/2024 | 114613 - UNIDADE ESTADUAL DO IBGE NA PARAIBA    | 475,200.00    | 2024-11-11 00:00:00\n",
       "79003060487    | JACIE MARINHO DA SILVA           -              | 03/12/2023 | 114613 - UNIDADE ESTADUAL DO IBGE NA PARAIBA    | 76,800.00     | 2023-12-03 00:00:00\n",
       "93130597468    | CONTRATADO : EDICELIA FERREIRA DE ABRANTES    - | 03/11/2023 | 114613 - UNIDADE ESTADUAL DO IBGE NA PARAIBA    | 190,080.00    | 2023-11-03 00:00:00\n",
       "05659288480    | CONTRATADO : MARIA DE LOURDES VENTURA DE SOUSA- | 03/08/2023 | 114613 - UNIDADE ESTADUAL DO IBGE NA PARAIBA    | 124,800.00    | 2023-08-03 00:00:00\n",
       "09168704000142 | EMPRESA BRASIL DE COMUNICACAO S.A. - EBC        | 03/04/2023 | 393017 - SUP. REG. DO DNIT NO ESTADO DA PARAIBA | 8,000.00      | 2023-04-03 00:00:00\n",
       "01527612000108 | SHALOM ENGENHARIA LTDA                          | 01/04/2023 | 393017 - SUP. REG. DO DNIT NO ESTADO DA PARAIBA | 52,350,000.00 | 2023-04-01 00:00:00\n",
       "09168704000142 | EMPRESA BRASIL DE COMUNICACAO S.A. - EBC        | 06/03/2023 | 240114 - INST. NACIONAL DO SEMI-ARIDO-INSA      | 25,000.00     | 2023-03-06 00:00:00\n",
       "50252909704    | JOSE ARAUJO DE VASCONCELOS                      | 15/05/2022 | 114613 - UNIDADE ESTADUAL DO IBGE NA PARAIBA    | 108,000.00    | 2022-05-15 00:00:00\n",
       "04025024420    | MANOEL BARBOSA SANTANA                          | 02/05/2022 | 114613 - UNIDADE ESTADUAL DO IBGE NA PARAIBA    | 63,000.00     | 2022-05-02 00:00:00\n",
       "34028316001932 | EMPRESA BRASILEIRA DE CORREIOS E TELEGRAFOS     | 20/03/2022 | 158474 - INST FED.DA PARAIBA/CAMPUS CABEDELO    | 1,200.00      | 2022-03-20 00:00:00\n",
       "... (11397 rows omitted)"
      ]
     },
     "execution_count": 48,
     "metadata": {},
     "output_type": "execute_result"
    }
   ],
   "source": [
    "fornec_validos.sort('Data de Vigência', descending=True)"
   ]
  },
  {
   "cell_type": "code",
   "execution_count": 49,
   "metadata": {},
   "outputs": [
    {
     "data": {
      "text/html": [
       "<table border=\"1\" class=\"dataframe\">\n",
       "    <thead>\n",
       "        <tr>\n",
       "            <th>CNPJ CPF For</th> <th>Nome_For</th> <th>Contratante</th> <th>Valor</th> <th>Data de Vigência</th>\n",
       "        </tr>\n",
       "    </thead>\n",
       "    <tbody>\n",
       "        <tr>\n",
       "            <td>08667750000123</td> <td>FUNDACAO JOSE AMERICO                          </td> <td>153071 - MEC/UF/HOSP.UNIVERS.LAURO WANDERLEY/PB   </td> <td>1,307,928.60</td> <td>2013-03-13 00:00:00</td>\n",
       "        </tr>\n",
       "    </tbody>\n",
       "        <tr>\n",
       "            <td>00254177468   </td> <td>PEDRO OLIVEIRA DE LUCENA                       </td> <td>158195 - UNIVERSIDADE FEDERAL DE CAMPINA GRANDE PB</td> <td>9,060.00    </td> <td>2013-12-31 00:00:00</td>\n",
       "        </tr>\n",
       "    </tbody>\n",
       "        <tr>\n",
       "            <td>48632040430   </td> <td>ROMERO MAYER                                   </td> <td>158195 - UNIVERSIDADE FEDERAL DE CAMPINA GRANDE PB</td> <td>10,800.00   </td> <td>2013-12-31 00:00:00</td>\n",
       "        </tr>\n",
       "    </tbody>\n",
       "        <tr>\n",
       "            <td>02409509410   </td> <td>SHIGEAKI MARACAJA RAMOS                        </td> <td>158195 - UNIVERSIDADE FEDERAL DE CAMPINA GRANDE PB</td> <td>84,000.00   </td> <td>2013-12-31 00:00:00</td>\n",
       "        </tr>\n",
       "    </tbody>\n",
       "        <tr>\n",
       "            <td>02306158487   </td> <td>JOSE EDIVALDO SOUSA                            </td> <td>158195 - UNIVERSIDADE FEDERAL DE CAMPINA GRANDE PB</td> <td>27,000.00   </td> <td>2013-12-31 00:00:00</td>\n",
       "        </tr>\n",
       "    </tbody>\n",
       "        <tr>\n",
       "            <td>67615023491   </td> <td>ALEXANDRE RIBEIRO MAYER                        </td> <td>158195 - UNIVERSIDADE FEDERAL DE CAMPINA GRANDE PB</td> <td>35,857.20   </td> <td>2013-12-31 00:00:00</td>\n",
       "        </tr>\n",
       "    </tbody>\n",
       "        <tr>\n",
       "            <td>87403838491   </td> <td>JANAINA ARRUDA XAVIER GADELHA                  </td> <td>158197 - CENTRO DE FORMACAO DE PROFESSORES        </td> <td>15,000.00   </td> <td>2013-12-31 00:00:00</td>\n",
       "        </tr>\n",
       "    </tbody>\n",
       "        <tr>\n",
       "            <td>75997240444   </td> <td>TEREZINHA QUIRINO BRAGA                        </td> <td>158197 - CENTRO DE FORMACAO DE PROFESSORES        </td> <td>11,400.00   </td> <td>2013-12-31 00:00:00</td>\n",
       "        </tr>\n",
       "    </tbody>\n",
       "        <tr>\n",
       "            <td>09123654000187</td> <td>COMPANHIA DE AGUA E ESGOTOS DA PARAIBA CAGEPA  </td> <td>158469 - INST FED.DA PARAIBA/CAMPUS JOÃO PESSOA   </td> <td>322,010.00  </td> <td>2013-12-31 00:00:00</td>\n",
       "        </tr>\n",
       "    </tbody>\n",
       "        <tr>\n",
       "            <td>09095183000140</td> <td>ENERGISA PARAIBA - DISTRIBUIDORA DE ENERGIA S.A</td> <td>158469 - INST FED.DA PARAIBA/CAMPUS JOÃO PESSOA   </td> <td>793,900.00  </td> <td>2013-12-31 00:00:00</td>\n",
       "        </tr>\n",
       "    </tbody>\n",
       "</table>\n",
       "<p>... (11397 rows omitted)</p>"
      ],
      "text/plain": [
       "CNPJ CPF For   | Nome_For                                        | Contratante                                        | Valor        | Data de Vigência\n",
       "08667750000123 | FUNDACAO JOSE AMERICO                           | 153071 - MEC/UF/HOSP.UNIVERS.LAURO WANDERLEY/PB    | 1,307,928.60 | 2013-03-13 00:00:00\n",
       "00254177468    | PEDRO OLIVEIRA DE LUCENA                        | 158195 - UNIVERSIDADE FEDERAL DE CAMPINA GRANDE PB | 9,060.00     | 2013-12-31 00:00:00\n",
       "48632040430    | ROMERO MAYER                                    | 158195 - UNIVERSIDADE FEDERAL DE CAMPINA GRANDE PB | 10,800.00    | 2013-12-31 00:00:00\n",
       "02409509410    | SHIGEAKI MARACAJA RAMOS                         | 158195 - UNIVERSIDADE FEDERAL DE CAMPINA GRANDE PB | 84,000.00    | 2013-12-31 00:00:00\n",
       "02306158487    | JOSE EDIVALDO SOUSA                             | 158195 - UNIVERSIDADE FEDERAL DE CAMPINA GRANDE PB | 27,000.00    | 2013-12-31 00:00:00\n",
       "67615023491    | ALEXANDRE RIBEIRO MAYER                         | 158195 - UNIVERSIDADE FEDERAL DE CAMPINA GRANDE PB | 35,857.20    | 2013-12-31 00:00:00\n",
       "87403838491    | JANAINA ARRUDA XAVIER GADELHA                   | 158197 - CENTRO DE FORMACAO DE PROFESSORES         | 15,000.00    | 2013-12-31 00:00:00\n",
       "75997240444    | TEREZINHA QUIRINO BRAGA                         | 158197 - CENTRO DE FORMACAO DE PROFESSORES         | 11,400.00    | 2013-12-31 00:00:00\n",
       "09123654000187 | COMPANHIA DE AGUA E ESGOTOS DA PARAIBA CAGEPA   | 158469 - INST FED.DA PARAIBA/CAMPUS JOÃO PESSOA    | 322,010.00   | 2013-12-31 00:00:00\n",
       "09095183000140 | ENERGISA PARAIBA - DISTRIBUIDORA DE ENERGIA S.A | 158469 - INST FED.DA PARAIBA/CAMPUS JOÃO PESSOA    | 793,900.00   | 2013-12-31 00:00:00\n",
       "... (11397 rows omitted)"
      ]
     },
     "execution_count": 49,
     "metadata": {},
     "output_type": "execute_result"
    }
   ],
   "source": [
    "# delete the old datetime\n",
    "fornec_validos = fornec_validos.drop('Vigência')\n",
    "fornec_validos"
   ]
  },
  {
   "cell_type": "code",
   "execution_count": 50,
   "metadata": {},
   "outputs": [],
   "source": [
    "# selects only the valid contracts (uptodates)\n",
    "date_slice = datetime.strptime('30/6/2018', '%d/%m/%Y')\n",
    "fornec_validos = fornec_validos.where('Data de Vigência', are.above_or_equal_to(date_slice))"
   ]
  },
  {
   "cell_type": "code",
   "execution_count": 51,
   "metadata": {},
   "outputs": [
    {
     "data": {
      "text/html": [
       "<table border=\"1\" class=\"dataframe\">\n",
       "    <thead>\n",
       "        <tr>\n",
       "            <th>CNPJ CPF For</th> <th>Nome_For</th> <th>Contratante</th> <th>Valor</th> <th>Data de Vigência</th>\n",
       "        </tr>\n",
       "    </thead>\n",
       "    <tbody>\n",
       "        <tr>\n",
       "            <td>07301782420   </td> <td>JOSE JORGE DA SILVA                            </td> <td>114613 - UNIDADE ESTADUAL DO IBGE NA PARAIBA   </td> <td>475,200.00   </td> <td>2024-11-11 00:00:00</td>\n",
       "        </tr>\n",
       "    </tbody>\n",
       "        <tr>\n",
       "            <td>79003060487   </td> <td>JACIE MARINHO DA SILVA           -             </td> <td>114613 - UNIDADE ESTADUAL DO IBGE NA PARAIBA   </td> <td>76,800.00    </td> <td>2023-12-03 00:00:00</td>\n",
       "        </tr>\n",
       "    </tbody>\n",
       "        <tr>\n",
       "            <td>93130597468   </td> <td>CONTRATADO : EDICELIA FERREIRA DE ABRANTES    -</td> <td>114613 - UNIDADE ESTADUAL DO IBGE NA PARAIBA   </td> <td>190,080.00   </td> <td>2023-11-03 00:00:00</td>\n",
       "        </tr>\n",
       "    </tbody>\n",
       "        <tr>\n",
       "            <td>05659288480   </td> <td>CONTRATADO : MARIA DE LOURDES VENTURA DE SOUSA-</td> <td>114613 - UNIDADE ESTADUAL DO IBGE NA PARAIBA   </td> <td>124,800.00   </td> <td>2023-08-03 00:00:00</td>\n",
       "        </tr>\n",
       "    </tbody>\n",
       "        <tr>\n",
       "            <td>09168704000142</td> <td>EMPRESA BRASIL DE COMUNICACAO S.A. - EBC       </td> <td>393017 - SUP. REG. DO DNIT NO ESTADO DA PARAIBA</td> <td>8,000.00     </td> <td>2023-04-03 00:00:00</td>\n",
       "        </tr>\n",
       "    </tbody>\n",
       "        <tr>\n",
       "            <td>01527612000108</td> <td>SHALOM ENGENHARIA LTDA                         </td> <td>393017 - SUP. REG. DO DNIT NO ESTADO DA PARAIBA</td> <td>52,350,000.00</td> <td>2023-04-01 00:00:00</td>\n",
       "        </tr>\n",
       "    </tbody>\n",
       "        <tr>\n",
       "            <td>09168704000142</td> <td>EMPRESA BRASIL DE COMUNICACAO S.A. - EBC       </td> <td>240114 - INST. NACIONAL DO SEMI-ARIDO-INSA     </td> <td>25,000.00    </td> <td>2023-03-06 00:00:00</td>\n",
       "        </tr>\n",
       "    </tbody>\n",
       "        <tr>\n",
       "            <td>50252909704   </td> <td>JOSE ARAUJO DE VASCONCELOS                     </td> <td>114613 - UNIDADE ESTADUAL DO IBGE NA PARAIBA   </td> <td>108,000.00   </td> <td>2022-05-15 00:00:00</td>\n",
       "        </tr>\n",
       "    </tbody>\n",
       "        <tr>\n",
       "            <td>04025024420   </td> <td>MANOEL BARBOSA SANTANA                         </td> <td>114613 - UNIDADE ESTADUAL DO IBGE NA PARAIBA   </td> <td>63,000.00    </td> <td>2022-05-02 00:00:00</td>\n",
       "        </tr>\n",
       "    </tbody>\n",
       "        <tr>\n",
       "            <td>34028316001932</td> <td>EMPRESA BRASILEIRA DE CORREIOS E TELEGRAFOS    </td> <td>158474 - INST FED.DA PARAIBA/CAMPUS CABEDELO   </td> <td>1,200.00     </td> <td>2022-03-20 00:00:00</td>\n",
       "        </tr>\n",
       "    </tbody>\n",
       "</table>\n",
       "<p>... (1703 rows omitted)</p>"
      ],
      "text/plain": [
       "CNPJ CPF For   | Nome_For                                        | Contratante                                     | Valor         | Data de Vigência\n",
       "07301782420    | JOSE JORGE DA SILVA                             | 114613 - UNIDADE ESTADUAL DO IBGE NA PARAIBA    | 475,200.00    | 2024-11-11 00:00:00\n",
       "79003060487    | JACIE MARINHO DA SILVA           -              | 114613 - UNIDADE ESTADUAL DO IBGE NA PARAIBA    | 76,800.00     | 2023-12-03 00:00:00\n",
       "93130597468    | CONTRATADO : EDICELIA FERREIRA DE ABRANTES    - | 114613 - UNIDADE ESTADUAL DO IBGE NA PARAIBA    | 190,080.00    | 2023-11-03 00:00:00\n",
       "05659288480    | CONTRATADO : MARIA DE LOURDES VENTURA DE SOUSA- | 114613 - UNIDADE ESTADUAL DO IBGE NA PARAIBA    | 124,800.00    | 2023-08-03 00:00:00\n",
       "09168704000142 | EMPRESA BRASIL DE COMUNICACAO S.A. - EBC        | 393017 - SUP. REG. DO DNIT NO ESTADO DA PARAIBA | 8,000.00      | 2023-04-03 00:00:00\n",
       "01527612000108 | SHALOM ENGENHARIA LTDA                          | 393017 - SUP. REG. DO DNIT NO ESTADO DA PARAIBA | 52,350,000.00 | 2023-04-01 00:00:00\n",
       "09168704000142 | EMPRESA BRASIL DE COMUNICACAO S.A. - EBC        | 240114 - INST. NACIONAL DO SEMI-ARIDO-INSA      | 25,000.00     | 2023-03-06 00:00:00\n",
       "50252909704    | JOSE ARAUJO DE VASCONCELOS                      | 114613 - UNIDADE ESTADUAL DO IBGE NA PARAIBA    | 108,000.00    | 2022-05-15 00:00:00\n",
       "04025024420    | MANOEL BARBOSA SANTANA                          | 114613 - UNIDADE ESTADUAL DO IBGE NA PARAIBA    | 63,000.00     | 2022-05-02 00:00:00\n",
       "34028316001932 | EMPRESA BRASILEIRA DE CORREIOS E TELEGRAFOS     | 158474 - INST FED.DA PARAIBA/CAMPUS CABEDELO    | 1,200.00      | 2022-03-20 00:00:00\n",
       "... (1703 rows omitted)"
      ]
     },
     "execution_count": 51,
     "metadata": {},
     "output_type": "execute_result"
    }
   ],
   "source": [
    "fornec_validos.sort('Data de Vigência', descending=True)"
   ]
  },
  {
   "cell_type": "code",
   "execution_count": 52,
   "metadata": {},
   "outputs": [
    {
     "data": {
      "text/html": [
       "<table border=\"1\" class=\"dataframe\">\n",
       "    <thead>\n",
       "        <tr>\n",
       "            <th>CNPJ CPF For</th> <th>Nome_For</th> <th>Contratante</th> <th>Valor</th>\n",
       "        </tr>\n",
       "    </thead>\n",
       "    <tbody>\n",
       "        <tr>\n",
       "            <td>88461726472   </td> <td>GILBRAN MARQUES CHAVES           -                          </td> <td>158281 - INST.FED.DA PARAIBA/CAMPUS CAMPINA GRANDE    </td> <td>2,560.00     </td>\n",
       "        </tr>\n",
       "    </tbody>\n",
       "        <tr>\n",
       "            <td>09123654000187</td> <td>COMPANHIA DE AGUA E ESGOTOS DA PARAIBA CAGEPA               </td> <td>250027 - GERENCIA ESTADUAL DO MS/PB                   </td> <td>63,640.30    </td>\n",
       "        </tr>\n",
       "    </tbody>\n",
       "        <tr>\n",
       "            <td>05305430000135</td> <td>INTERATIVA EMPREENDIMENTOS E SERVICOS DE LIMPEZA E CONST ...</td> <td>154868 - INSTITUTO FED.DA PARAÍBA/CAMPUS GUARABIRA    </td> <td>149,349.20   </td>\n",
       "        </tr>\n",
       "    </tbody>\n",
       "        <tr>\n",
       "            <td>13305089000146</td> <td>LIMPIA RECURSOS HUMANOS LTDA                                </td> <td>158280 - INST.FED.DA PARAIBA/CAMPUS CAJAZEIRAS        </td> <td>658,944.00   </td>\n",
       "        </tr>\n",
       "    </tbody>\n",
       "        <tr>\n",
       "            <td>21274584434   </td> <td>JOSE MESSIAS LEITE DE LIMA                                  </td> <td>200396 - SUPERINTENDENCIA REG.DEP.POLICIA FEDERAL- PB </td> <td>85,613.00    </td>\n",
       "        </tr>\n",
       "    </tbody>\n",
       "        <tr>\n",
       "            <td>09095183000140</td> <td>ENERGISA PARAIBA - DISTRIBUIDORA DE ENERGIA S.A             </td> <td>510510 - GERÊNCIA EXECUTIVA JOÃO PESSOA/PB            </td> <td>1,071,766.80 </td>\n",
       "        </tr>\n",
       "    </tbody>\n",
       "        <tr>\n",
       "            <td>33000118000179</td> <td>TELEMAR NORTE LESTE S/A. - EM RECUPERACAO JUDICIAL          </td> <td>130024 - SUPERINT.FEDERAL DE AGRIC.PECUARIA E ABASTEC.</td> <td>3,238.00     </td>\n",
       "        </tr>\n",
       "    </tbody>\n",
       "        <tr>\n",
       "            <td>33000118000179</td> <td>TELEMAR NORTE LESTE S/A. - EM RECUPERACAO JUDICIAL          </td> <td>130024 - SUPERINT.FEDERAL DE AGRIC.PECUARIA E ABASTEC.</td> <td>7,749.50     </td>\n",
       "        </tr>\n",
       "    </tbody>\n",
       "        <tr>\n",
       "            <td>33000118000179</td> <td>TELEMAR NORTE LESTE S/A. - EM RECUPERACAO JUDICIAL          </td> <td>130024 - SUPERINT.FEDERAL DE AGRIC.PECUARIA E ABASTEC.</td> <td>22,962.90    </td>\n",
       "        </tr>\n",
       "    </tbody>\n",
       "        <tr>\n",
       "            <td>05219643000144</td> <td>CONSERV - CONSTRUCOES E SERVICOS LTDA                       </td> <td>158138 - INST.FED.DE EDUC.,CIENC.E TEC.DA PARAIBA     </td> <td>13,298,336.50</td>\n",
       "        </tr>\n",
       "    </tbody>\n",
       "</table>\n",
       "<p>... (1703 rows omitted)</p>"
      ],
      "text/plain": [
       "CNPJ CPF For   | Nome_For                                                     | Contratante                                            | Valor\n",
       "88461726472    | GILBRAN MARQUES CHAVES           -                           | 158281 - INST.FED.DA PARAIBA/CAMPUS CAMPINA GRANDE     | 2,560.00\n",
       "09123654000187 | COMPANHIA DE AGUA E ESGOTOS DA PARAIBA CAGEPA                | 250027 - GERENCIA ESTADUAL DO MS/PB                    | 63,640.30\n",
       "05305430000135 | INTERATIVA EMPREENDIMENTOS E SERVICOS DE LIMPEZA E CONST ... | 154868 - INSTITUTO FED.DA PARAÍBA/CAMPUS GUARABIRA     | 149,349.20\n",
       "13305089000146 | LIMPIA RECURSOS HUMANOS LTDA                                 | 158280 - INST.FED.DA PARAIBA/CAMPUS CAJAZEIRAS         | 658,944.00\n",
       "21274584434    | JOSE MESSIAS LEITE DE LIMA                                   | 200396 - SUPERINTENDENCIA REG.DEP.POLICIA FEDERAL- PB  | 85,613.00\n",
       "09095183000140 | ENERGISA PARAIBA - DISTRIBUIDORA DE ENERGIA S.A              | 510510 - GERÊNCIA EXECUTIVA JOÃO PESSOA/PB             | 1,071,766.80\n",
       "33000118000179 | TELEMAR NORTE LESTE S/A. - EM RECUPERACAO JUDICIAL           | 130024 - SUPERINT.FEDERAL DE AGRIC.PECUARIA E ABASTEC. | 3,238.00\n",
       "33000118000179 | TELEMAR NORTE LESTE S/A. - EM RECUPERACAO JUDICIAL           | 130024 - SUPERINT.FEDERAL DE AGRIC.PECUARIA E ABASTEC. | 7,749.50\n",
       "33000118000179 | TELEMAR NORTE LESTE S/A. - EM RECUPERACAO JUDICIAL           | 130024 - SUPERINT.FEDERAL DE AGRIC.PECUARIA E ABASTEC. | 22,962.90\n",
       "05219643000144 | CONSERV - CONSTRUCOES E SERVICOS LTDA                        | 158138 - INST.FED.DE EDUC.,CIENC.E TEC.DA PARAIBA      | 13,298,336.50\n",
       "... (1703 rows omitted)"
      ]
     },
     "execution_count": 52,
     "metadata": {},
     "output_type": "execute_result"
    }
   ],
   "source": [
    "fornec_final = fornec_validos.drop('Data de Vigência')\n",
    "fornec_final"
   ]
  },
  {
   "cell_type": "markdown",
   "metadata": {},
   "source": [
    "### Organiza a resposta por Contratante"
   ]
  },
  {
   "cell_type": "code",
   "execution_count": 199,
   "metadata": {},
   "outputs": [
    {
     "data": {
      "text/html": [
       "<table border=\"1\" class=\"dataframe\">\n",
       "    <thead>\n",
       "        <tr>\n",
       "            <th>Contratante</th> <th>CNPJ CPF For</th> <th>Nome_For</th> <th>Valor sum</th>\n",
       "        </tr>\n",
       "    </thead>\n",
       "    <tbody>\n",
       "        <tr>\n",
       "            <td>393017 - SUP. REG. DO DNIT NO ESTADO DA PARAIBA      </td> <td>18193729000197</td> <td>SOCIEDAD ANONIMA DE OBRAS Y SERVICIOS COPASA DO BRASIL</td> <td>255,499,965.80</td>\n",
       "        </tr>\n",
       "    </tbody>\n",
       "        <tr>\n",
       "            <td>393017 - SUP. REG. DO DNIT NO ESTADO DA PARAIBA      </td> <td>01527612000108</td> <td>SHALOM ENGENHARIA LTDA                                </td> <td>52,350,000.00 </td>\n",
       "        </tr>\n",
       "    </tbody>\n",
       "        <tr>\n",
       "            <td>200396 - SUPERINTENDENCIA REG.DEP.POLICIA FEDERAL- PB</td> <td>03701380000180</td> <td>PORTO BELO ENGENHARIA E COMERCIO LTDA                 </td> <td>33,501,517.90 </td>\n",
       "        </tr>\n",
       "    </tbody>\n",
       "        <tr>\n",
       "            <td>153066 - PREFEITURA UNIVERSITARIA DA UFPB            </td> <td>07442731000136</td> <td>JMT SERVICOS DE LOCACAO DE MAO DE OBRA LTDA           </td> <td>26,993,720.20 </td>\n",
       "        </tr>\n",
       "    </tbody>\n",
       "        <tr>\n",
       "            <td>158138 - INST.FED.DE EDUC.,CIENC.E TEC.DA PARAIBA    </td> <td>10758902000145</td> <td>CONSTRAL CONSTRUTORA E CONSULTORIA SANTO ANTONIO LTDA </td> <td>19,985,166.20 </td>\n",
       "        </tr>\n",
       "    </tbody>\n",
       "        <tr>\n",
       "            <td>393017 - SUP. REG. DO DNIT NO ESTADO DA PARAIBA      </td> <td>16873137000190</td> <td>LF CONSULTORIA E EQUIPAMENTOS LTDA - EPP              </td> <td>15,776,021.30 </td>\n",
       "        </tr>\n",
       "    </tbody>\n",
       "        <tr>\n",
       "            <td>393017 - SUP. REG. DO DNIT NO ESTADO DA PARAIBA      </td> <td>09539563000127</td> <td>CONSTRUTORA SOUZA REIS LTDA                           </td> <td>13,939,209.80 </td>\n",
       "        </tr>\n",
       "    </tbody>\n",
       "        <tr>\n",
       "            <td>158138 - INST.FED.DE EDUC.,CIENC.E TEC.DA PARAIBA    </td> <td>05219643000144</td> <td>CONSERV - CONSTRUCOES E SERVICOS LTDA                 </td> <td>13,298,336.50 </td>\n",
       "        </tr>\n",
       "    </tbody>\n",
       "        <tr>\n",
       "            <td>158138 - INST.FED.DE EDUC.,CIENC.E TEC.DA PARAIBA    </td> <td>02350293000162</td> <td>CONSTRUSEL - CONSTRUCOES E SERVICOS LTDA.             </td> <td>12,137,251.80 </td>\n",
       "        </tr>\n",
       "    </tbody>\n",
       "        <tr>\n",
       "            <td>393017 - SUP. REG. DO DNIT NO ESTADO DA PARAIBA      </td> <td>08156424000151</td> <td>MAIA MELO ENGENHARIA LTDA                             </td> <td>11,867,000.00 </td>\n",
       "        </tr>\n",
       "    </tbody>\n",
       "</table>\n",
       "<p>... (462 rows omitted)</p>"
      ],
      "text/plain": [
       "Contratante                                           | CNPJ CPF For   | Nome_For                                               | Valor sum\n",
       "393017 - SUP. REG. DO DNIT NO ESTADO DA PARAIBA       | 18193729000197 | SOCIEDAD ANONIMA DE OBRAS Y SERVICIOS COPASA DO BRASIL | 255,499,965.80\n",
       "393017 - SUP. REG. DO DNIT NO ESTADO DA PARAIBA       | 01527612000108 | SHALOM ENGENHARIA LTDA                                 | 52,350,000.00\n",
       "200396 - SUPERINTENDENCIA REG.DEP.POLICIA FEDERAL- PB | 03701380000180 | PORTO BELO ENGENHARIA E COMERCIO LTDA                  | 33,501,517.90\n",
       "153066 - PREFEITURA UNIVERSITARIA DA UFPB             | 07442731000136 | JMT SERVICOS DE LOCACAO DE MAO DE OBRA LTDA            | 26,993,720.20\n",
       "158138 - INST.FED.DE EDUC.,CIENC.E TEC.DA PARAIBA     | 10758902000145 | CONSTRAL CONSTRUTORA E CONSULTORIA SANTO ANTONIO LTDA  | 19,985,166.20\n",
       "393017 - SUP. REG. DO DNIT NO ESTADO DA PARAIBA       | 16873137000190 | LF CONSULTORIA E EQUIPAMENTOS LTDA - EPP               | 15,776,021.30\n",
       "393017 - SUP. REG. DO DNIT NO ESTADO DA PARAIBA       | 09539563000127 | CONSTRUTORA SOUZA REIS LTDA                            | 13,939,209.80\n",
       "158138 - INST.FED.DE EDUC.,CIENC.E TEC.DA PARAIBA     | 05219643000144 | CONSERV - CONSTRUCOES E SERVICOS LTDA                  | 13,298,336.50\n",
       "158138 - INST.FED.DE EDUC.,CIENC.E TEC.DA PARAIBA     | 02350293000162 | CONSTRUSEL - CONSTRUCOES E SERVICOS LTDA.              | 12,137,251.80\n",
       "393017 - SUP. REG. DO DNIT NO ESTADO DA PARAIBA       | 08156424000151 | MAIA MELO ENGENHARIA LTDA                              | 11,867,000.00\n",
       "... (462 rows omitted)"
      ]
     },
     "execution_count": 199,
     "metadata": {},
     "output_type": "execute_result"
    }
   ],
   "source": [
    "contratantes = fornec_final.group(['Contratante','CNPJ CPF For', 'Nome_For'], collect=sum)\n",
    "contratantes.set_format('Valor sum', NumberFormatter)\n",
    "contratantes.sort('Valor sum', descending=True)"
   ]
  },
  {
   "cell_type": "code",
   "execution_count": 115,
   "metadata": {},
   "outputs": [],
   "source": [
    "def converts_int_str(cnpj):\n",
    "    return str(cnpj)"
   ]
  },
  {
   "cell_type": "code",
   "execution_count": null,
   "metadata": {},
   "outputs": [],
   "source": []
  },
  {
   "cell_type": "markdown",
   "metadata": {},
   "source": [
    "### Pega os dados das empresas no CNPJ"
   ]
  },
  {
   "cell_type": "code",
   "execution_count": 145,
   "metadata": {},
   "outputs": [
    {
     "data": {
      "text/html": [
       "<table border=\"1\" class=\"dataframe\">\n",
       "    <thead>\n",
       "        <tr>\n",
       "            <th>CNPJ</th> <th>Nome / Razão Social (no CNPJ)</th> <th>Nome Fantasia (descrição)</th> <th>Matriz /Filial</th> <th>DataAbertura</th> <th>SituaçãoCadastral</th> <th>MotivoSituaçãoCadastral</th> <th>DataSituaçãoCadastral</th> <th>Atividade Econômica do Estabelecimento</th> <th>Natureza Jurídica (descrição no CNPJ)</th> <th>PorteEmpresa</th> <th>TipoEndereço</th> <th>Endereço (descrição completa)</th> <th>Número</th> <th>Complemento</th> <th>Bairro</th> <th>CEP</th> <th>Município</th> <th>UF</th> <th>DDD 1</th> <th>Telefone 1</th> <th>DDD 2</th> <th>Telefone 2</th> <th>DDD Fax</th> <th>Fax</th> <th>CidadeExterior</th> <th>País</th> <th>Email</th> <th>TemSócio?</th> <th>CPFResponsável</th> <th>Nome do Responsável</th> <th>QualificaçãoResponsável</th> <th>ValorCapitalSocial</th> <th>NIRE</th> <th>DataInclusãoSimples</th> <th>DataExclusãoSimples</th> <th>Tipo(OperaçãoSucedida)</th> <th>CNPJSucedida</th> <th>DataEventoSucedida</th> <th>Tipo(OperaçãoSucessora)</th> <th>CNPJSucessora</th> <th>DataEventoSucessora</th> <th>Cod OrgãoAduaneiro</th> <th>Qualificação Tributária</th>\n",
       "        </tr>\n",
       "    </thead>\n",
       "    <tbody>\n",
       "        <tr>\n",
       "            <td> 09.605.291/0001-16</td> <td>C B A CONSTRUCOES LTDA - EPP                                </td> <td>C B A CONSTRUCOES                     </td> <td>MATRIZ        </td> <td>04/06/2008  </td> <td>Ativa            </td> <td>SEM MOTIVO             </td> <td>04/06/2008           </td> <td>Serviços especializados para construção não especificado ...</td> <td>SOCIEDADE EMPRESARIA LIMITADA                               </td> <td>Empresa de Pequeno Porte</td> <td>RUA         </td> <td>BELTRANDO DE FARIAS CASTRO   </td> <td>285   </td> <td>-                       </td> <td>CRUZEIRO       </td> <td>58415453</td> <td>CAMPINA GRANDE</td> <td>PB  </td> <td>83   </td> <td>33227294  </td> <td>-    </td> <td>-         </td> <td>-      </td> <td>-       </td> <td>-             </td> <td>-   </td> <td>ppproma@hotmail.com          </td> <td>S        </td> <td> 514.762.664-68</td> <td>CAETANO BATISTA DE ALMEIDA      </td> <td>SOCIO-ADMINISTRADOR                             </td> <td>1.500.000,00      </td> <td>25200479742</td> <td>01/01/2009         </td> <td>31/12/2017         </td> <td>-                     </td> <td>-             </td> <td>-                 </td> <td>-                      </td> <td>-             </td> <td>-                  </td> <td>417900            </td> <td>Não fornecido pelo SERPRO</td>\n",
       "        </tr>\n",
       "    </tbody>\n",
       "        <tr>\n",
       "            <td> 12.039.966/0001-11</td> <td>LINK CARD ADMINISTRADORA DE BENEFICIOS EIRELI               </td> <td>-                                     </td> <td>MATRIZ        </td> <td>11/05/2010  </td> <td>Ativa            </td> <td>SEM MOTIVO             </td> <td>11/05/2010           </td> <td>Atividades de consultoria em gestão empresarial, exceto  ...</td> <td>EMPRESA INDIVIDUAL DE RESPONSABILIDADE LIMITADA (DE NATU ...</td> <td>Demais                  </td> <td>RUA         </td> <td>RUI BARBOSA                  </td> <td>449   </td> <td>SALA 03                 </td> <td>CENTRO         </td> <td>18290000</td> <td>BURI          </td> <td>SP  </td> <td>15   </td> <td>35461903  </td> <td>-    </td> <td>-         </td> <td>-      </td> <td>-       </td> <td>-             </td> <td>-   </td> <td>CONTATO@LINKBENEFICIOS.COM.BR</td> <td>S        </td> <td> 310.580.618-01</td> <td>MARCELO DE OLIVEIRA LIMA        </td> <td>TITULAR P.FISICA RESID. OU DOMICILIADO NO BRASIL</td> <td>1.250.000,00      </td> <td>35600829668</td> <td>11/05/2010         </td> <td>30/06/2012         </td> <td>-                     </td> <td>-             </td> <td>-                 </td> <td>-                      </td> <td>-             </td> <td>-                  </td> <td>811000            </td> <td>Não fornecido pelo SERPRO</td>\n",
       "        </tr>\n",
       "    </tbody>\n",
       "        <tr>\n",
       "            <td> 06.298.743/0001-76</td> <td>GRILLO E WERNECK PROJETOS E CONSULTORIA LTDA                </td> <td>-                                     </td> <td>MATRIZ        </td> <td>21/05/2004  </td> <td>Ativa            </td> <td>SEM MOTIVO             </td> <td>21/05/2004           </td> <td>Serviços de arquitetura                                     </td> <td>SOCIEDADE EMPRESARIA LIMITADA                               </td> <td>Empresa de Pequeno Porte</td> <td>AVENIDA     </td> <td>DO CONTORNO                  </td> <td>4.852 </td> <td>SALA 704                </td> <td>FUNCIONARIOS   </td> <td>30110031</td> <td>BELO HORIZONTE</td> <td>MG  </td> <td>31   </td> <td>32233802  </td> <td>-    </td> <td>-         </td> <td>31     </td> <td>32233802</td> <td>-             </td> <td>-   </td> <td>-                            </td> <td>S        </td> <td> 253.559.106-53</td> <td>FLAVIO CAMPOS GRILLO            </td> <td>SOCIO-ADMINISTRADOR                             </td> <td>200.000,00        </td> <td>31208916429</td> <td>-                  </td> <td>-                  </td> <td>-                     </td> <td>-             </td> <td>-                 </td> <td>-                      </td> <td>-             </td> <td>-                  </td> <td>617700            </td> <td>Não fornecido pelo SERPRO</td>\n",
       "        </tr>\n",
       "    </tbody>\n",
       "        <tr>\n",
       "            <td> 18.518.276/0001-21</td> <td>EBA - ENGENHARIA BRASILEIRA DE AVALIACOES, ASSESSORIA, G ...</td> <td>EBA - EMPRESA BRASILEIRA DE AVALIACOES</td> <td>MATRIZ        </td> <td>18/07/2013  </td> <td>Ativa            </td> <td>SEM MOTIVO             </td> <td>18/07/2013           </td> <td>Serviços de engenharia                                      </td> <td>SOCIEDADE EMPRESARIA LIMITADA                               </td> <td>Micro-Empresa           </td> <td>AVENIDA     </td> <td>DOUTOR EDESIO VIEIRA DE MELO </td> <td>1074  </td> <td>-                       </td> <td>SUISSA         </td> <td>49052240</td> <td>ARACAJU       </td> <td>SE  </td> <td>79   </td> <td>32228722  </td> <td>-    </td> <td>-         </td> <td>-      </td> <td>-       </td> <td>-             </td> <td>-   </td> <td>SERVCONTAB_2000@HOTMAIL.COM  </td> <td>S        </td> <td> 829.450.555-20</td> <td>MEIDE GLAN DOS SANTOS           </td> <td>SOCIO-ADMINISTRADOR                             </td> <td>510.000,00        </td> <td>28200543257</td> <td>-                  </td> <td>-                  </td> <td>-                     </td> <td>-             </td> <td>-                 </td> <td>-                      </td> <td>-             </td> <td>-                  </td> <td>520100            </td> <td>Não fornecido pelo SERPRO</td>\n",
       "        </tr>\n",
       "    </tbody>\n",
       "        <tr>\n",
       "            <td> 06.306.458/0001-50</td> <td>AMBIENTE BRASIL ENGENHARIA LTDA                             </td> <td>-                                     </td> <td>MATRIZ        </td> <td>02/06/2004  </td> <td>Ativa            </td> <td>SEM MOTIVO             </td> <td>02/06/2004           </td> <td>Serviços de engenharia                                      </td> <td>SOCIEDADE EMPRESARIA LIMITADA                               </td> <td>Empresa de Pequeno Porte</td> <td>RUA         </td> <td>MIRAGAIA                     </td> <td>209   </td> <td>-                       </td> <td>BUTANTA        </td> <td>5511020 </td> <td>SAO PAULO     </td> <td>SP  </td> <td>11   </td> <td>30311151  </td> <td>11   </td> <td>50824562  </td> <td>11     </td> <td>50847978</td> <td>-             </td> <td>-   </td> <td>CRCSPP@GMAIL.COM             </td> <td>S        </td> <td> 782.974.006-20</td> <td>NELSON LOPES CORREA SOBRINHO    </td> <td>SOCIO-ADMINISTRADOR                             </td> <td>2.000.000,00      </td> <td>35222137591</td> <td>-                  </td> <td>-                  </td> <td>-                     </td> <td>-             </td> <td>-                 </td> <td>-                      </td> <td>-             </td> <td>-                  </td> <td>816500            </td> <td>Não fornecido pelo SERPRO</td>\n",
       "        </tr>\n",
       "    </tbody>\n",
       "        <tr>\n",
       "            <td> 08.156.424/0001-51</td> <td>MAIA MELO ENGENHARIA LTDA                                   </td> <td>-                                     </td> <td>MATRIZ        </td> <td>01/06/1982  </td> <td>Ativa            </td> <td>SEM MOTIVO             </td> <td>03/11/2005           </td> <td>Serviços de engenharia                                      </td> <td>SOCIEDADE EMPRESARIA LIMITADA                               </td> <td>Demais                  </td> <td>RUA         </td> <td>GENERAL JOAQUIM INACIO       </td> <td>136   </td> <td>-                       </td> <td>ILHA DO LEITE  </td> <td>50070270</td> <td>RECIFE        </td> <td>PE  </td> <td>81   </td> <td>34233977  </td> <td>81   </td> <td>34233962  </td> <td>-      </td> <td>-       </td> <td>-             </td> <td>-   </td> <td>mirtes@maiamelo.com.br       </td> <td>S        </td> <td> 342.669.094-20</td> <td>ROGERIO GIGLIO                  </td> <td>SOCIO-ADMINISTRADOR                             </td> <td>15.246.668,00     </td> <td>26200333269</td> <td>-                  </td> <td>-                  </td> <td>-                     </td> <td>-             </td> <td>-                 </td> <td>-                      </td> <td>-             </td> <td>-                  </td> <td>417900            </td> <td>Não fornecido pelo SERPRO</td>\n",
       "        </tr>\n",
       "    </tbody>\n",
       "        <tr>\n",
       "            <td> 09.384.762/0001-03</td> <td>JOSE RONYELLY ABRANTES SILVA - ME                           </td> <td>-                                     </td> <td>MATRIZ        </td> <td>26/02/2008  </td> <td>Ativa            </td> <td>SEM MOTIVO             </td> <td>26/02/2008           </td> <td>Restaurantes e similares                                    </td> <td>EMPRESARIO (INDIVIDUAL)                                     </td> <td>Micro-Empresa           </td> <td>AVENIDA     </td> <td>ELPIDIO DE ALMEIDA           </td> <td>1581  </td> <td>-                       </td> <td>CATOLE         </td> <td>58410215</td> <td>CAMPINA GRANDE</td> <td>PB  </td> <td>83   </td> <td>33310139  </td> <td>-    </td> <td>-         </td> <td>-      </td> <td>-       </td> <td>-             </td> <td>-   </td> <td>ADNELSONOLIVEIRA@BOL.COM.BR  </td> <td>N        </td> <td> 073.462.814-54</td> <td>JOSE RONYELLY ABRANTES SILVA    </td> <td>EMPRESARIO                                      </td> <td>200.000,00        </td> <td>25101074850</td> <td>01/01/2017         </td> <td>-                  </td> <td>-                     </td> <td>-             </td> <td>-                 </td> <td>-                      </td> <td>-             </td> <td>-                  </td> <td>430151            </td> <td>Não fornecido pelo SERPRO</td>\n",
       "        </tr>\n",
       "    </tbody>\n",
       "        <tr>\n",
       "            <td> 09.095.183/0001-40</td> <td>ENERGISA PARAIBA - DISTRIBUIDORA DE ENERGIA S.A             </td> <td>ENERGISA                              </td> <td>MATRIZ        </td> <td>24/08/1966  </td> <td>Ativa            </td> <td>SEM MOTIVO             </td> <td>03/11/2005           </td> <td>Distribuição de energia elétrica                            </td> <td>SOCIEDADE ANONIMA ABERTA                                    </td> <td>Demais                  </td> <td>-           </td> <td>BR 230 KM 25                 </td> <td>S/N   </td> <td>-                       </td> <td>CRISTO REDENTOR</td> <td>58071680</td> <td>JOAO PESSOA   </td> <td>PB  </td> <td>83   </td> <td>2151098   </td> <td>-    </td> <td>-         </td> <td>83     </td> <td>2311886 </td> <td>-             </td> <td>-   </td> <td>SAELPADFC@SAELPA.COM.BR      </td> <td>S        </td> <td> 008.534.037-59</td> <td>ANDRE LUIS CABRAL THEOBALD      </td> <td>PRESIDENTE                                      </td> <td>386.515.728,00    </td> <td>25300004827</td> <td>-                  </td> <td>-                  </td> <td>-                     </td> <td>-             </td> <td>-                 </td> <td>-                      </td> <td>-             </td> <td>-                  </td> <td>417900            </td> <td>Não fornecido pelo SERPRO</td>\n",
       "        </tr>\n",
       "    </tbody>\n",
       "        <tr>\n",
       "            <td> 03.701.380/0001-80</td> <td>PORTO BELO ENGENHARIA E COMERCIO LTDA                       </td> <td>PORTO BELO ENGENHARIA                 </td> <td>MATRIZ        </td> <td>26/06/1987  </td> <td>Ativa            </td> <td>SEM MOTIVO             </td> <td>21/05/2005           </td> <td>Construção de edifícios                                     </td> <td>SOCIEDADE EMPRESARIA LIMITADA                               </td> <td>Demais                  </td> <td>RUA         </td> <td>4                            </td> <td>1400  </td> <td>QUADRA73 LOTE AREA TOTAL</td> <td>SETOR CENTRAL  </td> <td>74025020</td> <td>GOIANIA       </td> <td>GO  </td> <td>62   </td> <td>32193353  </td> <td>62   </td> <td>32783909  </td> <td>61     </td> <td>3474888 </td> <td>-             </td> <td>-   </td> <td>portobelo@nutecnet.com.br    </td> <td>S        </td> <td> 063.760.696-57</td> <td>FABIO DE PAULA NEVES            </td> <td>ADMINISTRADOR                                   </td> <td>42.122.366,00     </td> <td>52202781073</td> <td>-                  </td> <td>-                  </td> <td>2                     </td> <td>03701380000180</td> <td>24/03/2017        </td> <td>1                      </td> <td>21568196000195</td> <td>24/03/2017         </td> <td>120100            </td> <td>Não fornecido pelo SERPRO</td>\n",
       "        </tr>\n",
       "    </tbody>\n",
       "        <tr>\n",
       "            <td> 73.694.788/0001-57</td> <td>SALINAS EMPREENDIMENTOS E CONSTRUCOES LTDA - ME             </td> <td>SALINAS                               </td> <td>MATRIZ        </td> <td>16/11/1993  </td> <td>Ativa            </td> <td>SEM MOTIVO             </td> <td>30/10/2004           </td> <td>Construção de edifícios                                     </td> <td>SOCIEDADE EMPRESARIA LIMITADA                               </td> <td>Micro-Empresa           </td> <td>RUA         </td> <td>NIVALDO SOARES DE PINHO      </td> <td>78    </td> <td>-                       </td> <td>VENANCIOS      </td> <td>63700000</td> <td>CRATEUS       </td> <td>CE  </td> <td>88   </td> <td>36923599  </td> <td>-    </td> <td>-         </td> <td>-      </td> <td>-       </td> <td>-             </td> <td>-   </td> <td>-                            </td> <td>S        </td> <td> 057.674.223-62</td> <td>FRANCISCO LENNON BARBOSA MARTINS</td> <td>SOCIO-ADMINISTRADOR                             </td> <td>5.000.000,00      </td> <td>23201547031</td> <td>01/07/2007         </td> <td>31/07/2013         </td> <td>-                     </td> <td>-             </td> <td>-                 </td> <td>-                      </td> <td>-             </td> <td>-                  </td> <td>317600            </td> <td>Não fornecido pelo SERPRO</td>\n",
       "        </tr>\n",
       "    </tbody>\n",
       "</table>\n",
       "<p>... (39 rows omitted)</p>"
      ],
      "text/plain": [
       "CNPJ                | Nome / Razão Social (no CNPJ)                                | Nome Fantasia (descrição)              | Matriz /Filial | DataAbertura | SituaçãoCadastral | MotivoSituaçãoCadastral | DataSituaçãoCadastral | Atividade Econômica do Estabelecimento                       | Natureza Jurídica (descrição no CNPJ)                        | PorteEmpresa             | TipoEndereço | Endereço (descrição completa) | Número | Complemento              | Bairro          | CEP      | Município      | UF   | DDD 1 | Telefone 1 | DDD 2 | Telefone 2 | DDD Fax | Fax      | CidadeExterior | País | Email                         | TemSócio? | CPFResponsável  | Nome do Responsável              | QualificaçãoResponsável                          | ValorCapitalSocial | NIRE        | DataInclusãoSimples | DataExclusãoSimples | Tipo(OperaçãoSucedida) | CNPJSucedida   | DataEventoSucedida | Tipo(OperaçãoSucessora) | CNPJSucessora  | DataEventoSucessora | Cod OrgãoAduaneiro | Qualificação Tributária\n",
       " 09.605.291/0001-16 | C B A CONSTRUCOES LTDA - EPP                                 | C B A CONSTRUCOES                      | MATRIZ         | 04/06/2008   | Ativa             | SEM MOTIVO              | 04/06/2008            | Serviços especializados para construção não especificado ... | SOCIEDADE EMPRESARIA LIMITADA                                | Empresa de Pequeno Porte | RUA          | BELTRANDO DE FARIAS CASTRO    | 285    | -                        | CRUZEIRO        | 58415453 | CAMPINA GRANDE | PB   | 83    | 33227294   | -     | -          | -       | -        | -              | -    | ppproma@hotmail.com           | S         |  514.762.664-68 | CAETANO BATISTA DE ALMEIDA       | SOCIO-ADMINISTRADOR                              | 1.500.000,00       | 25200479742 | 01/01/2009          | 31/12/2017          | -                      | -              | -                  | -                       | -              | -                   | 417900             | Não fornecido pelo SERPRO\n",
       " 12.039.966/0001-11 | LINK CARD ADMINISTRADORA DE BENEFICIOS EIRELI                | -                                      | MATRIZ         | 11/05/2010   | Ativa             | SEM MOTIVO              | 11/05/2010            | Atividades de consultoria em gestão empresarial, exceto  ... | EMPRESA INDIVIDUAL DE RESPONSABILIDADE LIMITADA (DE NATU ... | Demais                   | RUA          | RUI BARBOSA                   | 449    | SALA 03                  | CENTRO          | 18290000 | BURI           | SP   | 15    | 35461903   | -     | -          | -       | -        | -              | -    | CONTATO@LINKBENEFICIOS.COM.BR | S         |  310.580.618-01 | MARCELO DE OLIVEIRA LIMA         | TITULAR P.FISICA RESID. OU DOMICILIADO NO BRASIL | 1.250.000,00       | 35600829668 | 11/05/2010          | 30/06/2012          | -                      | -              | -                  | -                       | -              | -                   | 811000             | Não fornecido pelo SERPRO\n",
       " 06.298.743/0001-76 | GRILLO E WERNECK PROJETOS E CONSULTORIA LTDA                 | -                                      | MATRIZ         | 21/05/2004   | Ativa             | SEM MOTIVO              | 21/05/2004            | Serviços de arquitetura                                      | SOCIEDADE EMPRESARIA LIMITADA                                | Empresa de Pequeno Porte | AVENIDA      | DO CONTORNO                   | 4.852  | SALA 704                 | FUNCIONARIOS    | 30110031 | BELO HORIZONTE | MG   | 31    | 32233802   | -     | -          | 31      | 32233802 | -              | -    | -                             | S         |  253.559.106-53 | FLAVIO CAMPOS GRILLO             | SOCIO-ADMINISTRADOR                              | 200.000,00         | 31208916429 | -                   | -                   | -                      | -              | -                  | -                       | -              | -                   | 617700             | Não fornecido pelo SERPRO\n",
       " 18.518.276/0001-21 | EBA - ENGENHARIA BRASILEIRA DE AVALIACOES, ASSESSORIA, G ... | EBA - EMPRESA BRASILEIRA DE AVALIACOES | MATRIZ         | 18/07/2013   | Ativa             | SEM MOTIVO              | 18/07/2013            | Serviços de engenharia                                       | SOCIEDADE EMPRESARIA LIMITADA                                | Micro-Empresa            | AVENIDA      | DOUTOR EDESIO VIEIRA DE MELO  | 1074   | -                        | SUISSA          | 49052240 | ARACAJU        | SE   | 79    | 32228722   | -     | -          | -       | -        | -              | -    | SERVCONTAB_2000@HOTMAIL.COM   | S         |  829.450.555-20 | MEIDE GLAN DOS SANTOS            | SOCIO-ADMINISTRADOR                              | 510.000,00         | 28200543257 | -                   | -                   | -                      | -              | -                  | -                       | -              | -                   | 520100             | Não fornecido pelo SERPRO\n",
       " 06.306.458/0001-50 | AMBIENTE BRASIL ENGENHARIA LTDA                              | -                                      | MATRIZ         | 02/06/2004   | Ativa             | SEM MOTIVO              | 02/06/2004            | Serviços de engenharia                                       | SOCIEDADE EMPRESARIA LIMITADA                                | Empresa de Pequeno Porte | RUA          | MIRAGAIA                      | 209    | -                        | BUTANTA         | 5511020  | SAO PAULO      | SP   | 11    | 30311151   | 11    | 50824562   | 11      | 50847978 | -              | -    | CRCSPP@GMAIL.COM              | S         |  782.974.006-20 | NELSON LOPES CORREA SOBRINHO     | SOCIO-ADMINISTRADOR                              | 2.000.000,00       | 35222137591 | -                   | -                   | -                      | -              | -                  | -                       | -              | -                   | 816500             | Não fornecido pelo SERPRO\n",
       " 08.156.424/0001-51 | MAIA MELO ENGENHARIA LTDA                                    | -                                      | MATRIZ         | 01/06/1982   | Ativa             | SEM MOTIVO              | 03/11/2005            | Serviços de engenharia                                       | SOCIEDADE EMPRESARIA LIMITADA                                | Demais                   | RUA          | GENERAL JOAQUIM INACIO        | 136    | -                        | ILHA DO LEITE   | 50070270 | RECIFE         | PE   | 81    | 34233977   | 81    | 34233962   | -       | -        | -              | -    | mirtes@maiamelo.com.br        | S         |  342.669.094-20 | ROGERIO GIGLIO                   | SOCIO-ADMINISTRADOR                              | 15.246.668,00      | 26200333269 | -                   | -                   | -                      | -              | -                  | -                       | -              | -                   | 417900             | Não fornecido pelo SERPRO\n",
       " 09.384.762/0001-03 | JOSE RONYELLY ABRANTES SILVA - ME                            | -                                      | MATRIZ         | 26/02/2008   | Ativa             | SEM MOTIVO              | 26/02/2008            | Restaurantes e similares                                     | EMPRESARIO (INDIVIDUAL)                                      | Micro-Empresa            | AVENIDA      | ELPIDIO DE ALMEIDA            | 1581   | -                        | CATOLE          | 58410215 | CAMPINA GRANDE | PB   | 83    | 33310139   | -     | -          | -       | -        | -              | -    | ADNELSONOLIVEIRA@BOL.COM.BR   | N         |  073.462.814-54 | JOSE RONYELLY ABRANTES SILVA     | EMPRESARIO                                       | 200.000,00         | 25101074850 | 01/01/2017          | -                   | -                      | -              | -                  | -                       | -              | -                   | 430151             | Não fornecido pelo SERPRO\n",
       " 09.095.183/0001-40 | ENERGISA PARAIBA - DISTRIBUIDORA DE ENERGIA S.A              | ENERGISA                               | MATRIZ         | 24/08/1966   | Ativa             | SEM MOTIVO              | 03/11/2005            | Distribuição de energia elétrica                             | SOCIEDADE ANONIMA ABERTA                                     | Demais                   | -            | BR 230 KM 25                  | S/N    | -                        | CRISTO REDENTOR | 58071680 | JOAO PESSOA    | PB   | 83    | 2151098    | -     | -          | 83      | 2311886  | -              | -    | SAELPADFC@SAELPA.COM.BR       | S         |  008.534.037-59 | ANDRE LUIS CABRAL THEOBALD       | PRESIDENTE                                       | 386.515.728,00     | 25300004827 | -                   | -                   | -                      | -              | -                  | -                       | -              | -                   | 417900             | Não fornecido pelo SERPRO\n",
       " 03.701.380/0001-80 | PORTO BELO ENGENHARIA E COMERCIO LTDA                        | PORTO BELO ENGENHARIA                  | MATRIZ         | 26/06/1987   | Ativa             | SEM MOTIVO              | 21/05/2005            | Construção de edifícios                                      | SOCIEDADE EMPRESARIA LIMITADA                                | Demais                   | RUA          | 4                             | 1400   | QUADRA73 LOTE AREA TOTAL | SETOR CENTRAL   | 74025020 | GOIANIA        | GO   | 62    | 32193353   | 62    | 32783909   | 61      | 3474888  | -              | -    | portobelo@nutecnet.com.br     | S         |  063.760.696-57 | FABIO DE PAULA NEVES             | ADMINISTRADOR                                    | 42.122.366,00      | 52202781073 | -                   | -                   | 2                      | 03701380000180 | 24/03/2017         | 1                       | 21568196000195 | 24/03/2017          | 120100             | Não fornecido pelo SERPRO\n",
       " 73.694.788/0001-57 | SALINAS EMPREENDIMENTOS E CONSTRUCOES LTDA - ME              | SALINAS                                | MATRIZ         | 16/11/1993   | Ativa             | SEM MOTIVO              | 30/10/2004            | Construção de edifícios                                      | SOCIEDADE EMPRESARIA LIMITADA                                | Micro-Empresa            | RUA          | NIVALDO SOARES DE PINHO       | 78     | -                        | VENANCIOS       | 63700000 | CRATEUS        | CE   | 88    | 36923599   | -     | -          | -       | -        | -              | -    | -                             | S         |  057.674.223-62 | FRANCISCO LENNON BARBOSA MARTINS | SOCIO-ADMINISTRADOR                              | 5.000.000,00       | 23201547031 | 01/07/2007          | 31/07/2013          | -                      | -              | -                  | -                       | -              | -                   | 317600             | Não fornecido pelo SERPRO\n",
       "... (39 rows omitted)"
      ]
     },
     "execution_count": 145,
     "metadata": {},
     "output_type": "execute_result"
    }
   ],
   "source": [
    "dados_empresas = pd.read_csv('CNPJ_empresas_dados.csv', sep=';', encoding='ISO-8859-1')\n",
    "dados_empresas\n",
    "tb_empresas = Table().from_df(dados_empresas)\n",
    "tb_empresas"
   ]
  },
  {
   "cell_type": "code",
   "execution_count": 146,
   "metadata": {},
   "outputs": [],
   "source": [
    "def remove_cnpj_mask(cnpj):\n",
    "    return cnpj.replace('.', '').replace('/', '').replace('-', '')"
   ]
  },
  {
   "cell_type": "markdown",
   "metadata": {},
   "source": [
    "### Remove a máscara do CNPJ"
   ]
  },
  {
   "cell_type": "code",
   "execution_count": 147,
   "metadata": {},
   "outputs": [],
   "source": [
    "tb_empresas = tb_empresas.with_column('CNPJ new', tb_empresas.apply(remove_cnpj_mask, 'CNPJ'))\n",
    "tb_empresas =tb_empresas.drop('CNPJ')"
   ]
  },
  {
   "cell_type": "code",
   "execution_count": 148,
   "metadata": {},
   "outputs": [
    {
     "data": {
      "text/html": [
       "<table border=\"1\" class=\"dataframe\">\n",
       "    <thead>\n",
       "        <tr>\n",
       "            <th>Nome / Razão Social (no CNPJ)</th> <th>Nome Fantasia (descrição)</th> <th>Matriz /Filial</th> <th>DataAbertura</th> <th>SituaçãoCadastral</th> <th>MotivoSituaçãoCadastral</th> <th>DataSituaçãoCadastral</th> <th>Atividade Econômica do Estabelecimento</th> <th>Natureza Jurídica (descrição no CNPJ)</th> <th>PorteEmpresa</th> <th>TipoEndereço</th> <th>Endereço (descrição completa)</th> <th>Número</th> <th>Complemento</th> <th>Bairro</th> <th>CEP</th> <th>Município</th> <th>UF</th> <th>DDD 1</th> <th>Telefone 1</th> <th>DDD 2</th> <th>Telefone 2</th> <th>DDD Fax</th> <th>Fax</th> <th>CidadeExterior</th> <th>País</th> <th>Email</th> <th>TemSócio?</th> <th>CPFResponsável</th> <th>Nome do Responsável</th> <th>QualificaçãoResponsável</th> <th>ValorCapitalSocial</th> <th>NIRE</th> <th>DataInclusãoSimples</th> <th>DataExclusãoSimples</th> <th>Tipo(OperaçãoSucedida)</th> <th>CNPJSucedida</th> <th>DataEventoSucedida</th> <th>Tipo(OperaçãoSucessora)</th> <th>CNPJSucessora</th> <th>DataEventoSucessora</th> <th>Cod OrgãoAduaneiro</th> <th>Qualificação Tributária</th> <th>CNPJ new</th>\n",
       "        </tr>\n",
       "    </thead>\n",
       "    <tbody>\n",
       "        <tr>\n",
       "            <td>C B A CONSTRUCOES LTDA - EPP                                </td> <td>C B A CONSTRUCOES                     </td> <td>MATRIZ        </td> <td>04/06/2008  </td> <td>Ativa            </td> <td>SEM MOTIVO             </td> <td>04/06/2008           </td> <td>Serviços especializados para construção não especificado ...</td> <td>SOCIEDADE EMPRESARIA LIMITADA                               </td> <td>Empresa de Pequeno Porte</td> <td>RUA         </td> <td>BELTRANDO DE FARIAS CASTRO   </td> <td>285   </td> <td>-                       </td> <td>CRUZEIRO       </td> <td>58415453</td> <td>CAMPINA GRANDE</td> <td>PB  </td> <td>83   </td> <td>33227294  </td> <td>-    </td> <td>-         </td> <td>-      </td> <td>-       </td> <td>-             </td> <td>-   </td> <td>ppproma@hotmail.com          </td> <td>S        </td> <td> 514.762.664-68</td> <td>CAETANO BATISTA DE ALMEIDA      </td> <td>SOCIO-ADMINISTRADOR                             </td> <td>1.500.000,00      </td> <td>25200479742</td> <td>01/01/2009         </td> <td>31/12/2017         </td> <td>-                     </td> <td>-             </td> <td>-                 </td> <td>-                      </td> <td>-             </td> <td>-                  </td> <td>417900            </td> <td>Não fornecido pelo SERPRO</td> <td> 09605291000116</td>\n",
       "        </tr>\n",
       "    </tbody>\n",
       "        <tr>\n",
       "            <td>LINK CARD ADMINISTRADORA DE BENEFICIOS EIRELI               </td> <td>-                                     </td> <td>MATRIZ        </td> <td>11/05/2010  </td> <td>Ativa            </td> <td>SEM MOTIVO             </td> <td>11/05/2010           </td> <td>Atividades de consultoria em gestão empresarial, exceto  ...</td> <td>EMPRESA INDIVIDUAL DE RESPONSABILIDADE LIMITADA (DE NATU ...</td> <td>Demais                  </td> <td>RUA         </td> <td>RUI BARBOSA                  </td> <td>449   </td> <td>SALA 03                 </td> <td>CENTRO         </td> <td>18290000</td> <td>BURI          </td> <td>SP  </td> <td>15   </td> <td>35461903  </td> <td>-    </td> <td>-         </td> <td>-      </td> <td>-       </td> <td>-             </td> <td>-   </td> <td>CONTATO@LINKBENEFICIOS.COM.BR</td> <td>S        </td> <td> 310.580.618-01</td> <td>MARCELO DE OLIVEIRA LIMA        </td> <td>TITULAR P.FISICA RESID. OU DOMICILIADO NO BRASIL</td> <td>1.250.000,00      </td> <td>35600829668</td> <td>11/05/2010         </td> <td>30/06/2012         </td> <td>-                     </td> <td>-             </td> <td>-                 </td> <td>-                      </td> <td>-             </td> <td>-                  </td> <td>811000            </td> <td>Não fornecido pelo SERPRO</td> <td> 12039966000111</td>\n",
       "        </tr>\n",
       "    </tbody>\n",
       "        <tr>\n",
       "            <td>GRILLO E WERNECK PROJETOS E CONSULTORIA LTDA                </td> <td>-                                     </td> <td>MATRIZ        </td> <td>21/05/2004  </td> <td>Ativa            </td> <td>SEM MOTIVO             </td> <td>21/05/2004           </td> <td>Serviços de arquitetura                                     </td> <td>SOCIEDADE EMPRESARIA LIMITADA                               </td> <td>Empresa de Pequeno Porte</td> <td>AVENIDA     </td> <td>DO CONTORNO                  </td> <td>4.852 </td> <td>SALA 704                </td> <td>FUNCIONARIOS   </td> <td>30110031</td> <td>BELO HORIZONTE</td> <td>MG  </td> <td>31   </td> <td>32233802  </td> <td>-    </td> <td>-         </td> <td>31     </td> <td>32233802</td> <td>-             </td> <td>-   </td> <td>-                            </td> <td>S        </td> <td> 253.559.106-53</td> <td>FLAVIO CAMPOS GRILLO            </td> <td>SOCIO-ADMINISTRADOR                             </td> <td>200.000,00        </td> <td>31208916429</td> <td>-                  </td> <td>-                  </td> <td>-                     </td> <td>-             </td> <td>-                 </td> <td>-                      </td> <td>-             </td> <td>-                  </td> <td>617700            </td> <td>Não fornecido pelo SERPRO</td> <td> 06298743000176</td>\n",
       "        </tr>\n",
       "    </tbody>\n",
       "        <tr>\n",
       "            <td>EBA - ENGENHARIA BRASILEIRA DE AVALIACOES, ASSESSORIA, G ...</td> <td>EBA - EMPRESA BRASILEIRA DE AVALIACOES</td> <td>MATRIZ        </td> <td>18/07/2013  </td> <td>Ativa            </td> <td>SEM MOTIVO             </td> <td>18/07/2013           </td> <td>Serviços de engenharia                                      </td> <td>SOCIEDADE EMPRESARIA LIMITADA                               </td> <td>Micro-Empresa           </td> <td>AVENIDA     </td> <td>DOUTOR EDESIO VIEIRA DE MELO </td> <td>1074  </td> <td>-                       </td> <td>SUISSA         </td> <td>49052240</td> <td>ARACAJU       </td> <td>SE  </td> <td>79   </td> <td>32228722  </td> <td>-    </td> <td>-         </td> <td>-      </td> <td>-       </td> <td>-             </td> <td>-   </td> <td>SERVCONTAB_2000@HOTMAIL.COM  </td> <td>S        </td> <td> 829.450.555-20</td> <td>MEIDE GLAN DOS SANTOS           </td> <td>SOCIO-ADMINISTRADOR                             </td> <td>510.000,00        </td> <td>28200543257</td> <td>-                  </td> <td>-                  </td> <td>-                     </td> <td>-             </td> <td>-                 </td> <td>-                      </td> <td>-             </td> <td>-                  </td> <td>520100            </td> <td>Não fornecido pelo SERPRO</td> <td> 18518276000121</td>\n",
       "        </tr>\n",
       "    </tbody>\n",
       "        <tr>\n",
       "            <td>AMBIENTE BRASIL ENGENHARIA LTDA                             </td> <td>-                                     </td> <td>MATRIZ        </td> <td>02/06/2004  </td> <td>Ativa            </td> <td>SEM MOTIVO             </td> <td>02/06/2004           </td> <td>Serviços de engenharia                                      </td> <td>SOCIEDADE EMPRESARIA LIMITADA                               </td> <td>Empresa de Pequeno Porte</td> <td>RUA         </td> <td>MIRAGAIA                     </td> <td>209   </td> <td>-                       </td> <td>BUTANTA        </td> <td>5511020 </td> <td>SAO PAULO     </td> <td>SP  </td> <td>11   </td> <td>30311151  </td> <td>11   </td> <td>50824562  </td> <td>11     </td> <td>50847978</td> <td>-             </td> <td>-   </td> <td>CRCSPP@GMAIL.COM             </td> <td>S        </td> <td> 782.974.006-20</td> <td>NELSON LOPES CORREA SOBRINHO    </td> <td>SOCIO-ADMINISTRADOR                             </td> <td>2.000.000,00      </td> <td>35222137591</td> <td>-                  </td> <td>-                  </td> <td>-                     </td> <td>-             </td> <td>-                 </td> <td>-                      </td> <td>-             </td> <td>-                  </td> <td>816500            </td> <td>Não fornecido pelo SERPRO</td> <td> 06306458000150</td>\n",
       "        </tr>\n",
       "    </tbody>\n",
       "        <tr>\n",
       "            <td>MAIA MELO ENGENHARIA LTDA                                   </td> <td>-                                     </td> <td>MATRIZ        </td> <td>01/06/1982  </td> <td>Ativa            </td> <td>SEM MOTIVO             </td> <td>03/11/2005           </td> <td>Serviços de engenharia                                      </td> <td>SOCIEDADE EMPRESARIA LIMITADA                               </td> <td>Demais                  </td> <td>RUA         </td> <td>GENERAL JOAQUIM INACIO       </td> <td>136   </td> <td>-                       </td> <td>ILHA DO LEITE  </td> <td>50070270</td> <td>RECIFE        </td> <td>PE  </td> <td>81   </td> <td>34233977  </td> <td>81   </td> <td>34233962  </td> <td>-      </td> <td>-       </td> <td>-             </td> <td>-   </td> <td>mirtes@maiamelo.com.br       </td> <td>S        </td> <td> 342.669.094-20</td> <td>ROGERIO GIGLIO                  </td> <td>SOCIO-ADMINISTRADOR                             </td> <td>15.246.668,00     </td> <td>26200333269</td> <td>-                  </td> <td>-                  </td> <td>-                     </td> <td>-             </td> <td>-                 </td> <td>-                      </td> <td>-             </td> <td>-                  </td> <td>417900            </td> <td>Não fornecido pelo SERPRO</td> <td> 08156424000151</td>\n",
       "        </tr>\n",
       "    </tbody>\n",
       "        <tr>\n",
       "            <td>JOSE RONYELLY ABRANTES SILVA - ME                           </td> <td>-                                     </td> <td>MATRIZ        </td> <td>26/02/2008  </td> <td>Ativa            </td> <td>SEM MOTIVO             </td> <td>26/02/2008           </td> <td>Restaurantes e similares                                    </td> <td>EMPRESARIO (INDIVIDUAL)                                     </td> <td>Micro-Empresa           </td> <td>AVENIDA     </td> <td>ELPIDIO DE ALMEIDA           </td> <td>1581  </td> <td>-                       </td> <td>CATOLE         </td> <td>58410215</td> <td>CAMPINA GRANDE</td> <td>PB  </td> <td>83   </td> <td>33310139  </td> <td>-    </td> <td>-         </td> <td>-      </td> <td>-       </td> <td>-             </td> <td>-   </td> <td>ADNELSONOLIVEIRA@BOL.COM.BR  </td> <td>N        </td> <td> 073.462.814-54</td> <td>JOSE RONYELLY ABRANTES SILVA    </td> <td>EMPRESARIO                                      </td> <td>200.000,00        </td> <td>25101074850</td> <td>01/01/2017         </td> <td>-                  </td> <td>-                     </td> <td>-             </td> <td>-                 </td> <td>-                      </td> <td>-             </td> <td>-                  </td> <td>430151            </td> <td>Não fornecido pelo SERPRO</td> <td> 09384762000103</td>\n",
       "        </tr>\n",
       "    </tbody>\n",
       "        <tr>\n",
       "            <td>ENERGISA PARAIBA - DISTRIBUIDORA DE ENERGIA S.A             </td> <td>ENERGISA                              </td> <td>MATRIZ        </td> <td>24/08/1966  </td> <td>Ativa            </td> <td>SEM MOTIVO             </td> <td>03/11/2005           </td> <td>Distribuição de energia elétrica                            </td> <td>SOCIEDADE ANONIMA ABERTA                                    </td> <td>Demais                  </td> <td>-           </td> <td>BR 230 KM 25                 </td> <td>S/N   </td> <td>-                       </td> <td>CRISTO REDENTOR</td> <td>58071680</td> <td>JOAO PESSOA   </td> <td>PB  </td> <td>83   </td> <td>2151098   </td> <td>-    </td> <td>-         </td> <td>83     </td> <td>2311886 </td> <td>-             </td> <td>-   </td> <td>SAELPADFC@SAELPA.COM.BR      </td> <td>S        </td> <td> 008.534.037-59</td> <td>ANDRE LUIS CABRAL THEOBALD      </td> <td>PRESIDENTE                                      </td> <td>386.515.728,00    </td> <td>25300004827</td> <td>-                  </td> <td>-                  </td> <td>-                     </td> <td>-             </td> <td>-                 </td> <td>-                      </td> <td>-             </td> <td>-                  </td> <td>417900            </td> <td>Não fornecido pelo SERPRO</td> <td> 09095183000140</td>\n",
       "        </tr>\n",
       "    </tbody>\n",
       "        <tr>\n",
       "            <td>PORTO BELO ENGENHARIA E COMERCIO LTDA                       </td> <td>PORTO BELO ENGENHARIA                 </td> <td>MATRIZ        </td> <td>26/06/1987  </td> <td>Ativa            </td> <td>SEM MOTIVO             </td> <td>21/05/2005           </td> <td>Construção de edifícios                                     </td> <td>SOCIEDADE EMPRESARIA LIMITADA                               </td> <td>Demais                  </td> <td>RUA         </td> <td>4                            </td> <td>1400  </td> <td>QUADRA73 LOTE AREA TOTAL</td> <td>SETOR CENTRAL  </td> <td>74025020</td> <td>GOIANIA       </td> <td>GO  </td> <td>62   </td> <td>32193353  </td> <td>62   </td> <td>32783909  </td> <td>61     </td> <td>3474888 </td> <td>-             </td> <td>-   </td> <td>portobelo@nutecnet.com.br    </td> <td>S        </td> <td> 063.760.696-57</td> <td>FABIO DE PAULA NEVES            </td> <td>ADMINISTRADOR                                   </td> <td>42.122.366,00     </td> <td>52202781073</td> <td>-                  </td> <td>-                  </td> <td>2                     </td> <td>03701380000180</td> <td>24/03/2017        </td> <td>1                      </td> <td>21568196000195</td> <td>24/03/2017         </td> <td>120100            </td> <td>Não fornecido pelo SERPRO</td> <td> 03701380000180</td>\n",
       "        </tr>\n",
       "    </tbody>\n",
       "        <tr>\n",
       "            <td>SALINAS EMPREENDIMENTOS E CONSTRUCOES LTDA - ME             </td> <td>SALINAS                               </td> <td>MATRIZ        </td> <td>16/11/1993  </td> <td>Ativa            </td> <td>SEM MOTIVO             </td> <td>30/10/2004           </td> <td>Construção de edifícios                                     </td> <td>SOCIEDADE EMPRESARIA LIMITADA                               </td> <td>Micro-Empresa           </td> <td>RUA         </td> <td>NIVALDO SOARES DE PINHO      </td> <td>78    </td> <td>-                       </td> <td>VENANCIOS      </td> <td>63700000</td> <td>CRATEUS       </td> <td>CE  </td> <td>88   </td> <td>36923599  </td> <td>-    </td> <td>-         </td> <td>-      </td> <td>-       </td> <td>-             </td> <td>-   </td> <td>-                            </td> <td>S        </td> <td> 057.674.223-62</td> <td>FRANCISCO LENNON BARBOSA MARTINS</td> <td>SOCIO-ADMINISTRADOR                             </td> <td>5.000.000,00      </td> <td>23201547031</td> <td>01/07/2007         </td> <td>31/07/2013         </td> <td>-                     </td> <td>-             </td> <td>-                 </td> <td>-                      </td> <td>-             </td> <td>-                  </td> <td>317600            </td> <td>Não fornecido pelo SERPRO</td> <td> 73694788000157</td>\n",
       "        </tr>\n",
       "    </tbody>\n",
       "</table>\n",
       "<p>... (39 rows omitted)</p>"
      ],
      "text/plain": [
       "Nome / Razão Social (no CNPJ)                                | Nome Fantasia (descrição)              | Matriz /Filial | DataAbertura | SituaçãoCadastral | MotivoSituaçãoCadastral | DataSituaçãoCadastral | Atividade Econômica do Estabelecimento                       | Natureza Jurídica (descrição no CNPJ)                        | PorteEmpresa             | TipoEndereço | Endereço (descrição completa) | Número | Complemento              | Bairro          | CEP      | Município      | UF   | DDD 1 | Telefone 1 | DDD 2 | Telefone 2 | DDD Fax | Fax      | CidadeExterior | País | Email                         | TemSócio? | CPFResponsável  | Nome do Responsável              | QualificaçãoResponsável                          | ValorCapitalSocial | NIRE        | DataInclusãoSimples | DataExclusãoSimples | Tipo(OperaçãoSucedida) | CNPJSucedida   | DataEventoSucedida | Tipo(OperaçãoSucessora) | CNPJSucessora  | DataEventoSucessora | Cod OrgãoAduaneiro | Qualificação Tributária   | CNPJ new\n",
       "C B A CONSTRUCOES LTDA - EPP                                 | C B A CONSTRUCOES                      | MATRIZ         | 04/06/2008   | Ativa             | SEM MOTIVO              | 04/06/2008            | Serviços especializados para construção não especificado ... | SOCIEDADE EMPRESARIA LIMITADA                                | Empresa de Pequeno Porte | RUA          | BELTRANDO DE FARIAS CASTRO    | 285    | -                        | CRUZEIRO        | 58415453 | CAMPINA GRANDE | PB   | 83    | 33227294   | -     | -          | -       | -        | -              | -    | ppproma@hotmail.com           | S         |  514.762.664-68 | CAETANO BATISTA DE ALMEIDA       | SOCIO-ADMINISTRADOR                              | 1.500.000,00       | 25200479742 | 01/01/2009          | 31/12/2017          | -                      | -              | -                  | -                       | -              | -                   | 417900             | Não fornecido pelo SERPRO |  09605291000116\n",
       "LINK CARD ADMINISTRADORA DE BENEFICIOS EIRELI                | -                                      | MATRIZ         | 11/05/2010   | Ativa             | SEM MOTIVO              | 11/05/2010            | Atividades de consultoria em gestão empresarial, exceto  ... | EMPRESA INDIVIDUAL DE RESPONSABILIDADE LIMITADA (DE NATU ... | Demais                   | RUA          | RUI BARBOSA                   | 449    | SALA 03                  | CENTRO          | 18290000 | BURI           | SP   | 15    | 35461903   | -     | -          | -       | -        | -              | -    | CONTATO@LINKBENEFICIOS.COM.BR | S         |  310.580.618-01 | MARCELO DE OLIVEIRA LIMA         | TITULAR P.FISICA RESID. OU DOMICILIADO NO BRASIL | 1.250.000,00       | 35600829668 | 11/05/2010          | 30/06/2012          | -                      | -              | -                  | -                       | -              | -                   | 811000             | Não fornecido pelo SERPRO |  12039966000111\n",
       "GRILLO E WERNECK PROJETOS E CONSULTORIA LTDA                 | -                                      | MATRIZ         | 21/05/2004   | Ativa             | SEM MOTIVO              | 21/05/2004            | Serviços de arquitetura                                      | SOCIEDADE EMPRESARIA LIMITADA                                | Empresa de Pequeno Porte | AVENIDA      | DO CONTORNO                   | 4.852  | SALA 704                 | FUNCIONARIOS    | 30110031 | BELO HORIZONTE | MG   | 31    | 32233802   | -     | -          | 31      | 32233802 | -              | -    | -                             | S         |  253.559.106-53 | FLAVIO CAMPOS GRILLO             | SOCIO-ADMINISTRADOR                              | 200.000,00         | 31208916429 | -                   | -                   | -                      | -              | -                  | -                       | -              | -                   | 617700             | Não fornecido pelo SERPRO |  06298743000176\n",
       "EBA - ENGENHARIA BRASILEIRA DE AVALIACOES, ASSESSORIA, G ... | EBA - EMPRESA BRASILEIRA DE AVALIACOES | MATRIZ         | 18/07/2013   | Ativa             | SEM MOTIVO              | 18/07/2013            | Serviços de engenharia                                       | SOCIEDADE EMPRESARIA LIMITADA                                | Micro-Empresa            | AVENIDA      | DOUTOR EDESIO VIEIRA DE MELO  | 1074   | -                        | SUISSA          | 49052240 | ARACAJU        | SE   | 79    | 32228722   | -     | -          | -       | -        | -              | -    | SERVCONTAB_2000@HOTMAIL.COM   | S         |  829.450.555-20 | MEIDE GLAN DOS SANTOS            | SOCIO-ADMINISTRADOR                              | 510.000,00         | 28200543257 | -                   | -                   | -                      | -              | -                  | -                       | -              | -                   | 520100             | Não fornecido pelo SERPRO |  18518276000121\n",
       "AMBIENTE BRASIL ENGENHARIA LTDA                              | -                                      | MATRIZ         | 02/06/2004   | Ativa             | SEM MOTIVO              | 02/06/2004            | Serviços de engenharia                                       | SOCIEDADE EMPRESARIA LIMITADA                                | Empresa de Pequeno Porte | RUA          | MIRAGAIA                      | 209    | -                        | BUTANTA         | 5511020  | SAO PAULO      | SP   | 11    | 30311151   | 11    | 50824562   | 11      | 50847978 | -              | -    | CRCSPP@GMAIL.COM              | S         |  782.974.006-20 | NELSON LOPES CORREA SOBRINHO     | SOCIO-ADMINISTRADOR                              | 2.000.000,00       | 35222137591 | -                   | -                   | -                      | -              | -                  | -                       | -              | -                   | 816500             | Não fornecido pelo SERPRO |  06306458000150\n",
       "MAIA MELO ENGENHARIA LTDA                                    | -                                      | MATRIZ         | 01/06/1982   | Ativa             | SEM MOTIVO              | 03/11/2005            | Serviços de engenharia                                       | SOCIEDADE EMPRESARIA LIMITADA                                | Demais                   | RUA          | GENERAL JOAQUIM INACIO        | 136    | -                        | ILHA DO LEITE   | 50070270 | RECIFE         | PE   | 81    | 34233977   | 81    | 34233962   | -       | -        | -              | -    | mirtes@maiamelo.com.br        | S         |  342.669.094-20 | ROGERIO GIGLIO                   | SOCIO-ADMINISTRADOR                              | 15.246.668,00      | 26200333269 | -                   | -                   | -                      | -              | -                  | -                       | -              | -                   | 417900             | Não fornecido pelo SERPRO |  08156424000151\n",
       "JOSE RONYELLY ABRANTES SILVA - ME                            | -                                      | MATRIZ         | 26/02/2008   | Ativa             | SEM MOTIVO              | 26/02/2008            | Restaurantes e similares                                     | EMPRESARIO (INDIVIDUAL)                                      | Micro-Empresa            | AVENIDA      | ELPIDIO DE ALMEIDA            | 1581   | -                        | CATOLE          | 58410215 | CAMPINA GRANDE | PB   | 83    | 33310139   | -     | -          | -       | -        | -              | -    | ADNELSONOLIVEIRA@BOL.COM.BR   | N         |  073.462.814-54 | JOSE RONYELLY ABRANTES SILVA     | EMPRESARIO                                       | 200.000,00         | 25101074850 | 01/01/2017          | -                   | -                      | -              | -                  | -                       | -              | -                   | 430151             | Não fornecido pelo SERPRO |  09384762000103\n",
       "ENERGISA PARAIBA - DISTRIBUIDORA DE ENERGIA S.A              | ENERGISA                               | MATRIZ         | 24/08/1966   | Ativa             | SEM MOTIVO              | 03/11/2005            | Distribuição de energia elétrica                             | SOCIEDADE ANONIMA ABERTA                                     | Demais                   | -            | BR 230 KM 25                  | S/N    | -                        | CRISTO REDENTOR | 58071680 | JOAO PESSOA    | PB   | 83    | 2151098    | -     | -          | 83      | 2311886  | -              | -    | SAELPADFC@SAELPA.COM.BR       | S         |  008.534.037-59 | ANDRE LUIS CABRAL THEOBALD       | PRESIDENTE                                       | 386.515.728,00     | 25300004827 | -                   | -                   | -                      | -              | -                  | -                       | -              | -                   | 417900             | Não fornecido pelo SERPRO |  09095183000140\n",
       "PORTO BELO ENGENHARIA E COMERCIO LTDA                        | PORTO BELO ENGENHARIA                  | MATRIZ         | 26/06/1987   | Ativa             | SEM MOTIVO              | 21/05/2005            | Construção de edifícios                                      | SOCIEDADE EMPRESARIA LIMITADA                                | Demais                   | RUA          | 4                             | 1400   | QUADRA73 LOTE AREA TOTAL | SETOR CENTRAL   | 74025020 | GOIANIA        | GO   | 62    | 32193353   | 62    | 32783909   | 61      | 3474888  | -              | -    | portobelo@nutecnet.com.br     | S         |  063.760.696-57 | FABIO DE PAULA NEVES             | ADMINISTRADOR                                    | 42.122.366,00      | 52202781073 | -                   | -                   | 2                      | 03701380000180 | 24/03/2017         | 1                       | 21568196000195 | 24/03/2017          | 120100             | Não fornecido pelo SERPRO |  03701380000180\n",
       "SALINAS EMPREENDIMENTOS E CONSTRUCOES LTDA - ME              | SALINAS                                | MATRIZ         | 16/11/1993   | Ativa             | SEM MOTIVO              | 30/10/2004            | Construção de edifícios                                      | SOCIEDADE EMPRESARIA LIMITADA                                | Micro-Empresa            | RUA          | NIVALDO SOARES DE PINHO       | 78     | -                        | VENANCIOS       | 63700000 | CRATEUS        | CE   | 88    | 36923599   | -     | -          | -       | -        | -              | -    | -                             | S         |  057.674.223-62 | FRANCISCO LENNON BARBOSA MARTINS | SOCIO-ADMINISTRADOR                              | 5.000.000,00       | 23201547031 | 01/07/2007          | 31/07/2013          | -                      | -              | -                  | -                       | -              | -                   | 317600             | Não fornecido pelo SERPRO |  73694788000157\n",
       "... (39 rows omitted)"
      ]
     },
     "execution_count": 148,
     "metadata": {},
     "output_type": "execute_result"
    }
   ],
   "source": [
    "tb_empresas"
   ]
  },
  {
   "cell_type": "code",
   "execution_count": 155,
   "metadata": {},
   "outputs": [
    {
     "data": {
      "text/plain": [
       "' 12039966000111'"
      ]
     },
     "execution_count": 155,
     "metadata": {},
     "output_type": "execute_result"
    }
   ],
   "source": [
    "tb_empresas.columns[-1][1]"
   ]
  },
  {
   "cell_type": "code",
   "execution_count": 187,
   "metadata": {},
   "outputs": [
    {
     "data": {
      "text/html": [
       "<table border=\"1\" class=\"dataframe\">\n",
       "    <thead>\n",
       "        <tr>\n",
       "            <th>Nome / Razão Social (no CNPJ)</th> <th>Nome Fantasia (descrição)</th> <th>Matriz /Filial</th> <th>DataAbertura</th> <th>SituaçãoCadastral</th> <th>MotivoSituaçãoCadastral</th> <th>DataSituaçãoCadastral</th> <th>Atividade Econômica do Estabelecimento</th> <th>Natureza Jurídica (descrição no CNPJ)</th> <th>PorteEmpresa</th> <th>TipoEndereço</th> <th>Endereço (descrição completa)</th> <th>Número</th> <th>Complemento</th> <th>Bairro</th> <th>CEP</th> <th>Município</th> <th>UF</th> <th>DDD 1</th> <th>Telefone 1</th> <th>DDD 2</th> <th>Telefone 2</th> <th>DDD Fax</th> <th>Fax</th> <th>CidadeExterior</th> <th>País</th> <th>Email</th> <th>TemSócio?</th> <th>CPFResponsável</th> <th>Nome do Responsável</th> <th>QualificaçãoResponsável</th> <th>ValorCapitalSocial</th> <th>NIRE</th> <th>DataInclusãoSimples</th> <th>DataExclusãoSimples</th> <th>Tipo(OperaçãoSucedida)</th> <th>CNPJSucedida</th> <th>DataEventoSucedida</th> <th>Tipo(OperaçãoSucessora)</th> <th>CNPJSucessora</th> <th>DataEventoSucessora</th> <th>Cod OrgãoAduaneiro</th> <th>Qualificação Tributária</th> <th>CNPJ new</th> <th>CNPJ trim</th> <th>CNPJ num</th>\n",
       "        </tr>\n",
       "    </thead>\n",
       "    <tbody>\n",
       "        <tr>\n",
       "            <td>ALERTA SERVICOS  EIRELI                                     </td> <td>ALERTA SERVICOS                               </td> <td>MATRIZ        </td> <td>08/05/2001  </td> <td>Ativa            </td> <td>SEM MOTIVO             </td> <td>20/08/2005           </td> <td>Locação de mão-de-obra temporária                           </td> <td>EMPRESA INDIVIDUAL DE RESPONSABILIDADE LIMITADA (DE NATU ...</td> <td>Demais                  </td> <td>RUA         </td> <td>ESTELITA CRUZ                   </td> <td>209   </td> <td>-                             </td> <td>ALTO BRANCO            </td> <td>58401470</td> <td>CAMPINA GRANDE       </td> <td>PB  </td> <td>83   </td> <td>33411700  </td> <td>83   </td> <td>33217496  </td> <td>83     </td> <td>33411700</td> <td>-             </td> <td>-   </td> <td>contabilidade@grupalaertasv.com.br       </td> <td>S        </td> <td> 917.577.974-91</td> <td>CRISTIANE DE SOUZA RAMOS                </td> <td>TITULAR P.FISICA RESID. OU DOMICILIADO NO BRASIL</td> <td>700.000,00        </td> <td>25600039839</td> <td>-                  </td> <td>-                  </td> <td>-                     </td> <td>-             </td> <td>-                 </td> <td>-                      </td> <td>-             </td> <td>-                  </td> <td>430151            </td> <td>Não fornecido pelo SERPRO</td> <td> 04427309000113</td> <td>04427309000113</td> <td>4427309000113 </td>\n",
       "        </tr>\n",
       "    </tbody>\n",
       "        <tr>\n",
       "            <td>AMBIENTE BRASIL ENGENHARIA LTDA                             </td> <td>-                                             </td> <td>MATRIZ        </td> <td>02/06/2004  </td> <td>Ativa            </td> <td>SEM MOTIVO             </td> <td>02/06/2004           </td> <td>Serviços de engenharia                                      </td> <td>SOCIEDADE EMPRESARIA LIMITADA                               </td> <td>Empresa de Pequeno Porte</td> <td>RUA         </td> <td>MIRAGAIA                        </td> <td>209   </td> <td>-                             </td> <td>BUTANTA                </td> <td>5511020 </td> <td>SAO PAULO            </td> <td>SP  </td> <td>11   </td> <td>30311151  </td> <td>11   </td> <td>50824562  </td> <td>11     </td> <td>50847978</td> <td>-             </td> <td>-   </td> <td>CRCSPP@GMAIL.COM                         </td> <td>S        </td> <td> 782.974.006-20</td> <td>NELSON LOPES CORREA SOBRINHO            </td> <td>SOCIO-ADMINISTRADOR                             </td> <td>2.000.000,00      </td> <td>35222137591</td> <td>-                  </td> <td>-                  </td> <td>-                     </td> <td>-             </td> <td>-                 </td> <td>-                      </td> <td>-             </td> <td>-                  </td> <td>816500            </td> <td>Não fornecido pelo SERPRO</td> <td> 06306458000150</td> <td>06306458000150</td> <td>6306458000150 </td>\n",
       "        </tr>\n",
       "    </tbody>\n",
       "        <tr>\n",
       "            <td>BRASIFORT SERVICOS DE VIGILANCIA E TRANSPORTES DE VALORE ...</td> <td>BRASIFORT                                     </td> <td>MATRIZ        </td> <td>24/05/2004  </td> <td>Ativa            </td> <td>SEM MOTIVO             </td> <td>24/05/2004           </td> <td>Atividades de vigilância e segurança privada                </td> <td>EMPRESA INDIVIDUAL DE RESPONSABILIDADE LIMITADA (DE NATU ...</td> <td>Demais                  </td> <td>RUA         </td> <td>ALMIRANTE BARROSO               </td> <td>963   </td> <td>-                             </td> <td>TORRE                  </td> <td>58040220</td> <td>JOAO PESSOA          </td> <td>PB  </td> <td>-    </td> <td>-         </td> <td>-    </td> <td>-         </td> <td>-      </td> <td>-       </td> <td>-             </td> <td>-   </td> <td>-                                        </td> <td>S        </td> <td> 067.983.174-64</td> <td>THAMARA HELENA ARAUJO RAMOS             </td> <td>TITULAR P.FISICA RESID. OU DOMICILIADO NO BRASIL</td> <td>555.000,00        </td> <td>25600050590</td> <td>-                  </td> <td>-                  </td> <td>-                     </td> <td>-             </td> <td>-                 </td> <td>-                      </td> <td>-             </td> <td>-                  </td> <td>430151            </td> <td>Não fornecido pelo SERPRO</td> <td> 06263849000134</td> <td>06263849000134</td> <td>6263849000134 </td>\n",
       "        </tr>\n",
       "    </tbody>\n",
       "        <tr>\n",
       "            <td>C B A CONSTRUCOES LTDA - EPP                                </td> <td>C B A CONSTRUCOES                             </td> <td>MATRIZ        </td> <td>04/06/2008  </td> <td>Ativa            </td> <td>SEM MOTIVO             </td> <td>04/06/2008           </td> <td>Serviços especializados para construção não especificado ...</td> <td>SOCIEDADE EMPRESARIA LIMITADA                               </td> <td>Empresa de Pequeno Porte</td> <td>RUA         </td> <td>BELTRANDO DE FARIAS CASTRO      </td> <td>285   </td> <td>-                             </td> <td>CRUZEIRO               </td> <td>58415453</td> <td>CAMPINA GRANDE       </td> <td>PB  </td> <td>83   </td> <td>33227294  </td> <td>-    </td> <td>-         </td> <td>-      </td> <td>-       </td> <td>-             </td> <td>-   </td> <td>ppproma@hotmail.com                      </td> <td>S        </td> <td> 514.762.664-68</td> <td>CAETANO BATISTA DE ALMEIDA              </td> <td>SOCIO-ADMINISTRADOR                             </td> <td>1.500.000,00      </td> <td>25200479742</td> <td>01/01/2009         </td> <td>31/12/2017         </td> <td>-                     </td> <td>-             </td> <td>-                 </td> <td>-                      </td> <td>-             </td> <td>-                  </td> <td>417900            </td> <td>Não fornecido pelo SERPRO</td> <td> 09605291000116</td> <td>09605291000116</td> <td>9605291000116 </td>\n",
       "        </tr>\n",
       "    </tbody>\n",
       "        <tr>\n",
       "            <td>CLAREAR COMERCIO E SERVICOS DE MAO DE OBRA - EIRELI         </td> <td>CLAREAR COMERCIO E SERVICO DE MAO DE OBRA LTDA</td> <td>MATRIZ        </td> <td>04/06/1998  </td> <td>Ativa            </td> <td>SEM MOTIVO             </td> <td>03/11/2005           </td> <td>Locação de mão-de-obra temporária                           </td> <td>EMPRESA INDIVIDUAL DE RESPONSABILIDADE LIMITADA (DE NATU ...</td> <td>Micro-Empresa           </td> <td>RUA         </td> <td>SAO JOSE                        </td> <td>1602  </td> <td>SALA: 109;                    </td> <td>LAGOA SECA             </td> <td>59031630</td> <td>NATAL                </td> <td>RN  </td> <td>84   </td> <td>20101954  </td> <td>-    </td> <td>-         </td> <td>84     </td> <td>32343329</td> <td>-             </td> <td>-   </td> <td>ACERTCONTABIL@GMAIL.COM                  </td> <td>S        </td> <td> 938.755.334-53</td> <td>JONAS ALVES DA SILVA                    </td> <td>TITULAR P.FISICA RESID. OU DOMICILIADO NO BRASIL</td> <td>300.000,00        </td> <td>24600011283</td> <td>-                  </td> <td>-                  </td> <td>-                     </td> <td>-             </td> <td>-                 </td> <td>-                      </td> <td>-             </td> <td>-                  </td> <td>417900            </td> <td>Não fornecido pelo SERPRO</td> <td> 02567270000104</td> <td>02567270000104</td> <td>2567270000104 </td>\n",
       "        </tr>\n",
       "    </tbody>\n",
       "        <tr>\n",
       "            <td>COMBATE SEGURANCA DE VALORES EIRELI                         </td> <td>-                                             </td> <td>MATRIZ        </td> <td>16/01/1998  </td> <td>Ativa            </td> <td>SEM MOTIVO             </td> <td>03/11/2005           </td> <td>Atividades de vigilância e segurança privada                </td> <td>EMPRESA INDIVIDUAL DE RESPONSABILIDADE LIMITADA (DE NATU ...</td> <td>Demais                  </td> <td>AVENIDA     </td> <td>CAETANO FILGUEIRAS              </td> <td>939   </td> <td>-                             </td> <td>TORRE                  </td> <td>58040000</td> <td>JOAO PESSOA          </td> <td>PB  </td> <td>-    </td> <td>-         </td> <td>-    </td> <td>-         </td> <td>-      </td> <td>-       </td> <td>-             </td> <td>-   </td> <td>-                                        </td> <td>S        </td> <td> 024.259.114-05</td> <td>BRUNO BRAGA FERNANDES                   </td> <td>TITULAR P.FISICA RESID. OU DOMICILIADO NO BRASIL</td> <td>300.000,00        </td> <td>25600021808</td> <td>-                  </td> <td>-                  </td> <td>-                     </td> <td>-             </td> <td>-                 </td> <td>-                      </td> <td>-             </td> <td>-                  </td> <td>430151            </td> <td>Não fornecido pelo SERPRO</td> <td> 02322136000143</td> <td>02322136000143</td> <td>2322136000143 </td>\n",
       "        </tr>\n",
       "    </tbody>\n",
       "        <tr>\n",
       "            <td>CONSERV - CONSTRUCOES E SERVICOS LTDA                       </td> <td>-                                             </td> <td>MATRIZ        </td> <td>12/08/2002  </td> <td>Ativa            </td> <td>SEM MOTIVO             </td> <td>12/08/2002           </td> <td>Construção de edifícios                                     </td> <td>SOCIEDADE EMPRESARIA LIMITADA                               </td> <td>Demais                  </td> <td>RUA         </td> <td>JOAO NAVARRO FILHO              </td> <td>157   </td> <td>-                             </td> <td>JARDIM OCEANIA         </td> <td>58037308</td> <td>JOAO PESSOA          </td> <td>PB  </td> <td>83   </td> <td>30155110  </td> <td>-    </td> <td>-         </td> <td>83     </td> <td>36212136</td> <td>-             </td> <td>-   </td> <td>CONSERV@CONSERVCONSTRUCOES.COM.BR        </td> <td>S        </td> <td> 051.244.964-36</td> <td>HERBERT GOMES DOS SANTOS                </td> <td>SOCIO-ADMINISTRADOR                             </td> <td>6.300.000,00      </td> <td>25200394372</td> <td>-                  </td> <td>-                  </td> <td>-                     </td> <td>-             </td> <td>-                 </td> <td>-                      </td> <td>-             </td> <td>-                  </td> <td>430151            </td> <td>Não fornecido pelo SERPRO</td> <td> 05219643000144</td> <td>05219643000144</td> <td>5219643000144 </td>\n",
       "        </tr>\n",
       "    </tbody>\n",
       "        <tr>\n",
       "            <td>CONSTRAL CONSTRUTORA E CONSULTORIA SANTO ANTONIO LTDA       </td> <td>-                                             </td> <td>MATRIZ        </td> <td>09/06/1986  </td> <td>Ativa            </td> <td>SEM MOTIVO             </td> <td>07/06/2001           </td> <td>Construção de edifícios                                     </td> <td>SOCIEDADE EMPRESARIA LIMITADA                               </td> <td>Demais                  </td> <td>VIA         </td> <td>LOCAL 15                        </td> <td>66    </td> <td>-                             </td> <td>LOTEAMENTO MORADA NOVA </td> <td>58108502</td> <td>CABEDELO             </td> <td>PB  </td> <td>83   </td> <td>32470449  </td> <td>83   </td> <td>32459309  </td> <td>83     </td> <td>32470449</td> <td>-             </td> <td>-   </td> <td>contabilidadeconstral@hotmail.com        </td> <td>S        </td> <td> 225.819.874-72</td> <td>FERNANDO FLEURY WANDERLEY SOARES        </td> <td>SOCIO-ADMINISTRADOR                             </td> <td>2.300.000,00      </td> <td>25200132301</td> <td>-                  </td> <td>-                  </td> <td>-                     </td> <td>-             </td> <td>-                 </td> <td>-                      </td> <td>-             </td> <td>-                  </td> <td>417900            </td> <td>Não fornecido pelo SERPRO</td> <td> 10758902000145</td> <td>10758902000145</td> <td>10758902000145</td>\n",
       "        </tr>\n",
       "    </tbody>\n",
       "        <tr>\n",
       "            <td>CONSTRUSEL - CONSTRUCOES E SERVICOS LTDA.                   </td> <td>CONSTRUSEL                                    </td> <td>MATRIZ        </td> <td>20/01/1998  </td> <td>Ativa            </td> <td>SEM MOTIVO             </td> <td>03/11/2005           </td> <td>Construção de edifícios                                     </td> <td>SOCIEDADE EMPRESARIA LIMITADA                               </td> <td>Demais                  </td> <td>RUA         </td> <td>JOAQUIM BANDEIRA                </td> <td>280   </td> <td>-                             </td> <td>IMBIRIBEIRA            </td> <td>51160290</td> <td>RECIFE               </td> <td>PE  </td> <td>81   </td> <td>33391708  </td> <td>-    </td> <td>-         </td> <td>81     </td> <td>34281709</td> <td>-             </td> <td>-   </td> <td>mauriliorego@terra.com.br                </td> <td>S        </td> <td> 032.617.144-41</td> <td>PAULO CESAR DE CASTRO LIMA              </td> <td>SOCIO-ADMINISTRADOR                             </td> <td>2.500.000,00      </td> <td>26201084351</td> <td>-                  </td> <td>-                  </td> <td>-                     </td> <td>-             </td> <td>-                 </td> <td>-                      </td> <td>-             </td> <td>-                  </td> <td>415100            </td> <td>Não fornecido pelo SERPRO</td> <td> 02350293000162</td> <td>02350293000162</td> <td>2350293000162 </td>\n",
       "        </tr>\n",
       "    </tbody>\n",
       "        <tr>\n",
       "            <td>CONSTRUTORA ABSOLUTE LTDA - ME                              </td> <td>CONSTRUTORA ABSOLUTE                          </td> <td>MATRIZ        </td> <td>27/04/2009  </td> <td>Ativa            </td> <td>SEM MOTIVO             </td> <td>27/04/2009           </td> <td>Construção de edifícios                                     </td> <td>SOCIEDADE EMPRESARIA LIMITADA                               </td> <td>Micro-Empresa           </td> <td>RUA         </td> <td>LENISE ALVES DE MEDEIROS        </td> <td>115   </td> <td>-                             </td> <td>SANDRA CAVALCANTE      </td> <td>58410832</td> <td>CAMPINA GRANDE       </td> <td>PB  </td> <td>83   </td> <td>33214822  </td> <td>-    </td> <td>-         </td> <td>-      </td> <td>-       </td> <td>-             </td> <td>-   </td> <td>-                                        </td> <td>S        </td> <td> 964.263.734-00</td> <td>WALDEBERTO LEITE DE OLIVEIRA            </td> <td>SOCIO-ADMINISTRADOR                             </td> <td>1.200.000,00      </td> <td>25200813766</td> <td>01/01/2015         </td> <td>31/12/2017         </td> <td>-                     </td> <td>-             </td> <td>-                 </td> <td>-                      </td> <td>-             </td> <td>-                  </td> <td>417900            </td> <td>Não fornecido pelo SERPRO</td> <td> 10785333000127</td> <td>10785333000127</td> <td>10785333000127</td>\n",
       "        </tr>\n",
       "    </tbody>\n",
       "        <tr>\n",
       "            <td>CONSTRUTORA SOUZA REIS LTDA                                 </td> <td>SOUZA REIS                                    </td> <td>MATRIZ        </td> <td>08/05/2008  </td> <td>Ativa            </td> <td>SEM MOTIVO             </td> <td>08/05/2008           </td> <td>Construção de rodovias e ferrovias                          </td> <td>SOCIEDADE EMPRESARIA LIMITADA                               </td> <td>Demais                  </td> <td>AVENIDA     </td> <td>DOM LUIS                        </td> <td>300   </td> <td>SALA: 925;                    </td> <td>ALDEOTA                </td> <td>60160196</td> <td>FORTALEZA            </td> <td>CE  </td> <td>85   </td> <td>30329260  </td> <td>-    </td> <td>-         </td> <td>85     </td> <td>35214519</td> <td>-             </td> <td>-   </td> <td>CONTABILIDADE@CONSTRUTORASOUZAREIS.COM.BR</td> <td>S        </td> <td> 127.950.894-91</td> <td>ALUIZIO ALVES DE SOUZA                  </td> <td>SOCIO-ADMINISTRADOR                             </td> <td>20.000.000,00     </td> <td>23201195282</td> <td>-                  </td> <td>-                  </td> <td>-                     </td> <td>-             </td> <td>-                 </td> <td>-                      </td> <td>-             </td> <td>-                  </td> <td>317900            </td> <td>Não fornecido pelo SERPRO</td> <td> 09539563000127</td> <td>09539563000127</td> <td>9539563000127 </td>\n",
       "        </tr>\n",
       "    </tbody>\n",
       "        <tr>\n",
       "            <td>CONTINUA SISTEMAS DE SERVICOS LTDA - EPP                    </td> <td>CONTINUA                                      </td> <td>MATRIZ        </td> <td>28/05/2013  </td> <td>Ativa            </td> <td>SEM MOTIVO             </td> <td>28/05/2013           </td> <td>Atividades de limpeza não especificadas anteriormente       </td> <td>SOCIEDADE EMPRESARIA LIMITADA                               </td> <td>Empresa de Pequeno Porte</td> <td>RUA         </td> <td>AURELIO BRITO                   </td> <td>90    </td> <td>LOTE 06 E 07 QUADRA B         </td> <td>ITINGA                 </td> <td>42700000</td> <td>LAURO DE FREITAS     </td> <td>BA  </td> <td>71   </td> <td>3082320   </td> <td>71   </td> <td>30823220  </td> <td>71     </td> <td>30823220</td> <td>-             </td> <td>-   </td> <td>sponsorcontabil@gmail.com                </td> <td>S        </td> <td> 888.227.704-63</td> <td>GUTEMBERG BONIFACIO DA COSTA DUPLAT NETO</td> <td>SOCIO-ADMINISTRADOR                             </td> <td>2.000.000,00      </td> <td>29203930198</td> <td>28/05/2013         </td> <td>30/11/2013         </td> <td>-                     </td> <td>-             </td> <td>-                 </td> <td>-                      </td> <td>-             </td> <td>-                  </td> <td>517600            </td> <td>Não fornecido pelo SERPRO</td> <td> 18206476000149</td> <td>18206476000149</td> <td>18206476000149</td>\n",
       "        </tr>\n",
       "    </tbody>\n",
       "        <tr>\n",
       "            <td>D & L SERVICOS DE APOIO ADMINISTRATIVO LTDA                 </td> <td>D & L SERVICOS                                </td> <td>MATRIZ        </td> <td>25/10/2007  </td> <td>Ativa            </td> <td>SEM MOTIVO             </td> <td>25/10/2007           </td> <td>Serviços combinados de escritório e apoio administrativo    </td> <td>SOCIEDADE EMPRESARIA LIMITADA                               </td> <td>Demais                  </td> <td>RUA         </td> <td>TIBURCIO CAVALCANTE             </td> <td>2902  </td> <td>-                             </td> <td>DIONISIO TORRES        </td> <td>60125101</td> <td>FORTALEZA            </td> <td>CE  </td> <td>85   </td> <td>32576248  </td> <td>85   </td> <td>32524754  </td> <td>85     </td> <td>32579676</td> <td>-             </td> <td>-   </td> <td>-                                        </td> <td>S        </td> <td> 002.518.364-87</td> <td>DECIO PEREIRA                           </td> <td>SOCIO-ADMINISTRADOR                             </td> <td>1.200.000,00      </td> <td>23201168561</td> <td>01/01/2008         </td> <td>30/09/2009         </td> <td>-                     </td> <td>-             </td> <td>-                 </td> <td>-                      </td> <td>-             </td> <td>-                  </td> <td>317600            </td> <td>Não fornecido pelo SERPRO</td> <td> 09172237000124</td> <td>09172237000124</td> <td>9172237000124 </td>\n",
       "        </tr>\n",
       "    </tbody>\n",
       "        <tr>\n",
       "            <td>DIAGONAL SERVICOS PROFISSIONAIS EIRELI - ME                 </td> <td>LIMPTEK SERVICOS                              </td> <td>MATRIZ        </td> <td>21/01/2005  </td> <td>Ativa            </td> <td>SEM MOTIVO             </td> <td>21/01/2005           </td> <td>Limpeza em prédios e em domicílios                          </td> <td>EMPRESA INDIVIDUAL DE RESPONSABILIDADE LIMITADA (DE NATU ...</td> <td>Micro-Empresa           </td> <td>AVENIDA     </td> <td>JOSE LEON                       </td> <td>2030  </td> <td>-                             </td> <td>CIDADE DOS FUNCIONARIOS</td> <td>60822676</td> <td>FORTALEZA            </td> <td>CE  </td> <td>85   </td> <td>30850917  </td> <td>-    </td> <td>-         </td> <td>-      </td> <td>-       </td> <td>-             </td> <td>-   </td> <td>ADM@GRUPODIAGONAL.COM.BR                 </td> <td>S        </td> <td> 346.272.193-34</td> <td>DEMOCRITO XAVIER FIDELIS                </td> <td>TITULAR P.FISICA RESID. OU DOMICILIADO NO BRASIL</td> <td>100.000,00        </td> <td>23600124192</td> <td>01/07/2007         </td> <td>31/12/2015         </td> <td>-                     </td> <td>-             </td> <td>-                 </td> <td>-                      </td> <td>-             </td> <td>-                  </td> <td>317600            </td> <td>Não fornecido pelo SERPRO</td> <td> 07187088000141</td> <td>07187088000141</td> <td>7187088000141 </td>\n",
       "        </tr>\n",
       "    </tbody>\n",
       "        <tr>\n",
       "            <td>EBA - ENGENHARIA BRASILEIRA DE AVALIACOES, ASSESSORIA, G ...</td> <td>EBA - EMPRESA BRASILEIRA DE AVALIACOES        </td> <td>MATRIZ        </td> <td>18/07/2013  </td> <td>Ativa            </td> <td>SEM MOTIVO             </td> <td>18/07/2013           </td> <td>Serviços de engenharia                                      </td> <td>SOCIEDADE EMPRESARIA LIMITADA                               </td> <td>Micro-Empresa           </td> <td>AVENIDA     </td> <td>DOUTOR EDESIO VIEIRA DE MELO    </td> <td>1074  </td> <td>-                             </td> <td>SUISSA                 </td> <td>49052240</td> <td>ARACAJU              </td> <td>SE  </td> <td>79   </td> <td>32228722  </td> <td>-    </td> <td>-         </td> <td>-      </td> <td>-       </td> <td>-             </td> <td>-   </td> <td>SERVCONTAB_2000@HOTMAIL.COM              </td> <td>S        </td> <td> 829.450.555-20</td> <td>MEIDE GLAN DOS SANTOS                   </td> <td>SOCIO-ADMINISTRADOR                             </td> <td>510.000,00        </td> <td>28200543257</td> <td>-                  </td> <td>-                  </td> <td>-                     </td> <td>-             </td> <td>-                 </td> <td>-                      </td> <td>-             </td> <td>-                  </td> <td>520100            </td> <td>Não fornecido pelo SERPRO</td> <td> 18518276000121</td> <td>18518276000121</td> <td>18518276000121</td>\n",
       "        </tr>\n",
       "    </tbody>\n",
       "        <tr>\n",
       "            <td>ECO LATINA PARTICIPACOES EMPREENDIMENTOS EIRELI - EPP       </td> <td>LATINA                                        </td> <td>MATRIZ        </td> <td>02/06/2009  </td> <td>Ativa            </td> <td>SEM MOTIVO             </td> <td>02/06/2009           </td> <td>Construção de edifícios                                     </td> <td>EMPRESA INDIVIDUAL DE RESPONSABILIDADE LIMITADA (DE NATU ...</td> <td>Empresa de Pequeno Porte</td> <td>AVENIDA     </td> <td>SINESIO GUIMARAES               </td> <td>583   </td> <td>CASA;                         </td> <td>TORRE                  </td> <td>58040400</td> <td>JOAO PESSOA          </td> <td>PB  </td> <td>83   </td> <td>35081028  </td> <td>-    </td> <td>-         </td> <td>-      </td> <td>-       </td> <td>-             </td> <td>-   </td> <td>ECOLATINAPARAIBA1@HTOMAIL.COM            </td> <td>S        </td> <td> 012.240.684-24</td> <td>PAULO FERNANDO GONCALVES CUNHA          </td> <td>TITULAR P.FISICA RESID. OU DOMICILIADO NO BRASIL</td> <td>1.800.000,00      </td> <td>25600005128</td> <td>-                  </td> <td>-                  </td> <td>-                     </td> <td>-             </td> <td>-                 </td> <td>-                      </td> <td>-             </td> <td>-                  </td> <td>430151            </td> <td>Não fornecido pelo SERPRO</td> <td> 10868103000121</td> <td>10868103000121</td> <td>10868103000121</td>\n",
       "        </tr>\n",
       "    </tbody>\n",
       "        <tr>\n",
       "            <td>ECOL ENGENHARIA E CONSTRUCOES LTDA                          </td> <td>-                                             </td> <td>MATRIZ        </td> <td>11/03/1996  </td> <td>Ativa            </td> <td>SEM MOTIVO             </td> <td>08/01/2005           </td> <td>Construção de edifícios                                     </td> <td>SOCIEDADE EMPRESARIA LIMITADA                               </td> <td>Micro-Empresa           </td> <td>RUA         </td> <td>MARIA VIEIRA CESAR              </td> <td>180   </td> <td>-                             </td> <td>JARDIM  TAVARES        </td> <td>58402037</td> <td>CAMPINA GRANDE       </td> <td>PB  </td> <td>83   </td> <td>33216980  </td> <td>-    </td> <td>-         </td> <td>-      </td> <td>-       </td> <td>-             </td> <td>-   </td> <td>-                                        </td> <td>S        </td> <td> 058.160.974-31</td> <td>MIGUEL FIGUEIREDO MAIA                  </td> <td>SOCIO-ADMINISTRADOR                             </td> <td>1.500.000,00      </td> <td>25200287215</td> <td>-                  </td> <td>-                  </td> <td>-                     </td> <td>-             </td> <td>-                 </td> <td>-                      </td> <td>-             </td> <td>-                  </td> <td>417900            </td> <td>Não fornecido pelo SERPRO</td> <td> 01084111000196</td> <td>01084111000196</td> <td>1084111000196 </td>\n",
       "        </tr>\n",
       "    </tbody>\n",
       "        <tr>\n",
       "            <td>ECOPORT SERVICOS LTDA - EPP                                 </td> <td>ECOPORT SERVICOS DE ENGENHARIA E TERCERIZACAO </td> <td>MATRIZ        </td> <td>09/04/2014  </td> <td>Ativa            </td> <td>SEM MOTIVO             </td> <td>09/04/2014           </td> <td>Outras obras de engenharia civil não especificadas anter ...</td> <td>SOCIEDADE EMPRESARIA LIMITADA                               </td> <td>Empresa de Pequeno Porte</td> <td>RUA         </td> <td>DOUTOR MANOEL LOPES DE CARVALHO </td> <td>415   </td> <td>SALA: 104;                    </td> <td>ERNESTO GEISEL         </td> <td>58075427</td> <td>JOAO PESSOA          </td> <td>PB  </td> <td>83   </td> <td>91117535  </td> <td>83   </td> <td>35071370  </td> <td>-      </td> <td>-       </td> <td>-             </td> <td>-   </td> <td>IAGOHAOLIVEIRA@GMAIL.COM                 </td> <td>S        </td> <td> 057.230.024-73</td> <td>IAGO HERIQUE ALVES DE OLIVEIRA          </td> <td>SOCIO-ADMINISTRADOR                             </td> <td>200.000,00        </td> <td>25200627938</td> <td>01/01/2015         </td> <td>-                  </td> <td>-                     </td> <td>-             </td> <td>-                 </td> <td>-                      </td> <td>-             </td> <td>-                  </td> <td>430151            </td> <td>Não fornecido pelo SERPRO</td> <td> 20051756000177</td> <td>20051756000177</td> <td>20051756000177</td>\n",
       "        </tr>\n",
       "    </tbody>\n",
       "        <tr>\n",
       "            <td>EMPRESA BRASILEIRA DE CORREIOS E TELEGRAFOS                 </td> <td>SUP ESTADUAL DE OPERACOES PB                  </td> <td>FILIAL        </td> <td>13/02/1970  </td> <td>Ativa            </td> <td>SEM MOTIVO             </td> <td>03/11/2005           </td> <td>Atividades do Correio Nacional                              </td> <td>EMPRESA PUBLICA                                             </td> <td>Demais                  </td> <td>-           </td> <td>BR 230 , KM 24                  </td> <td>S/N   </td> <td>-                             </td> <td>CRISTO REDENTOR        </td> <td>58071900</td> <td>JOAO PESSOA          </td> <td>PB  </td> <td>83   </td> <td>32163632  </td> <td>-    </td> <td>-         </td> <td>83     </td> <td>2163558 </td> <td>-             </td> <td>-   </td> <td>PBGABDR@CORREIOS.COM.BR                  </td> <td>N        </td> <td> 048.890.978-30</td> <td>GUILHERME CAMPOS JUNIOR                 </td> <td>PRESIDENTE                                      </td> <td>0,00              </td> <td>25900066009</td> <td>-                  </td> <td>-                  </td> <td>-                     </td> <td>-             </td> <td>-                 </td> <td>-                      </td> <td>-             </td> <td>-                  </td> <td>417900            </td> <td>Não fornecido pelo SERPRO</td> <td> 34028316001932</td> <td>34028316001932</td> <td>34028316001932</td>\n",
       "        </tr>\n",
       "    </tbody>\n",
       "        <tr>\n",
       "            <td>ENERGISA PARAIBA - DISTRIBUIDORA DE ENERGIA S.A             </td> <td>ENERGISA                                      </td> <td>MATRIZ        </td> <td>24/08/1966  </td> <td>Ativa            </td> <td>SEM MOTIVO             </td> <td>03/11/2005           </td> <td>Distribuição de energia elétrica                            </td> <td>SOCIEDADE ANONIMA ABERTA                                    </td> <td>Demais                  </td> <td>-           </td> <td>BR 230 KM 25                    </td> <td>S/N   </td> <td>-                             </td> <td>CRISTO REDENTOR        </td> <td>58071680</td> <td>JOAO PESSOA          </td> <td>PB  </td> <td>83   </td> <td>2151098   </td> <td>-    </td> <td>-         </td> <td>83     </td> <td>2311886 </td> <td>-             </td> <td>-   </td> <td>SAELPADFC@SAELPA.COM.BR                  </td> <td>S        </td> <td> 008.534.037-59</td> <td>ANDRE LUIS CABRAL THEOBALD              </td> <td>PRESIDENTE                                      </td> <td>386.515.728,00    </td> <td>25300004827</td> <td>-                  </td> <td>-                  </td> <td>-                     </td> <td>-             </td> <td>-                 </td> <td>-                      </td> <td>-             </td> <td>-                  </td> <td>417900            </td> <td>Não fornecido pelo SERPRO</td> <td> 09095183000140</td> <td>09095183000140</td> <td>9095183000140 </td>\n",
       "        </tr>\n",
       "    </tbody>\n",
       "        <tr>\n",
       "            <td>FORCA ALERTA SEGURANCA E VIGILANCIA PATRIMONIAL LTDA        </td> <td>FORCA ALERTA                                  </td> <td>MATRIZ        </td> <td>31/10/2008  </td> <td>Ativa            </td> <td>SEM MOTIVO             </td> <td>31/10/2008           </td> <td>Atividades de vigilância e segurança privada                </td> <td>SOCIEDADE EMPRESARIA LIMITADA                               </td> <td>Demais                  </td> <td>RUA         </td> <td>ESTELITA CRUZ                   </td> <td>221   </td> <td>-                             </td> <td>ALTO BRANCO            </td> <td>58401470</td> <td>CAMPINA GRANDE       </td> <td>PB  </td> <td>83   </td> <td>33411700  </td> <td>-    </td> <td>-         </td> <td>-      </td> <td>-       </td> <td>-             </td> <td>-   </td> <td>-                                        </td> <td>S        </td> <td> 024.095.094-10</td> <td>SHIGEAKI MARACAJA RAMOS                 </td> <td>SOCIO-ADMINISTRADOR                             </td> <td>110.000,00        </td> <td>25200488628</td> <td>31/10/2008         </td> <td>31/12/2010         </td> <td>-                     </td> <td>-             </td> <td>-                 </td> <td>-                      </td> <td>-             </td> <td>-                  </td> <td>430151            </td> <td>Não fornecido pelo SERPRO</td> <td> 10446347000116</td> <td>10446347000116</td> <td>10446347000116</td>\n",
       "        </tr>\n",
       "    </tbody>\n",
       "        <tr>\n",
       "            <td>GRAN FORTE SEGURANCA PRIVADA LTDA - EPP                     </td> <td>-                                             </td> <td>MATRIZ        </td> <td>24/03/2010  </td> <td>Ativa            </td> <td>SEM MOTIVO             </td> <td>24/03/2010           </td> <td>Atividades de vigilância e segurança privada                </td> <td>SOCIEDADE EMPRESARIA LIMITADA                               </td> <td>Empresa de Pequeno Porte</td> <td>RUA         </td> <td>BENEDITO MOTA                   </td> <td>975   </td> <td>-                             </td> <td>ALTO BRANCO            </td> <td>58401718</td> <td>CAMPINA GRANDE       </td> <td>PB  </td> <td>83   </td> <td>88848079  </td> <td>-    </td> <td>-         </td> <td>-      </td> <td>-       </td> <td>-             </td> <td>-   </td> <td>-                                        </td> <td>S        </td> <td> 872.765.934-87</td> <td>GEORGE BEZERRA DE ARAUJO                </td> <td>SOCIO-ADMINISTRADOR                             </td> <td>220.000,00        </td> <td>25200520297</td> <td>24/03/2010         </td> <td>31/12/2014         </td> <td>-                     </td> <td>-             </td> <td>-                 </td> <td>-                      </td> <td>-             </td> <td>-                  </td> <td>430151            </td> <td>Não fornecido pelo SERPRO</td> <td> 11730274000152</td> <td>11730274000152</td> <td>11730274000152</td>\n",
       "        </tr>\n",
       "    </tbody>\n",
       "        <tr>\n",
       "            <td>GRILLO E WERNECK PROJETOS E CONSULTORIA LTDA                </td> <td>-                                             </td> <td>MATRIZ        </td> <td>21/05/2004  </td> <td>Ativa            </td> <td>SEM MOTIVO             </td> <td>21/05/2004           </td> <td>Serviços de arquitetura                                     </td> <td>SOCIEDADE EMPRESARIA LIMITADA                               </td> <td>Empresa de Pequeno Porte</td> <td>AVENIDA     </td> <td>DO CONTORNO                     </td> <td>4.852 </td> <td>SALA 704                      </td> <td>FUNCIONARIOS           </td> <td>30110031</td> <td>BELO HORIZONTE       </td> <td>MG  </td> <td>31   </td> <td>32233802  </td> <td>-    </td> <td>-         </td> <td>31     </td> <td>32233802</td> <td>-             </td> <td>-   </td> <td>-                                        </td> <td>S        </td> <td> 253.559.106-53</td> <td>FLAVIO CAMPOS GRILLO                    </td> <td>SOCIO-ADMINISTRADOR                             </td> <td>200.000,00        </td> <td>31208916429</td> <td>-                  </td> <td>-                  </td> <td>-                     </td> <td>-             </td> <td>-                 </td> <td>-                      </td> <td>-             </td> <td>-                  </td> <td>617700            </td> <td>Não fornecido pelo SERPRO</td> <td> 06298743000176</td> <td>06298743000176</td> <td>6298743000176 </td>\n",
       "        </tr>\n",
       "    </tbody>\n",
       "        <tr>\n",
       "            <td>HARPIA CONSTRUCAO, COMERCIO E SERVICOS EIRELI - EPP         </td> <td>HARPIA CONSTRUCAO, COMERCIO E SERVICOS        </td> <td>MATRIZ        </td> <td>20/07/2010  </td> <td>Ativa            </td> <td>SEM MOTIVO             </td> <td>20/07/2010           </td> <td>Construção de edifícios                                     </td> <td>EMPRESA INDIVIDUAL DE RESPONSABILIDADE LIMITADA (DE NATU ...</td> <td>Empresa de Pequeno Porte</td> <td>RUA         </td> <td>BRIGADEIRO ANTONIO DE SAMPAIO   </td> <td>596   </td> <td>SALA B                        </td> <td>CIDADE UNIVERSITARIA   </td> <td>50950005</td> <td>RECIFE               </td> <td>PE  </td> <td>81   </td> <td>34532548  </td> <td>-    </td> <td>-         </td> <td>-      </td> <td>-       </td> <td>-             </td> <td>-   </td> <td>-                                        </td> <td>S        </td> <td> 601.456.256-72</td> <td>MARCO AURELIO DA SILVA ANDRIANI         </td> <td>TITULAR P.FISICA RESID. OU DOMICILIADO NO BRASIL</td> <td>1.500.000,00      </td> <td>26600003835</td> <td>20/07/2010         </td> <td>31/03/2016         </td> <td>-                     </td> <td>-             </td> <td>-                 </td> <td>-                      </td> <td>-             </td> <td>-                  </td> <td>415100            </td> <td>Não fornecido pelo SERPRO</td> <td> 12272426000183</td> <td>12272426000183</td> <td>12272426000183</td>\n",
       "        </tr>\n",
       "    </tbody>\n",
       "        <tr>\n",
       "            <td>HITACHI KOKUSAI LINEAR EQUIPAMENTOS ELETRONICOS S/A         </td> <td>-                                             </td> <td>MATRIZ        </td> <td>26/04/1990  </td> <td>Ativa            </td> <td>SEM MOTIVO             </td> <td>03/11/2005           </td> <td>Fabricação de equipamentos transmissores de comunicação, ...</td> <td>SOCIEDADE ANONIMA FECHADA                                   </td> <td>Demais                  </td> <td>RODOVIA     </td> <td>BR 459                          </td> <td>121 A </td> <td>KM: 121;                      </td> <td>CORREGO RASO           </td> <td>37540000</td> <td>SANTA RITA DO SAPUCAI</td> <td>MG  </td> <td>35   </td> <td>34733473  </td> <td>-    </td> <td>-         </td> <td>35     </td> <td>34733474</td> <td>-             </td> <td>-   </td> <td>ADUARTE@LINEAR.COM.BR                    </td> <td>S        </td> <td> 235.363.538-51</td> <td>MASAO ICHIKAWA                          </td> <td>PRESIDENTE                                      </td> <td>0,00              </td> <td>31300008665</td> <td>-                  </td> <td>-                  </td> <td>-                     </td> <td>-             </td> <td>-                 </td> <td>-                      </td> <td>-             </td> <td>-                  </td> <td>617700            </td> <td>Não fornecido pelo SERPRO</td> <td> 19690445000179</td> <td>19690445000179</td> <td>19690445000179</td>\n",
       "        </tr>\n",
       "    </tbody>\n",
       "        <tr>\n",
       "            <td>I.V.P. ENTRETENIMENTO LTDA - EPP                            </td> <td>I.V.P. ENTRETENIMENTO                         </td> <td>MATRIZ        </td> <td>06/08/2008  </td> <td>Ativa            </td> <td>SEM MOTIVO             </td> <td>06/08/2008           </td> <td>Serviços de organização de feiras, congressos, exposiçõe ...</td> <td>SOCIEDADE EMPRESARIA LIMITADA                               </td> <td>Empresa de Pequeno Porte</td> <td>RUA         </td> <td>DALILA PAGANELLI                </td> <td>23    </td> <td>ANDAR 1 ANEXO 03              </td> <td>CENTRO                 </td> <td>45600275</td> <td>ITABUNA              </td> <td>BA  </td> <td>73   </td> <td>32126629  </td> <td>73   </td> <td>32113030  </td> <td>73     </td> <td>32126629</td> <td>-             </td> <td>-   </td> <td>ROCHACONTABILIDADE.BA@GMAIL.COM          </td> <td>S        </td> <td> 026.736.245-54</td> <td>LEANDRO CARDOSO SILVA DE LIMA           </td> <td>SOCIO-ADMINISTRADOR                             </td> <td>300.000,00        </td> <td>29203185191</td> <td>06/08/2008         </td> <td>-                  </td> <td>-                     </td> <td>-             </td> <td>-                 </td> <td>-                      </td> <td>-             </td> <td>-                  </td> <td>510552            </td> <td>Não fornecido pelo SERPRO</td> <td> 10267290000198</td> <td>10267290000198</td> <td>10267290000198</td>\n",
       "        </tr>\n",
       "    </tbody>\n",
       "        <tr>\n",
       "            <td>JMT SERVICOS DE LOCACAO DE MAO DE OBRA LTDA                 </td> <td>JMT SERVICE LOCACAO DE MAO DE OBRA            </td> <td>MATRIZ        </td> <td>17/06/2005  </td> <td>Ativa            </td> <td>SEM MOTIVO             </td> <td>17/06/2005           </td> <td>Locação de mão-de-obra temporária                           </td> <td>SOCIEDADE EMPRESARIA LIMITADA                               </td> <td>Demais                  </td> <td>AVENIDA     </td> <td>JAGUARARI                       </td> <td>1327  </td> <td>-                             </td> <td>BARRO VERMELHO         </td> <td>59030500</td> <td>NATAL                </td> <td>RN  </td> <td>84   </td> <td>20101954  </td> <td>-    </td> <td>-         </td> <td>84     </td> <td>32341139</td> <td>-             </td> <td>-   </td> <td>acertcontabil@gmail.com                  </td> <td>S        </td> <td> 938.755.334-53</td> <td>JONAS ALVES DA SILVA                    </td> <td>SOCIO-ADMINISTRADOR                             </td> <td>12.000.000,00     </td> <td>24200412451</td> <td>-                  </td> <td>-                  </td> <td>-                     </td> <td>-             </td> <td>-                 </td> <td>-                      </td> <td>-             </td> <td>-                  </td> <td>417900            </td> <td>Não fornecido pelo SERPRO</td> <td> 07442731000136</td> <td>07442731000136</td> <td>7442731000136 </td>\n",
       "        </tr>\n",
       "    </tbody>\n",
       "        <tr>\n",
       "            <td>JOSE RONYELLY ABRANTES SILVA - ME                           </td> <td>-                                             </td> <td>MATRIZ        </td> <td>26/02/2008  </td> <td>Ativa            </td> <td>SEM MOTIVO             </td> <td>26/02/2008           </td> <td>Restaurantes e similares                                    </td> <td>EMPRESARIO (INDIVIDUAL)                                     </td> <td>Micro-Empresa           </td> <td>AVENIDA     </td> <td>ELPIDIO DE ALMEIDA              </td> <td>1581  </td> <td>-                             </td> <td>CATOLE                 </td> <td>58410215</td> <td>CAMPINA GRANDE       </td> <td>PB  </td> <td>83   </td> <td>33310139  </td> <td>-    </td> <td>-         </td> <td>-      </td> <td>-       </td> <td>-             </td> <td>-   </td> <td>ADNELSONOLIVEIRA@BOL.COM.BR              </td> <td>N        </td> <td> 073.462.814-54</td> <td>JOSE RONYELLY ABRANTES SILVA            </td> <td>EMPRESARIO                                      </td> <td>200.000,00        </td> <td>25101074850</td> <td>01/01/2017         </td> <td>-                  </td> <td>-                     </td> <td>-             </td> <td>-                 </td> <td>-                      </td> <td>-             </td> <td>-                  </td> <td>430151            </td> <td>Não fornecido pelo SERPRO</td> <td> 09384762000103</td> <td>09384762000103</td> <td>9384762000103 </td>\n",
       "        </tr>\n",
       "    </tbody>\n",
       "        <tr>\n",
       "            <td>LAVEBRAS GESTAO DE TEXTEIS S.A.                             </td> <td>-                                             </td> <td>FILIAL        </td> <td>29/10/2009  </td> <td>Ativa            </td> <td>SEM MOTIVO             </td> <td>29/10/2009           </td> <td>Lavanderias                                                 </td> <td>SOCIEDADE ANONIMA FECHADA                                   </td> <td>Demais                  </td> <td>RUA         </td> <td>ANA PROCOPIO DE MORAIS          </td> <td>650   </td> <td>-                             </td> <td>CHACARA SOLAR          </td> <td>6528451 </td> <td>SANTANA DE PARNAIBA  </td> <td>SP  </td> <td>11   </td> <td>41563946  </td> <td>49   </td> <td>35660188  </td> <td>49     </td> <td>35664214</td> <td>-             </td> <td>-   </td> <td>ADELAR@LAVEBRAS.COM.BR                   </td> <td>N        </td> <td> 666.550.214-72</td> <td>OTAVIO BATISTA DE CARVALHO NETO         </td> <td>PRESIDENTE                                      </td> <td>0,00              </td> <td>35903712872</td> <td>-                  </td> <td>-                  </td> <td>-                     </td> <td>-             </td> <td>-                 </td> <td>-                      </td> <td>-             </td> <td>-                  </td> <td>816500            </td> <td>Não fornecido pelo SERPRO</td> <td> 06272575002860</td> <td>06272575002860</td> <td>6272575002860 </td>\n",
       "        </tr>\n",
       "    </tbody>\n",
       "        <tr>\n",
       "            <td>LF CONSULTORIA E EQUIPAMENTOS LTDA - EPP                    </td> <td>LF ENGENHARIA                                 </td> <td>MATRIZ        </td> <td>19/09/2012  </td> <td>Ativa            </td> <td>SEM MOTIVO             </td> <td>19/09/2012           </td> <td>Construção de rodovias e ferrovias                          </td> <td>SOCIEDADE EMPRESARIA LIMITADA                               </td> <td>Empresa de Pequeno Porte</td> <td>RUA         </td> <td>UNIVERSO                        </td> <td>36    </td> <td>SALA 301                      </td> <td>SANTA LUCIA            </td> <td>30350612</td> <td>BELO HORIZONTE       </td> <td>MG  </td> <td>31   </td> <td>34868499  </td> <td>31   </td> <td>34869345  </td> <td>-      </td> <td>-       </td> <td>-             </td> <td>-   </td> <td>GEMAME@GEMAME.COM.BR                     </td> <td>S        </td> <td> 032.073.346-79</td> <td>LUCIANO XISTO LOUREIRO FERREIRA         </td> <td>SOCIO-ADMINISTRADOR                             </td> <td>744.920,00        </td> <td>31209642641</td> <td>-                  </td> <td>-                  </td> <td>-                     </td> <td>-             </td> <td>-                 </td> <td>-                      </td> <td>-             </td> <td>-                  </td> <td>615100            </td> <td>Não fornecido pelo SERPRO</td> <td> 16873137000190</td> <td>16873137000190</td> <td>16873137000190</td>\n",
       "        </tr>\n",
       "    </tbody>\n",
       "        <tr>\n",
       "            <td>LINK CARD ADMINISTRADORA DE BENEFICIOS EIRELI               </td> <td>-                                             </td> <td>MATRIZ        </td> <td>11/05/2010  </td> <td>Ativa            </td> <td>SEM MOTIVO             </td> <td>11/05/2010           </td> <td>Atividades de consultoria em gestão empresarial, exceto  ...</td> <td>EMPRESA INDIVIDUAL DE RESPONSABILIDADE LIMITADA (DE NATU ...</td> <td>Demais                  </td> <td>RUA         </td> <td>RUI BARBOSA                     </td> <td>449   </td> <td>SALA 03                       </td> <td>CENTRO                 </td> <td>18290000</td> <td>BURI                 </td> <td>SP  </td> <td>15   </td> <td>35461903  </td> <td>-    </td> <td>-         </td> <td>-      </td> <td>-       </td> <td>-             </td> <td>-   </td> <td>CONTATO@LINKBENEFICIOS.COM.BR            </td> <td>S        </td> <td> 310.580.618-01</td> <td>MARCELO DE OLIVEIRA LIMA                </td> <td>TITULAR P.FISICA RESID. OU DOMICILIADO NO BRASIL</td> <td>1.250.000,00      </td> <td>35600829668</td> <td>11/05/2010         </td> <td>30/06/2012         </td> <td>-                     </td> <td>-             </td> <td>-                 </td> <td>-                      </td> <td>-             </td> <td>-                  </td> <td>811000            </td> <td>Não fornecido pelo SERPRO</td> <td> 12039966000111</td> <td>12039966000111</td> <td>12039966000111</td>\n",
       "        </tr>\n",
       "    </tbody>\n",
       "        <tr>\n",
       "            <td>MAIA MELO ENGENHARIA LTDA                                   </td> <td>-                                             </td> <td>MATRIZ        </td> <td>01/06/1982  </td> <td>Ativa            </td> <td>SEM MOTIVO             </td> <td>03/11/2005           </td> <td>Serviços de engenharia                                      </td> <td>SOCIEDADE EMPRESARIA LIMITADA                               </td> <td>Demais                  </td> <td>RUA         </td> <td>GENERAL JOAQUIM INACIO          </td> <td>136   </td> <td>-                             </td> <td>ILHA DO LEITE          </td> <td>50070270</td> <td>RECIFE               </td> <td>PE  </td> <td>81   </td> <td>34233977  </td> <td>81   </td> <td>34233962  </td> <td>-      </td> <td>-       </td> <td>-             </td> <td>-   </td> <td>mirtes@maiamelo.com.br                   </td> <td>S        </td> <td> 342.669.094-20</td> <td>ROGERIO GIGLIO                          </td> <td>SOCIO-ADMINISTRADOR                             </td> <td>15.246.668,00     </td> <td>26200333269</td> <td>-                  </td> <td>-                  </td> <td>-                     </td> <td>-             </td> <td>-                 </td> <td>-                      </td> <td>-             </td> <td>-                  </td> <td>417900            </td> <td>Não fornecido pelo SERPRO</td> <td> 08156424000151</td> <td>08156424000151</td> <td>8156424000151 </td>\n",
       "        </tr>\n",
       "    </tbody>\n",
       "        <tr>\n",
       "            <td>MEG EMPRESA DE SERVICOS GERAIS LTDA                         </td> <td>-                                             </td> <td>MATRIZ        </td> <td>20/10/1989  </td> <td>Ativa            </td> <td>SEM MOTIVO             </td> <td>03/11/2005           </td> <td>Fornecimento e gestão de recursos humanos para terceiros    </td> <td>SOCIEDADE EMPRESARIA LIMITADA                               </td> <td>Demais                  </td> <td>PRACA       </td> <td>AMARO FERRAZ                    </td> <td>136   </td> <td>SALA A                        </td> <td>LIBERDADE              </td> <td>58300570</td> <td>SANTA RITA           </td> <td>PB  </td> <td>83   </td> <td>86394804  </td> <td>-    </td> <td>-         </td> <td>83     </td> <td>32224034</td> <td>-             </td> <td>-   </td> <td>MEG_SERVICOS@HOTMAIL.COM                 </td> <td>S        </td> <td> 498.805.434-91</td> <td>JERONIMO AGUIAR DE SENA                 </td> <td>SOCIO-ADMINISTRADOR                             </td> <td>357.000,00        </td> <td>25200184530</td> <td>-                  </td> <td>-                  </td> <td>-                     </td> <td>-             </td> <td>-                 </td> <td>-                      </td> <td>-             </td> <td>-                  </td> <td>430151            </td> <td>Não fornecido pelo SERPRO</td> <td> 24263444000188</td> <td>24263444000188</td> <td>24263444000188</td>\n",
       "        </tr>\n",
       "    </tbody>\n",
       "        <tr>\n",
       "            <td>MULTIPLA ENGENHARIA INDUSTRIA E COMERCIO LTDA               </td> <td>-                                             </td> <td>MATRIZ        </td> <td>18/01/1989  </td> <td>Ativa            </td> <td>SEM MOTIVO             </td> <td>24/09/2005           </td> <td>Construção de edifícios                                     </td> <td>SOCIEDADE EMPRESARIA LIMITADA                               </td> <td>Demais                  </td> <td>AVENIDA     </td> <td>DEPUTADO PAULO FERRAZ           </td> <td>2640  </td> <td>-                             </td> <td>ITARARE                </td> <td>64078005</td> <td>TERESINA             </td> <td>PI  </td> <td>86   </td> <td>32363939  </td> <td>86   </td> <td>32394375  </td> <td>86     </td> <td>32361325</td> <td>-             </td> <td>-   </td> <td>FISCALCONTROTEC@BOL.COM.BR               </td> <td>S        </td> <td> 131.941.004-91</td> <td>RICARDO NERY DANTAS                     </td> <td>SOCIO-ADMINISTRADOR                             </td> <td>10.000.000,00     </td> <td>22200098207</td> <td>-                  </td> <td>-                  </td> <td>-                     </td> <td>-             </td> <td>-                 </td> <td>-                      </td> <td>-             </td> <td>-                  </td> <td>330100            </td> <td>Não fornecido pelo SERPRO</td> <td> 23624117000141</td> <td>23624117000141</td> <td>23624117000141</td>\n",
       "        </tr>\n",
       "    </tbody>\n",
       "        <tr>\n",
       "            <td>PLUGNET COMERCIO E REPRESENTACOES LTDA.                     </td> <td>-                                             </td> <td>FILIAL        </td> <td>09/01/2001  </td> <td>Ativa            </td> <td>SEM MOTIVO             </td> <td>20/07/2002           </td> <td>Comércio varejista especializado de equipamentos e supri ...</td> <td>SOCIEDADE EMPRESARIA LIMITADA                               </td> <td>Demais                  </td> <td>AVENIDA     </td> <td>NOSSA SENHORA DOS NAVEGANTES    </td> <td>104   </td> <td>SALA 402                      </td> <td>MANAIRA                </td> <td>58039110</td> <td>JOAO PESSOA          </td> <td>PB  </td> <td>-    </td> <td>-         </td> <td>-    </td> <td>-         </td> <td>-      </td> <td>-       </td> <td>-             </td> <td>-   </td> <td>-                                        </td> <td>N        </td> <td> 376.381.144-34</td> <td>BRENO JOSE DE ARAUJO TAVARES            </td> <td>SOCIO-ADMINISTRADOR                             </td> <td>0,00              </td> <td>-          </td> <td>-                  </td> <td>-                  </td> <td>-                     </td> <td>-             </td> <td>-                 </td> <td>-                      </td> <td>-             </td> <td>-                  </td> <td>430151            </td> <td>Não fornecido pelo SERPRO</td> <td> 02213325000269</td> <td>02213325000269</td> <td>2213325000269 </td>\n",
       "        </tr>\n",
       "    </tbody>\n",
       "        <tr>\n",
       "            <td>PORTO BELO ENGENHARIA E COMERCIO LTDA                       </td> <td>PORTO BELO ENGENHARIA                         </td> <td>MATRIZ        </td> <td>26/06/1987  </td> <td>Ativa            </td> <td>SEM MOTIVO             </td> <td>21/05/2005           </td> <td>Construção de edifícios                                     </td> <td>SOCIEDADE EMPRESARIA LIMITADA                               </td> <td>Demais                  </td> <td>RUA         </td> <td>4                               </td> <td>1400  </td> <td>QUADRA73 LOTE AREA TOTAL      </td> <td>SETOR CENTRAL          </td> <td>74025020</td> <td>GOIANIA              </td> <td>GO  </td> <td>62   </td> <td>32193353  </td> <td>62   </td> <td>32783909  </td> <td>61     </td> <td>3474888 </td> <td>-             </td> <td>-   </td> <td>portobelo@nutecnet.com.br                </td> <td>S        </td> <td> 063.760.696-57</td> <td>FABIO DE PAULA NEVES                    </td> <td>ADMINISTRADOR                                   </td> <td>42.122.366,00     </td> <td>52202781073</td> <td>-                  </td> <td>-                  </td> <td>2                     </td> <td>03701380000180</td> <td>24/03/2017        </td> <td>1                      </td> <td>21568196000195</td> <td>24/03/2017         </td> <td>120100            </td> <td>Não fornecido pelo SERPRO</td> <td> 03701380000180</td> <td>03701380000180</td> <td>3701380000180 </td>\n",
       "        </tr>\n",
       "    </tbody>\n",
       "        <tr>\n",
       "            <td>RH SERVIÇOS LTDA                                            </td> <td>RH                                            </td> <td>MATRIZ        </td> <td>01/02/1993  </td> <td>Ativa            </td> <td>SEM MOTIVO             </td> <td>03/11/2005           </td> <td>Fornecimento e gestão de recursos humanos para terceiros    </td> <td>SOCIEDADE EMPRESARIA LIMITADA                               </td> <td>Demais                  </td> <td>RUA         </td> <td>SAO JOAO                        </td> <td>118   </td> <td>SALA 02                       </td> <td>CENTRO                 </td> <td>58300150</td> <td>SANTA RITA           </td> <td>PB  </td> <td>83   </td> <td>2222914   </td> <td>-    </td> <td>-         </td> <td>-      </td> <td>-       </td> <td>-             </td> <td>-   </td> <td>-                                        </td> <td>S        </td> <td> 205.718.794-20</td> <td>JOSELINO AGUIAR DE SENA                 </td> <td>SOCIO-ADMINISTRADOR                             </td> <td>2.000.000,00      </td> <td>25200239661</td> <td>-                  </td> <td>-                  </td> <td>-                     </td> <td>-             </td> <td>-                 </td> <td>-                      </td> <td>-             </td> <td>-                  </td> <td>430151            </td> <td>Não fornecido pelo SERPRO</td> <td> 41150699000153</td> <td>41150699000153</td> <td>41150699000153</td>\n",
       "        </tr>\n",
       "    </tbody>\n",
       "        <tr>\n",
       "            <td>SALINAS EMPREENDIMENTOS E CONSTRUCOES LTDA - ME             </td> <td>SALINAS                                       </td> <td>MATRIZ        </td> <td>16/11/1993  </td> <td>Ativa            </td> <td>SEM MOTIVO             </td> <td>30/10/2004           </td> <td>Construção de edifícios                                     </td> <td>SOCIEDADE EMPRESARIA LIMITADA                               </td> <td>Micro-Empresa           </td> <td>RUA         </td> <td>NIVALDO SOARES DE PINHO         </td> <td>78    </td> <td>-                             </td> <td>VENANCIOS              </td> <td>63700000</td> <td>CRATEUS              </td> <td>CE  </td> <td>88   </td> <td>36923599  </td> <td>-    </td> <td>-         </td> <td>-      </td> <td>-       </td> <td>-             </td> <td>-   </td> <td>-                                        </td> <td>S        </td> <td> 057.674.223-62</td> <td>FRANCISCO LENNON BARBOSA MARTINS        </td> <td>SOCIO-ADMINISTRADOR                             </td> <td>5.000.000,00      </td> <td>23201547031</td> <td>01/07/2007         </td> <td>31/07/2013         </td> <td>-                     </td> <td>-             </td> <td>-                 </td> <td>-                      </td> <td>-             </td> <td>-                  </td> <td>317600            </td> <td>Não fornecido pelo SERPRO</td> <td> 73694788000157</td> <td>73694788000157</td> <td>73694788000157</td>\n",
       "        </tr>\n",
       "    </tbody>\n",
       "        <tr>\n",
       "            <td>SANCCOL SANEAMENTO CONSTRUCAO E COMERCIO LTDA               </td> <td>SANCOL                                        </td> <td>MATRIZ        </td> <td>10/10/1978  </td> <td>Ativa            </td> <td>SEM MOTIVO             </td> <td>03/11/2005           </td> <td>Construção de redes de abastecimento de água, coleta de  ...</td> <td>SOCIEDADE EMPRESARIA LIMITADA                               </td> <td>Demais                  </td> <td>RUA         </td> <td>HORTENCIA HELENA AMORIM BRITO   </td> <td>350   </td> <td>KM 230 KM 12,5 QUADRA05 LOTE A</td> <td>JARDIM ALFA            </td> <td>58102660</td> <td>CABEDELO             </td> <td>PB  </td> <td>83   </td> <td>32463149  </td> <td>-    </td> <td>-         </td> <td>-      </td> <td>-       </td> <td>-             </td> <td>-   </td> <td>-                                        </td> <td>S        </td> <td> 020.317.604-91</td> <td>GIOVANNI GONDIM PETRUCCI                </td> <td>SOCIO-ADMINISTRADOR                             </td> <td>8.500.000,00      </td> <td>25200005414</td> <td>-                  </td> <td>-                  </td> <td>-                     </td> <td>-             </td> <td>-                 </td> <td>-                      </td> <td>-             </td> <td>-                  </td> <td>417900            </td> <td>Não fornecido pelo SERPRO</td> <td> 09267923000189</td> <td>09267923000189</td> <td>9267923000189 </td>\n",
       "        </tr>\n",
       "    </tbody>\n",
       "        <tr>\n",
       "            <td>SHALOM ENGENHARIA LTDA                                      </td> <td>-                                             </td> <td>MATRIZ        </td> <td>11/11/1996  </td> <td>Ativa            </td> <td>SEM MOTIVO             </td> <td>03/11/2005           </td> <td>Construção de rodovias e ferrovias                          </td> <td>SOCIEDADE EMPRESARIA LIMITADA                               </td> <td>Demais                  </td> <td>-           </td> <td>PB 004                          </td> <td>SN    </td> <td>-                             </td> <td>ENGENHOTIBIRI          </td> <td>58300410</td> <td>SANTA RITA           </td> <td>PB  </td> <td>83   </td> <td>2244881   </td> <td>-    </td> <td>-         </td> <td>83     </td> <td>2440838 </td> <td>-             </td> <td>-   </td> <td>-                                        </td> <td>S        </td> <td> 028.220.434-26</td> <td>LUIZ SANTIAGO BRANDAO FILHO             </td> <td>SOCIO-ADMINISTRADOR                             </td> <td>9.000.000,00      </td> <td>25200298217</td> <td>-                  </td> <td>-                  </td> <td>-                     </td> <td>-             </td> <td>-                 </td> <td>-                      </td> <td>-             </td> <td>-                  </td> <td>417900            </td> <td>Não fornecido pelo SERPRO</td> <td> 01527612000108</td> <td>01527612000108</td> <td>1527612000108 </td>\n",
       "        </tr>\n",
       "    </tbody>\n",
       "        <tr>\n",
       "            <td>SHANALLY SERVIÇOS DE VIGILÂNCIA EIRELI                      </td> <td>SHANALLY                                      </td> <td>MATRIZ        </td> <td>10/05/1983  </td> <td>Ativa            </td> <td>SEM MOTIVO             </td> <td>03/11/2005           </td> <td>Atividades de vigilância e segurança privada                </td> <td>EMPRESA INDIVIDUAL DE RESPONSABILIDADE LIMITADA (DE NATU ...</td> <td>Demais                  </td> <td>RUA         </td> <td>OSVALDO CRUZ                    </td> <td>267   </td> <td>-                             </td> <td>CENTENARIO             </td> <td>58107720</td> <td>CAMPINA GRANDE       </td> <td>PB  </td> <td>83   </td> <td>3414353   </td> <td>-    </td> <td>-         </td> <td>-      </td> <td>-       </td> <td>-             </td> <td>-   </td> <td>-                                        </td> <td>S        </td> <td> 861.141.588-49</td> <td>JOSE EVERALDO DE ARAUJO                 </td> <td>TITULAR P.FISICA RESID. OU DOMICILIADO NO BRASIL</td> <td>0,00              </td> <td>25600023363</td> <td>-                  </td> <td>-                  </td> <td>-                     </td> <td>-             </td> <td>-                 </td> <td>-                      </td> <td>-             </td> <td>-                  </td> <td>430151            </td> <td>Não fornecido pelo SERPRO</td> <td> 09222175000118</td> <td>09222175000118</td> <td>9222175000118 </td>\n",
       "        </tr>\n",
       "    </tbody>\n",
       "        <tr>\n",
       "            <td>SOCIEDAD ANONIMA DE OBRAS Y SERVICIOS COPASA DO BRASIL      </td> <td>-                                             </td> <td>MATRIZ        </td> <td>27/05/2013  </td> <td>Ativa            </td> <td>SEM MOTIVO             </td> <td>27/05/2013           </td> <td>Construção de edifícios                                     </td> <td>ESTABELECIMENTO, NO BRASIL, DE SOCIEDADE ESTRANGEIRA        </td> <td>Demais                  </td> <td>AVENIDA     </td> <td>ANGELICA                        </td> <td>2.530 </td> <td>SALA: 122;                    </td> <td>CONSOLACAO             </td> <td>1228200 </td> <td>SAO PAULO            </td> <td>SP  </td> <td>11   </td> <td>36633307  </td> <td>-    </td> <td>-         </td> <td>11     </td> <td>36633307</td> <td>-             </td> <td>-   </td> <td>KARINY@COPASABRASIL.COM.BR               </td> <td>N        </td> <td> 217.693.338-94</td> <td>HERMENEGILDO MORENO LORIENTE            </td> <td>PROCURADOR                                      </td> <td>13.552.882,00     </td> <td>35500707749</td> <td>-                  </td> <td>-                  </td> <td>-                     </td> <td>-             </td> <td>-                 </td> <td>-                      </td> <td>-             </td> <td>-                  </td> <td>816500            </td> <td>Não fornecido pelo SERPRO</td> <td> 18193729000197</td> <td>18193729000197</td> <td>18193729000197</td>\n",
       "        </tr>\n",
       "    </tbody>\n",
       "        <tr>\n",
       "            <td>SUPREMA EMPREENDIMENTOS EIRELI                              </td> <td>SUPREMA EMPREENDIMENTOS                       </td> <td>MATRIZ        </td> <td>24/08/2006  </td> <td>Ativa            </td> <td>SEM MOTIVO             </td> <td>24/08/2006           </td> <td>Locação de mão-de-obra temporária                           </td> <td>EMPRESA INDIVIDUAL DE RESPONSABILIDADE LIMITADA (DE NATU ...</td> <td>Demais                  </td> <td>RUA         </td> <td>AGRIMENSOR JOSE DE BRITO        </td> <td>281   </td> <td>LETRA B                       </td> <td>LAURITZEN              </td> <td>58401396</td> <td>CAMPINA GRANDE       </td> <td>PB  </td> <td>83   </td> <td>33355559  </td> <td>83   </td> <td>33356909  </td> <td>83     </td> <td>33356909</td> <td>-             </td> <td>-   </td> <td>SUPREMA.GERENCIA@GMAIL.COM               </td> <td>S        </td> <td> 046.123.774-19</td> <td>GEOVANA KARLA MARACAJA RAMOS            </td> <td>TITULAR P.FISICA RESID. OU DOMICILIADO NO BRASIL</td> <td>622.115,00        </td> <td>25600041116</td> <td>01/01/2008         </td> <td>31/12/2008         </td> <td>-                     </td> <td>-             </td> <td>-                 </td> <td>-                      </td> <td>-             </td> <td>-                  </td> <td>430151            </td> <td>Não fornecido pelo SERPRO</td> <td> 08243787000124</td> <td>08243787000124</td> <td>8243787000124 </td>\n",
       "        </tr>\n",
       "    </tbody>\n",
       "        <tr>\n",
       "            <td>TELEMAR NORTE LESTE S/A. - EM RECUPERACAO JUDICIAL          </td> <td>OI                                            </td> <td>MATRIZ        </td> <td>26/09/1966  </td> <td>Ativa            </td> <td>SEM MOTIVO             </td> <td>03/11/2005           </td> <td>Serviços de telefonia fixa comutada - STFC                  </td> <td>SOCIEDADE ANONIMA FECHADA                                   </td> <td>Demais                  </td> <td>RUA         </td> <td>DO LAVRADIO                     </td> <td>71    </td> <td>ANDAR 2                       </td> <td>CENTRO                 </td> <td>20230070</td> <td>RIO DE JANEIRO       </td> <td>RJ  </td> <td>21   </td> <td>93336398  </td> <td>-    </td> <td>-         </td> <td>-      </td> <td>-       </td> <td>-             </td> <td>-   </td> <td>-                                        </td> <td>S        </td> <td> 407.239.410-68</td> <td>MARCO NORCI SCHROEDER                   </td> <td>ADMNISTRADOR JUDICIAL                           </td> <td>11.635.292.074,00 </td> <td>33300152580</td> <td>-                  </td> <td>-                  </td> <td>-                     </td> <td>-             </td> <td>-                 </td> <td>-                      </td> <td>-             </td> <td>-                  </td> <td>719500            </td> <td>Não fornecido pelo SERPRO</td> <td> 33000118000179</td> <td>33000118000179</td> <td>33000118000179</td>\n",
       "        </tr>\n",
       "    </tbody>\n",
       "        <tr>\n",
       "            <td>TRIVALE ADMINISTRACAO LTDA                                  </td> <td>-                                             </td> <td>MATRIZ        </td> <td>16/05/1995  </td> <td>Ativa            </td> <td>SEM MOTIVO             </td> <td>03/11/2005           </td> <td>Outras atividades de serviços prestados principalmente à ...</td> <td>SOCIEDADE EMPRESARIA LIMITADA                               </td> <td>Demais                  </td> <td>RUA         </td> <td>MACHADO DE ASSIS                </td> <td>904   </td> <td>-                             </td> <td>CENTRO                 </td> <td>38400112</td> <td>UBERLANDIA           </td> <td>MG  </td> <td>34   </td> <td>2140133   </td> <td>-    </td> <td>-         </td> <td>-      </td> <td>-       </td> <td>-             </td> <td>-   </td> <td>-                                        </td> <td>S        </td> <td> 350.113.606-44</td> <td>JOAO BATISTA RODRIGUES                  </td> <td>SOCIO-ADMINISTRADOR                             </td> <td>19.700.000,00     </td> <td>31204650262</td> <td>-                  </td> <td>-                  </td> <td>2                     </td> <td>00604122000197</td> <td>01/04/2011        </td> <td>1                      </td> <td>03007699000100</td> <td>01/04/2011         </td> <td>615100            </td> <td>Não fornecido pelo SERPRO</td> <td> 00604122000197</td> <td>00604122000197</td> <td>604122000197  </td>\n",
       "        </tr>\n",
       "    </tbody>\n",
       "        <tr>\n",
       "            <td>VANGUARDA CONSTRUCOES E SERVICOS DE CONSERVACAO VIARIA LTDA.</td> <td>VANGUARDA                                     </td> <td>MATRIZ        </td> <td>05/06/1990  </td> <td>Ativa            </td> <td>SEM MOTIVO             </td> <td>24/09/2005           </td> <td>Outras obras de engenharia civil não especificadas anter ...</td> <td>SOCIEDADE EMPRESARIA LIMITADA                               </td> <td>Demais                  </td> <td>ESTRADA     </td> <td>MUNICIPAL JOSE CORREIA DE MORAES</td> <td>8676  </td> <td>-                             </td> <td>CHAPADA GRANDE         </td> <td>18206800</td> <td>ITAPETININGA         </td> <td>SP  </td> <td>11   </td> <td>55072007  </td> <td>-    </td> <td>-         </td> <td>-      </td> <td>-       </td> <td>-             </td> <td>-   </td> <td>-                                        </td> <td>S        </td> <td> 468.363.818-53</td> <td>PAULO PEREIRA CUNHA                     </td> <td>SOCIO-ADMINISTRADOR                             </td> <td>4.000.000,00      </td> <td>35209344104</td> <td>-                  </td> <td>-                  </td> <td>-                     </td> <td>-             </td> <td>-                 </td> <td>-                      </td> <td>-             </td> <td>-                  </td> <td>811000            </td> <td>Não fornecido pelo SERPRO</td> <td> 38848107000167</td> <td>38848107000167</td> <td>38848107000167</td>\n",
       "        </tr>\n",
       "    </tbody>\n",
       "        <tr>\n",
       "            <td>VIRTUAL ENGENHARIA LTDA                                     </td> <td>-                                             </td> <td>MATRIZ        </td> <td>16/02/2001  </td> <td>Ativa            </td> <td>SEM MOTIVO             </td> <td>03/11/2005           </td> <td>Construção de edifícios                                     </td> <td>SOCIEDADE EMPRESARIA LIMITADA                               </td> <td>Demais                  </td> <td>RUA         </td> <td>MONTEIRO LOBATO                 </td> <td>461   </td> <td>-                             </td> <td>ALTO BRANCO            </td> <td>58102470</td> <td>CAMPINA GRANDE       </td> <td>PB  </td> <td>83   </td> <td>3421379   </td> <td>-    </td> <td>-         </td> <td>-      </td> <td>-       </td> <td>-             </td> <td>-   </td> <td>-                                        </td> <td>S        </td> <td> 152.995.418-56</td> <td>FABIANA PEDROSA PASCHOAL                </td> <td>SOCIO-ADMINISTRADOR                             </td> <td>2.500.000,00      </td> <td>25200366000</td> <td>-                  </td> <td>-                  </td> <td>-                     </td> <td>-             </td> <td>-                 </td> <td>-                      </td> <td>-             </td> <td>-                  </td> <td>430151            </td> <td>Não fornecido pelo SERPRO</td> <td> 04297655000124</td> <td>04297655000124</td> <td>4297655000124 </td>\n",
       "        </tr>\n",
       "    </tbody>\n",
       "        <tr>\n",
       "            <td>ZELO LOCACAO DE MAO DE OBRA EIRELI                          </td> <td>ZELO SERVICOS                                 </td> <td>MATRIZ        </td> <td>12/09/2008  </td> <td>Ativa            </td> <td>SEM MOTIVO             </td> <td>12/09/2008           </td> <td>Limpeza em prédios e em domicílios                          </td> <td>EMPRESA INDIVIDUAL DE RESPONSABILIDADE LIMITADA (DE NATU ...</td> <td>Demais                  </td> <td>RUA         </td> <td>JOAQUIM GONCALVES LEDO          </td> <td>75    </td> <td>-                             </td> <td>CENTENARIO             </td> <td>58428195</td> <td>CAMPINA GRANDE       </td> <td>PB  </td> <td>83   </td> <td>33411068  </td> <td>-    </td> <td>-         </td> <td>-      </td> <td>-       </td> <td>-             </td> <td>-   </td> <td>ZELOPB@GMAIL.COM                         </td> <td>S        </td> <td> 029.905.964-29</td> <td>BRUNO GONCALVES COSTA                   </td> <td>TITULAR P.FISICA RESID. OU DOMICILIADO NO BRASIL</td> <td>595.000,00        </td> <td>25600007716</td> <td>-                  </td> <td>-                  </td> <td>-                     </td> <td>-             </td> <td>-                 </td> <td>-                      </td> <td>-             </td> <td>-                  </td> <td>430151            </td> <td>Não fornecido pelo SERPRO</td> <td> 10339944000141</td> <td>10339944000141</td> <td>10339944000141</td>\n",
       "        </tr>\n",
       "    </tbody>\n",
       "        <tr>\n",
       "            <td>ZERO UM-INFORMATICA ENGENHARIA E REPRESENTACOES LTDA        </td> <td>-                                             </td> <td>MATRIZ        </td> <td>15/01/1992  </td> <td>Ativa            </td> <td>SEM MOTIVO             </td> <td>03/11/2005           </td> <td>Serviços de comunicação multimídia - SCM                    </td> <td>SOCIEDADE EMPRESARIA LIMITADA                               </td> <td>Demais                  </td> <td>RUA         </td> <td>MANOEL CAETANO                  </td> <td>103   </td> <td>APTO 02 PRIM PAVIM            </td> <td>DERBY                  </td> <td>52010220</td> <td>RECIFE               </td> <td>PE  </td> <td>-    </td> <td>-         </td> <td>-    </td> <td>-         </td> <td>-      </td> <td>-       </td> <td>-             </td> <td>-   </td> <td>-                                        </td> <td>S        </td> <td> 219.123.194-20</td> <td>ANTONIO VILAR BRASILEIRO                </td> <td>SOCIO-ADMINISTRADOR                             </td> <td>990.000,00        </td> <td>26200717989</td> <td>-                  </td> <td>-                  </td> <td>-                     </td> <td>-             </td> <td>-                 </td> <td>-                      </td> <td>-             </td> <td>-                  </td> <td>415100            </td> <td>Não fornecido pelo SERPRO</td> <td> 40873234000168</td> <td>40873234000168</td> <td>40873234000168</td>\n",
       "        </tr>\n",
       "    </tbody>\n",
       "</table>"
      ],
      "text/plain": [
       "<IPython.core.display.HTML object>"
      ]
     },
     "metadata": {},
     "output_type": "display_data"
    }
   ],
   "source": [
    "tb_empresas.sort('Nome / Razão Social (no CNPJ)').show()"
   ]
  },
  {
   "cell_type": "code",
   "execution_count": 156,
   "metadata": {},
   "outputs": [],
   "source": [
    "def remove_white_spaces(cnpj):\n",
    "    return cnpj.strip()"
   ]
  },
  {
   "cell_type": "code",
   "execution_count": 157,
   "metadata": {},
   "outputs": [],
   "source": [
    "tb_empresas = tb_empresas.with_column('CNPJ trim', tb_empresas.apply(remove_white_spaces, 'CNPJ new'))"
   ]
  },
  {
   "cell_type": "code",
   "execution_count": 159,
   "metadata": {},
   "outputs": [
    {
     "data": {
      "text/plain": [
       "True"
      ]
     },
     "execution_count": 159,
     "metadata": {},
     "output_type": "execute_result"
    }
   ],
   "source": [
    "tb_empresas.columns[-1][1]"
   ]
  },
  {
   "cell_type": "code",
   "execution_count": 116,
   "metadata": {},
   "outputs": [],
   "source": [
    "def converts_str_int(cnpj):\n",
    "    return int(cnpj)"
   ]
  },
  {
   "cell_type": "code",
   "execution_count": 160,
   "metadata": {},
   "outputs": [
    {
     "data": {
      "text/html": [
       "<table border=\"1\" class=\"dataframe\">\n",
       "    <thead>\n",
       "        <tr>\n",
       "            <th>Nome / Razão Social (no CNPJ)</th> <th>Nome Fantasia (descrição)</th> <th>Matriz /Filial</th> <th>DataAbertura</th> <th>SituaçãoCadastral</th> <th>MotivoSituaçãoCadastral</th> <th>DataSituaçãoCadastral</th> <th>Atividade Econômica do Estabelecimento</th> <th>Natureza Jurídica (descrição no CNPJ)</th> <th>PorteEmpresa</th> <th>TipoEndereço</th> <th>Endereço (descrição completa)</th> <th>Número</th> <th>Complemento</th> <th>Bairro</th> <th>CEP</th> <th>Município</th> <th>UF</th> <th>DDD 1</th> <th>Telefone 1</th> <th>DDD 2</th> <th>Telefone 2</th> <th>DDD Fax</th> <th>Fax</th> <th>CidadeExterior</th> <th>País</th> <th>Email</th> <th>TemSócio?</th> <th>CPFResponsável</th> <th>Nome do Responsável</th> <th>QualificaçãoResponsável</th> <th>ValorCapitalSocial</th> <th>NIRE</th> <th>DataInclusãoSimples</th> <th>DataExclusãoSimples</th> <th>Tipo(OperaçãoSucedida)</th> <th>CNPJSucedida</th> <th>DataEventoSucedida</th> <th>Tipo(OperaçãoSucessora)</th> <th>CNPJSucessora</th> <th>DataEventoSucessora</th> <th>Cod OrgãoAduaneiro</th> <th>Qualificação Tributária</th> <th>CNPJ new</th> <th>CNPJ trim</th> <th>CNPJ num</th>\n",
       "        </tr>\n",
       "    </thead>\n",
       "    <tbody>\n",
       "        <tr>\n",
       "            <td>C B A CONSTRUCOES LTDA - EPP                                </td> <td>C B A CONSTRUCOES                     </td> <td>MATRIZ        </td> <td>04/06/2008  </td> <td>Ativa            </td> <td>SEM MOTIVO             </td> <td>04/06/2008           </td> <td>Serviços especializados para construção não especificado ...</td> <td>SOCIEDADE EMPRESARIA LIMITADA                               </td> <td>Empresa de Pequeno Porte</td> <td>RUA         </td> <td>BELTRANDO DE FARIAS CASTRO   </td> <td>285   </td> <td>-                       </td> <td>CRUZEIRO       </td> <td>58415453</td> <td>CAMPINA GRANDE</td> <td>PB  </td> <td>83   </td> <td>33227294  </td> <td>-    </td> <td>-         </td> <td>-      </td> <td>-       </td> <td>-             </td> <td>-   </td> <td>ppproma@hotmail.com          </td> <td>S        </td> <td> 514.762.664-68</td> <td>CAETANO BATISTA DE ALMEIDA      </td> <td>SOCIO-ADMINISTRADOR                             </td> <td>1.500.000,00      </td> <td>25200479742</td> <td>01/01/2009         </td> <td>31/12/2017         </td> <td>-                     </td> <td>-             </td> <td>-                 </td> <td>-                      </td> <td>-             </td> <td>-                  </td> <td>417900            </td> <td>Não fornecido pelo SERPRO</td> <td> 09605291000116</td> <td>09605291000116</td> <td>9605291000116 </td>\n",
       "        </tr>\n",
       "    </tbody>\n",
       "        <tr>\n",
       "            <td>LINK CARD ADMINISTRADORA DE BENEFICIOS EIRELI               </td> <td>-                                     </td> <td>MATRIZ        </td> <td>11/05/2010  </td> <td>Ativa            </td> <td>SEM MOTIVO             </td> <td>11/05/2010           </td> <td>Atividades de consultoria em gestão empresarial, exceto  ...</td> <td>EMPRESA INDIVIDUAL DE RESPONSABILIDADE LIMITADA (DE NATU ...</td> <td>Demais                  </td> <td>RUA         </td> <td>RUI BARBOSA                  </td> <td>449   </td> <td>SALA 03                 </td> <td>CENTRO         </td> <td>18290000</td> <td>BURI          </td> <td>SP  </td> <td>15   </td> <td>35461903  </td> <td>-    </td> <td>-         </td> <td>-      </td> <td>-       </td> <td>-             </td> <td>-   </td> <td>CONTATO@LINKBENEFICIOS.COM.BR</td> <td>S        </td> <td> 310.580.618-01</td> <td>MARCELO DE OLIVEIRA LIMA        </td> <td>TITULAR P.FISICA RESID. OU DOMICILIADO NO BRASIL</td> <td>1.250.000,00      </td> <td>35600829668</td> <td>11/05/2010         </td> <td>30/06/2012         </td> <td>-                     </td> <td>-             </td> <td>-                 </td> <td>-                      </td> <td>-             </td> <td>-                  </td> <td>811000            </td> <td>Não fornecido pelo SERPRO</td> <td> 12039966000111</td> <td>12039966000111</td> <td>12039966000111</td>\n",
       "        </tr>\n",
       "    </tbody>\n",
       "        <tr>\n",
       "            <td>GRILLO E WERNECK PROJETOS E CONSULTORIA LTDA                </td> <td>-                                     </td> <td>MATRIZ        </td> <td>21/05/2004  </td> <td>Ativa            </td> <td>SEM MOTIVO             </td> <td>21/05/2004           </td> <td>Serviços de arquitetura                                     </td> <td>SOCIEDADE EMPRESARIA LIMITADA                               </td> <td>Empresa de Pequeno Porte</td> <td>AVENIDA     </td> <td>DO CONTORNO                  </td> <td>4.852 </td> <td>SALA 704                </td> <td>FUNCIONARIOS   </td> <td>30110031</td> <td>BELO HORIZONTE</td> <td>MG  </td> <td>31   </td> <td>32233802  </td> <td>-    </td> <td>-         </td> <td>31     </td> <td>32233802</td> <td>-             </td> <td>-   </td> <td>-                            </td> <td>S        </td> <td> 253.559.106-53</td> <td>FLAVIO CAMPOS GRILLO            </td> <td>SOCIO-ADMINISTRADOR                             </td> <td>200.000,00        </td> <td>31208916429</td> <td>-                  </td> <td>-                  </td> <td>-                     </td> <td>-             </td> <td>-                 </td> <td>-                      </td> <td>-             </td> <td>-                  </td> <td>617700            </td> <td>Não fornecido pelo SERPRO</td> <td> 06298743000176</td> <td>06298743000176</td> <td>6298743000176 </td>\n",
       "        </tr>\n",
       "    </tbody>\n",
       "        <tr>\n",
       "            <td>EBA - ENGENHARIA BRASILEIRA DE AVALIACOES, ASSESSORIA, G ...</td> <td>EBA - EMPRESA BRASILEIRA DE AVALIACOES</td> <td>MATRIZ        </td> <td>18/07/2013  </td> <td>Ativa            </td> <td>SEM MOTIVO             </td> <td>18/07/2013           </td> <td>Serviços de engenharia                                      </td> <td>SOCIEDADE EMPRESARIA LIMITADA                               </td> <td>Micro-Empresa           </td> <td>AVENIDA     </td> <td>DOUTOR EDESIO VIEIRA DE MELO </td> <td>1074  </td> <td>-                       </td> <td>SUISSA         </td> <td>49052240</td> <td>ARACAJU       </td> <td>SE  </td> <td>79   </td> <td>32228722  </td> <td>-    </td> <td>-         </td> <td>-      </td> <td>-       </td> <td>-             </td> <td>-   </td> <td>SERVCONTAB_2000@HOTMAIL.COM  </td> <td>S        </td> <td> 829.450.555-20</td> <td>MEIDE GLAN DOS SANTOS           </td> <td>SOCIO-ADMINISTRADOR                             </td> <td>510.000,00        </td> <td>28200543257</td> <td>-                  </td> <td>-                  </td> <td>-                     </td> <td>-             </td> <td>-                 </td> <td>-                      </td> <td>-             </td> <td>-                  </td> <td>520100            </td> <td>Não fornecido pelo SERPRO</td> <td> 18518276000121</td> <td>18518276000121</td> <td>18518276000121</td>\n",
       "        </tr>\n",
       "    </tbody>\n",
       "        <tr>\n",
       "            <td>AMBIENTE BRASIL ENGENHARIA LTDA                             </td> <td>-                                     </td> <td>MATRIZ        </td> <td>02/06/2004  </td> <td>Ativa            </td> <td>SEM MOTIVO             </td> <td>02/06/2004           </td> <td>Serviços de engenharia                                      </td> <td>SOCIEDADE EMPRESARIA LIMITADA                               </td> <td>Empresa de Pequeno Porte</td> <td>RUA         </td> <td>MIRAGAIA                     </td> <td>209   </td> <td>-                       </td> <td>BUTANTA        </td> <td>5511020 </td> <td>SAO PAULO     </td> <td>SP  </td> <td>11   </td> <td>30311151  </td> <td>11   </td> <td>50824562  </td> <td>11     </td> <td>50847978</td> <td>-             </td> <td>-   </td> <td>CRCSPP@GMAIL.COM             </td> <td>S        </td> <td> 782.974.006-20</td> <td>NELSON LOPES CORREA SOBRINHO    </td> <td>SOCIO-ADMINISTRADOR                             </td> <td>2.000.000,00      </td> <td>35222137591</td> <td>-                  </td> <td>-                  </td> <td>-                     </td> <td>-             </td> <td>-                 </td> <td>-                      </td> <td>-             </td> <td>-                  </td> <td>816500            </td> <td>Não fornecido pelo SERPRO</td> <td> 06306458000150</td> <td>06306458000150</td> <td>6306458000150 </td>\n",
       "        </tr>\n",
       "    </tbody>\n",
       "        <tr>\n",
       "            <td>MAIA MELO ENGENHARIA LTDA                                   </td> <td>-                                     </td> <td>MATRIZ        </td> <td>01/06/1982  </td> <td>Ativa            </td> <td>SEM MOTIVO             </td> <td>03/11/2005           </td> <td>Serviços de engenharia                                      </td> <td>SOCIEDADE EMPRESARIA LIMITADA                               </td> <td>Demais                  </td> <td>RUA         </td> <td>GENERAL JOAQUIM INACIO       </td> <td>136   </td> <td>-                       </td> <td>ILHA DO LEITE  </td> <td>50070270</td> <td>RECIFE        </td> <td>PE  </td> <td>81   </td> <td>34233977  </td> <td>81   </td> <td>34233962  </td> <td>-      </td> <td>-       </td> <td>-             </td> <td>-   </td> <td>mirtes@maiamelo.com.br       </td> <td>S        </td> <td> 342.669.094-20</td> <td>ROGERIO GIGLIO                  </td> <td>SOCIO-ADMINISTRADOR                             </td> <td>15.246.668,00     </td> <td>26200333269</td> <td>-                  </td> <td>-                  </td> <td>-                     </td> <td>-             </td> <td>-                 </td> <td>-                      </td> <td>-             </td> <td>-                  </td> <td>417900            </td> <td>Não fornecido pelo SERPRO</td> <td> 08156424000151</td> <td>08156424000151</td> <td>8156424000151 </td>\n",
       "        </tr>\n",
       "    </tbody>\n",
       "        <tr>\n",
       "            <td>JOSE RONYELLY ABRANTES SILVA - ME                           </td> <td>-                                     </td> <td>MATRIZ        </td> <td>26/02/2008  </td> <td>Ativa            </td> <td>SEM MOTIVO             </td> <td>26/02/2008           </td> <td>Restaurantes e similares                                    </td> <td>EMPRESARIO (INDIVIDUAL)                                     </td> <td>Micro-Empresa           </td> <td>AVENIDA     </td> <td>ELPIDIO DE ALMEIDA           </td> <td>1581  </td> <td>-                       </td> <td>CATOLE         </td> <td>58410215</td> <td>CAMPINA GRANDE</td> <td>PB  </td> <td>83   </td> <td>33310139  </td> <td>-    </td> <td>-         </td> <td>-      </td> <td>-       </td> <td>-             </td> <td>-   </td> <td>ADNELSONOLIVEIRA@BOL.COM.BR  </td> <td>N        </td> <td> 073.462.814-54</td> <td>JOSE RONYELLY ABRANTES SILVA    </td> <td>EMPRESARIO                                      </td> <td>200.000,00        </td> <td>25101074850</td> <td>01/01/2017         </td> <td>-                  </td> <td>-                     </td> <td>-             </td> <td>-                 </td> <td>-                      </td> <td>-             </td> <td>-                  </td> <td>430151            </td> <td>Não fornecido pelo SERPRO</td> <td> 09384762000103</td> <td>09384762000103</td> <td>9384762000103 </td>\n",
       "        </tr>\n",
       "    </tbody>\n",
       "        <tr>\n",
       "            <td>ENERGISA PARAIBA - DISTRIBUIDORA DE ENERGIA S.A             </td> <td>ENERGISA                              </td> <td>MATRIZ        </td> <td>24/08/1966  </td> <td>Ativa            </td> <td>SEM MOTIVO             </td> <td>03/11/2005           </td> <td>Distribuição de energia elétrica                            </td> <td>SOCIEDADE ANONIMA ABERTA                                    </td> <td>Demais                  </td> <td>-           </td> <td>BR 230 KM 25                 </td> <td>S/N   </td> <td>-                       </td> <td>CRISTO REDENTOR</td> <td>58071680</td> <td>JOAO PESSOA   </td> <td>PB  </td> <td>83   </td> <td>2151098   </td> <td>-    </td> <td>-         </td> <td>83     </td> <td>2311886 </td> <td>-             </td> <td>-   </td> <td>SAELPADFC@SAELPA.COM.BR      </td> <td>S        </td> <td> 008.534.037-59</td> <td>ANDRE LUIS CABRAL THEOBALD      </td> <td>PRESIDENTE                                      </td> <td>386.515.728,00    </td> <td>25300004827</td> <td>-                  </td> <td>-                  </td> <td>-                     </td> <td>-             </td> <td>-                 </td> <td>-                      </td> <td>-             </td> <td>-                  </td> <td>417900            </td> <td>Não fornecido pelo SERPRO</td> <td> 09095183000140</td> <td>09095183000140</td> <td>9095183000140 </td>\n",
       "        </tr>\n",
       "    </tbody>\n",
       "        <tr>\n",
       "            <td>PORTO BELO ENGENHARIA E COMERCIO LTDA                       </td> <td>PORTO BELO ENGENHARIA                 </td> <td>MATRIZ        </td> <td>26/06/1987  </td> <td>Ativa            </td> <td>SEM MOTIVO             </td> <td>21/05/2005           </td> <td>Construção de edifícios                                     </td> <td>SOCIEDADE EMPRESARIA LIMITADA                               </td> <td>Demais                  </td> <td>RUA         </td> <td>4                            </td> <td>1400  </td> <td>QUADRA73 LOTE AREA TOTAL</td> <td>SETOR CENTRAL  </td> <td>74025020</td> <td>GOIANIA       </td> <td>GO  </td> <td>62   </td> <td>32193353  </td> <td>62   </td> <td>32783909  </td> <td>61     </td> <td>3474888 </td> <td>-             </td> <td>-   </td> <td>portobelo@nutecnet.com.br    </td> <td>S        </td> <td> 063.760.696-57</td> <td>FABIO DE PAULA NEVES            </td> <td>ADMINISTRADOR                                   </td> <td>42.122.366,00     </td> <td>52202781073</td> <td>-                  </td> <td>-                  </td> <td>2                     </td> <td>03701380000180</td> <td>24/03/2017        </td> <td>1                      </td> <td>21568196000195</td> <td>24/03/2017         </td> <td>120100            </td> <td>Não fornecido pelo SERPRO</td> <td> 03701380000180</td> <td>03701380000180</td> <td>3701380000180 </td>\n",
       "        </tr>\n",
       "    </tbody>\n",
       "        <tr>\n",
       "            <td>SALINAS EMPREENDIMENTOS E CONSTRUCOES LTDA - ME             </td> <td>SALINAS                               </td> <td>MATRIZ        </td> <td>16/11/1993  </td> <td>Ativa            </td> <td>SEM MOTIVO             </td> <td>30/10/2004           </td> <td>Construção de edifícios                                     </td> <td>SOCIEDADE EMPRESARIA LIMITADA                               </td> <td>Micro-Empresa           </td> <td>RUA         </td> <td>NIVALDO SOARES DE PINHO      </td> <td>78    </td> <td>-                       </td> <td>VENANCIOS      </td> <td>63700000</td> <td>CRATEUS       </td> <td>CE  </td> <td>88   </td> <td>36923599  </td> <td>-    </td> <td>-         </td> <td>-      </td> <td>-       </td> <td>-             </td> <td>-   </td> <td>-                            </td> <td>S        </td> <td> 057.674.223-62</td> <td>FRANCISCO LENNON BARBOSA MARTINS</td> <td>SOCIO-ADMINISTRADOR                             </td> <td>5.000.000,00      </td> <td>23201547031</td> <td>01/07/2007         </td> <td>31/07/2013         </td> <td>-                     </td> <td>-             </td> <td>-                 </td> <td>-                      </td> <td>-             </td> <td>-                  </td> <td>317600            </td> <td>Não fornecido pelo SERPRO</td> <td> 73694788000157</td> <td>73694788000157</td> <td>73694788000157</td>\n",
       "        </tr>\n",
       "    </tbody>\n",
       "</table>\n",
       "<p>... (39 rows omitted)</p>"
      ],
      "text/plain": [
       "Nome / Razão Social (no CNPJ)                                | Nome Fantasia (descrição)              | Matriz /Filial | DataAbertura | SituaçãoCadastral | MotivoSituaçãoCadastral | DataSituaçãoCadastral | Atividade Econômica do Estabelecimento                       | Natureza Jurídica (descrição no CNPJ)                        | PorteEmpresa             | TipoEndereço | Endereço (descrição completa) | Número | Complemento              | Bairro          | CEP      | Município      | UF   | DDD 1 | Telefone 1 | DDD 2 | Telefone 2 | DDD Fax | Fax      | CidadeExterior | País | Email                         | TemSócio? | CPFResponsável  | Nome do Responsável              | QualificaçãoResponsável                          | ValorCapitalSocial | NIRE        | DataInclusãoSimples | DataExclusãoSimples | Tipo(OperaçãoSucedida) | CNPJSucedida   | DataEventoSucedida | Tipo(OperaçãoSucessora) | CNPJSucessora  | DataEventoSucessora | Cod OrgãoAduaneiro | Qualificação Tributária   | CNPJ new        | CNPJ trim      | CNPJ num\n",
       "C B A CONSTRUCOES LTDA - EPP                                 | C B A CONSTRUCOES                      | MATRIZ         | 04/06/2008   | Ativa             | SEM MOTIVO              | 04/06/2008            | Serviços especializados para construção não especificado ... | SOCIEDADE EMPRESARIA LIMITADA                                | Empresa de Pequeno Porte | RUA          | BELTRANDO DE FARIAS CASTRO    | 285    | -                        | CRUZEIRO        | 58415453 | CAMPINA GRANDE | PB   | 83    | 33227294   | -     | -          | -       | -        | -              | -    | ppproma@hotmail.com           | S         |  514.762.664-68 | CAETANO BATISTA DE ALMEIDA       | SOCIO-ADMINISTRADOR                              | 1.500.000,00       | 25200479742 | 01/01/2009          | 31/12/2017          | -                      | -              | -                  | -                       | -              | -                   | 417900             | Não fornecido pelo SERPRO |  09605291000116 | 09605291000116 | 9605291000116\n",
       "LINK CARD ADMINISTRADORA DE BENEFICIOS EIRELI                | -                                      | MATRIZ         | 11/05/2010   | Ativa             | SEM MOTIVO              | 11/05/2010            | Atividades de consultoria em gestão empresarial, exceto  ... | EMPRESA INDIVIDUAL DE RESPONSABILIDADE LIMITADA (DE NATU ... | Demais                   | RUA          | RUI BARBOSA                   | 449    | SALA 03                  | CENTRO          | 18290000 | BURI           | SP   | 15    | 35461903   | -     | -          | -       | -        | -              | -    | CONTATO@LINKBENEFICIOS.COM.BR | S         |  310.580.618-01 | MARCELO DE OLIVEIRA LIMA         | TITULAR P.FISICA RESID. OU DOMICILIADO NO BRASIL | 1.250.000,00       | 35600829668 | 11/05/2010          | 30/06/2012          | -                      | -              | -                  | -                       | -              | -                   | 811000             | Não fornecido pelo SERPRO |  12039966000111 | 12039966000111 | 12039966000111\n",
       "GRILLO E WERNECK PROJETOS E CONSULTORIA LTDA                 | -                                      | MATRIZ         | 21/05/2004   | Ativa             | SEM MOTIVO              | 21/05/2004            | Serviços de arquitetura                                      | SOCIEDADE EMPRESARIA LIMITADA                                | Empresa de Pequeno Porte | AVENIDA      | DO CONTORNO                   | 4.852  | SALA 704                 | FUNCIONARIOS    | 30110031 | BELO HORIZONTE | MG   | 31    | 32233802   | -     | -          | 31      | 32233802 | -              | -    | -                             | S         |  253.559.106-53 | FLAVIO CAMPOS GRILLO             | SOCIO-ADMINISTRADOR                              | 200.000,00         | 31208916429 | -                   | -                   | -                      | -              | -                  | -                       | -              | -                   | 617700             | Não fornecido pelo SERPRO |  06298743000176 | 06298743000176 | 6298743000176\n",
       "EBA - ENGENHARIA BRASILEIRA DE AVALIACOES, ASSESSORIA, G ... | EBA - EMPRESA BRASILEIRA DE AVALIACOES | MATRIZ         | 18/07/2013   | Ativa             | SEM MOTIVO              | 18/07/2013            | Serviços de engenharia                                       | SOCIEDADE EMPRESARIA LIMITADA                                | Micro-Empresa            | AVENIDA      | DOUTOR EDESIO VIEIRA DE MELO  | 1074   | -                        | SUISSA          | 49052240 | ARACAJU        | SE   | 79    | 32228722   | -     | -          | -       | -        | -              | -    | SERVCONTAB_2000@HOTMAIL.COM   | S         |  829.450.555-20 | MEIDE GLAN DOS SANTOS            | SOCIO-ADMINISTRADOR                              | 510.000,00         | 28200543257 | -                   | -                   | -                      | -              | -                  | -                       | -              | -                   | 520100             | Não fornecido pelo SERPRO |  18518276000121 | 18518276000121 | 18518276000121\n",
       "AMBIENTE BRASIL ENGENHARIA LTDA                              | -                                      | MATRIZ         | 02/06/2004   | Ativa             | SEM MOTIVO              | 02/06/2004            | Serviços de engenharia                                       | SOCIEDADE EMPRESARIA LIMITADA                                | Empresa de Pequeno Porte | RUA          | MIRAGAIA                      | 209    | -                        | BUTANTA         | 5511020  | SAO PAULO      | SP   | 11    | 30311151   | 11    | 50824562   | 11      | 50847978 | -              | -    | CRCSPP@GMAIL.COM              | S         |  782.974.006-20 | NELSON LOPES CORREA SOBRINHO     | SOCIO-ADMINISTRADOR                              | 2.000.000,00       | 35222137591 | -                   | -                   | -                      | -              | -                  | -                       | -              | -                   | 816500             | Não fornecido pelo SERPRO |  06306458000150 | 06306458000150 | 6306458000150\n",
       "MAIA MELO ENGENHARIA LTDA                                    | -                                      | MATRIZ         | 01/06/1982   | Ativa             | SEM MOTIVO              | 03/11/2005            | Serviços de engenharia                                       | SOCIEDADE EMPRESARIA LIMITADA                                | Demais                   | RUA          | GENERAL JOAQUIM INACIO        | 136    | -                        | ILHA DO LEITE   | 50070270 | RECIFE         | PE   | 81    | 34233977   | 81    | 34233962   | -       | -        | -              | -    | mirtes@maiamelo.com.br        | S         |  342.669.094-20 | ROGERIO GIGLIO                   | SOCIO-ADMINISTRADOR                              | 15.246.668,00      | 26200333269 | -                   | -                   | -                      | -              | -                  | -                       | -              | -                   | 417900             | Não fornecido pelo SERPRO |  08156424000151 | 08156424000151 | 8156424000151\n",
       "JOSE RONYELLY ABRANTES SILVA - ME                            | -                                      | MATRIZ         | 26/02/2008   | Ativa             | SEM MOTIVO              | 26/02/2008            | Restaurantes e similares                                     | EMPRESARIO (INDIVIDUAL)                                      | Micro-Empresa            | AVENIDA      | ELPIDIO DE ALMEIDA            | 1581   | -                        | CATOLE          | 58410215 | CAMPINA GRANDE | PB   | 83    | 33310139   | -     | -          | -       | -        | -              | -    | ADNELSONOLIVEIRA@BOL.COM.BR   | N         |  073.462.814-54 | JOSE RONYELLY ABRANTES SILVA     | EMPRESARIO                                       | 200.000,00         | 25101074850 | 01/01/2017          | -                   | -                      | -              | -                  | -                       | -              | -                   | 430151             | Não fornecido pelo SERPRO |  09384762000103 | 09384762000103 | 9384762000103\n",
       "ENERGISA PARAIBA - DISTRIBUIDORA DE ENERGIA S.A              | ENERGISA                               | MATRIZ         | 24/08/1966   | Ativa             | SEM MOTIVO              | 03/11/2005            | Distribuição de energia elétrica                             | SOCIEDADE ANONIMA ABERTA                                     | Demais                   | -            | BR 230 KM 25                  | S/N    | -                        | CRISTO REDENTOR | 58071680 | JOAO PESSOA    | PB   | 83    | 2151098    | -     | -          | 83      | 2311886  | -              | -    | SAELPADFC@SAELPA.COM.BR       | S         |  008.534.037-59 | ANDRE LUIS CABRAL THEOBALD       | PRESIDENTE                                       | 386.515.728,00     | 25300004827 | -                   | -                   | -                      | -              | -                  | -                       | -              | -                   | 417900             | Não fornecido pelo SERPRO |  09095183000140 | 09095183000140 | 9095183000140\n",
       "PORTO BELO ENGENHARIA E COMERCIO LTDA                        | PORTO BELO ENGENHARIA                  | MATRIZ         | 26/06/1987   | Ativa             | SEM MOTIVO              | 21/05/2005            | Construção de edifícios                                      | SOCIEDADE EMPRESARIA LIMITADA                                | Demais                   | RUA          | 4                             | 1400   | QUADRA73 LOTE AREA TOTAL | SETOR CENTRAL   | 74025020 | GOIANIA        | GO   | 62    | 32193353   | 62    | 32783909   | 61      | 3474888  | -              | -    | portobelo@nutecnet.com.br     | S         |  063.760.696-57 | FABIO DE PAULA NEVES             | ADMINISTRADOR                                    | 42.122.366,00      | 52202781073 | -                   | -                   | 2                      | 03701380000180 | 24/03/2017         | 1                       | 21568196000195 | 24/03/2017          | 120100             | Não fornecido pelo SERPRO |  03701380000180 | 03701380000180 | 3701380000180\n",
       "SALINAS EMPREENDIMENTOS E CONSTRUCOES LTDA - ME              | SALINAS                                | MATRIZ         | 16/11/1993   | Ativa             | SEM MOTIVO              | 30/10/2004            | Construção de edifícios                                      | SOCIEDADE EMPRESARIA LIMITADA                                | Micro-Empresa            | RUA          | NIVALDO SOARES DE PINHO       | 78     | -                        | VENANCIOS       | 63700000 | CRATEUS        | CE   | 88    | 36923599   | -     | -          | -       | -        | -              | -    | -                             | S         |  057.674.223-62 | FRANCISCO LENNON BARBOSA MARTINS | SOCIO-ADMINISTRADOR                              | 5.000.000,00       | 23201547031 | 01/07/2007          | 31/07/2013          | -                      | -              | -                  | -                       | -              | -                   | 317600             | Não fornecido pelo SERPRO |  73694788000157 | 73694788000157 | 73694788000157\n",
       "... (39 rows omitted)"
      ]
     },
     "execution_count": 160,
     "metadata": {},
     "output_type": "execute_result"
    }
   ],
   "source": [
    "tb_empresas = tb_empresas.with_column('CNPJ num', tb_empresas.apply(converts_str_int, 'CNPJ new'))\n",
    "tb_empresas"
   ]
  },
  {
   "cell_type": "code",
   "execution_count": 178,
   "metadata": {},
   "outputs": [
    {
     "data": {
      "text/plain": [
       "'18193729000197'"
      ]
     },
     "execution_count": 178,
     "metadata": {},
     "output_type": "execute_result"
    }
   ],
   "source": [
    "# pega o CNPJ str da empresa\n",
    "cnpj_empresa = tb_empresas.where('Nome / Razão Social (no CNPJ)', are.containing('SERVICIOS')).columns[-2][0]\n",
    "cnpj_empresa"
   ]
  },
  {
   "cell_type": "markdown",
   "metadata": {},
   "source": [
    "### Faz o Join com a tabela de contratantes"
   ]
  },
  {
   "cell_type": "code",
   "execution_count": 169,
   "metadata": {},
   "outputs": [
    {
     "data": {
      "text/html": [
       "<table border=\"1\" class=\"dataframe\">\n",
       "    <thead>\n",
       "        <tr>\n",
       "            <th>Contratante</th> <th>CNPJ CPF For</th> <th>Nome_For</th> <th>Valor sum</th>\n",
       "        </tr>\n",
       "    </thead>\n",
       "    <tbody>\n",
       "        <tr>\n",
       "            <td>393017 - SUP. REG. DO DNIT NO ESTADO DA PARAIBA      </td> <td>18193729000197</td> <td>SOCIEDAD ANONIMA DE OBRAS Y SERVICIOS COPASA DO BRASIL</td> <td>255,499,965.80</td>\n",
       "        </tr>\n",
       "    </tbody>\n",
       "        <tr>\n",
       "            <td>393017 - SUP. REG. DO DNIT NO ESTADO DA PARAIBA      </td> <td>01527612000108</td> <td>SHALOM ENGENHARIA LTDA                                </td> <td>52,350,000.00 </td>\n",
       "        </tr>\n",
       "    </tbody>\n",
       "        <tr>\n",
       "            <td>200396 - SUPERINTENDENCIA REG.DEP.POLICIA FEDERAL- PB</td> <td>03701380000180</td> <td>PORTO BELO ENGENHARIA E COMERCIO LTDA                 </td> <td>33,501,517.90 </td>\n",
       "        </tr>\n",
       "    </tbody>\n",
       "        <tr>\n",
       "            <td>153066 - PREFEITURA UNIVERSITARIA DA UFPB            </td> <td>07442731000136</td> <td>JMT SERVICOS DE LOCACAO DE MAO DE OBRA LTDA           </td> <td>26,993,720.20 </td>\n",
       "        </tr>\n",
       "    </tbody>\n",
       "        <tr>\n",
       "            <td>158138 - INST.FED.DE EDUC.,CIENC.E TEC.DA PARAIBA    </td> <td>10758902000145</td> <td>CONSTRAL CONSTRUTORA E CONSULTORIA SANTO ANTONIO LTDA </td> <td>19,985,166.20 </td>\n",
       "        </tr>\n",
       "    </tbody>\n",
       "        <tr>\n",
       "            <td>393017 - SUP. REG. DO DNIT NO ESTADO DA PARAIBA      </td> <td>16873137000190</td> <td>LF CONSULTORIA E EQUIPAMENTOS LTDA - EPP              </td> <td>15,776,021.30 </td>\n",
       "        </tr>\n",
       "    </tbody>\n",
       "        <tr>\n",
       "            <td>393017 - SUP. REG. DO DNIT NO ESTADO DA PARAIBA      </td> <td>09539563000127</td> <td>CONSTRUTORA SOUZA REIS LTDA                           </td> <td>13,939,209.80 </td>\n",
       "        </tr>\n",
       "    </tbody>\n",
       "        <tr>\n",
       "            <td>158138 - INST.FED.DE EDUC.,CIENC.E TEC.DA PARAIBA    </td> <td>05219643000144</td> <td>CONSERV - CONSTRUCOES E SERVICOS LTDA                 </td> <td>13,298,336.50 </td>\n",
       "        </tr>\n",
       "    </tbody>\n",
       "        <tr>\n",
       "            <td>158138 - INST.FED.DE EDUC.,CIENC.E TEC.DA PARAIBA    </td> <td>02350293000162</td> <td>CONSTRUSEL - CONSTRUCOES E SERVICOS LTDA.             </td> <td>12,137,251.80 </td>\n",
       "        </tr>\n",
       "    </tbody>\n",
       "        <tr>\n",
       "            <td>393017 - SUP. REG. DO DNIT NO ESTADO DA PARAIBA      </td> <td>08156424000151</td> <td>MAIA MELO ENGENHARIA LTDA                             </td> <td>11,867,000.00 </td>\n",
       "        </tr>\n",
       "    </tbody>\n",
       "</table>\n",
       "<p>... (462 rows omitted)</p>"
      ],
      "text/plain": [
       "Contratante                                           | CNPJ CPF For   | Nome_For                                               | Valor sum\n",
       "393017 - SUP. REG. DO DNIT NO ESTADO DA PARAIBA       | 18193729000197 | SOCIEDAD ANONIMA DE OBRAS Y SERVICIOS COPASA DO BRASIL | 255,499,965.80\n",
       "393017 - SUP. REG. DO DNIT NO ESTADO DA PARAIBA       | 01527612000108 | SHALOM ENGENHARIA LTDA                                 | 52,350,000.00\n",
       "200396 - SUPERINTENDENCIA REG.DEP.POLICIA FEDERAL- PB | 03701380000180 | PORTO BELO ENGENHARIA E COMERCIO LTDA                  | 33,501,517.90\n",
       "153066 - PREFEITURA UNIVERSITARIA DA UFPB             | 07442731000136 | JMT SERVICOS DE LOCACAO DE MAO DE OBRA LTDA            | 26,993,720.20\n",
       "158138 - INST.FED.DE EDUC.,CIENC.E TEC.DA PARAIBA     | 10758902000145 | CONSTRAL CONSTRUTORA E CONSULTORIA SANTO ANTONIO LTDA  | 19,985,166.20\n",
       "393017 - SUP. REG. DO DNIT NO ESTADO DA PARAIBA       | 16873137000190 | LF CONSULTORIA E EQUIPAMENTOS LTDA - EPP               | 15,776,021.30\n",
       "393017 - SUP. REG. DO DNIT NO ESTADO DA PARAIBA       | 09539563000127 | CONSTRUTORA SOUZA REIS LTDA                            | 13,939,209.80\n",
       "158138 - INST.FED.DE EDUC.,CIENC.E TEC.DA PARAIBA     | 05219643000144 | CONSERV - CONSTRUCOES E SERVICOS LTDA                  | 13,298,336.50\n",
       "158138 - INST.FED.DE EDUC.,CIENC.E TEC.DA PARAIBA     | 02350293000162 | CONSTRUSEL - CONSTRUCOES E SERVICOS LTDA.              | 12,137,251.80\n",
       "393017 - SUP. REG. DO DNIT NO ESTADO DA PARAIBA       | 08156424000151 | MAIA MELO ENGENHARIA LTDA                              | 11,867,000.00\n",
       "... (462 rows omitted)"
      ]
     },
     "execution_count": 169,
     "metadata": {},
     "output_type": "execute_result"
    }
   ],
   "source": [
    "contratantes.sort('Valor sum', descending=True)"
   ]
  },
  {
   "cell_type": "markdown",
   "metadata": {},
   "source": [
    "### Testa os CNPJs para ver se estão aptos para o Join"
   ]
  },
  {
   "cell_type": "code",
   "execution_count": 176,
   "metadata": {},
   "outputs": [
    {
     "data": {
      "text/plain": [
       "'18193729000197'"
      ]
     },
     "execution_count": 176,
     "metadata": {},
     "output_type": "execute_result"
    }
   ],
   "source": [
    "cnpj_contratante = contratantes.sort('Valor sum', descending=True).columns[1][0]\n",
    "cnpj_contratante"
   ]
  },
  {
   "cell_type": "code",
   "execution_count": 179,
   "metadata": {},
   "outputs": [
    {
     "data": {
      "text/plain": [
       "True"
      ]
     },
     "execution_count": 179,
     "metadata": {},
     "output_type": "execute_result"
    }
   ],
   "source": [
    "cnpj_contratante == cnpj_empresa"
   ]
  },
  {
   "cell_type": "code",
   "execution_count": 190,
   "metadata": {},
   "outputs": [
    {
     "data": {
      "text/html": [
       "<table border=\"1\" class=\"dataframe\">\n",
       "    <thead>\n",
       "        <tr>\n",
       "            <th>CNPJ CPF For</th> <th>Contratante</th> <th>Nome_For</th> <th>Valor sum</th> <th>Nome / Razão Social (no CNPJ)</th> <th>Nome Fantasia (descrição)</th> <th>Matriz /Filial</th> <th>DataAbertura</th> <th>SituaçãoCadastral</th> <th>MotivoSituaçãoCadastral</th> <th>DataSituaçãoCadastral</th> <th>Atividade Econômica do Estabelecimento</th> <th>Natureza Jurídica (descrição no CNPJ)</th> <th>PorteEmpresa</th> <th>TipoEndereço</th> <th>Endereço (descrição completa)</th> <th>Número</th> <th>Complemento</th> <th>Bairro</th> <th>CEP</th> <th>Município</th> <th>UF</th> <th>DDD 1</th> <th>Telefone 1</th> <th>DDD 2</th> <th>Telefone 2</th> <th>DDD Fax</th> <th>Fax</th> <th>CidadeExterior</th> <th>País</th> <th>Email</th> <th>TemSócio?</th> <th>CPFResponsável</th> <th>Nome do Responsável</th> <th>QualificaçãoResponsável</th> <th>ValorCapitalSocial</th> <th>NIRE</th> <th>DataInclusãoSimples</th> <th>DataExclusãoSimples</th> <th>Tipo(OperaçãoSucedida)</th> <th>CNPJSucedida</th> <th>DataEventoSucedida</th> <th>Tipo(OperaçãoSucessora)</th> <th>CNPJSucessora</th> <th>DataEventoSucessora</th> <th>Cod OrgãoAduaneiro</th> <th>Qualificação Tributária</th> <th>CNPJ new</th> <th>CNPJ num</th>\n",
       "        </tr>\n",
       "    </thead>\n",
       "    <tbody>\n",
       "        <tr>\n",
       "            <td>18193729000197</td> <td>393017 - SUP. REG. DO DNIT NO ESTADO DA PARAIBA      </td> <td>SOCIEDAD ANONIMA DE OBRAS Y SERVICIOS COPASA DO BRASIL</td> <td>255,499,965.80</td> <td>SOCIEDAD ANONIMA DE OBRAS Y SERVICIOS COPASA DO BRASIL</td> <td>-                                 </td> <td>MATRIZ        </td> <td>27/05/2013  </td> <td>Ativa            </td> <td>SEM MOTIVO             </td> <td>27/05/2013           </td> <td>Construção de edifícios               </td> <td>ESTABELECIMENTO, NO BRASIL, DE SOCIEDADE ESTRANGEIRA</td> <td>Demais                  </td> <td>AVENIDA     </td> <td>ANGELICA                     </td> <td>2.530 </td> <td>SALA: 122;              </td> <td>CONSOLACAO            </td> <td>1228200 </td> <td>SAO PAULO     </td> <td>SP  </td> <td>11   </td> <td>36633307  </td> <td>-    </td> <td>-         </td> <td>11     </td> <td>36633307</td> <td>-             </td> <td>-   </td> <td>KARINY@COPASABRASIL.COM.BR               </td> <td>N        </td> <td> 217.693.338-94</td> <td>HERMENEGILDO MORENO LORIENTE    </td> <td>PROCURADOR             </td> <td>13.552.882,00     </td> <td>35500707749</td> <td>-                  </td> <td>-                  </td> <td>-                     </td> <td>-             </td> <td>-                 </td> <td>-                      </td> <td>-             </td> <td>-                  </td> <td>816500            </td> <td>Não fornecido pelo SERPRO</td> <td> 18193729000197</td> <td>18193729000197</td>\n",
       "        </tr>\n",
       "    </tbody>\n",
       "        <tr>\n",
       "            <td>01527612000108</td> <td>393017 - SUP. REG. DO DNIT NO ESTADO DA PARAIBA      </td> <td>SHALOM ENGENHARIA LTDA                                </td> <td>52,350,000.00 </td> <td>SHALOM ENGENHARIA LTDA                                </td> <td>-                                 </td> <td>MATRIZ        </td> <td>11/11/1996  </td> <td>Ativa            </td> <td>SEM MOTIVO             </td> <td>03/11/2005           </td> <td>Construção de rodovias e ferrovias    </td> <td>SOCIEDADE EMPRESARIA LIMITADA                       </td> <td>Demais                  </td> <td>-           </td> <td>PB 004                       </td> <td>SN    </td> <td>-                       </td> <td>ENGENHOTIBIRI         </td> <td>58300410</td> <td>SANTA RITA    </td> <td>PB  </td> <td>83   </td> <td>2244881   </td> <td>-    </td> <td>-         </td> <td>83     </td> <td>2440838 </td> <td>-             </td> <td>-   </td> <td>-                                        </td> <td>S        </td> <td> 028.220.434-26</td> <td>LUIZ SANTIAGO BRANDAO FILHO     </td> <td>SOCIO-ADMINISTRADOR    </td> <td>9.000.000,00      </td> <td>25200298217</td> <td>-                  </td> <td>-                  </td> <td>-                     </td> <td>-             </td> <td>-                 </td> <td>-                      </td> <td>-             </td> <td>-                  </td> <td>417900            </td> <td>Não fornecido pelo SERPRO</td> <td> 01527612000108</td> <td>1527612000108 </td>\n",
       "        </tr>\n",
       "    </tbody>\n",
       "        <tr>\n",
       "            <td>03701380000180</td> <td>200396 - SUPERINTENDENCIA REG.DEP.POLICIA FEDERAL- PB</td> <td>PORTO BELO ENGENHARIA E COMERCIO LTDA                 </td> <td>33,501,517.90 </td> <td>PORTO BELO ENGENHARIA E COMERCIO LTDA                 </td> <td>PORTO BELO ENGENHARIA             </td> <td>MATRIZ        </td> <td>26/06/1987  </td> <td>Ativa            </td> <td>SEM MOTIVO             </td> <td>21/05/2005           </td> <td>Construção de edifícios               </td> <td>SOCIEDADE EMPRESARIA LIMITADA                       </td> <td>Demais                  </td> <td>RUA         </td> <td>4                            </td> <td>1400  </td> <td>QUADRA73 LOTE AREA TOTAL</td> <td>SETOR CENTRAL         </td> <td>74025020</td> <td>GOIANIA       </td> <td>GO  </td> <td>62   </td> <td>32193353  </td> <td>62   </td> <td>32783909  </td> <td>61     </td> <td>3474888 </td> <td>-             </td> <td>-   </td> <td>portobelo@nutecnet.com.br                </td> <td>S        </td> <td> 063.760.696-57</td> <td>FABIO DE PAULA NEVES            </td> <td>ADMINISTRADOR          </td> <td>42.122.366,00     </td> <td>52202781073</td> <td>-                  </td> <td>-                  </td> <td>2                     </td> <td>03701380000180</td> <td>24/03/2017        </td> <td>1                      </td> <td>21568196000195</td> <td>24/03/2017         </td> <td>120100            </td> <td>Não fornecido pelo SERPRO</td> <td> 03701380000180</td> <td>3701380000180 </td>\n",
       "        </tr>\n",
       "    </tbody>\n",
       "        <tr>\n",
       "            <td>07442731000136</td> <td>153066 - PREFEITURA UNIVERSITARIA DA UFPB            </td> <td>JMT SERVICOS DE LOCACAO DE MAO DE OBRA LTDA           </td> <td>26,993,720.20 </td> <td>JMT SERVICOS DE LOCACAO DE MAO DE OBRA LTDA           </td> <td>JMT SERVICE LOCACAO DE MAO DE OBRA</td> <td>MATRIZ        </td> <td>17/06/2005  </td> <td>Ativa            </td> <td>SEM MOTIVO             </td> <td>17/06/2005           </td> <td>Locação de mão-de-obra temporária     </td> <td>SOCIEDADE EMPRESARIA LIMITADA                       </td> <td>Demais                  </td> <td>AVENIDA     </td> <td>JAGUARARI                    </td> <td>1327  </td> <td>-                       </td> <td>BARRO VERMELHO        </td> <td>59030500</td> <td>NATAL         </td> <td>RN  </td> <td>84   </td> <td>20101954  </td> <td>-    </td> <td>-         </td> <td>84     </td> <td>32341139</td> <td>-             </td> <td>-   </td> <td>acertcontabil@gmail.com                  </td> <td>S        </td> <td> 938.755.334-53</td> <td>JONAS ALVES DA SILVA            </td> <td>SOCIO-ADMINISTRADOR    </td> <td>12.000.000,00     </td> <td>24200412451</td> <td>-                  </td> <td>-                  </td> <td>-                     </td> <td>-             </td> <td>-                 </td> <td>-                      </td> <td>-             </td> <td>-                  </td> <td>417900            </td> <td>Não fornecido pelo SERPRO</td> <td> 07442731000136</td> <td>7442731000136 </td>\n",
       "        </tr>\n",
       "    </tbody>\n",
       "        <tr>\n",
       "            <td>10758902000145</td> <td>158138 - INST.FED.DE EDUC.,CIENC.E TEC.DA PARAIBA    </td> <td>CONSTRAL CONSTRUTORA E CONSULTORIA SANTO ANTONIO LTDA </td> <td>19,985,166.20 </td> <td>CONSTRAL CONSTRUTORA E CONSULTORIA SANTO ANTONIO LTDA </td> <td>-                                 </td> <td>MATRIZ        </td> <td>09/06/1986  </td> <td>Ativa            </td> <td>SEM MOTIVO             </td> <td>07/06/2001           </td> <td>Construção de edifícios               </td> <td>SOCIEDADE EMPRESARIA LIMITADA                       </td> <td>Demais                  </td> <td>VIA         </td> <td>LOCAL 15                     </td> <td>66    </td> <td>-                       </td> <td>LOTEAMENTO MORADA NOVA</td> <td>58108502</td> <td>CABEDELO      </td> <td>PB  </td> <td>83   </td> <td>32470449  </td> <td>83   </td> <td>32459309  </td> <td>83     </td> <td>32470449</td> <td>-             </td> <td>-   </td> <td>contabilidadeconstral@hotmail.com        </td> <td>S        </td> <td> 225.819.874-72</td> <td>FERNANDO FLEURY WANDERLEY SOARES</td> <td>SOCIO-ADMINISTRADOR    </td> <td>2.300.000,00      </td> <td>25200132301</td> <td>-                  </td> <td>-                  </td> <td>-                     </td> <td>-             </td> <td>-                 </td> <td>-                      </td> <td>-             </td> <td>-                  </td> <td>417900            </td> <td>Não fornecido pelo SERPRO</td> <td> 10758902000145</td> <td>10758902000145</td>\n",
       "        </tr>\n",
       "    </tbody>\n",
       "        <tr>\n",
       "            <td>16873137000190</td> <td>393017 - SUP. REG. DO DNIT NO ESTADO DA PARAIBA      </td> <td>LF CONSULTORIA E EQUIPAMENTOS LTDA - EPP              </td> <td>15,776,021.30 </td> <td>LF CONSULTORIA E EQUIPAMENTOS LTDA - EPP              </td> <td>LF ENGENHARIA                     </td> <td>MATRIZ        </td> <td>19/09/2012  </td> <td>Ativa            </td> <td>SEM MOTIVO             </td> <td>19/09/2012           </td> <td>Construção de rodovias e ferrovias    </td> <td>SOCIEDADE EMPRESARIA LIMITADA                       </td> <td>Empresa de Pequeno Porte</td> <td>RUA         </td> <td>UNIVERSO                     </td> <td>36    </td> <td>SALA 301                </td> <td>SANTA LUCIA           </td> <td>30350612</td> <td>BELO HORIZONTE</td> <td>MG  </td> <td>31   </td> <td>34868499  </td> <td>31   </td> <td>34869345  </td> <td>-      </td> <td>-       </td> <td>-             </td> <td>-   </td> <td>GEMAME@GEMAME.COM.BR                     </td> <td>S        </td> <td> 032.073.346-79</td> <td>LUCIANO XISTO LOUREIRO FERREIRA </td> <td>SOCIO-ADMINISTRADOR    </td> <td>744.920,00        </td> <td>31209642641</td> <td>-                  </td> <td>-                  </td> <td>-                     </td> <td>-             </td> <td>-                 </td> <td>-                      </td> <td>-             </td> <td>-                  </td> <td>615100            </td> <td>Não fornecido pelo SERPRO</td> <td> 16873137000190</td> <td>16873137000190</td>\n",
       "        </tr>\n",
       "    </tbody>\n",
       "        <tr>\n",
       "            <td>09539563000127</td> <td>393017 - SUP. REG. DO DNIT NO ESTADO DA PARAIBA      </td> <td>CONSTRUTORA SOUZA REIS LTDA                           </td> <td>13,939,209.80 </td> <td>CONSTRUTORA SOUZA REIS LTDA                           </td> <td>SOUZA REIS                        </td> <td>MATRIZ        </td> <td>08/05/2008  </td> <td>Ativa            </td> <td>SEM MOTIVO             </td> <td>08/05/2008           </td> <td>Construção de rodovias e ferrovias    </td> <td>SOCIEDADE EMPRESARIA LIMITADA                       </td> <td>Demais                  </td> <td>AVENIDA     </td> <td>DOM LUIS                     </td> <td>300   </td> <td>SALA: 925;              </td> <td>ALDEOTA               </td> <td>60160196</td> <td>FORTALEZA     </td> <td>CE  </td> <td>85   </td> <td>30329260  </td> <td>-    </td> <td>-         </td> <td>85     </td> <td>35214519</td> <td>-             </td> <td>-   </td> <td>CONTABILIDADE@CONSTRUTORASOUZAREIS.COM.BR</td> <td>S        </td> <td> 127.950.894-91</td> <td>ALUIZIO ALVES DE SOUZA          </td> <td>SOCIO-ADMINISTRADOR    </td> <td>20.000.000,00     </td> <td>23201195282</td> <td>-                  </td> <td>-                  </td> <td>-                     </td> <td>-             </td> <td>-                 </td> <td>-                      </td> <td>-             </td> <td>-                  </td> <td>317900            </td> <td>Não fornecido pelo SERPRO</td> <td> 09539563000127</td> <td>9539563000127 </td>\n",
       "        </tr>\n",
       "    </tbody>\n",
       "        <tr>\n",
       "            <td>05219643000144</td> <td>158138 - INST.FED.DE EDUC.,CIENC.E TEC.DA PARAIBA    </td> <td>CONSERV - CONSTRUCOES E SERVICOS LTDA                 </td> <td>13,298,336.50 </td> <td>CONSERV - CONSTRUCOES E SERVICOS LTDA                 </td> <td>-                                 </td> <td>MATRIZ        </td> <td>12/08/2002  </td> <td>Ativa            </td> <td>SEM MOTIVO             </td> <td>12/08/2002           </td> <td>Construção de edifícios               </td> <td>SOCIEDADE EMPRESARIA LIMITADA                       </td> <td>Demais                  </td> <td>RUA         </td> <td>JOAO NAVARRO FILHO           </td> <td>157   </td> <td>-                       </td> <td>JARDIM OCEANIA        </td> <td>58037308</td> <td>JOAO PESSOA   </td> <td>PB  </td> <td>83   </td> <td>30155110  </td> <td>-    </td> <td>-         </td> <td>83     </td> <td>36212136</td> <td>-             </td> <td>-   </td> <td>CONSERV@CONSERVCONSTRUCOES.COM.BR        </td> <td>S        </td> <td> 051.244.964-36</td> <td>HERBERT GOMES DOS SANTOS        </td> <td>SOCIO-ADMINISTRADOR    </td> <td>6.300.000,00      </td> <td>25200394372</td> <td>-                  </td> <td>-                  </td> <td>-                     </td> <td>-             </td> <td>-                 </td> <td>-                      </td> <td>-             </td> <td>-                  </td> <td>430151            </td> <td>Não fornecido pelo SERPRO</td> <td> 05219643000144</td> <td>5219643000144 </td>\n",
       "        </tr>\n",
       "    </tbody>\n",
       "        <tr>\n",
       "            <td>02350293000162</td> <td>158138 - INST.FED.DE EDUC.,CIENC.E TEC.DA PARAIBA    </td> <td>CONSTRUSEL - CONSTRUCOES E SERVICOS LTDA.             </td> <td>12,137,251.80 </td> <td>CONSTRUSEL - CONSTRUCOES E SERVICOS LTDA.             </td> <td>CONSTRUSEL                        </td> <td>MATRIZ        </td> <td>20/01/1998  </td> <td>Ativa            </td> <td>SEM MOTIVO             </td> <td>03/11/2005           </td> <td>Construção de edifícios               </td> <td>SOCIEDADE EMPRESARIA LIMITADA                       </td> <td>Demais                  </td> <td>RUA         </td> <td>JOAQUIM BANDEIRA             </td> <td>280   </td> <td>-                       </td> <td>IMBIRIBEIRA           </td> <td>51160290</td> <td>RECIFE        </td> <td>PE  </td> <td>81   </td> <td>33391708  </td> <td>-    </td> <td>-         </td> <td>81     </td> <td>34281709</td> <td>-             </td> <td>-   </td> <td>mauriliorego@terra.com.br                </td> <td>S        </td> <td> 032.617.144-41</td> <td>PAULO CESAR DE CASTRO LIMA      </td> <td>SOCIO-ADMINISTRADOR    </td> <td>2.500.000,00      </td> <td>26201084351</td> <td>-                  </td> <td>-                  </td> <td>-                     </td> <td>-             </td> <td>-                 </td> <td>-                      </td> <td>-             </td> <td>-                  </td> <td>415100            </td> <td>Não fornecido pelo SERPRO</td> <td> 02350293000162</td> <td>2350293000162 </td>\n",
       "        </tr>\n",
       "    </tbody>\n",
       "        <tr>\n",
       "            <td>08156424000151</td> <td>393017 - SUP. REG. DO DNIT NO ESTADO DA PARAIBA      </td> <td>MAIA MELO ENGENHARIA LTDA                             </td> <td>11,867,000.00 </td> <td>MAIA MELO ENGENHARIA LTDA                             </td> <td>-                                 </td> <td>MATRIZ        </td> <td>01/06/1982  </td> <td>Ativa            </td> <td>SEM MOTIVO             </td> <td>03/11/2005           </td> <td>Serviços de engenharia                </td> <td>SOCIEDADE EMPRESARIA LIMITADA                       </td> <td>Demais                  </td> <td>RUA         </td> <td>GENERAL JOAQUIM INACIO       </td> <td>136   </td> <td>-                       </td> <td>ILHA DO LEITE         </td> <td>50070270</td> <td>RECIFE        </td> <td>PE  </td> <td>81   </td> <td>34233977  </td> <td>81   </td> <td>34233962  </td> <td>-      </td> <td>-       </td> <td>-             </td> <td>-   </td> <td>mirtes@maiamelo.com.br                   </td> <td>S        </td> <td> 342.669.094-20</td> <td>ROGERIO GIGLIO                  </td> <td>SOCIO-ADMINISTRADOR    </td> <td>15.246.668,00     </td> <td>26200333269</td> <td>-                  </td> <td>-                  </td> <td>-                     </td> <td>-             </td> <td>-                 </td> <td>-                      </td> <td>-             </td> <td>-                  </td> <td>417900            </td> <td>Não fornecido pelo SERPRO</td> <td> 08156424000151</td> <td>8156424000151 </td>\n",
       "        </tr>\n",
       "    </tbody>\n",
       "</table>\n",
       "<p>... (140 rows omitted)</p>"
      ],
      "text/plain": [
       "CNPJ CPF For   | Contratante                                           | Nome_For                                               | Valor sum      | Nome / Razão Social (no CNPJ)                          | Nome Fantasia (descrição)          | Matriz /Filial | DataAbertura | SituaçãoCadastral | MotivoSituaçãoCadastral | DataSituaçãoCadastral | Atividade Econômica do Estabelecimento | Natureza Jurídica (descrição no CNPJ)                | PorteEmpresa             | TipoEndereço | Endereço (descrição completa) | Número | Complemento              | Bairro                 | CEP      | Município      | UF   | DDD 1 | Telefone 1 | DDD 2 | Telefone 2 | DDD Fax | Fax      | CidadeExterior | País | Email                                     | TemSócio? | CPFResponsável  | Nome do Responsável              | QualificaçãoResponsável | ValorCapitalSocial | NIRE        | DataInclusãoSimples | DataExclusãoSimples | Tipo(OperaçãoSucedida) | CNPJSucedida   | DataEventoSucedida | Tipo(OperaçãoSucessora) | CNPJSucessora  | DataEventoSucessora | Cod OrgãoAduaneiro | Qualificação Tributária   | CNPJ new        | CNPJ num\n",
       "18193729000197 | 393017 - SUP. REG. DO DNIT NO ESTADO DA PARAIBA       | SOCIEDAD ANONIMA DE OBRAS Y SERVICIOS COPASA DO BRASIL | 255,499,965.80 | SOCIEDAD ANONIMA DE OBRAS Y SERVICIOS COPASA DO BRASIL | -                                  | MATRIZ         | 27/05/2013   | Ativa             | SEM MOTIVO              | 27/05/2013            | Construção de edifícios                | ESTABELECIMENTO, NO BRASIL, DE SOCIEDADE ESTRANGEIRA | Demais                   | AVENIDA      | ANGELICA                      | 2.530  | SALA: 122;               | CONSOLACAO             | 1228200  | SAO PAULO      | SP   | 11    | 36633307   | -     | -          | 11      | 36633307 | -              | -    | KARINY@COPASABRASIL.COM.BR                | N         |  217.693.338-94 | HERMENEGILDO MORENO LORIENTE     | PROCURADOR              | 13.552.882,00      | 35500707749 | -                   | -                   | -                      | -              | -                  | -                       | -              | -                   | 816500             | Não fornecido pelo SERPRO |  18193729000197 | 18193729000197\n",
       "01527612000108 | 393017 - SUP. REG. DO DNIT NO ESTADO DA PARAIBA       | SHALOM ENGENHARIA LTDA                                 | 52,350,000.00  | SHALOM ENGENHARIA LTDA                                 | -                                  | MATRIZ         | 11/11/1996   | Ativa             | SEM MOTIVO              | 03/11/2005            | Construção de rodovias e ferrovias     | SOCIEDADE EMPRESARIA LIMITADA                        | Demais                   | -            | PB 004                        | SN     | -                        | ENGENHOTIBIRI          | 58300410 | SANTA RITA     | PB   | 83    | 2244881    | -     | -          | 83      | 2440838  | -              | -    | -                                         | S         |  028.220.434-26 | LUIZ SANTIAGO BRANDAO FILHO      | SOCIO-ADMINISTRADOR     | 9.000.000,00       | 25200298217 | -                   | -                   | -                      | -              | -                  | -                       | -              | -                   | 417900             | Não fornecido pelo SERPRO |  01527612000108 | 1527612000108\n",
       "03701380000180 | 200396 - SUPERINTENDENCIA REG.DEP.POLICIA FEDERAL- PB | PORTO BELO ENGENHARIA E COMERCIO LTDA                  | 33,501,517.90  | PORTO BELO ENGENHARIA E COMERCIO LTDA                  | PORTO BELO ENGENHARIA              | MATRIZ         | 26/06/1987   | Ativa             | SEM MOTIVO              | 21/05/2005            | Construção de edifícios                | SOCIEDADE EMPRESARIA LIMITADA                        | Demais                   | RUA          | 4                             | 1400   | QUADRA73 LOTE AREA TOTAL | SETOR CENTRAL          | 74025020 | GOIANIA        | GO   | 62    | 32193353   | 62    | 32783909   | 61      | 3474888  | -              | -    | portobelo@nutecnet.com.br                 | S         |  063.760.696-57 | FABIO DE PAULA NEVES             | ADMINISTRADOR           | 42.122.366,00      | 52202781073 | -                   | -                   | 2                      | 03701380000180 | 24/03/2017         | 1                       | 21568196000195 | 24/03/2017          | 120100             | Não fornecido pelo SERPRO |  03701380000180 | 3701380000180\n",
       "07442731000136 | 153066 - PREFEITURA UNIVERSITARIA DA UFPB             | JMT SERVICOS DE LOCACAO DE MAO DE OBRA LTDA            | 26,993,720.20  | JMT SERVICOS DE LOCACAO DE MAO DE OBRA LTDA            | JMT SERVICE LOCACAO DE MAO DE OBRA | MATRIZ         | 17/06/2005   | Ativa             | SEM MOTIVO              | 17/06/2005            | Locação de mão-de-obra temporária      | SOCIEDADE EMPRESARIA LIMITADA                        | Demais                   | AVENIDA      | JAGUARARI                     | 1327   | -                        | BARRO VERMELHO         | 59030500 | NATAL          | RN   | 84    | 20101954   | -     | -          | 84      | 32341139 | -              | -    | acertcontabil@gmail.com                   | S         |  938.755.334-53 | JONAS ALVES DA SILVA             | SOCIO-ADMINISTRADOR     | 12.000.000,00      | 24200412451 | -                   | -                   | -                      | -              | -                  | -                       | -              | -                   | 417900             | Não fornecido pelo SERPRO |  07442731000136 | 7442731000136\n",
       "10758902000145 | 158138 - INST.FED.DE EDUC.,CIENC.E TEC.DA PARAIBA     | CONSTRAL CONSTRUTORA E CONSULTORIA SANTO ANTONIO LTDA  | 19,985,166.20  | CONSTRAL CONSTRUTORA E CONSULTORIA SANTO ANTONIO LTDA  | -                                  | MATRIZ         | 09/06/1986   | Ativa             | SEM MOTIVO              | 07/06/2001            | Construção de edifícios                | SOCIEDADE EMPRESARIA LIMITADA                        | Demais                   | VIA          | LOCAL 15                      | 66     | -                        | LOTEAMENTO MORADA NOVA | 58108502 | CABEDELO       | PB   | 83    | 32470449   | 83    | 32459309   | 83      | 32470449 | -              | -    | contabilidadeconstral@hotmail.com         | S         |  225.819.874-72 | FERNANDO FLEURY WANDERLEY SOARES | SOCIO-ADMINISTRADOR     | 2.300.000,00       | 25200132301 | -                   | -                   | -                      | -              | -                  | -                       | -              | -                   | 417900             | Não fornecido pelo SERPRO |  10758902000145 | 10758902000145\n",
       "16873137000190 | 393017 - SUP. REG. DO DNIT NO ESTADO DA PARAIBA       | LF CONSULTORIA E EQUIPAMENTOS LTDA - EPP               | 15,776,021.30  | LF CONSULTORIA E EQUIPAMENTOS LTDA - EPP               | LF ENGENHARIA                      | MATRIZ         | 19/09/2012   | Ativa             | SEM MOTIVO              | 19/09/2012            | Construção de rodovias e ferrovias     | SOCIEDADE EMPRESARIA LIMITADA                        | Empresa de Pequeno Porte | RUA          | UNIVERSO                      | 36     | SALA 301                 | SANTA LUCIA            | 30350612 | BELO HORIZONTE | MG   | 31    | 34868499   | 31    | 34869345   | -       | -        | -              | -    | GEMAME@GEMAME.COM.BR                      | S         |  032.073.346-79 | LUCIANO XISTO LOUREIRO FERREIRA  | SOCIO-ADMINISTRADOR     | 744.920,00         | 31209642641 | -                   | -                   | -                      | -              | -                  | -                       | -              | -                   | 615100             | Não fornecido pelo SERPRO |  16873137000190 | 16873137000190\n",
       "09539563000127 | 393017 - SUP. REG. DO DNIT NO ESTADO DA PARAIBA       | CONSTRUTORA SOUZA REIS LTDA                            | 13,939,209.80  | CONSTRUTORA SOUZA REIS LTDA                            | SOUZA REIS                         | MATRIZ         | 08/05/2008   | Ativa             | SEM MOTIVO              | 08/05/2008            | Construção de rodovias e ferrovias     | SOCIEDADE EMPRESARIA LIMITADA                        | Demais                   | AVENIDA      | DOM LUIS                      | 300    | SALA: 925;               | ALDEOTA                | 60160196 | FORTALEZA      | CE   | 85    | 30329260   | -     | -          | 85      | 35214519 | -              | -    | CONTABILIDADE@CONSTRUTORASOUZAREIS.COM.BR | S         |  127.950.894-91 | ALUIZIO ALVES DE SOUZA           | SOCIO-ADMINISTRADOR     | 20.000.000,00      | 23201195282 | -                   | -                   | -                      | -              | -                  | -                       | -              | -                   | 317900             | Não fornecido pelo SERPRO |  09539563000127 | 9539563000127\n",
       "05219643000144 | 158138 - INST.FED.DE EDUC.,CIENC.E TEC.DA PARAIBA     | CONSERV - CONSTRUCOES E SERVICOS LTDA                  | 13,298,336.50  | CONSERV - CONSTRUCOES E SERVICOS LTDA                  | -                                  | MATRIZ         | 12/08/2002   | Ativa             | SEM MOTIVO              | 12/08/2002            | Construção de edifícios                | SOCIEDADE EMPRESARIA LIMITADA                        | Demais                   | RUA          | JOAO NAVARRO FILHO            | 157    | -                        | JARDIM OCEANIA         | 58037308 | JOAO PESSOA    | PB   | 83    | 30155110   | -     | -          | 83      | 36212136 | -              | -    | CONSERV@CONSERVCONSTRUCOES.COM.BR         | S         |  051.244.964-36 | HERBERT GOMES DOS SANTOS         | SOCIO-ADMINISTRADOR     | 6.300.000,00       | 25200394372 | -                   | -                   | -                      | -              | -                  | -                       | -              | -                   | 430151             | Não fornecido pelo SERPRO |  05219643000144 | 5219643000144\n",
       "02350293000162 | 158138 - INST.FED.DE EDUC.,CIENC.E TEC.DA PARAIBA     | CONSTRUSEL - CONSTRUCOES E SERVICOS LTDA.              | 12,137,251.80  | CONSTRUSEL - CONSTRUCOES E SERVICOS LTDA.              | CONSTRUSEL                         | MATRIZ         | 20/01/1998   | Ativa             | SEM MOTIVO              | 03/11/2005            | Construção de edifícios                | SOCIEDADE EMPRESARIA LIMITADA                        | Demais                   | RUA          | JOAQUIM BANDEIRA              | 280    | -                        | IMBIRIBEIRA            | 51160290 | RECIFE         | PE   | 81    | 33391708   | -     | -          | 81      | 34281709 | -              | -    | mauriliorego@terra.com.br                 | S         |  032.617.144-41 | PAULO CESAR DE CASTRO LIMA       | SOCIO-ADMINISTRADOR     | 2.500.000,00       | 26201084351 | -                   | -                   | -                      | -              | -                  | -                       | -              | -                   | 415100             | Não fornecido pelo SERPRO |  02350293000162 | 2350293000162\n",
       "08156424000151 | 393017 - SUP. REG. DO DNIT NO ESTADO DA PARAIBA       | MAIA MELO ENGENHARIA LTDA                              | 11,867,000.00  | MAIA MELO ENGENHARIA LTDA                              | -                                  | MATRIZ         | 01/06/1982   | Ativa             | SEM MOTIVO              | 03/11/2005            | Serviços de engenharia                 | SOCIEDADE EMPRESARIA LIMITADA                        | Demais                   | RUA          | GENERAL JOAQUIM INACIO        | 136    | -                        | ILHA DO LEITE          | 50070270 | RECIFE         | PE   | 81    | 34233977   | 81    | 34233962   | -       | -        | -              | -    | mirtes@maiamelo.com.br                    | S         |  342.669.094-20 | ROGERIO GIGLIO                   | SOCIO-ADMINISTRADOR     | 15.246.668,00      | 26200333269 | -                   | -                   | -                      | -              | -                  | -                       | -              | -                   | 417900             | Não fornecido pelo SERPRO |  08156424000151 | 8156424000151\n",
       "... (140 rows omitted)"
      ]
     },
     "execution_count": 190,
     "metadata": {},
     "output_type": "execute_result"
    }
   ],
   "source": [
    "tb_resultado = contratantes.join('CNPJ CPF For', tb_empresas, 'CNPJ trim')\n",
    "tb_resultado = tb_resultado.sort('Valor sum', descending=True)\n",
    "tb_resultado"
   ]
  },
  {
   "cell_type": "markdown",
   "metadata": {},
   "source": [
    "### Organiza a resposta por Fornecedor"
   ]
  },
  {
   "cell_type": "code",
   "execution_count": 192,
   "metadata": {},
   "outputs": [],
   "source": [
    "# exporta o resultado para um pandas dataframe\n",
    "df_resultado = tb_resultado.to_df()\n",
    "df_resultado.to_excel('resultado.xlsx')"
   ]
  }
 ],
 "metadata": {
  "kernelspec": {
   "display_name": "Python 3",
   "language": "python",
   "name": "python3"
  },
  "language_info": {
   "codemirror_mode": {
    "name": "ipython",
    "version": 3
   },
   "file_extension": ".py",
   "mimetype": "text/x-python",
   "name": "python",
   "nbconvert_exporter": "python",
   "pygments_lexer": "ipython3",
   "version": "3.6.4"
  }
 },
 "nbformat": 4,
 "nbformat_minor": 2
}
