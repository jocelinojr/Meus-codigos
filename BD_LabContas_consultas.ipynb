{
 "cells": [
  {
   "cell_type": "markdown",
   "metadata": {},
   "source": [
    "# Utilizando bancos de dados do LabContas com python\n",
    "\n",
    "[LabContas](https://acesso1.tcu.gov.br/comunidade/analisedados/Wiki/LabContas.aspx) é o nome dado à plataforma do TCU que agrega os principais bancos de dados governamentais úteis para o controle externo.\n",
    "\n",
    "A listagem dos bancos de dados encontra-se na wiki da [comunidade de práticas](www.tcu.gov.br/analisededados) em análise de dados para o controle: https://acesso1.tcu.gov.br/comunidade/analisedados/Lists/Labcontas/BD.aspx\n",
    "\n",
    "O acesso ao LabContas requer cadastramento prévio dos usuários autorizados. Detalhes em: https://acesso1.tcu.gov.br/comunidade/analisedados/Wiki/LabContas/Procedimentos%20de%20Acesso.aspx"
   ]
  },
  {
   "cell_type": "markdown",
   "metadata": {},
   "source": [
    "### Conexão por DSN\n",
    "\n",
    "DSN, ou *Data Source Name*, é uma configuração de fonte de dados ODBC que permite definir todos os parâmetros de uma conexão a um banco de dados, simplificando conexões posteriores. No entanto, esse DSN precisa ser definido, um única vez, em toda máquina que irá acessar os bancos de dados do LabContas.\n",
    "\n",
    "O nome padrão para o DSN do servidor SQL Server srv-bd-int-2 é \"LABCONTAS\".\n",
    "\n",
    "Esse DSN precisa ser configurado na sua estação de trabalho. Veja o [tutorial para acesso aos bancos de dados do LabContas](https://acesso1.tcu.gov.br/comunidade/analisedados/Lists/Discussao%20da%20Comunidade/Flat.aspx?RootFolder=%2Fcomunidade%2Fanalisedados%2FLists%2FDiscussao%20da%20Comunidade%2FTutorial%20para%20acesso%20aos%20bancos%20de%20dados%20do%20LabContas%20utilizando%20python&FolderCTID=0x01200200C205A54BDA37614E878437B03E2ABFC3)\n",
    "\n",
    "O DSN **LABCONTAS** já encontra-se definido no ambiente virtual do LabContas.\n",
    "\n",
    "Esse DSN também encontra-se disponível no ambiente do servidor jupyter, em http://srv-rstudio:8000/.\n",
    "Detalhes do jupyter no TCU encontram-se na WikiCE: https://contas.tcu.gov.br/wikice/index.php/Jupyter_Notebook"
   ]
  },
  {
   "cell_type": "code",
   "execution_count": 1,
   "metadata": {
    "collapsed": true
   },
   "outputs": [],
   "source": [
    "# Acesso aos bancos de dados do LabContas por meio da biblioteca python: sqlalchemy\n",
    "# SQLalchemy permite abstrair as particularidades de um SGBD, como MS SQL Server, Oracle, MySQL ou outros.\n",
    "import sqlalchemy as sa\n",
    "import pandas as pd"
   ]
  },
  {
   "cell_type": "code",
   "execution_count": 2,
   "metadata": {
    "collapsed": true,
    "scrolled": false
   },
   "outputs": [],
   "source": [
    "# Conexão por meio de uma fonte nomeada DSN (Data Source Name).\n",
    "# Esse é o meio recomendado para acessar uma conexão ODBC.\n",
    "# Caso não possa configurar um DSN na sua máquina, veja no anexo abaixo como acessar diretamente,\n",
    "# fornecendo todos os parâmetros da conexão, sem DSN\n",
    "\n",
    "# connection string: \"dialect+driver://<user>:<pass>@<DSNname>\"\n",
    "# Aqui, usa-se o nome DSN padrão para a fonte de dados do LabContas, que precisa ser configurado em cada máquina\n",
    "engine = sa.create_engine(\"mssql+pyodbc://@LABCONTAS\")"
   ]
  },
  {
   "cell_type": "code",
   "execution_count": 3,
   "metadata": {
    "collapsed": true
   },
   "outputs": [],
   "source": [
    "# Conexão ao servidor\n",
    "con = engine.connect()"
   ]
  },
  {
   "cell_type": "code",
   "execution_count": 4,
   "metadata": {},
   "outputs": [
    {
     "data": {
      "text/plain": [
       "<sqlalchemy.engine.result.ResultProxy at 0x8de9ac8>"
      ]
     },
     "execution_count": 4,
     "metadata": {},
     "output_type": "execute_result"
    }
   ],
   "source": [
    "# Selecionar um banco de dados\n",
    "# ex: DB_ENEM\n",
    "engine.execute(\"USE BD_ENEM\")"
   ]
  },
  {
   "cell_type": "code",
   "execution_count": 5,
   "metadata": {},
   "outputs": [
    {
     "data": {
      "text/plain": [
       "['enem',\n",
       " 'enem_tcu_2009',\n",
       " 'enem_tcu_2010',\n",
       " 'enem_tcu_2011',\n",
       " 'enem_tcu_2012',\n",
       " 'enem_tcu_2013',\n",
       " 'enem_tcu_2014',\n",
       " 'enem_tcu_2015']"
      ]
     },
     "execution_count": 5,
     "metadata": {},
     "output_type": "execute_result"
    }
   ],
   "source": [
    "# Consulta para identificar as tabelas existentes no banco de dados\n",
    "engine.table_names()"
   ]
  },
  {
   "cell_type": "code",
   "execution_count": 6,
   "metadata": {},
   "outputs": [
    {
     "data": {
      "text/html": [
       "<div>\n",
       "<style scoped>\n",
       "    .dataframe tbody tr th:only-of-type {\n",
       "        vertical-align: middle;\n",
       "    }\n",
       "\n",
       "    .dataframe tbody tr th {\n",
       "        vertical-align: top;\n",
       "    }\n",
       "\n",
       "    .dataframe thead th {\n",
       "        text-align: right;\n",
       "    }\n",
       "</style>\n",
       "<table border=\"1\" class=\"dataframe\">\n",
       "  <thead>\n",
       "    <tr style=\"text-align: right;\">\n",
       "      <th></th>\n",
       "      <th>0</th>\n",
       "      <th>1</th>\n",
       "      <th>2</th>\n",
       "      <th>3</th>\n",
       "      <th>4</th>\n",
       "    </tr>\n",
       "  </thead>\n",
       "  <tbody>\n",
       "    <tr>\n",
       "      <th>ANO</th>\n",
       "      <td>2009</td>\n",
       "      <td>2009</td>\n",
       "      <td>2009</td>\n",
       "      <td>2009</td>\n",
       "      <td>2009</td>\n",
       "    </tr>\n",
       "    <tr>\n",
       "      <th>CO_INSCRICAO</th>\n",
       "      <td>200920496384</td>\n",
       "      <td>200920485270</td>\n",
       "      <td>200920611194</td>\n",
       "      <td>200920612533</td>\n",
       "      <td>200920601210</td>\n",
       "    </tr>\n",
       "    <tr>\n",
       "      <th>NOTA_AREA_CONHECIMENTO_1</th>\n",
       "      <td>596</td>\n",
       "      <td>0</td>\n",
       "      <td>0</td>\n",
       "      <td>558.9</td>\n",
       "      <td>738.5</td>\n",
       "    </tr>\n",
       "    <tr>\n",
       "      <th>NOTA_AREA_CONHECIMENTO_2</th>\n",
       "      <td>592.7</td>\n",
       "      <td>0</td>\n",
       "      <td>0</td>\n",
       "      <td>448.8</td>\n",
       "      <td>711.3</td>\n",
       "    </tr>\n",
       "    <tr>\n",
       "      <th>NOTA_AREA_CONHECIMENTO_3</th>\n",
       "      <td>552.2</td>\n",
       "      <td>0</td>\n",
       "      <td>0</td>\n",
       "      <td>556.1</td>\n",
       "      <td>645.9</td>\n",
       "    </tr>\n",
       "    <tr>\n",
       "      <th>NOTA_AREA_CONHECIMENTO_4</th>\n",
       "      <td>577</td>\n",
       "      <td>0</td>\n",
       "      <td>0</td>\n",
       "      <td>495.2</td>\n",
       "      <td>776.2</td>\n",
       "    </tr>\n",
       "    <tr>\n",
       "      <th>DS_MOTIVO_ELIMINACAO_AREA_1</th>\n",
       "      <td>None</td>\n",
       "      <td>None</td>\n",
       "      <td>None</td>\n",
       "      <td>None</td>\n",
       "      <td>None</td>\n",
       "    </tr>\n",
       "    <tr>\n",
       "      <th>DS_MOTIVO_ELIMINACAO_AREA_2</th>\n",
       "      <td>None</td>\n",
       "      <td>None</td>\n",
       "      <td>None</td>\n",
       "      <td>None</td>\n",
       "      <td>None</td>\n",
       "    </tr>\n",
       "    <tr>\n",
       "      <th>DS_MOTIVO_ELIMINACAO_AREA_3</th>\n",
       "      <td>None</td>\n",
       "      <td>None</td>\n",
       "      <td>None</td>\n",
       "      <td>None</td>\n",
       "      <td>None</td>\n",
       "    </tr>\n",
       "    <tr>\n",
       "      <th>DS_MOTIVO_ELIMINACAO_AREA_4</th>\n",
       "      <td>None</td>\n",
       "      <td>None</td>\n",
       "      <td>None</td>\n",
       "      <td>None</td>\n",
       "      <td>None</td>\n",
       "    </tr>\n",
       "    <tr>\n",
       "      <th>NOTA_REDACAO</th>\n",
       "      <td>650</td>\n",
       "      <td>0</td>\n",
       "      <td>0</td>\n",
       "      <td>650</td>\n",
       "      <td>775</td>\n",
       "    </tr>\n",
       "    <tr>\n",
       "      <th>CPF</th>\n",
       "      <td>04257476540</td>\n",
       "      <td>05748894777</td>\n",
       "      <td>10075689413</td>\n",
       "      <td>03028967162</td>\n",
       "      <td>08291743975</td>\n",
       "    </tr>\n",
       "    <tr>\n",
       "      <th>NOME_ALUNO</th>\n",
       "      <td>ANTONIO BRUNO DA SILVA COSTA</td>\n",
       "      <td>FLAVIA SOARES RANGEL</td>\n",
       "      <td>DIEGO SAMPAIO TELES DE BRITO</td>\n",
       "      <td>NAY HENNA SOARES BASTOS</td>\n",
       "      <td>MATHEUS MULLER</td>\n",
       "    </tr>\n",
       "    <tr>\n",
       "      <th>DT_NASCIMENTO</th>\n",
       "      <td>1990-06-14</td>\n",
       "      <td>1985-02-13</td>\n",
       "      <td>1990-11-30</td>\n",
       "      <td>1990-02-05</td>\n",
       "      <td>1992-07-11</td>\n",
       "    </tr>\n",
       "    <tr>\n",
       "      <th>NOME_MAE</th>\n",
       "      <td>DORALICE DANTAS DA SILVA</td>\n",
       "      <td>MARILZA SOARES RANGEL</td>\n",
       "      <td>VANIA CLAUDIA SAMPAIO TELES BRITO</td>\n",
       "      <td>CATIA RENATA SOARES BASTOS</td>\n",
       "      <td>JANETE DE CAMARGO MULLER</td>\n",
       "    </tr>\n",
       "    <tr>\n",
       "      <th>CO_IDENTIFICACAO_GRU</th>\n",
       "      <td></td>\n",
       "      <td></td>\n",
       "      <td></td>\n",
       "      <td></td>\n",
       "      <td></td>\n",
       "    </tr>\n",
       "    <tr>\n",
       "      <th>SG_UF_ENDERECO</th>\n",
       "      <td>BA</td>\n",
       "      <td>ES</td>\n",
       "      <td>PE</td>\n",
       "      <td>GO</td>\n",
       "      <td>PR</td>\n",
       "    </tr>\n",
       "    <tr>\n",
       "      <th>CO_MUNICIPIO_ENDERECO</th>\n",
       "      <td>2910057</td>\n",
       "      <td>3205200</td>\n",
       "      <td>2611606</td>\n",
       "      <td>5208004</td>\n",
       "      <td>4106902</td>\n",
       "    </tr>\n",
       "    <tr>\n",
       "      <th>NO_MUNICIPIO_ENDERECO</th>\n",
       "      <td>None</td>\n",
       "      <td>None</td>\n",
       "      <td>None</td>\n",
       "      <td>None</td>\n",
       "      <td>None</td>\n",
       "    </tr>\n",
       "    <tr>\n",
       "      <th>SG_UF_NASCIMENTO</th>\n",
       "      <td>None</td>\n",
       "      <td>None</td>\n",
       "      <td>None</td>\n",
       "      <td>None</td>\n",
       "      <td>None</td>\n",
       "    </tr>\n",
       "    <tr>\n",
       "      <th>CO_MUNICIPIO_NASCIMENTO</th>\n",
       "      <td>0</td>\n",
       "      <td>0</td>\n",
       "      <td>0</td>\n",
       "      <td>0</td>\n",
       "      <td>0</td>\n",
       "    </tr>\n",
       "    <tr>\n",
       "      <th>NO_MUNICIPIO_NASCIMENTO</th>\n",
       "      <td></td>\n",
       "      <td></td>\n",
       "      <td></td>\n",
       "      <td></td>\n",
       "      <td></td>\n",
       "    </tr>\n",
       "    <tr>\n",
       "      <th>IN_DIREITO_CARENCIA</th>\n",
       "      <td></td>\n",
       "      <td></td>\n",
       "      <td></td>\n",
       "      <td></td>\n",
       "      <td></td>\n",
       "    </tr>\n",
       "  </tbody>\n",
       "</table>\n",
       "</div>"
      ],
      "text/plain": [
       "                                                        0  \\\n",
       "ANO                                                  2009   \n",
       "CO_INSCRICAO                                 200920496384   \n",
       "NOTA_AREA_CONHECIMENTO_1                              596   \n",
       "NOTA_AREA_CONHECIMENTO_2                            592.7   \n",
       "NOTA_AREA_CONHECIMENTO_3                            552.2   \n",
       "NOTA_AREA_CONHECIMENTO_4                              577   \n",
       "DS_MOTIVO_ELIMINACAO_AREA_1                          None   \n",
       "DS_MOTIVO_ELIMINACAO_AREA_2                          None   \n",
       "DS_MOTIVO_ELIMINACAO_AREA_3                          None   \n",
       "DS_MOTIVO_ELIMINACAO_AREA_4                          None   \n",
       "NOTA_REDACAO                                          650   \n",
       "CPF                                           04257476540   \n",
       "NOME_ALUNO                   ANTONIO BRUNO DA SILVA COSTA   \n",
       "DT_NASCIMENTO                                  1990-06-14   \n",
       "NOME_MAE                         DORALICE DANTAS DA SILVA   \n",
       "CO_IDENTIFICACAO_GRU                                        \n",
       "SG_UF_ENDERECO                                         BA   \n",
       "CO_MUNICIPIO_ENDERECO                             2910057   \n",
       "NO_MUNICIPIO_ENDERECO                                None   \n",
       "SG_UF_NASCIMENTO                                     None   \n",
       "CO_MUNICIPIO_NASCIMENTO                                 0   \n",
       "NO_MUNICIPIO_NASCIMENTO                                     \n",
       "IN_DIREITO_CARENCIA                                         \n",
       "\n",
       "                                                 1  \\\n",
       "ANO                                           2009   \n",
       "CO_INSCRICAO                          200920485270   \n",
       "NOTA_AREA_CONHECIMENTO_1                         0   \n",
       "NOTA_AREA_CONHECIMENTO_2                         0   \n",
       "NOTA_AREA_CONHECIMENTO_3                         0   \n",
       "NOTA_AREA_CONHECIMENTO_4                         0   \n",
       "DS_MOTIVO_ELIMINACAO_AREA_1                   None   \n",
       "DS_MOTIVO_ELIMINACAO_AREA_2                   None   \n",
       "DS_MOTIVO_ELIMINACAO_AREA_3                   None   \n",
       "DS_MOTIVO_ELIMINACAO_AREA_4                   None   \n",
       "NOTA_REDACAO                                     0   \n",
       "CPF                                    05748894777   \n",
       "NOME_ALUNO                    FLAVIA SOARES RANGEL   \n",
       "DT_NASCIMENTO                           1985-02-13   \n",
       "NOME_MAE                     MARILZA SOARES RANGEL   \n",
       "CO_IDENTIFICACAO_GRU                                 \n",
       "SG_UF_ENDERECO                                  ES   \n",
       "CO_MUNICIPIO_ENDERECO                      3205200   \n",
       "NO_MUNICIPIO_ENDERECO                         None   \n",
       "SG_UF_NASCIMENTO                              None   \n",
       "CO_MUNICIPIO_NASCIMENTO                          0   \n",
       "NO_MUNICIPIO_NASCIMENTO                              \n",
       "IN_DIREITO_CARENCIA                                  \n",
       "\n",
       "                                                             2  \\\n",
       "ANO                                                       2009   \n",
       "CO_INSCRICAO                                      200920611194   \n",
       "NOTA_AREA_CONHECIMENTO_1                                     0   \n",
       "NOTA_AREA_CONHECIMENTO_2                                     0   \n",
       "NOTA_AREA_CONHECIMENTO_3                                     0   \n",
       "NOTA_AREA_CONHECIMENTO_4                                     0   \n",
       "DS_MOTIVO_ELIMINACAO_AREA_1                               None   \n",
       "DS_MOTIVO_ELIMINACAO_AREA_2                               None   \n",
       "DS_MOTIVO_ELIMINACAO_AREA_3                               None   \n",
       "DS_MOTIVO_ELIMINACAO_AREA_4                               None   \n",
       "NOTA_REDACAO                                                 0   \n",
       "CPF                                                10075689413   \n",
       "NOME_ALUNO                        DIEGO SAMPAIO TELES DE BRITO   \n",
       "DT_NASCIMENTO                                       1990-11-30   \n",
       "NOME_MAE                     VANIA CLAUDIA SAMPAIO TELES BRITO   \n",
       "CO_IDENTIFICACAO_GRU                                             \n",
       "SG_UF_ENDERECO                                              PE   \n",
       "CO_MUNICIPIO_ENDERECO                                  2611606   \n",
       "NO_MUNICIPIO_ENDERECO                                     None   \n",
       "SG_UF_NASCIMENTO                                          None   \n",
       "CO_MUNICIPIO_NASCIMENTO                                      0   \n",
       "NO_MUNICIPIO_NASCIMENTO                                          \n",
       "IN_DIREITO_CARENCIA                                              \n",
       "\n",
       "                                                      3  \\\n",
       "ANO                                                2009   \n",
       "CO_INSCRICAO                               200920612533   \n",
       "NOTA_AREA_CONHECIMENTO_1                          558.9   \n",
       "NOTA_AREA_CONHECIMENTO_2                          448.8   \n",
       "NOTA_AREA_CONHECIMENTO_3                          556.1   \n",
       "NOTA_AREA_CONHECIMENTO_4                          495.2   \n",
       "DS_MOTIVO_ELIMINACAO_AREA_1                        None   \n",
       "DS_MOTIVO_ELIMINACAO_AREA_2                        None   \n",
       "DS_MOTIVO_ELIMINACAO_AREA_3                        None   \n",
       "DS_MOTIVO_ELIMINACAO_AREA_4                        None   \n",
       "NOTA_REDACAO                                        650   \n",
       "CPF                                         03028967162   \n",
       "NOME_ALUNO                      NAY HENNA SOARES BASTOS   \n",
       "DT_NASCIMENTO                                1990-02-05   \n",
       "NOME_MAE                     CATIA RENATA SOARES BASTOS   \n",
       "CO_IDENTIFICACAO_GRU                                      \n",
       "SG_UF_ENDERECO                                       GO   \n",
       "CO_MUNICIPIO_ENDERECO                           5208004   \n",
       "NO_MUNICIPIO_ENDERECO                              None   \n",
       "SG_UF_NASCIMENTO                                   None   \n",
       "CO_MUNICIPIO_NASCIMENTO                               0   \n",
       "NO_MUNICIPIO_NASCIMENTO                                   \n",
       "IN_DIREITO_CARENCIA                                       \n",
       "\n",
       "                                                    4  \n",
       "ANO                                              2009  \n",
       "CO_INSCRICAO                             200920601210  \n",
       "NOTA_AREA_CONHECIMENTO_1                        738.5  \n",
       "NOTA_AREA_CONHECIMENTO_2                        711.3  \n",
       "NOTA_AREA_CONHECIMENTO_3                        645.9  \n",
       "NOTA_AREA_CONHECIMENTO_4                        776.2  \n",
       "DS_MOTIVO_ELIMINACAO_AREA_1                      None  \n",
       "DS_MOTIVO_ELIMINACAO_AREA_2                      None  \n",
       "DS_MOTIVO_ELIMINACAO_AREA_3                      None  \n",
       "DS_MOTIVO_ELIMINACAO_AREA_4                      None  \n",
       "NOTA_REDACAO                                      775  \n",
       "CPF                                       08291743975  \n",
       "NOME_ALUNO                             MATHEUS MULLER  \n",
       "DT_NASCIMENTO                              1992-07-11  \n",
       "NOME_MAE                     JANETE DE CAMARGO MULLER  \n",
       "CO_IDENTIFICACAO_GRU                                   \n",
       "SG_UF_ENDERECO                                     PR  \n",
       "CO_MUNICIPIO_ENDERECO                         4106902  \n",
       "NO_MUNICIPIO_ENDERECO                            None  \n",
       "SG_UF_NASCIMENTO                                 None  \n",
       "CO_MUNICIPIO_NASCIMENTO                             0  \n",
       "NO_MUNICIPIO_NASCIMENTO                                \n",
       "IN_DIREITO_CARENCIA                                    "
      ]
     },
     "execution_count": 6,
     "metadata": {},
     "output_type": "execute_result"
    }
   ],
   "source": [
    "# A opção mais simples de consulta a uma tabela, sem usar o SQLalchemy, consiste em escrever\n",
    "# diretamente a query SQL na função read_sql() do pandas.\n",
    "# Lembrem de limitar o número de resultados retornados, se não precisarem dos dados completos,\n",
    "# reduzindo assim o tempo de espera pelos resultados\n",
    "df = pd.read_sql(sql=\"SELECT TOP 5 * FROM BD_ENEM.dbo.enem\", con=con)\n",
    "df.T"
   ]
  },
  {
   "cell_type": "code",
   "execution_count": 7,
   "metadata": {
    "collapsed": true
   },
   "outputs": [],
   "source": [
    "# Mas usar o SQLalchemy traz algumas vantagens, como abstrair as particularidades do SGBD \n",
    "# (MS SQL Server, Oracle, MySQL, PostGres ou outros)\n",
    "\n",
    "# Extrair metadados de uma tabela\n",
    "# Cria um objeto MetaData para receber os dados\n",
    "metadata = sa.MetaData()\n",
    "\n",
    "# Exemplo utilizando o banco BD_ENEM e a tabela enem\n",
    "tabela_enem = sa.Table('enem', metadata, autoload=True, autoload_with=engine, schema='BD_ENEM.dbo')"
   ]
  },
  {
   "cell_type": "code",
   "execution_count": 8,
   "metadata": {},
   "outputs": [
    {
     "data": {
      "text/plain": [
       "['ANO',\n",
       " 'CO_INSCRICAO',\n",
       " 'NOTA_AREA_CONHECIMENTO_1',\n",
       " 'NOTA_AREA_CONHECIMENTO_2',\n",
       " 'NOTA_AREA_CONHECIMENTO_3',\n",
       " 'NOTA_AREA_CONHECIMENTO_4',\n",
       " 'DS_MOTIVO_ELIMINACAO_AREA_1',\n",
       " 'DS_MOTIVO_ELIMINACAO_AREA_2',\n",
       " 'DS_MOTIVO_ELIMINACAO_AREA_3',\n",
       " 'DS_MOTIVO_ELIMINACAO_AREA_4',\n",
       " 'NOTA_REDACAO',\n",
       " 'CPF',\n",
       " 'NOME_ALUNO',\n",
       " 'DT_NASCIMENTO',\n",
       " 'NOME_MAE',\n",
       " 'CO_IDENTIFICACAO_GRU',\n",
       " 'SG_UF_ENDERECO',\n",
       " 'CO_MUNICIPIO_ENDERECO',\n",
       " 'NO_MUNICIPIO_ENDERECO',\n",
       " 'SG_UF_NASCIMENTO',\n",
       " 'CO_MUNICIPIO_NASCIMENTO',\n",
       " 'NO_MUNICIPIO_NASCIMENTO',\n",
       " 'IN_DIREITO_CARENCIA']"
      ]
     },
     "execution_count": 8,
     "metadata": {},
     "output_type": "execute_result"
    }
   ],
   "source": [
    "# Visualizando os detalhes da estrutura\n",
    "# Nome das colunas\n",
    "tabela_enem.columns.keys()"
   ]
  },
  {
   "cell_type": "code",
   "execution_count": 9,
   "metadata": {
    "collapsed": true
   },
   "outputs": [],
   "source": [
    "# Constrói uma seleção de itens da tabela enem\n",
    "consulta = sa.select([tabela_enem]).limit(3)"
   ]
  },
  {
   "cell_type": "code",
   "execution_count": 10,
   "metadata": {},
   "outputs": [
    {
     "name": "stdout",
     "output_type": "stream",
     "text": [
      "SELECT \"BD_ENEM.dbo\".enem.\"ANO\", \"BD_ENEM.dbo\".enem.\"CO_INSCRICAO\", \"BD_ENEM.dbo\".enem.\"NOTA_AREA_CONHECIMENTO_1\", \"BD_ENEM.dbo\".enem.\"NOTA_AREA_CONHECIMENTO_2\", \"BD_ENEM.dbo\".enem.\"NOTA_AREA_CONHECIMENTO_3\", \"BD_ENEM.dbo\".enem.\"NOTA_AREA_CONHECIMENTO_4\", \"BD_ENEM.dbo\".enem.\"DS_MOTIVO_ELIMINACAO_AREA_1\", \"BD_ENEM.dbo\".enem.\"DS_MOTIVO_ELIMINACAO_AREA_2\", \"BD_ENEM.dbo\".enem.\"DS_MOTIVO_ELIMINACAO_AREA_3\", \"BD_ENEM.dbo\".enem.\"DS_MOTIVO_ELIMINACAO_AREA_4\", \"BD_ENEM.dbo\".enem.\"NOTA_REDACAO\", \"BD_ENEM.dbo\".enem.\"CPF\", \"BD_ENEM.dbo\".enem.\"NOME_ALUNO\", \"BD_ENEM.dbo\".enem.\"DT_NASCIMENTO\", \"BD_ENEM.dbo\".enem.\"NOME_MAE\", \"BD_ENEM.dbo\".enem.\"CO_IDENTIFICACAO_GRU\", \"BD_ENEM.dbo\".enem.\"SG_UF_ENDERECO\", \"BD_ENEM.dbo\".enem.\"CO_MUNICIPIO_ENDERECO\", \"BD_ENEM.dbo\".enem.\"NO_MUNICIPIO_ENDERECO\", \"BD_ENEM.dbo\".enem.\"SG_UF_NASCIMENTO\", \"BD_ENEM.dbo\".enem.\"CO_MUNICIPIO_NASCIMENTO\", \"BD_ENEM.dbo\".enem.\"NO_MUNICIPIO_NASCIMENTO\", \"BD_ENEM.dbo\".enem.\"IN_DIREITO_CARENCIA\" \n",
      "FROM \"BD_ENEM.dbo\".enem\n",
      " LIMIT :param_1\n"
     ]
    }
   ],
   "source": [
    "# Verifica a consulta SQL gerada pelo SQLalchemy para realizar a seleção, com base nos metadados extraidos do banco\n",
    "print(consulta)"
   ]
  },
  {
   "cell_type": "code",
   "execution_count": 11,
   "metadata": {},
   "outputs": [
    {
     "data": {
      "text/plain": [
       "[(2009, '200920496384', 596.0, 592.7000122070312, 552.2000122070312, 577.0, None, None, None, None, 650.0, '04257476540', 'ANTONIO BRUNO DA SILVA COSTA', datetime.date(1990, 6, 14), 'DORALICE DANTAS DA SILVA', '', 'BA', 2910057, None, None, 0, '', ''),\n",
       " (2009, '200920485270', 0.0, 0.0, 0.0, 0.0, None, None, None, None, 0.0, '05748894777', 'FLAVIA SOARES RANGEL', datetime.date(1985, 2, 13), 'MARILZA SOARES RANGEL', '', 'ES', 3205200, None, None, 0, '', ''),\n",
       " (2009, '200920611194', 0.0, 0.0, 0.0, 0.0, None, None, None, None, 0.0, '10075689413', 'DIEGO SAMPAIO TELES DE BRITO', datetime.date(1990, 11, 30), 'VANIA CLAUDIA SAMPAIO TELES BRITO', '', 'PE', 2611606, None, None, 0, '', '')]"
      ]
     },
     "execution_count": 11,
     "metadata": {},
     "output_type": "execute_result"
    }
   ],
   "source": [
    "# Executa a consulta e exibe os resultados\n",
    "resultados = con.execute(consulta).fetchall()\n",
    "resultados"
   ]
  },
  {
   "cell_type": "code",
   "execution_count": 12,
   "metadata": {},
   "outputs": [
    {
     "data": {
      "text/html": [
       "<div>\n",
       "<style scoped>\n",
       "    .dataframe tbody tr th:only-of-type {\n",
       "        vertical-align: middle;\n",
       "    }\n",
       "\n",
       "    .dataframe tbody tr th {\n",
       "        vertical-align: top;\n",
       "    }\n",
       "\n",
       "    .dataframe thead th {\n",
       "        text-align: right;\n",
       "    }\n",
       "</style>\n",
       "<table border=\"1\" class=\"dataframe\">\n",
       "  <thead>\n",
       "    <tr style=\"text-align: right;\">\n",
       "      <th></th>\n",
       "      <th>0</th>\n",
       "      <th>1</th>\n",
       "      <th>2</th>\n",
       "      <th>3</th>\n",
       "      <th>4</th>\n",
       "      <th>5</th>\n",
       "      <th>6</th>\n",
       "      <th>7</th>\n",
       "      <th>8</th>\n",
       "      <th>9</th>\n",
       "      <th>...</th>\n",
       "      <th>13</th>\n",
       "      <th>14</th>\n",
       "      <th>15</th>\n",
       "      <th>16</th>\n",
       "      <th>17</th>\n",
       "      <th>18</th>\n",
       "      <th>19</th>\n",
       "      <th>20</th>\n",
       "      <th>21</th>\n",
       "      <th>22</th>\n",
       "    </tr>\n",
       "  </thead>\n",
       "  <tbody>\n",
       "    <tr>\n",
       "      <th>0</th>\n",
       "      <td>2009</td>\n",
       "      <td>200920496384</td>\n",
       "      <td>596.0</td>\n",
       "      <td>592.700012</td>\n",
       "      <td>552.200012</td>\n",
       "      <td>577.0</td>\n",
       "      <td>None</td>\n",
       "      <td>None</td>\n",
       "      <td>None</td>\n",
       "      <td>None</td>\n",
       "      <td>...</td>\n",
       "      <td>1990-06-14</td>\n",
       "      <td>DORALICE DANTAS DA SILVA</td>\n",
       "      <td></td>\n",
       "      <td>BA</td>\n",
       "      <td>2910057</td>\n",
       "      <td>None</td>\n",
       "      <td>None</td>\n",
       "      <td>0</td>\n",
       "      <td></td>\n",
       "      <td></td>\n",
       "    </tr>\n",
       "    <tr>\n",
       "      <th>1</th>\n",
       "      <td>2009</td>\n",
       "      <td>200920485270</td>\n",
       "      <td>0.0</td>\n",
       "      <td>0.000000</td>\n",
       "      <td>0.000000</td>\n",
       "      <td>0.0</td>\n",
       "      <td>None</td>\n",
       "      <td>None</td>\n",
       "      <td>None</td>\n",
       "      <td>None</td>\n",
       "      <td>...</td>\n",
       "      <td>1985-02-13</td>\n",
       "      <td>MARILZA SOARES RANGEL</td>\n",
       "      <td></td>\n",
       "      <td>ES</td>\n",
       "      <td>3205200</td>\n",
       "      <td>None</td>\n",
       "      <td>None</td>\n",
       "      <td>0</td>\n",
       "      <td></td>\n",
       "      <td></td>\n",
       "    </tr>\n",
       "    <tr>\n",
       "      <th>2</th>\n",
       "      <td>2009</td>\n",
       "      <td>200920611194</td>\n",
       "      <td>0.0</td>\n",
       "      <td>0.000000</td>\n",
       "      <td>0.000000</td>\n",
       "      <td>0.0</td>\n",
       "      <td>None</td>\n",
       "      <td>None</td>\n",
       "      <td>None</td>\n",
       "      <td>None</td>\n",
       "      <td>...</td>\n",
       "      <td>1990-11-30</td>\n",
       "      <td>VANIA CLAUDIA SAMPAIO TELES BRITO</td>\n",
       "      <td></td>\n",
       "      <td>PE</td>\n",
       "      <td>2611606</td>\n",
       "      <td>None</td>\n",
       "      <td>None</td>\n",
       "      <td>0</td>\n",
       "      <td></td>\n",
       "      <td></td>\n",
       "    </tr>\n",
       "  </tbody>\n",
       "</table>\n",
       "<p>3 rows × 23 columns</p>\n",
       "</div>"
      ],
      "text/plain": [
       "     0             1      2           3           4      5     6     7     8   \\\n",
       "0  2009  200920496384  596.0  592.700012  552.200012  577.0  None  None  None   \n",
       "1  2009  200920485270    0.0    0.000000    0.000000    0.0  None  None  None   \n",
       "2  2009  200920611194    0.0    0.000000    0.000000    0.0  None  None  None   \n",
       "\n",
       "     9  ...          13                                 14 15  16       17  \\\n",
       "0  None ...  1990-06-14           DORALICE DANTAS DA SILVA     BA  2910057   \n",
       "1  None ...  1985-02-13              MARILZA SOARES RANGEL     ES  3205200   \n",
       "2  None ...  1990-11-30  VANIA CLAUDIA SAMPAIO TELES BRITO     PE  2611606   \n",
       "\n",
       "     18    19  20 21 22  \n",
       "0  None  None   0        \n",
       "1  None  None   0        \n",
       "2  None  None   0        \n",
       "\n",
       "[3 rows x 23 columns]"
      ]
     },
     "execution_count": 12,
     "metadata": {},
     "output_type": "execute_result"
    }
   ],
   "source": [
    "# o resultado acima é uma lista de tuplas, que podemos facilmente converter em dataframe\n",
    "# cria um dataframe com os resultados\n",
    "df = pd.DataFrame(resultados)\n",
    "df"
   ]
  },
  {
   "cell_type": "code",
   "execution_count": 13,
   "metadata": {
    "collapsed": true
   },
   "outputs": [],
   "source": [
    "# lembrar de fechar a conexão ao banco de dados\n",
    "con.close()"
   ]
  },
  {
   "cell_type": "markdown",
   "metadata": {},
   "source": [
    "## Consultas com operações: filtragem, ordenação e agrupamento"
   ]
  },
  {
   "cell_type": "code",
   "execution_count": null,
   "metadata": {
    "collapsed": true
   },
   "outputs": [],
   "source": [
    "# To be continued..."
   ]
  },
  {
   "cell_type": "markdown",
   "metadata": {},
   "source": [
    "### Anexos\n",
    "\n",
    "#### I - Como conectar-se ao LabContas sem utilizar um DSN (*Data Source Name*)\n",
    "\n",
    "Não havendo um DSN pré-configurado na máquina que irá realizar a consulta ao LabContas, é possível , ainda assim, conectar-se diretamente utilizando o nome do servidor SQL (srv-bd-int-2). Ainda assim, requer conhecer o nome do *driver* instalado na sua máquina para acessar o SQL Server."
   ]
  },
  {
   "cell_type": "code",
   "execution_count": 14,
   "metadata": {
    "collapsed": true
   },
   "outputs": [],
   "source": [
    "import sqlalchemy as sa"
   ]
  },
  {
   "cell_type": "code",
   "execution_count": 15,
   "metadata": {
    "collapsed": true
   },
   "outputs": [],
   "source": [
    "# A forma de conexão abaixo prescinde o uso de DSN (Data Source Name), \n",
    "# mas ainda requer que se conheça o nome do driver SQL instalado em sua máquina\n",
    "\n",
    "# configurações básicas para acesso ao servidor SQL Server (srv-bd-int-2) do LabContas\n",
    "dialect = 'mssql'\n",
    "dbapi = 'pyodbc' # requer pyodbc já instalado: conda install pyodbc\n",
    "\n",
    "#server = 'srv-bd-int-2'\n",
    "# Aqui usaremos o \"nome real do servidor SQL Server\" do LabContas (srv-bd-labc-1c) \n",
    "# e não o seu sinônimo (srv-bd-int-2). \n",
    "# O Kerberos não funciona bem com sinônimos de nome de servidor\n",
    "server = 'srv-bd-labc-1c.tcu.gov.br,1433'\n",
    "\n",
    "# eventualmente, pode ser necessário redefinir o nome do driver, \n",
    "# em função do que já estiver instalado na sua máquina\n",
    "\n",
    "driver = 'SQL+Server'\n",
    "# No ambiente virtual do LabContas, o nome do driver é 'SQLSERVER' e não \"SQL Server\".\n",
    "# Assim, é necessário ajustar esse parâmetro em função do ambiente de execução: \n",
    "# estação de trabalho ou ambiente virtual do LabContas\n",
    "#driver = 'SQLSERVER'\n",
    "\n",
    "# Outras possíveis opções comuns de nome de driver para SQL Server\n",
    "#driver = 'ODBC+Driver+11+for+SQL+Server'\n",
    "#driver = 'ODBC+Driver+13+for+SQL+Server'\n",
    "#driver = 'ODBC+Driver+17+for+SQL+Server'\n",
    "\n",
    "# defina abaixo o nome do banco de dado e tabela que deseja acessar\n",
    "database = 'BD_RECEITA'\n",
    "table = 'CONTADOR'\n",
    "\n",
    "connect_string = '{dialect}+{dbapi}://{server}/{database}?driver={driver}'\n",
    "connect_string = connect_string.format(dialect=dialect,\n",
    "                                       dbapi=dbapi,\n",
    "                                       server=server,\n",
    "                                       database=database,\n",
    "                                       driver=driver)\n",
    "# print(connect_string)\n",
    "\n",
    "engine = sa.create_engine(connect_string)"
   ]
  },
  {
   "cell_type": "code",
   "execution_count": 16,
   "metadata": {
    "collapsed": true
   },
   "outputs": [],
   "source": [
    "# conexão\n",
    "con = engine.connect()"
   ]
  },
  {
   "cell_type": "code",
   "execution_count": 17,
   "metadata": {},
   "outputs": [
    {
     "data": {
      "text/plain": [
       "[('00005415000158', 'PF', None, '81127235834', 'ROBERTO DONIZETE DA SILVA', Decimal('1'), 'R', 'RUA', 'SANTA BEATRIZ', '137   ', None, 'VILA PRUDENTE', 'SAO PAULO', 'SP', Decimal('3153070'), Decimal('11'), Decimal('63412060'), None, Decimal('121359'), 'SP')]"
      ]
     },
     "execution_count": 17,
     "metadata": {},
     "output_type": "execute_result"
    }
   ],
   "source": [
    "metadata = sa.MetaData()\n",
    "\n",
    "# Reflexão da tabela no servidor para um objeto Table do SQLalchemy.\n",
    "# Isso permite importar as características da tabela (colunas, tipos de dados, etc.)\n",
    "tabela = sa.Table(table, metadata, autoload=True, autoload_with=engine, \n",
    "                schema='{database}.dbo'.format(database=database))\n",
    "\n",
    "# Constrói o texto de consulta básica de todos os campos da tabela, limitando os resultados\n",
    "stmt = sa.select([tabela]).limit(1)\n",
    "\n",
    "# Executa a consulta construída acima e exibe os resultados\n",
    "results = con.execute(stmt).fetchall()\n",
    "results"
   ]
  },
  {
   "cell_type": "code",
   "execution_count": 18,
   "metadata": {
    "collapsed": true
   },
   "outputs": [],
   "source": [
    "con.close()"
   ]
  },
  {
   "cell_type": "markdown",
   "metadata": {},
   "source": [
    "#### II - Como baixar data sets para exercitar comandos e práticas de análise"
   ]
  },
  {
   "cell_type": "code",
   "execution_count": null,
   "metadata": {
    "collapsed": true
   },
   "outputs": [],
   "source": [
    "# Exemplos de \"toy data sets\" para se exercitar \n",
    "import seaborn as sns\n",
    "sns.get_dataset_names()\n",
    "\n",
    "# ['anscombe', 'attention', 'brain_networks', 'car_crashes', 'dots', 'exercise', 'flights', 'fmri',\n",
    "# 'gammas', 'iris', 'planets', 'tips', 'titanic']"
   ]
  },
  {
   "cell_type": "code",
   "execution_count": null,
   "metadata": {
    "collapsed": true
   },
   "outputs": [],
   "source": [
    "df = sns.load_dataset('iris')\n",
    "df.sample(8)"
   ]
  }
 ],
 "metadata": {
  "kernelspec": {
   "display_name": "Python 3",
   "language": "python",
   "name": "python3"
  },
  "language_info": {
   "codemirror_mode": {
    "name": "ipython",
    "version": 3
   },
   "file_extension": ".py",
   "mimetype": "text/x-python",
   "name": "python",
   "nbconvert_exporter": "python",
   "pygments_lexer": "ipython3",
   "version": "3.6.3"
  }
 },
 "nbformat": 4,
 "nbformat_minor": 2
}
