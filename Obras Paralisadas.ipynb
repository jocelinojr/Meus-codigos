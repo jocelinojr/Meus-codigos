{
 "cells": [
  {
   "cell_type": "markdown",
   "metadata": {},
   "source": [
    "<img src=\"files/Figuras/tcu_logo.png\">"
   ]
  },
  {
   "cell_type": "markdown",
   "metadata": {},
   "source": [
    "# Levantamento de Obras Públicas Paralisadas no Nordeste "
   ]
  },
  {
   "cell_type": "markdown",
   "metadata": {},
   "source": [
    "### IPython Notebook contendo análise dos dados para o levantamento de Obras Públicas Paralisadas conforme TC 002.959/2017-8"
   ]
  },
  {
   "cell_type": "markdown",
   "metadata": {},
   "source": [
    "### Importa os módulos python que serão utilizados para o processamento dos dados"
   ]
  },
  {
   "cell_type": "code",
   "execution_count": 106,
   "metadata": {},
   "outputs": [],
   "source": [
    "import pandas as pd\n",
    "import numpy as np\n",
    "import matplotlib.pyplot as pyplot\n",
    "import os\n",
    "import traceback\n",
    "import re\n",
    "import time\n",
    "import datetime\n",
    "from datetime import datetime\n",
    "import warnings; warnings.simplefilter('ignore')"
   ]
  },
  {
   "cell_type": "markdown",
   "metadata": {},
   "source": [
    "### Configurações da biblioteca pandas"
   ]
  },
  {
   "cell_type": "code",
   "execution_count": 107,
   "metadata": {},
   "outputs": [
    {
     "name": "stdout",
     "output_type": "stream",
     "text": [
      "Versão do Pandas ->  0.18.1\n"
     ]
    }
   ],
   "source": [
    "pd.set_option('display.notebook_repr_html', False)\n",
    "pd.set_option('display.max_columns', 200)\n",
    "pd.set_option('display.max_rows', 1000)\n",
    "pd.set_option('precision', 4)\n",
    "pd.set_option('display.float_format', '{:,.2f}'.format)\n",
    "pd.set_option('display.width', 5000)\n",
    "# Mostra nossa versão do Pandas\n",
    "%matplotlib inline\n",
    "print('Versão do Pandas -> ', pd.__version__)"
   ]
  },
  {
   "cell_type": "markdown",
   "metadata": {},
   "source": [
    "### Expressões regulares padrão,  listas e outras variáveis de uso geral"
   ]
  },
  {
   "cell_type": "code",
   "execution_count": 108,
   "metadata": {},
   "outputs": [],
   "source": [
    "rex_aquisicao_inicio = re.compile('^aquisi.+')\n",
    "list_estados_NE = ['AL', 'BA', 'SE', 'PE', 'PB', 'RN', 'CE', 'PI', 'MA']\n",
    "nome_geral_arquivo_DGI = 'transferencia_funcao_programa_{}.csv'\n",
    "nome_geral_arquivo_funasa = 'Funasa_{}.xls'\n",
    "# Caminho para os dados de cruzamentos\n",
    "path_cruzamentos_simec = os.path.join(os.getcwd(), 'Cruzamentos\\\\Contratadas Simec')\n",
    "path_cruzamentos_empresas = os.path.join(os.getcwd(), 'Cruzamentos\\\\Empresas e Operacoes de alto Risco')\n",
    "path_cruzamentos_empresas_geral = os.path.join(os.getcwd(), 'Cruzamentos\\\\Contratadas PB Geral')\n",
    "path_movimentacoes_financeiras = os.path.join(os.getcwd(), 'Movimentações Financeiras')\n",
    "\n",
    "# Caminho da pasta com os arquivos de dados a serem importados\n",
    "path_Dados = os.path.join(os.getcwd(), 'Dados')\n"
   ]
  },
  {
   "cell_type": "markdown",
   "metadata": {},
   "source": [
    "### Funções"
   ]
  },
  {
   "cell_type": "code",
   "execution_count": 109,
   "metadata": {},
   "outputs": [],
   "source": [
    "def importaMontaArquivosNordeste(nome_generico_arquivo, tipo='csv', qde_linhas_pular=0):\n",
    "    \"\"\"\n",
    "      Importa os arquivos .csv, originários do DGI CONSULTAS com os dados dos 9 estados do Nordeste. Depois faz a junção dos mesmos retornando o \n",
    "      resultado num DataFrame. \n",
    "      -nome_generico_arquivo: string contendo o nome genérico dos arquivos que contém os dados de cada estado do nordeste.\n",
    "      - tipo: o padrão é 'csv'. pode ser também 'excel'.\n",
    "      - qde_linhas_pular: Quantidade de linhas a pular do início do arquivo ao ler um arquivo excel. o padrão é 0. \n",
    "      \n",
    "    \"\"\"\n",
    "    # cria nossa lista de retorno que conterá os dataframes\n",
    "    frames = []\n",
    "    # loop na lista de estados do NE \n",
    "    for uf in list_estados_NE:\n",
    "        # carrega o estado atual\n",
    "        if tipo == 'csv':\n",
    "           df_atual = pd.read_csv(os.path.join(path_Dados, nome_generico_arquivo.format(uf)), sep=';', encoding='ISO-8859-1')  \n",
    "        elif 'excel':\n",
    "           df_atual = pd.read_excel(os.path.join(path_Dados, nome_generico_arquivo.format(uf)), skiprows=qde_linhas_pular)  \n",
    "        frames.append(df_atual)\n",
    "        \n",
    "    # junta todos os dataframes \n",
    "    return pd.concat(frames)\n",
    "    \n"
   ]
  },
  {
   "cell_type": "code",
   "execution_count": 110,
   "metadata": {
    "collapsed": true
   },
   "outputs": [],
   "source": [
    "def mudaStringDate(lista_campos_data, dataframe_alvo):\n",
    "    \"\"\"\n",
    "      Função que muda o tipo de dados de um dataframe (String para Datetime)\n",
    "    \"\"\"\n",
    "    for nome_coluna in lista_campos_data:        \n",
    "       dataframe_alvo[nome_coluna]= dataframe_alvo[nome_coluna].str.replace('-','')\n",
    "       # converte a coluna para datetime\n",
    "       dataframe_alvo[nome_coluna] = pd.to_datetime(dataframe_alvo[nome_coluna], coerce=True, dayfirst=True)\n"
   ]
  },
  {
   "cell_type": "code",
   "execution_count": 111,
   "metadata": {},
   "outputs": [],
   "source": [
    "def mudaStringparaFloat(campos_float, dataframe_alvo):\n",
    "    \"\"\"\n",
    "       Percorre a lista de campos float, substitui os caracteres para que seja possível fazer a conversão\n",
    "    \"\"\"\n",
    "    for nome_coluna in campos_float:\n",
    "      # substitui os pontos por nada\n",
    "      dataframe_alvo[nome_coluna] = dataframe_alvo[nome_coluna].str.replace('.', '')\n",
    "      # substitui a vírgula por ponto\n",
    "      dataframe_alvo[nome_coluna] = dataframe_alvo[nome_coluna].str.replace(',', '.')\n",
    "      # substitui o traço por zero\n",
    "      dataframe_alvo[nome_coluna] = dataframe_alvo[nome_coluna].str.replace('-', '0')\n",
    "      # agora, muda o tipo do campo para float  \n",
    "      dataframe_alvo[nome_coluna] = dataframe_alvo[nome_coluna].astype(float)\n"
   ]
  },
  {
   "cell_type": "code",
   "execution_count": 112,
   "metadata": {
    "collapsed": true
   },
   "outputs": [],
   "source": [
    "def ajustaDadosFunasa(dataframe_Funasa):\n",
    "    \"\"\"\n",
    "      Ajusta os tipos de dados do arquivo da Funasa, bem como o nome do campo chave para fazer os joins\n",
    "    \"\"\"\n",
    "    # Preenche os Nan com 0 para permitir a conversão do tipo\n",
    "    dataframe_Funasa['SIAFI'].fillna(0, inplace=True)\n",
    "    # muda o tipo do código do SIAFI para inteiro a fim de permitir a junção com as outras tabelas\n",
    "    dataframe_Funasa['SIAFI'] = dataframe_Funasa['SIAFI'].astype(int)\n",
    "    # lista de campos tipo data para mudança\n",
    "    campos_date = ['DATA_ASSINATURA', 'DATA_INICIO_VIGENCIA', 'DATA_FIM_VIGENCIA', 'DATA_INICIO_OBRA', 'DATA_TERMINO_OBRA', \n",
    "                   'DATA_ULTIMO_RVT']\n",
    "    # muda os campos data para date\n",
    "    mudaStringDate(campos_date, dataframe_Funasa)\n",
    "    "
   ]
  },
  {
   "cell_type": "code",
   "execution_count": 113,
   "metadata": {},
   "outputs": [],
   "source": [
    "def importaAjustaDadosSIMEC():\n",
    "    \"\"\"\n",
    "      Ajusta os dados do Simec\n",
    "    \"\"\"    \n",
    "    \n",
    "    dataframe_simec = pd.read_csv(os.path.join(path_Dados, 'simec.csv'), sep=';', encoding='ISO-8859-1')    \n",
    "    # muda todas os campo tipo data\n",
    "    colunas_tipo_date = ['Data', \n",
    "                         'Data da Última Vistoria do Estado ou Município', \n",
    "                         'Data de Assinatura do Contrato',                     \n",
    "                         'Data de Término do Contrato', \n",
    "                         'Data Prevista de Conclusão da Obra', \n",
    "                         'Fim da Vigência Termo/Convênio',\n",
    "                         'Homologação da Licitação']\n",
    "    # chama a função que irá alterar os tipos\n",
    "    mudaStringDate(colunas_tipo_date, dataframe_simec)\n",
    "\n",
    "    # muda para string (texto)\n",
    "    dataframe_simec['CNPJ'] = dataframe_simec['CNPJ'].astype(str)\n",
    "    dataframe_simec['CEP'] = dataframe_simec['CEP'].astype(str)\n",
    "    dataframe_simec['CEP Entidade'] = dataframe_simec['CEP Entidade'].astype(str)\n",
    "    dataframe_simec['Banco'] = dataframe_simec['Banco'].astype(str)\n",
    "    dataframe_simec['Agência'] = dataframe_simec['Agência'].astype(str)\n",
    "    dataframe_simec['Conta'] = dataframe_simec['Conta'].astype(str)\n",
    "    # Muda o nome de alguns campos\n",
    "    dataframe_simec.rename(columns={'Termo/Convênio':'NumeroOriginalConvenio'}, inplace=True)\n",
    "    ## Extrai o CNPJ da empresa contradada de dentro da Coluna 'Empresa Contratada' \n",
    "    ## e coloca-o numa nova coluna chamada 'CNPJ Contratada'    \n",
    "    dataframe_simec['cnpj_contratata'] = dataframe_simec['Empresa Contratada'].str.extract('\\((\\d+)\\)')\n",
    "    # filtra para ficarmos apenas com obras do NE\n",
    "    dataframe_simec = dataframe_simec.loc[(dataframe_simec['UF'] == 'AL') |\n",
    "                                           (dataframe_simec['UF'] == 'BA') |\n",
    "                                           (dataframe_simec['UF'] == 'SE') |\n",
    "                                           (dataframe_simec['UF'] == 'PB') |\n",
    "                                           (dataframe_simec['UF'] == 'PE') |\n",
    "                                           (dataframe_simec['UF'] == 'RN') |\n",
    "                                           (dataframe_simec['UF'] == 'PI') |\n",
    "                                           (dataframe_simec['UF'] == 'CE') |\n",
    "                                           (dataframe_simec['UF'] == 'MA') ]\n",
    "    # seleciona apenas os campos que nos interessam para análise   \n",
    "    dataframe_simec = dataframe_simec[['NumeroOriginalConvenio', \n",
    "                                        'cnpj_contratata',\n",
    "                                        'UF',\n",
    "                                        'Município',\n",
    "                                        'Situação',\n",
    "                                        'Percentual de Execução', \n",
    "                                        'Valor do Contrato',\n",
    "                                        'Prazo de Vigência',\n",
    "                                        'Data Prevista de Conclusão da Obra', \n",
    "                                        'Data da Última Vistoria do Estado ou Município',\n",
    "                                        'Saldo TOTAL',\n",
    "                                        'Total Pago',\n",
    "                                        'Percentual Pago'\n",
    "                                         ]]    \n",
    "    return dataframe_simec"
   ]
  },
  {
   "cell_type": "code",
   "execution_count": 114,
   "metadata": {
    "collapsed": true
   },
   "outputs": [],
   "source": [
    "def ajustaDadosDGI(dataframe_DGI):\n",
    "    \"\"\"\n",
    "      Ajusta os tipos de dados, nomes e demais coisas necessárias para analisar o dataframe\n",
    "    \"\"\"\n",
    "    # lista com os nomes das colunas do tipo float\n",
    "    campos_float = ['ValorPactuado', \n",
    "                    'ValorRepasse',\n",
    "                    'ValorContrapartida', \n",
    "                    'ValorEmpenhado',\n",
    "                    'ValorLiberado']\n",
    "    mudaStringparaFloat(campos_float, dataframe_DGI)\n",
    "    dataframe_DGI.rename(columns={'NúmeroOriginal':'NumeroOriginalConvenio'}, inplace=True)\n",
    "    dataframe_DGI.rename(columns={'NúmeroSIAFI':'SIAFI'}, inplace=True)\n",
    "    dataframe_DGI['SIAFI'] = dataframe_DGI['SIAFI'].astype(int)\n",
    "    colunas_date = ['DataCelebração',\n",
    "                    'DataPublicação',\n",
    "                    'DataInícioVigência',\n",
    "                    'DataFimVigência',\n",
    "                    'DataConclusão',\n",
    "                    'Data PrazoPrestaçãoContas',\n",
    "                    'DataInadimplência']\n",
    "    # chama a função que irá alterar esses dados no dataframe\n",
    "    mudaStringDate(colunas_date, dataframe_DGI)\n",
    "    \n",
    "    "
   ]
  },
  {
   "cell_type": "code",
   "execution_count": 115,
   "metadata": {},
   "outputs": [],
   "source": [
    "def importaAjustaArqPortalTransparencia():\n",
    "    \"\"\"\n",
    "      Importa o arquivo do Portal da Transparência fazendo os filtros e ajustes necessários para organizar o dataframe\n",
    "    \"\"\"\n",
    "    result = pd.read_excel(os.path.join(path_Dados, 'Convenios_Portal_Transparencia.xlsx'))\n",
    "    # renomeia o campo \"NúmeroConvênio\" para fazer o join com os outros dataframes\n",
    "    result.rename(columns={'Número Convênio':'SIAFI'}, inplace=True)\n",
    "    # filtra para pegar apenas os convênios do portal que são da Paraíba, por exemplo\n",
    "    result = result.loc[(result['UF'] == 'ALAGOAS') |\n",
    "                        (result['UF'] == 'SERGIPE') | \n",
    "                        (result['UF'] == 'BAHIA') |\n",
    "                        (result['UF'] == 'PERNAMBUCO') |\n",
    "                        (result['UF'] == 'PARAIBA') |\n",
    "                        (result['UF'] == 'RIO GRANDE DO NORTE') |\n",
    "                        (result['UF'] == 'PARAIBA') |\n",
    "                        (result['UF'] == 'CEARA') |\n",
    "                        (result['UF'] == 'MARANHAO') |\n",
    "                        (result['UF'] == 'PIAUI')]\n",
    "    result_fim = result.loc[(result['Valor Convênio'] >= 1000000) & (result['Valor Convênio'] < 25000000)]\n",
    "    return result_fim"
   ]
  },
  {
   "cell_type": "code",
   "execution_count": 116,
   "metadata": {
    "collapsed": true
   },
   "outputs": [],
   "source": [
    "def importaAjustaArqCaixaPB():\n",
    "    \"\"\"\n",
    "      Importa o arquivo da Caixa fornecido pela Gigov da Paraíba e ajusta os dados para posterior join\n",
    "    \"\"\"\n",
    "    # Lê o arquivo da Caixa com as obras\n",
    "    result = pd.read_excel(os.path.join(path_Dados, 'Planilha_Caixa_PB.xlsx'))    \n",
    "    # renomeia alguns campos para compatibilidade e análise em conjunto\n",
    "    result.rename(columns={'SICONV':'SIAFI'}, inplace=True)\n",
    "    result.rename(columns={'SITUACAO_OBRA':'Situação_Obra_Caixa'}, inplace=True)    \n",
    "    result['SIAFI'].fillna(0, inplace=True)\n",
    "    result['SIAFI'] =  result['SIAFI'].astype(int)\n",
    "    result['VIGENCIA'] = pd.to_datetime(result['VIGENCIA'], coerce=True)\n",
    "    # campos tipo float a terem o tipo mudado\n",
    "    campos_float_cx = ['VALOR_INVESTIMENTO',                   \n",
    "                        'REPASSE_DESBLOQUEADO',\n",
    "                        'CONTRAPARTIDA_DESBLOQUEADA',\n",
    "                        'TOTAL_DESBLOQUEADO', \n",
    "                        '%_EXECUTADO']\n",
    "    # muda os tipos dos campos string para float\n",
    "    mudaStringparaFloat(campos_float_cx, result)\n",
    "    return result    "
   ]
  },
  {
   "cell_type": "code",
   "execution_count": 117,
   "metadata": {},
   "outputs": [],
   "source": [
    "def importaAjustaAqrMinCidades():\n",
    "    \"\"\"\n",
    "       Importa o arquivo de dados informado pelo Ministério das cidades, que por sua vez foi fornecido pela Caixa Nacional\n",
    "       contendo todas as obras do Nordeste\n",
    "    \"\"\"\n",
    "    # Lê o arquivo das cidades com as obras\n",
    "    result = pd.read_excel(os.path.join(path_Dados, 'min_cidades.xls') , skiprows=7)\n",
    "    result.rename(columns={'CONVENIO_SIAFI':'SIAFI'}, inplace=True)\n",
    "    # Converte as datas para seu formato apropriado\n",
    "    result['DT_ASSINATURA'] = pd.to_datetime(result['DT_ASSINATURA'], coerce=True, dayfirst=True)\n",
    "    result['DT_AUT_INICIO_CAIXA'] = pd.to_datetime(result['DT_AUT_INICIO_CAIXA'], coerce=True, dayfirst=True)\n",
    "    result['DT_INICIO_OBRA'] = pd.to_datetime(result['DT_INICIO_OBRA'], coerce=True, dayfirst=True)\n",
    "    result['DT_FIM_OBRA'] = pd.to_datetime(result['DT_FIM_OBRA'], coerce=True)\n",
    "    result['DT_VISTORIA'] = pd.to_datetime(result['DT_VISTORIA'], coerce=True)\n",
    "    # substitui a vírgula por ponto\n",
    "    result['PERCENTUAL_REALIZADO'] = result['PERCENTUAL_REALIZADO'].str.replace(',', '.')\n",
    "    # agora, muda o tipo do campo para float  \n",
    "    result['PERCENTUAL_REALIZADO'] = result['PERCENTUAL_REALIZADO'].astype(float)   \n",
    " \n",
    "    return result\n",
    "    \n",
    "    "
   ]
  },
  {
   "cell_type": "code",
   "execution_count": 118,
   "metadata": {},
   "outputs": [],
   "source": [
    "def pegaSituacaoObra(linha):\n",
    "    \"\"\"\n",
    "       pega o registro atual do dataframe e extrai a classificação da obra\n",
    "    \"\"\"\n",
    "    \n",
    "    result = ''\n",
    "    # classificação da FUNASA ou da Caixa ou do Simec\n",
    "    if (linha['SITUACAO_OBRA'] == 'PARALISADA') or (linha['Situação']  == 'Paralisada') or (linha['Situação_Obra_Caixa'] == 'Paralisada'):\n",
    "        result = 'Paralisada'\n",
    "    elif 'NÃO INICIADA' in str(linha['SITUACAO_OBRA']):         \n",
    "        result = 'Não Iniciada'\n",
    "    # testa o campo da Caixa de Situação de Obra    \n",
    "    elif linha['Situação_Obra_Caixa'] == 'Não iniciada': \n",
    "        result = 'Não Iniciada'\n",
    "    # testa se a obra está concluída Funasa   \n",
    "    elif 'CONCLUÍDA' in str(linha['SITUACAO_OBRA']): \n",
    "        result = 'Concluída'\n",
    "    # concluída no simec    \n",
    "    elif linha['Situação']  == 'Concluída':\n",
    "        result = 'Concluída'\n",
    "    elif 'EXECUÇÃO' in str(linha['SITUACAO_OBRA']) or linha['Situação']  == 'Execução':\n",
    "        result = 'Em Execução'\n",
    "    elif linha['Situação']  == 'Inacabada':\n",
    "        result = 'Inacabada'\n",
    "    elif 'ENCERRADA' in str(linha['SITUACAO_OBRA']):\n",
    "        result = 'Paralisada'\n",
    "    elif 'LICITAÇÃO' in str(linha['SITUACAO_OBRA']):\n",
    "        result = 'Não Iniciada'\n",
    "    # Situações do Ministério das Cidades    \n",
    "    elif 'PARALISADA' in str(linha['SIT_OBRA']):\n",
    "        result = 'Paralisada'\n",
    "    elif 'ATRASADA' in str(linha['SIT_OBRA']):\n",
    "        result = 'Atrasada'\n",
    "    elif 'NAO INICIADA' in str(linha['SIT_OBRA']):\n",
    "        result = 'Não Iniciada'       \n",
    "    elif 'NORMAL' in str(linha['SIT_OBRA']):\n",
    "        result = 'Em Execução'               \n",
    "    #else: \n",
    "    #    result = 'Outras Situações'\n",
    "    return result"
   ]
  },
  {
   "cell_type": "code",
   "execution_count": 119,
   "metadata": {
    "collapsed": true
   },
   "outputs": [],
   "source": [
    "def pegaObraLenta(linha):\n",
    "    result = ''\n",
    "    anos_sem_liberacao = hoje.year - linha['Data Última Liberação'].dt.year\n",
    "    # se passaram-se mais de dois anos sem liberação de recursos...obra paralisada efetivamente\n",
    "    if anos_sem_liberacao >= 2:\n",
    "        result ='Paralisada Efetivamente'\n",
    "    elif anos_sem_liberacao >= 1:    \n",
    "        result ='Ritmo Lento'\n",
    "    return result \n"
   ]
  },
  {
   "cell_type": "code",
   "execution_count": 120,
   "metadata": {
    "collapsed": true
   },
   "outputs": [],
   "source": [
    "def cruzaDadosRAIS(nome_arquivo_rais, dataframe_cnpj):\n",
    "    \"\"\"\n",
    "       Carrega o arquivo do DGI da RAIS de um determinado grupo de empresas e cruza-o com o CNPJ dessas empresas retornando \n",
    "       um dataframe com a razão social da empresa e o número de empregados na RAIS. \n",
    "       nome_arquivo_rais: caminho completo (incluindo o nome do arquivo) onde se encontra o arquivo da RAIS\n",
    "       dataframe_cnpj: dataframe com as empresas que tiveram dados cruzados com a RAIS e de onde iremos recuperar \n",
    "       a razão social\n",
    "    \"\"\"\n",
    "    # carrega o arquivo da RAIS que veio do DGI\n",
    "    rais_descricao = pd.read_csv(nome_arquivo_rais, sep=';', encoding='ISO-8859-1')\n",
    "    # enxuga o arquivo da Rais para só ficar com alguns campos mais relevantes\n",
    "    rais_descricao = rais_descricao[['CNPJEstab.', 'CPF', 'Nome do Participante']]\n",
    "    # renomeia o CNPJ para permitir o join\n",
    "    rais_descricao.rename(columns={'CNPJEstab.':'CNPJ'}, inplace=True)\n",
    "    dataframe_cnpj\n",
    "    # Faz o Join\n",
    "    join_cnpj_rais = pd.merge(dataframe_cnpj, rais_descricao, on='CNPJ', how='inner')\n",
    "    print(join_cnpj_rais)\n",
    "    # agrupa para contar \n",
    "    grupo = join_cnpj_rais.groupby('Razão Social')\n",
    "    return grupo['CNPJ'].count().sort_values()\n",
    "    "
   ]
  },
  {
   "cell_type": "code",
   "execution_count": 121,
   "metadata": {
    "collapsed": true
   },
   "outputs": [],
   "source": [
    "def removeNaoNumeroAgencia(linha):\n",
    "  \"\"\"\n",
    "   remove os caracteres não numéricos da agência e da conta do dataframe Extrato\n",
    "  \"\"\"\n",
    "  # pega o campo agência\n",
    "  agencia = str(linha['Agência']).upper()\n",
    "  # inicialmente retorna o número da agência que veio\n",
    "  result = agencia\n",
    "  match = re.search('[^0-9]', agencia)\n",
    "  # se o campo agência contém algum caractere que não seja número....\n",
    "  if match:        \n",
    "    # remove o X\n",
    "    result = agencia.replace('X', '')\n",
    "    # remove o -\n",
    "    result = result.replace('-', '')    \n",
    "  return result\n"
   ]
  },
  {
   "cell_type": "code",
   "execution_count": 122,
   "metadata": {
    "collapsed": true
   },
   "outputs": [],
   "source": [
    "def removeNaoNumeroConta(linha):\n",
    "  \"\"\"\n",
    "   remove os caracteres não numéricos da agência e da conta do dataframe Extrato\n",
    "  \"\"\"\n",
    "  # pega o campo agência\n",
    "  conta = str(linha['CONTA']).upper()\n",
    "  # inicialmente retorna o número da agência que veio\n",
    "  result = conta\n",
    "  match = re.search('[^0-9]', conta)\n",
    "  # se o campo agência contém algum caractere que não seja número....\n",
    "  if match:        \n",
    "    # remove o X\n",
    "    result = conta.replace('X', '')\n",
    "    # remove o -\n",
    "    result = result.replace('-', '')    \n",
    "    # remove o B\n",
    "    result = result.replace('A', '')       \n",
    "    # remove o B\n",
    "    result = result.replace('B', '')    \n",
    "    # remove o I\n",
    "    result = result.replace('I', '')       \n",
    "    \n",
    "  return result\n"
   ]
  },
  {
   "cell_type": "markdown",
   "metadata": {},
   "source": [
    "## <img src=\"files/Figuras/OBRAS.png\" align=\"left\" height=\"90\" width=\"90\">  1º Etapa: Levantamento da listagem dos Convênios de obras do Nordeste\n"
   ]
  },
  {
   "cell_type": "markdown",
   "metadata": {},
   "source": [
    "### Importa os arquivos do DGI de cada UF e junta-os num único Dataframe. Depois, ajusta os tipos de dados do Dataframe"
   ]
  },
  {
   "cell_type": "code",
   "execution_count": 123,
   "metadata": {},
   "outputs": [],
   "source": [
    "convenios_NE = importaMontaArquivosNordeste(nome_geral_arquivo_DGI)\n",
    "ajustaDadosDGI(convenios_NE)"
   ]
  },
  {
   "cell_type": "markdown",
   "metadata": {},
   "source": [
    "### Restringe o dataframe apenas para as counas que iremos usar do DGI"
   ]
  },
  {
   "cell_type": "code",
   "execution_count": 124,
   "metadata": {},
   "outputs": [],
   "source": [
    "convenios_NE = convenios_NE[['SIAFI', 'Função (Descrição)', 'Objeto da Transferência (Descrição Resumida)', 'ValorPactuado']]"
   ]
  },
  {
   "cell_type": "code",
   "execution_count": 125,
   "metadata": {},
   "outputs": [
    {
     "name": "stdout",
     "output_type": "stream",
     "text": [
      "<class 'pandas.core.frame.DataFrame'>\n",
      "Int64Index: 44677 entries, 0 to 4197\n",
      "Data columns (total 4 columns):\n",
      "SIAFI                                           44677 non-null int32\n",
      "Função (Descrição)                              44677 non-null object\n",
      "Objeto da Transferência (Descrição Resumida)    44677 non-null object\n",
      "ValorPactuado                                   44677 non-null float64\n",
      "dtypes: float64(1), int32(1), object(2)\n",
      "memory usage: 1.5+ MB\n"
     ]
    }
   ],
   "source": [
    "convenios_NE.info()"
   ]
  },
  {
   "cell_type": "markdown",
   "metadata": {},
   "source": [
    "## Aplicando os Filtros nos dados para ficar apenas com convênios de Obras das áreas de Saúde, Educação e Saneamento cujo valor esteja entre 1 e 25 R$ milhões  "
   ]
  },
  {
   "cell_type": "markdown",
   "metadata": {},
   "source": [
    "## Filtro 1: Seleciona apenas os convênios de SAÚDE, EDUCAÇÃO e SANEAMENTO"
   ]
  },
  {
   "cell_type": "code",
   "execution_count": 126,
   "metadata": {},
   "outputs": [],
   "source": [
    "filtro_convenio_funcao = convenios_NE.loc[(convenios_NE['Função (Descrição)'] == 'SAUDE') | \n",
    "                                        (convenios_NE['Função (Descrição)'] == 'EDUCACAO') | \n",
    "                                        (convenios_NE['Função (Descrição)'] == 'SANEAMENTO')]"
   ]
  },
  {
   "cell_type": "code",
   "execution_count": 127,
   "metadata": {},
   "outputs": [],
   "source": [
    "convenios_NE.to_excel('concenios_DGI.xlsx')"
   ]
  },
  {
   "cell_type": "code",
   "execution_count": 128,
   "metadata": {},
   "outputs": [
    {
     "data": {
      "text/plain": [
       "14560"
      ]
     },
     "execution_count": 128,
     "metadata": {},
     "output_type": "execute_result"
    }
   ],
   "source": [
    "filtro_convenio_funcao['SIAFI'].count()"
   ]
  },
  {
   "cell_type": "markdown",
   "metadata": {},
   "source": [
    "## Remove os duplicados"
   ]
  },
  {
   "cell_type": "code",
   "execution_count": 129,
   "metadata": {},
   "outputs": [],
   "source": [
    "filtro_convenio_funcao = filtro_convenio_funcao.drop_duplicates('SIAFI', keep='first')"
   ]
  },
  {
   "cell_type": "code",
   "execution_count": 130,
   "metadata": {},
   "outputs": [
    {
     "data": {
      "text/plain": [
       "12751"
      ]
     },
     "execution_count": 130,
     "metadata": {},
     "output_type": "execute_result"
    }
   ],
   "source": [
    "filtro_convenio_funcao['SIAFI'].count()"
   ]
  },
  {
   "cell_type": "markdown",
   "metadata": {},
   "source": [
    "#### <span style='color:red'>Comentário: Verifica-se que foram removidos 1809 registros. 14560 registros fruto do primeiro filtro menos 12751 após a remoção dos registros com número Siafi duplicado</span>"
   ]
  },
  {
   "cell_type": "markdown",
   "metadata": {},
   "source": [
    "## Filtro 2:  por valor (campo valor pactuado entre 1 e R$ 25 milhões)"
   ]
  },
  {
   "cell_type": "code",
   "execution_count": 131,
   "metadata": {},
   "outputs": [
    {
     "name": "stdout",
     "output_type": "stream",
     "text": [
      "Qde. de transferências após o filtro ->  2334\n"
     ]
    }
   ],
   "source": [
    "filtro_convenio_funcao_valor = filtro_convenio_funcao.loc[(filtro_convenio_funcao['ValorPactuado'] >= 1000000) & \n",
    "                                                          (filtro_convenio_funcao['ValorPactuado'] < 25000000)]\n",
    "\n",
    "print('Qde. de transferências após o filtro -> ', len(filtro_convenio_funcao_valor))\n"
   ]
  },
  {
   "cell_type": "markdown",
   "metadata": {},
   "source": [
    "## Filtro 3: por objeto - visa obter apenas transferências relacionadas a obras nas três funções de interesse"
   ]
  },
  {
   "cell_type": "code",
   "execution_count": 132,
   "metadata": {},
   "outputs": [
    {
     "name": "stdout",
     "output_type": "stream",
     "text": [
      "Após o filtro de Objeto-> 1498\n"
     ]
    }
   ],
   "source": [
    "# pega a coluna da descrição do objeto da transferência\n",
    "descricao_objeto = filtro_convenio_funcao_valor['Objeto da Transferência (Descrição Resumida)'].str.lower()\n",
    "\n",
    "# expressão regular para filtrar apenas os objetos que contenham essas palavras (o negativo será acrescentado em seguida)\n",
    "rex_palavras_nao_objeto  = '(^aquisi)|(^adquiri)|(curso)|(estudo)|(capacita)|(educa)|' \\\n",
    "                           '(livro)|(veiculo)|(elaboracao de projeto)|(qualifica)|(elaboracao do)|(formacao)|(equipamento)|' \\\n",
    "                           '(servicos de atencao)|(projeto basico)'\n",
    "    \n",
    "filtro_convenio_funcao_valor_obj = filtro_convenio_funcao_valor.loc[~descricao_objeto.str.contains(rex_palavras_nao_objeto)]\n",
    "\n",
    "print('Após o filtro de Objeto->', filtro_convenio_funcao_valor_obj['SIAFI'].count())\n"
   ]
  },
  {
   "cell_type": "markdown",
   "metadata": {},
   "source": [
    "### Ordena o dataframe pelo código Siafi"
   ]
  },
  {
   "cell_type": "code",
   "execution_count": 133,
   "metadata": {
    "collapsed": true
   },
   "outputs": [],
   "source": [
    "filtro_convenio_funcao_valor_obj.sort('SIAFI', inplace=True)"
   ]
  },
  {
   "cell_type": "markdown",
   "metadata": {},
   "source": [
    "## Importa os dados do Portal da Transparência e junta-os com os dados do DGI"
   ]
  },
  {
   "cell_type": "code",
   "execution_count": 134,
   "metadata": {},
   "outputs": [],
   "source": [
    "dados_portal_transp = importaAjustaArqPortalTransparencia()"
   ]
  },
  {
   "cell_type": "code",
   "execution_count": 135,
   "metadata": {},
   "outputs": [
    {
     "name": "stdout",
     "output_type": "stream",
     "text": [
      "<class 'pandas.core.frame.DataFrame'>\n",
      "Int64Index: 11190 entries, 31 to 483088\n",
      "Data columns (total 22 columns):\n",
      "SIAFI                     11190 non-null int64\n",
      "UF                        11190 non-null object\n",
      "Código SIAFI Município    11190 non-null int64\n",
      "Nome Município            11190 non-null object\n",
      "Situação Convênio         11190 non-null object\n",
      "Número Original           11190 non-null object\n",
      "Objeto Convênio           11170 non-null object\n",
      "Código Órgão Superior     11190 non-null int64\n",
      "Nome Órgão Superior       11190 non-null object\n",
      "Código Concedente         11190 non-null float64\n",
      "Nome Concedente           11186 non-null object\n",
      "Código Convenente         11190 non-null object\n",
      "Nome Convenente           11190 non-null object\n",
      "Tipo Ente Convenente      11190 non-null object\n",
      "Valor Convênio            11190 non-null float64\n",
      "Valor Liberado            11190 non-null float64\n",
      "Data Publicação           11190 non-null datetime64[ns]\n",
      "Data Início Vigência      11190 non-null datetime64[ns]\n",
      "Data Fim Vigência         11190 non-null datetime64[ns]\n",
      "Valor Contrapartida       11190 non-null float64\n",
      "Data Última Liberação     9232 non-null datetime64[ns]\n",
      "Valor Última Liberação    11190 non-null float64\n",
      "dtypes: datetime64[ns](4), float64(5), int64(3), object(10)\n",
      "memory usage: 2.0+ MB\n"
     ]
    }
   ],
   "source": [
    "dados_portal_transp.info()"
   ]
  },
  {
   "cell_type": "code",
   "execution_count": 136,
   "metadata": {
    "collapsed": true
   },
   "outputs": [],
   "source": [
    "filtro_convenios_final = pd.merge(filtro_convenio_funcao_valor_obj, dados_portal_transp, on='SIAFI', how='left')"
   ]
  },
  {
   "cell_type": "code",
   "execution_count": 137,
   "metadata": {},
   "outputs": [
    {
     "data": {
      "text/plain": [
       "1498"
      ]
     },
     "execution_count": 137,
     "metadata": {},
     "output_type": "execute_result"
    }
   ],
   "source": [
    "len(filtro_convenios_final)"
   ]
  },
  {
   "cell_type": "markdown",
   "metadata": {},
   "source": [
    "## Filtro 4: Deixa apenas os da esfera municipal"
   ]
  },
  {
   "cell_type": "code",
   "execution_count": 138,
   "metadata": {
    "collapsed": true
   },
   "outputs": [],
   "source": [
    "filtro_convenios_final = filtro_convenios_final.loc[filtro_convenios_final['Tipo Ente Convenente'] == \"'M' (municipal)\"]"
   ]
  },
  {
   "cell_type": "markdown",
   "metadata": {},
   "source": [
    "### Número de convênios por situação"
   ]
  },
  {
   "cell_type": "code",
   "execution_count": 139,
   "metadata": {},
   "outputs": [
    {
     "name": "stdout",
     "output_type": "stream",
     "text": [
      "Total de Convênios Municipais -> 949\n"
     ]
    },
    {
     "data": {
      "text/plain": [
       "Situação Convênio\n",
       "Adimplente                                    517\n",
       "Aguardando Prestação de Contas                 16\n",
       "Anulado                                        45\n",
       "Concluído                                     153\n",
       "Em Execução                                    65\n",
       "Excluído                                        9\n",
       "Inadimplente                                   62\n",
       "Inadimplência Suspensa                         63\n",
       "Prestação de Contas Aprovada                    2\n",
       "Prestação de Contas Aprovada com Ressalvas      1\n",
       "Prestação de Contas Rejeitada                   1\n",
       "Prestação de Contas em Análise                  3\n",
       "Prestação de Contas em Complementação           4\n",
       "Prestação de Contas enviada para Análise        7\n",
       "Rescindido                                      1\n",
       "Name: Situação Convênio, dtype: int64"
      ]
     },
     "execution_count": 139,
     "metadata": {},
     "output_type": "execute_result"
    }
   ],
   "source": [
    "print('Total de Convênios Municipais ->', len(filtro_convenios_final))\n",
    "filtro_convenios_final.groupby('Situação Convênio')['Situação Convênio'].count()\n"
   ]
  },
  {
   "cell_type": "markdown",
   "metadata": {},
   "source": [
    "## Filtro 5: Situação do Convênio - deixa apenas os convênios classificados como: \n",
    "## \"Em Execução\"\n",
    "##  \"Adimplente\"\n",
    "## \"Inadimplente\"\n",
    "## \"Indadimplência Suspensa\"\n"
   ]
  },
  {
   "cell_type": "code",
   "execution_count": 140,
   "metadata": {},
   "outputs": [],
   "source": [
    "filtro_convenios_final = filtro_convenios_final.loc[(filtro_convenios_final['Situação Convênio'] == 'Em Execução') |\n",
    "                                                    (filtro_convenios_final['Situação Convênio'] == 'Adimplente')  |\n",
    "                                                    (filtro_convenios_final['Situação Convênio'] == 'Inadimplência Suspensa') |\n",
    "                                                    (filtro_convenios_final['Situação Convênio'] == 'Inadimplente')]"
   ]
  },
  {
   "cell_type": "markdown",
   "metadata": {},
   "source": [
    "## Filtro 6: Retira as do Ministério da Integração e da Ciência e Tecnologia devido à baixa quantidade, materialidade e falta de correlação com o objeto do levantamento"
   ]
  },
  {
   "cell_type": "code",
   "execution_count": 141,
   "metadata": {
    "collapsed": true
   },
   "outputs": [],
   "source": [
    "filtro_convenios_final = filtro_convenios_final.loc[filtro_convenios_final['Nome Órgão Superior'] != 'MINISTERIO DA INTEGRACAO NACIONAL']\n",
    "filtro_convenios_final = filtro_convenios_final.loc[filtro_convenios_final['Nome Órgão Superior'] != 'MINIST.DA CIENCIA,TECNOL.,INOV.E COMUNICACOES']"
   ]
  },
  {
   "cell_type": "markdown",
   "metadata": {},
   "source": [
    "### Número de convênios por situação após o Filtro 5"
   ]
  },
  {
   "cell_type": "code",
   "execution_count": 142,
   "metadata": {},
   "outputs": [
    {
     "name": "stdout",
     "output_type": "stream",
     "text": [
      "Total de Convênios Municipais -> 694\n"
     ]
    },
    {
     "data": {
      "text/plain": [
       "Situação Convênio\n",
       "Adimplente                505\n",
       "Em Execução                65\n",
       "Inadimplente               62\n",
       "Inadimplência Suspensa     62\n",
       "Name: Situação Convênio, dtype: int64"
      ]
     },
     "execution_count": 142,
     "metadata": {},
     "output_type": "execute_result"
    }
   ],
   "source": [
    "print('Total de Convênios Municipais ->', len(filtro_convenios_final))\n",
    "filtro_convenios_final.groupby('Situação Convênio')['Situação Convênio'].count()"
   ]
  },
  {
   "cell_type": "markdown",
   "metadata": {},
   "source": [
    "### Renomeia a coluna de número original do Convênio para facilitar a junção com outras tabelas"
   ]
  },
  {
   "cell_type": "code",
   "execution_count": 143,
   "metadata": {},
   "outputs": [],
   "source": [
    "filtro_convenios_final.rename(columns={'Número Original':'NumeroOriginalConvenio'}, inplace=True)"
   ]
  },
  {
   "cell_type": "markdown",
   "metadata": {},
   "source": [
    "### Cria um campo com a idade das transferências"
   ]
  },
  {
   "cell_type": "code",
   "execution_count": 144,
   "metadata": {},
   "outputs": [
    {
     "data": {
      "text/plain": [
       "count   694.00\n",
       "mean      5.74\n",
       "std       2.41\n",
       "min       3.00\n",
       "25%       3.00\n",
       "50%       6.00\n",
       "75%       8.00\n",
       "max       9.00\n",
       "Name: idadeTransf, dtype: float64"
      ]
     },
     "execution_count": 144,
     "metadata": {},
     "output_type": "execute_result"
    }
   ],
   "source": [
    "# cria uma coluna com a idade dos convênios em anos\n",
    "hoje =  pd.Timestamp(datetime.now().date())\n",
    "filtro_convenios_final['idadeTransf'] = hoje.year - filtro_convenios_final['Data Início Vigência'].dt.year\n",
    "filtro_convenios_final['idadeTransf'].describe()"
   ]
  },
  {
   "cell_type": "markdown",
   "metadata": {},
   "source": [
    "### Distribuição da idade das Transferências"
   ]
  },
  {
   "cell_type": "code",
   "execution_count": 145,
   "metadata": {},
   "outputs": [
    {
     "data": {
      "text/plain": [
       "<matplotlib.axes._subplots.AxesSubplot at 0x2f5e9208>"
      ]
     },
     "execution_count": 145,
     "metadata": {},
     "output_type": "execute_result"
    },
    {
     "data": {
      "image/png": "[encoded data removed]",
      "text/plain": [
       "<matplotlib.figure.Figure at 0x2f5e9048>"
      ]
     },
     "metadata": {},
     "output_type": "display_data"
    }
   ],
   "source": [
    "# mostra a distribuição da idade das transferências\n",
    "filtro_convenios_final['idadeTransf'].hist(bins=50, figsize=(12,8))"
   ]
  },
  {
   "cell_type": "code",
   "execution_count": 146,
   "metadata": {},
   "outputs": [
    {
     "data": {
      "text/plain": [
       "                               sum  count\n",
       "UF                                       \n",
       "ALAGOAS             135,598,911.88     21\n",
       "BAHIA               209,662,578.36     50\n",
       "CEARA               598,390,450.92    162\n",
       "MARANHAO            284,633,189.14    114\n",
       "PARAIBA             286,641,179.41     97\n",
       "PERNAMBUCO          252,211,991.85     72\n",
       "PIAUI               295,374,047.22     92\n",
       "RIO GRANDE DO NORTE 225,804,980.71     64\n",
       "SERGIPE             153,554,902.95     22"
      ]
     },
     "execution_count": 146,
     "metadata": {},
     "output_type": "execute_result"
    }
   ],
   "source": [
    "grupo_UF = filtro_convenios_final.groupby(['UF'])\n",
    "grupo_UF['Valor Convênio'].agg(['sum', 'count'])"
   ]
  },
  {
   "cell_type": "markdown",
   "metadata": {},
   "source": [
    "### Convênios por estado e por função"
   ]
  },
  {
   "cell_type": "code",
   "execution_count": 147,
   "metadata": {
    "scrolled": true
   },
   "outputs": [
    {
     "data": {
      "text/plain": [
       "                                                  sum\n",
       "UF                  Função (Descrição)               \n",
       "ALAGOAS             EDUCACAO             4,800,952.35\n",
       "                    SANEAMENTO           8,060,312.04\n",
       "                    SAUDE              122,737,647.49\n",
       "BAHIA               EDUCACAO            11,240,117.04\n",
       "                    SANEAMENTO          51,137,280.63\n",
       "                    SAUDE              147,285,180.69\n",
       "CEARA               EDUCACAO            15,641,655.08\n",
       "                    SANEAMENTO         115,996,997.81\n",
       "                    SAUDE              466,751,798.03\n",
       "MARANHAO            EDUCACAO             2,396,566.84\n",
       "                    SANEAMENTO          32,238,289.29\n",
       "                    SAUDE              249,998,333.01\n",
       "PARAIBA             EDUCACAO             6,610,856.52\n",
       "                    SANEAMENTO          14,106,779.84\n",
       "                    SAUDE              265,923,543.05\n",
       "PERNAMBUCO          EDUCACAO             8,924,045.87\n",
       "                    SANEAMENTO          36,994,780.28\n",
       "                    SAUDE              206,293,165.70\n",
       "PIAUI               EDUCACAO             1,124,657.01\n",
       "                    SANEAMENTO          32,449,689.23\n",
       "                    SAUDE              261,799,700.98\n",
       "RIO GRANDE DO NORTE EDUCACAO            23,348,735.67\n",
       "                    SANEAMENTO          58,770,545.66\n",
       "                    SAUDE              143,685,699.38\n",
       "SERGIPE             EDUCACAO             3,879,944.05\n",
       "                    SANEAMENTO          58,509,828.72\n",
       "                    SAUDE               91,165,130.18"
      ]
     },
     "execution_count": 147,
     "metadata": {},
     "output_type": "execute_result"
    },
    {
     "data": {
      "image/png": "[encoded data removed]",
      "text/plain": [
       "<matplotlib.figure.Figure at 0x22346ef0>"
      ]
     },
     "metadata": {},
     "output_type": "display_data"
    }
   ],
   "source": [
    "grupo_UF_funcao = filtro_convenios_final.groupby(['UF','Função (Descrição)'])\n",
    "grupo_UF_funcao['Valor Convênio'].agg(['sum', 'count'])\n",
    "grafico_UF_Funcao = grupo_UF_funcao.size().unstack().plot(kind='bar', figsize=(10, 8))\n",
    "grafico_UF_Funcao.set_xlabel(\"Estado\")\n",
    "grafico_UF_Funcao.set_ylabel(\"Quantidade de Convênios\")\n",
    "grupo_UF_funcao['Valor Convênio'].agg(['sum'])"
   ]
  },
  {
   "cell_type": "code",
   "execution_count": 148,
   "metadata": {},
   "outputs": [
    {
     "data": {
      "text/plain": [
       "<matplotlib.axes._subplots.AxesSubplot at 0x2235d1d0>"
      ]
     },
     "execution_count": 148,
     "metadata": {},
     "output_type": "execute_result"
    },
    {
     "data": {
      "image/png": "[encoded data removed]",
      "text/plain": [
       "<matplotlib.figure.Figure at 0x1352f240>"
      ]
     },
     "metadata": {},
     "output_type": "display_data"
    }
   ],
   "source": [
    "filtro_convenios_final.boxplot(column='ValorPactuado', by='UF', figsize=(14,11))"
   ]
  },
  {
   "cell_type": "markdown",
   "metadata": {},
   "source": [
    "## 1º Produto: Listagem dos Convênios de Obras do Nordeste\n",
    "<img src=\"files/Figuras/folder data.png\" align=\"left\" height=\"80\" width=\"80\">"
   ]
  },
  {
   "cell_type": "code",
   "execution_count": 149,
   "metadata": {},
   "outputs": [],
   "source": [
    "filtro_convenios_final.to_excel('Listagem_Convenios_Obras.xlsx')"
   ]
  },
  {
   "cell_type": "markdown",
   "metadata": {},
   "source": [
    "## Convênios após os filtros"
   ]
  },
  {
   "cell_type": "code",
   "execution_count": 150,
   "metadata": {},
   "outputs": [
    {
     "name": "stdout",
     "output_type": "stream",
     "text": [
      "Total de Convênios Municipais -> 694\n"
     ]
    },
    {
     "data": {
      "text/plain": [
       "Situação Convênio\n",
       "Adimplente                505\n",
       "Em Execução                65\n",
       "Inadimplente               62\n",
       "Inadimplência Suspensa     62\n",
       "Name: Situação Convênio, dtype: int64"
      ]
     },
     "execution_count": 150,
     "metadata": {},
     "output_type": "execute_result"
    }
   ],
   "source": [
    "print('Total de Convênios Municipais ->', len(filtro_convenios_final))\n",
    "filtro_convenios_final.groupby('Situação Convênio')['Situação Convênio'].count()"
   ]
  },
  {
   "cell_type": "markdown",
   "metadata": {},
   "source": [
    "# Análises dos convênios após os filtros -- a implementar"
   ]
  },
  {
   "cell_type": "markdown",
   "metadata": {},
   "source": [
    "##  <img src=\"files/Figuras/OBRAS.png\" align=\"left\" height=\"90\" width=\"90\">  2º Etapa: Situação das Obras após junção com outras fontes de dados: Caixa, Funasa, Simec e Portal da  Transparência\n"
   ]
  },
  {
   "cell_type": "markdown",
   "metadata": {},
   "source": [
    "### FUNASA: Lê e ajusta os dados do arquivo de obras"
   ]
  },
  {
   "cell_type": "code",
   "execution_count": 151,
   "metadata": {},
   "outputs": [],
   "source": [
    "dados_funasa = importaMontaArquivosNordeste(nome_geral_arquivo_funasa, 'excel', 7)\n",
    "ajustaDadosFunasa(dados_funasa)"
   ]
  },
  {
   "cell_type": "markdown",
   "metadata": {},
   "source": [
    "### Os dados da Funasa relativos ao Nordeste contém 7.870 registros de obras dos 9 estados"
   ]
  },
  {
   "cell_type": "code",
   "execution_count": 152,
   "metadata": {},
   "outputs": [
    {
     "name": "stdout",
     "output_type": "stream",
     "text": [
      "8055\n",
      "<class 'pandas.core.frame.DataFrame'>\n",
      "Int64Index: 8055 entries, 0 to 1009\n",
      "Data columns (total 25 columns):\n",
      "NM_UF                          8055 non-null object\n",
      "CONVENIO                       8055 non-null object\n",
      "SIAFI                          8055 non-null int32\n",
      "INSTRUMENTO                    8055 non-null object\n",
      "PROPOSTA_SICONV                1367 non-null object\n",
      "CONVENIO_SICONV                1398 non-null object\n",
      "PROCESSO                       8054 non-null object\n",
      "ACAO                           8055 non-null object\n",
      "LOCALIZACAO_PROCESSO_SCDWEB    8055 non-null object\n",
      "TOMADOR_NOME                   8055 non-null object\n",
      "TOMADOR_CNPJ                   8055 non-null int64\n",
      "UF_MUNICIPIO_BENEFICIADO       8050 non-null object\n",
      "DATA_ASSINATURA                8049 non-null datetime64[ns]\n",
      "DATA_INICIO_VIGENCIA           8055 non-null datetime64[ns]\n",
      "DATA_FIM_VIGENCIA              8055 non-null datetime64[ns]\n",
      "VALOR_EMPREENDIMENTO           8012 non-null float64\n",
      "VALOR_CONTRAPARTIDA            8055 non-null float64\n",
      "VALOR_LIBERADO                 8055 non-null float64\n",
      "VALOR_TOTAL_EMPENHADO          8047 non-null float64\n",
      "VALOR_TOTAL_PAGO               6910 non-null float64\n",
      "DATA_INICIO_OBRA               5713 non-null datetime64[ns]\n",
      "DATA_TERMINO_OBRA              4554 non-null datetime64[ns]\n",
      "PERCENTUAL_OBRA                7646 non-null float64\n",
      "SITUACAO_OBRA                  8055 non-null object\n",
      "DATA_ULTIMO_RVT                4970 non-null datetime64[ns]\n",
      "dtypes: datetime64[ns](6), float64(6), int32(1), int64(1), object(11)\n",
      "memory usage: 1.6+ MB\n"
     ]
    }
   ],
   "source": [
    "print(len(dados_funasa))\n",
    "dados_funasa.info()"
   ]
  },
  {
   "cell_type": "markdown",
   "metadata": {},
   "source": [
    "### Join dos dados da Funasa com os convênios DGI"
   ]
  },
  {
   "cell_type": "code",
   "execution_count": 153,
   "metadata": {},
   "outputs": [],
   "source": [
    "# junta o arquivo da DGI com o da FUNASA\n",
    "join_dgi_funasa = pd.merge(filtro_convenios_final, dados_funasa, on='SIAFI', how='left')\n",
    "#join_dgi_funasa.to_excel('join_funasa_dgi_outer.xlsx')\n",
    "# converte novamente o código do SIAFI para int\n",
    "join_dgi_funasa['SIAFI'] = join_dgi_funasa['SIAFI'].astype(int)"
   ]
  },
  {
   "cell_type": "markdown",
   "metadata": {},
   "source": [
    "### cria um sub conjunto do join contendo apenas os campos que desejamos"
   ]
  },
  {
   "cell_type": "markdown",
   "metadata": {},
   "source": [
    "### SIMEC: Lê e ajusta os dados do arquivo"
   ]
  },
  {
   "cell_type": "markdown",
   "metadata": {},
   "source": [
    "### Arquivo baixado do portal http://simec.mec.gov.br/painelObras/ com dados de todas as obras do Brasil"
   ]
  },
  {
   "cell_type": "code",
   "execution_count": 154,
   "metadata": {},
   "outputs": [],
   "source": [
    "dados_simec = importaAjustaDadosSIMEC()"
   ]
  },
  {
   "cell_type": "code",
   "execution_count": 155,
   "metadata": {},
   "outputs": [
    {
     "name": "stdout",
     "output_type": "stream",
     "text": [
      "<class 'pandas.core.frame.DataFrame'>\n",
      "Int64Index: 11948 entries, 0 to 28622\n",
      "Data columns (total 13 columns):\n",
      "NumeroOriginalConvenio                            11270 non-null object\n",
      "cnpj_contratata                                   9138 non-null object\n",
      "UF                                                11948 non-null object\n",
      "Município                                         11948 non-null object\n",
      "Situação                                          11945 non-null object\n",
      "Percentual de Execução                            11948 non-null float64\n",
      "Valor do Contrato                                 10704 non-null float64\n",
      "Prazo de Vigência                                 9439 non-null float64\n",
      "Data Prevista de Conclusão da Obra                8000 non-null datetime64[ns]\n",
      "Data da Última Vistoria do Estado ou Município    8972 non-null datetime64[ns]\n",
      "Saldo TOTAL                                       10849 non-null float64\n",
      "Total Pago                                        8208 non-null float64\n",
      "Percentual Pago                                   8208 non-null float64\n",
      "dtypes: datetime64[ns](2), float64(6), object(5)\n",
      "memory usage: 1.3+ MB\n"
     ]
    }
   ],
   "source": [
    "dados_simec.info()"
   ]
  },
  {
   "cell_type": "markdown",
   "metadata": {},
   "source": [
    "### O simec registra que há 11.846 registros de obras de educação no nordeste"
   ]
  },
  {
   "cell_type": "markdown",
   "metadata": {},
   "source": [
    "### Join dos dados do Simec com o join anterior (DGI, Funasa, Portal da Transparência)"
   ]
  },
  {
   "cell_type": "code",
   "execution_count": 156,
   "metadata": {},
   "outputs": [],
   "source": [
    "# junta os dataframes\n",
    "join_dgi_funasa_portal_simec = pd.merge(join_dgi_funasa, dados_simec, on='NumeroOriginalConvenio', how='left')"
   ]
  },
  {
   "cell_type": "markdown",
   "metadata": {},
   "source": [
    "### Temos 93 registros correspondentes no simec, devido ao fato de que 1(um) convênio pode dar origem a várias obras - O Join está correto"
   ]
  },
  {
   "cell_type": "markdown",
   "metadata": {},
   "source": [
    "### CAIXA: Lê e ajusta os dados do arquivo de obras fornecido pela Gigov PB"
   ]
  },
  {
   "cell_type": "code",
   "execution_count": 157,
   "metadata": {},
   "outputs": [
    {
     "name": "stdout",
     "output_type": "stream",
     "text": [
      "<class 'pandas.core.frame.DataFrame'>\n",
      "RangeIndex: 208 entries, 0 to 207\n",
      "Data columns (total 14 columns):\n",
      "CONTRATO                      208 non-null object\n",
      "SIAFI                         208 non-null int32\n",
      "PROPONENTE                    208 non-null object\n",
      "CNPJ                          208 non-null object\n",
      "LOCALIDADE                    208 non-null object\n",
      "VALOR_INVESTIMENTO            208 non-null float64\n",
      "REPASSE_DESBLOQUEADO          208 non-null float64\n",
      "CONTRAPARTIDA_DESBLOQUEADA    208 non-null float64\n",
      "TOTAL_DESBLOQUEADO            208 non-null float64\n",
      "SITUACAO_CONTRATO             208 non-null object\n",
      "Situação_Obra_Caixa           205 non-null object\n",
      "%_EXECUTADO                   208 non-null float64\n",
      "VIGENCIA                      205 non-null datetime64[ns]\n",
      "SITUAÇÃO E GESTÃO             208 non-null object\n",
      "dtypes: datetime64[ns](1), float64(5), int32(1), object(7)\n",
      "memory usage: 22.0+ KB\n"
     ]
    }
   ],
   "source": [
    "dados_caixa = importaAjustaArqCaixaPB()\n",
    "# Mostra os campos e seus tipos\n",
    "dados_caixa.info()"
   ]
  },
  {
   "cell_type": "markdown",
   "metadata": {},
   "source": [
    "## Min. Cidades: Lê e ajusta o arquivo fornecido pelo Ministério das Cidades"
   ]
  },
  {
   "cell_type": "code",
   "execution_count": 158,
   "metadata": {},
   "outputs": [],
   "source": [
    "dados_cidades = importaAjustaAqrMinCidades()"
   ]
  },
  {
   "cell_type": "code",
   "execution_count": 159,
   "metadata": {},
   "outputs": [
    {
     "name": "stdout",
     "output_type": "stream",
     "text": [
      "<class 'pandas.core.frame.DataFrame'>\n",
      "RangeIndex: 359 entries, 0 to 358\n",
      "Data columns (total 18 columns):\n",
      "RECURSO OGU             359 non-null object\n",
      "CONTRATO                359 non-null object\n",
      "SIAFI                   359 non-null int64\n",
      "PROPOSTA_SICONV         359 non-null int64\n",
      "UF                      359 non-null object\n",
      "MUNICIPIO               355 non-null object\n",
      "DT_ASSINATURA           359 non-null datetime64[ns]\n",
      "DT_AUT_INICIO_CAIXA     201 non-null datetime64[ns]\n",
      "DT_INICIO_OBRA          198 non-null datetime64[ns]\n",
      "DT_FIM_OBRA             190 non-null datetime64[ns]\n",
      "DT_VISTORIA             60 non-null datetime64[ns]\n",
      "VLR_REPASSE             359 non-null float64\n",
      "VLR_LIBERADO            359 non-null float64\n",
      "VLR_DESBLOQUEADO        359 non-null float64\n",
      "SIT_CONTRATO            359 non-null object\n",
      "SIT_OBRA                359 non-null object\n",
      "PERCENTUAL_REALIZADO    359 non-null float64\n",
      "CNPJ_CONTRATADAS        190 non-null object\n",
      "dtypes: datetime64[ns](5), float64(4), int64(2), object(7)\n",
      "memory usage: 50.6+ KB\n"
     ]
    }
   ],
   "source": [
    "dados_cidades.info()"
   ]
  },
  {
   "cell_type": "markdown",
   "metadata": {},
   "source": [
    "### Faz a junção do arquivo da Caixa da PB com o Join anterior (DGI + FUNASA + PORTAL + SIMEC + CAIXA)"
   ]
  },
  {
   "cell_type": "code",
   "execution_count": 160,
   "metadata": {},
   "outputs": [],
   "source": [
    "# junta os dataframes\n",
    "join_DFPSC = pd.merge(join_dgi_funasa_portal_simec, dados_caixa, on='SIAFI', how='left')"
   ]
  },
  {
   "cell_type": "markdown",
   "metadata": {},
   "source": [
    "### Faz  a junção do arquivo do Min. Cidades com o Join anterior (SGI + FUNASA + PORTAL + SIMEC + CAIXA + CIDADES)"
   ]
  },
  {
   "cell_type": "code",
   "execution_count": 161,
   "metadata": {
    "collapsed": true
   },
   "outputs": [],
   "source": [
    "join_DFPSCC = pd.merge(join_DFPSC, dados_cidades, on='SIAFI', how='left')"
   ]
  },
  {
   "cell_type": "markdown",
   "metadata": {},
   "source": [
    "### Cria uma coluna para receber todos os percentuais de execução da obra para permitir a elaboração de estatísticas"
   ]
  },
  {
   "cell_type": "code",
   "execution_count": 162,
   "metadata": {},
   "outputs": [],
   "source": [
    "# Percentual informado pela FUNASA\n",
    "join_DFPSCC['PERCENTUAL_EXEC_OBRA'] = np.where(join_DFPSCC['PERCENTUAL_OBRA'].isnull(),np.nan,join_DFPSCC['PERCENTUAL_OBRA'])\n",
    "# Percentual informado pelo Simec\n",
    "join_DFPSCC['PERCENTUAL_EXEC_OBRA'] = np.where(join_DFPSCC['Percentual de Execução'].isnull(),join_DFPSCC['PERCENTUAL_EXEC_OBRA'],join_DFPSCC['Percentual de Execução'])\n",
    "# Percentual informado pela Caixa\n",
    "join_DFPSCC['PERCENTUAL_EXEC_OBRA'] = np.where(join_DFPSCC['%_EXECUTADO'].isnull(),join_DFPSCC['PERCENTUAL_EXEC_OBRA'],join_DFPSCC['%_EXECUTADO'])\n",
    "# Percentual informado pelo Min. Cidades\n",
    "join_DFPSCC['PERCENTUAL_EXEC_OBRA'] = np.where(join_DFPSCC['PERCENTUAL_REALIZADO'].isnull(),join_DFPSCC['PERCENTUAL_EXEC_OBRA'],join_DFPSCC['PERCENTUAL_REALIZADO'])"
   ]
  },
  {
   "cell_type": "code",
   "execution_count": 163,
   "metadata": {},
   "outputs": [],
   "source": [
    "join_DFPSCC['SITUACAO_EXEC_OBRA'] = join_DFPSCC.apply(pegaSituacaoObra, axis=1)"
   ]
  },
  {
   "cell_type": "markdown",
   "metadata": {},
   "source": [
    "### Cria campo de Percentual Liberado em relação ao valor total do Convênio"
   ]
  },
  {
   "cell_type": "code",
   "execution_count": 164,
   "metadata": {
    "collapsed": true
   },
   "outputs": [],
   "source": [
    "join_DFPSCC['Percentual_liberado'] = join_DFPSCC['Valor Liberado'] / join_DFPSCC['Valor Convênio']"
   ]
  },
  {
   "cell_type": "markdown",
   "metadata": {},
   "source": [
    "### Coloca um sinalizador de convênios com alto risco de possuir problemas"
   ]
  },
  {
   "cell_type": "markdown",
   "metadata": {},
   "source": [
    "### Condições: \n",
    "### 1. Data da última liberação a mais de dois anos 2. Obras não concluídas  3. Valor liberado ultrapassa 50% do valor do convênio 4. Classificada no sistema como Atrasada Paralisada ou Abandonada"
   ]
  },
  {
   "cell_type": "code",
   "execution_count": 165,
   "metadata": {},
   "outputs": [],
   "source": [
    "condicao_alto_risco = ((hoje.year - join_DFPSCC['Data Última Liberação'].dt.year > 2) & (join_DFPSCC['SITUACAO_EXEC_OBRA'] != 'Concluída') & (join_DFPSCC['Percentual_liberado'] >= 0.5)) | (join_DFPSCC['SITUACAO_EXEC_OBRA'].str.contains('Atrasada|Paralisada|Inacabada'))\n",
    "                      "
   ]
  },
  {
   "cell_type": "code",
   "execution_count": 166,
   "metadata": {
    "collapsed": true
   },
   "outputs": [],
   "source": [
    "join_DFPSCC['alto_risco'] = np.where(condicao_alto_risco,1, 0)"
   ]
  },
  {
   "cell_type": "markdown",
   "metadata": {},
   "source": [
    "## 2º Produto: Listagem de Convênios com alto risco de apresentar problemas\n",
    "<img src=\"files/Figuras/folder data.png\" align=\"left\" height=\"80\" width=\"80\">"
   ]
  },
  {
   "cell_type": "code",
   "execution_count": 167,
   "metadata": {},
   "outputs": [],
   "source": [
    "join_DFPSCC.to_excel('join_DFSPCC_Obras.xlsx')"
   ]
  },
  {
   "cell_type": "markdown",
   "metadata": {},
   "source": [
    "### Situação Geral das Obras em relação a sua situação"
   ]
  },
  {
   "cell_type": "code",
   "execution_count": 168,
   "metadata": {},
   "outputs": [
    {
     "data": {
      "text/plain": [
       "                    count\n",
       "SITUACAO_EXEC_OBRA       \n",
       "                       91\n",
       "Atrasada                9\n",
       "Concluída             123\n",
       "Em Execução           271\n",
       "Inacabada               9\n",
       "Não Iniciada           86\n",
       "Paralisada            120"
      ]
     },
     "execution_count": 168,
     "metadata": {},
     "output_type": "execute_result"
    }
   ],
   "source": [
    "grupo_Situacao_Obra_geral = join_DFPSCC.groupby(['SITUACAO_EXEC_OBRA'])\n",
    "grupo_Situacao_Obra_geral['SITUACAO_EXEC_OBRA'].agg(['count'])"
   ]
  },
  {
   "cell_type": "markdown",
   "metadata": {},
   "source": [
    "### Trabalha apenas os Convênios de Alto Risco"
   ]
  },
  {
   "cell_type": "code",
   "execution_count": 169,
   "metadata": {
    "collapsed": true
   },
   "outputs": [],
   "source": [
    "obras_risco = join_DFPSCC[join_DFPSCC['alto_risco'] == 1]"
   ]
  },
  {
   "cell_type": "code",
   "execution_count": 170,
   "metadata": {},
   "outputs": [
    {
     "data": {
      "text/plain": [
       "array(['Inacabada', '', 'Em Execução', 'Paralisada', 'Atrasada',\n",
       "       'Não Iniciada'], dtype=object)"
      ]
     },
     "execution_count": 170,
     "metadata": {},
     "output_type": "execute_result"
    }
   ],
   "source": [
    "obras_risco['SITUACAO_EXEC_OBRA'].unique()"
   ]
  },
  {
   "cell_type": "code",
   "execution_count": 171,
   "metadata": {},
   "outputs": [
    {
     "data": {
      "text/plain": [
       "                    count\n",
       "SITUACAO_EXEC_OBRA       \n",
       "                       21\n",
       "Atrasada                9\n",
       "Em Execução            66\n",
       "Inacabada               9\n",
       "Não Iniciada            1\n",
       "Paralisada            120"
      ]
     },
     "execution_count": 171,
     "metadata": {},
     "output_type": "execute_result"
    }
   ],
   "source": [
    "grupo_Situacao_Obra = obras_risco.groupby(['SITUACAO_EXEC_OBRA'])\n",
    "grupo_Situacao_Obra['SITUACAO_EXEC_OBRA'].agg(['count'])"
   ]
  },
  {
   "cell_type": "markdown",
   "metadata": {},
   "source": [
    "### Trabalha apenas com os Convênios classificados como em Execução"
   ]
  },
  {
   "cell_type": "code",
   "execution_count": 172,
   "metadata": {
    "collapsed": true
   },
   "outputs": [],
   "source": [
    "obras_risco = obras_risco[obras_risco['SITUACAO_EXEC_OBRA']== 'Em Execução']"
   ]
  },
  {
   "cell_type": "markdown",
   "metadata": {},
   "source": [
    "### Verifica a Distribuição do % de Execução das Obras"
   ]
  },
  {
   "cell_type": "code",
   "execution_count": 173,
   "metadata": {},
   "outputs": [
    {
     "data": {
      "text/plain": [
       "<matplotlib.axes._subplots.AxesSubplot at 0xec01f98>"
      ]
     },
     "execution_count": 173,
     "metadata": {},
     "output_type": "execute_result"
    },
    {
     "data": {
      "image/png": "[encoded data removed]",
      "text/plain": [
       "<matplotlib.figure.Figure at 0xfe8c748>"
      ]
     },
     "metadata": {},
     "output_type": "display_data"
    }
   ],
   "source": [
    "# mostra a distribuição da idade das transferências\n",
    "obras_risco['PERCENTUAL_EXEC_OBRA'].hist(bins=50, figsize=(12,8))"
   ]
  },
  {
   "cell_type": "code",
   "execution_count": 174,
   "metadata": {},
   "outputs": [
    {
     "data": {
      "text/plain": [
       "count   66.00\n",
       "mean    62.57\n",
       "std     24.79\n",
       "min      0.00\n",
       "25%     44.30\n",
       "50%     70.00\n",
       "75%     76.23\n",
       "max     99.62\n",
       "Name: PERCENTUAL_EXEC_OBRA, dtype: float64"
      ]
     },
     "execution_count": 174,
     "metadata": {},
     "output_type": "execute_result"
    }
   ],
   "source": [
    "obras_risco['PERCENTUAL_EXEC_OBRA'].describe()"
   ]
  },
  {
   "cell_type": "code",
   "execution_count": 175,
   "metadata": {},
   "outputs": [
    {
     "data": {
      "text/plain": [
       "<matplotlib.text.Text at 0xffb8208>"
      ]
     },
     "execution_count": 175,
     "metadata": {},
     "output_type": "execute_result"
    },
    {
     "data": {
      "image/png": "[encoded data removed]",
      "text/plain": [
       "<matplotlib.figure.Figure at 0xd630588>"
      ]
     },
     "metadata": {},
     "output_type": "display_data"
    }
   ],
   "source": [
    "scatter_plot1 = obras_risco.plot(kind='scatter',\n",
    "                                       x='PERCENTUAL_EXEC_OBRA',\n",
    "                                       y='idadeTransf',\n",
    "                                       figsize=(12,7), grid=True, \n",
    "                                       title='Perfil da Execução das obras',\n",
    "                                                                         c='black')\n",
    "scatter_plot1.set_xlabel('% Execução')\n",
    "scatter_plot1.set_ylabel('Idade do Convênio em Anos')"
   ]
  },
  {
   "cell_type": "markdown",
   "metadata": {},
   "source": [
    "##  <img src=\"files/Figuras/fantasma.jpg\" align=\"left\" height=\"90\" width=\"90\">  3º Etapa: Empresas identificação de possíveis empresas fantasmas"
   ]
  },
  {
   "cell_type": "markdown",
   "metadata": {},
   "source": [
    "### Cruza os CNPJs das contratadas da Paraíba com a lista de empresas que caíram em operações da PF e do MPE-PB"
   ]
  },
  {
   "cell_type": "code",
   "execution_count": 176,
   "metadata": {},
   "outputs": [],
   "source": [
    "contratadas_pb = pd.read_csv(os.path.join(path_cruzamentos_empresas, 'Contratadas_PB.csv'), \n",
    "                                          sep=';',\n",
    "                                          encoding='ISO-8859-1',\n",
    "                                          converters={'CNPJ': str})\n",
    "empresas_Operacoes_PF = pd.read_csv(os.path.join(path_cruzamentos_empresas, 'Empresas_Operacoes_PF.csv'), \n",
    "                                    sep=';', \n",
    "                                    encoding='ISO-8859-1',\n",
    "                                    converters={'CNPJ': str})\n",
    "empresas_GAECO = pd.read_csv(os.path.join(path_cruzamentos_empresas, 'Empresas_GAECO.csv'),\n",
    "                              sep=';',\n",
    "                              encoding='ISO-8859-1',\n",
    "                              converters={'CNPJ': str})"
   ]
  },
  {
   "cell_type": "markdown",
   "metadata": {},
   "source": [
    "## Empresas contratadas na Paraiba que caíram em operações da PF"
   ]
  },
  {
   "cell_type": "code",
   "execution_count": 177,
   "metadata": {
    "collapsed": true
   },
   "outputs": [],
   "source": [
    "join_contratadas_PF = pd.merge(contratadas_pb, empresas_Operacoes_PF, on='CNPJ', how='inner')"
   ]
  },
  {
   "cell_type": "code",
   "execution_count": 178,
   "metadata": {},
   "outputs": [
    {
     "data": {
      "text/plain": [
       "                                          Razão Social             CNPJ          Operação\n",
       "0                           A & G PROMOCOES ARTISTICAS    3555965000139       PÃO E CIRCO\n",
       "1                                        ADJ PRODUCOES    9176668000169       PÃO E CIRCO\n",
       "2                       AGUIA DOURADA ENGENHARIA LTDA.    2607205000165      I-LICITAÇÕES\n",
       "3                              ALSERV CONSTUTORA LTDA.    8708095000104       GARPARZINHO\n",
       "4          ALTAS CONSTRUCOES PROJETOS E SERVICOS LTDA    10377336000121     TRANSPARÊNCIA\n",
       "5                 AMERICA CONSTRUCOES E SERVICOS LTDA.    5492161000163      I-LICITAÇÕES\n",
       "6                       APE ABILIO PRODUCOES E EVENTOS    4740678000161       PÃO E CIRCO\n",
       "7       ARAPUAN COMERCIO, REPRESENTACAO E SERVICO LTDA    3086588000136     CARTA MARCADA\n",
       "8                           ARCO IRIS CONSTRUTORA LEDA    6943110000173     TRANSPARÊNCIA\n",
       "9              ASTECA CONSTRUCOES E INCORPORACOES LTDA    8953750000190     TRANSPARÊNCIA\n",
       "10              ATLANTIS INCORPORACAO E SERVICOS LTDA    10258562000193     TRANSPARÊNCIA\n",
       "11                  AUDISOM - SONORIZACAO E ILUMINACAO    2448584000198       PÃO E CIRCO\n",
       "12                   BIANA CONSTRUCOES E SERVICOS LTDA    8021035000119     TRANSPARÊNCIA\n",
       "13                CAMPINA MATERIAL DE CONSTRUCAO LTDA.   31190622000153      I-LICITAÇÕES\n",
       "14              CAMPINA REPRESENTACAO E COMERCIO LTDA.    1999808000197      I-LICITAÇÕES\n",
       "15            CELTA CONSTRUCOES E EMPREENDIMENTOS LTDA    1427602000192     TRANSPARÊNCIA\n",
       "16                                CELULOTE CONSTRUCOES                            CIRANDA\n",
       "17                     CG CONSTRUTORA E COMERCIO LTDA.    1699124000170       GARPARZINHO\n",
       "18             Conivap - Construtora do Vale do Piancó    4402548000119  TC002.431/2009-1\n",
       "19                         CONSBRASIL CONSTRUTORA LTDA    3086586000147     TRANSPARÊNCIA\n",
       "20                 CONSBRASIL, CONSTRUTORA BRASIL LTDA                      TRANSPARÊNCIA\n",
       "21                                CONSERTE CONSTRUCOES                            CIRANDA\n",
       "22                        CONSTRUTORA BANDEIRANTE LTDA    8270171000142     TRANSPARÊNCIA\n",
       "23                              CONSTRUTORA CANAL LTDA    2162750000195     TRANSPARÊNCIA\n",
       "24                          CONSTRUTORA CONCRETO LTDA.    1993197000170      I-LICITAÇÕES\n",
       "25                       CONSTRUTORA CONSTRURERRA LTDA   14976728000168           ANDAIME\n",
       "26                           CONSTRUTORA DINAPOLI LTDA   10599174000176     TRANSPARÊNCIA\n",
       "27                         CONSTRUTORA ESPLANADA LTDA.     818123000134      I-LICITAÇÕES\n",
       "28                              CONSTRUTORA GLOBO LTDA    2649279000164     CARTA MARCADA\n",
       "29                         CONSTRUTORA HIDROTERRA LTDA                      TRANSPARÊNCIA\n",
       "30                           CONSTRUTORA IPANEMA LTDA.    4202582000140      I-LICITAÇÕES\n",
       "31                                CONSTRUTORA LDF LTDA    9162582000187     TRANSPARÊNCIA\n",
       "32                                CONSTRUTORA LRC LTDA    3475824000106     TRANSPARÊNCIA\n",
       "33                             CONSTRUTORA MAVIL LTDA.    4925612000146      I-LICITAÇÕES\n",
       "34                             CONSTRUTORA NASSAU LTDA    9339036000179     TRANSPARÊNCIA\n",
       "35                          CONSTRUTORA PLANALTO LTDA.    2131963000150      I-LICITAÇÕES\n",
       "36                            CONSTRUTORA PRISMA LTDA     9518570000142     TRANSPARÊNCIA\n",
       "37                           CONSTRUTORA REAL VIP LTDA    9085415000180     TRANSPARÊNCIA\n",
       "38                                CONSTRUTORA REUNIDAS   10986583000125     TRANSPARÊNCIA\n",
       "39                      CONSTRUTORA SANTA CECILIA LTDA    6981820000198     TRANSPARÊNCIA\n",
       "40                               CONSTRUTORA SAO LUIS     5193007000190     TRANSPARÊNCIA\n",
       "41                             CONSTRUTORA SOMAR LTDA.                       I-LICITAÇÕES\n",
       "42                            CONSTRUTORA SUPORTE LTDA    8610910000106     TRANSPARÊNCIA\n",
       "43                        CONSTRUTORA TERRA FORTE LTDA    4214702000129     TRANSPARÊNCIA\n",
       "44       CORDEIRO GUEDES CONSTRUTORA E COMERCIO LTDA.     9286253000148       GARPARZINHO\n",
       "45                  COTEC CONSTRUCOES E SERVICOS LTDA     8954288000145     TRANSPARÊNCIA\n",
       "46                  CSC CONSTRUTORA SANTA CECILIA LTDA    2007119000111     TRANSPARÊNCIA\n",
       "47                  CSM  CONSTRUTORA SANTA MARIA LTDA    2386719000138     CARTA MARCADA\n",
       "48                  DG ACESSOROA E PROMOCAO DE EVENTOS   10359862000169       PÃO E CIRCO\n",
       "49                        DISTAK DIVULGACOES E EVENTOS    7699268000102       PÃO E CIRCO\n",
       "50   DPROMOVE - CONSULTORIA, CAPACITACAO E EVENTOS ...    9176443000102       PÃO E CIRCO\n",
       "51                     DR PROJETOS E CONSTRUCOES LTDA     7913242000115     TRANSPARÊNCIA\n",
       "52              DUBAI INCORPORADORA E CONSTRUTORA LTDA   11070465000135     TRANSPARÊNCIA\n",
       "53   E.M.S.  EMPRESA DE MANUTENCAO SERVICOS E CONS...    4281456000128       GARPARZINHO\n",
       "54   EMS EMPRESA DE MANUTENCAO, SERVICOS E CONSTRUC...    4281456000128     TRANSPARÊNCIA\n",
       "55      ENGEFERROS INDUSTRIA, COMERCIO E SERVICOS LTDA   41133356000180     TRANSPARÊNCIA\n",
       "56             EQUILIBRIUM CONSTRUCOES E SERVICOS LTDA    9502686000193     TRANSPARÊNCIA\n",
       "57                        EVANDRO PROMOCOES ARTISTICAS   70096417000185       PÃO E CIRCO\n",
       "58                                       F A PRODUCOES    1253725000154       PÃO E CIRCO\n",
       "59                                  FABIO SONORIZACOES    9024454000177       PÃO E CIRCO\n",
       "60                FALCONI CONSTRUCOES E SERVICOS LTDA.    7942236000196     TRANSPARÊNCIA\n",
       "61                     FC PROJETOS E. CONSTRUCOES LTDA    7350128000124     TRANSPARÊNCIA\n",
       "62                                 FELIX E SOARES LTDA    5596842000171       PÃO E CIRCO\n",
       "63                          FERREIRA & FILHOS SERVICOS    8274931000190       PÃO E CIRCO\n",
       "64           FMG PROJETOS, CONSTRUCOES E SERVICOS LTDA    9647708000103     TRANSPARÊNCIA\n",
       "65                           FORRO SHOW PROMOCOES LTDA   10234481000153       PÃO E CIRCO\n",
       "66                     FRANCISCO CLODOALDO CONSTRUCOES                            CIRANDA\n",
       "67         G50  SERVICOS CONSTRUCOES E LOCACAO LTDA.                         GARPARZINHO\n",
       "68              GIMA CONSTRUCOES E INCORPORACOES LTDA.    7354610000132       GARPARZINHO\n",
       "69                     GLOBO EDIFICACOES PREDIAIS LTDA    6878512000131     CARTA MARCADA\n",
       "70                      GP CONSTRUCOES E COMERCIO LTDA    8071162000122     TRANSPARÊNCIA\n",
       "71                               HAZEN ENGENHARIA LTDA    2758272000180     TRANSPARÊNCIA\n",
       "72                   HIDROGEO PROJETOS E SERVICOS LTDA    2735064000166     TRANSPARÊNCIA\n",
       "73                         HIDROTERRA CONSTRUTORA LTDA   10464727000183     TRANSPARÊNCIA\n",
       "74      IMPERIAL PROJETOS. CONSTRUCOES E SERVICOS LTDA    7821599000173     TRANSPARÊNCIA\n",
       "75           INCOTREL INCORPORACOES E CONSTRUCOES LTDA                      TRANSPARÊNCIA\n",
       "76   INPREL IND. DE PREMOLDADOS E CONSTRUCAO CIVIL ...    9220740000108     TRANSPARÊNCIA\n",
       "77                                     IRD CONSTRUCOES                            CIRANDA\n",
       "78                                        JC PRODUCOES    5102533000106       PÃO E CIRCO\n",
       "79                 JOSVALDO ARAUJO TRAJANO DA SILVA ME    6964500000120       PÃO E CIRCO\n",
       "80                      JR PROJETOS E CONSTRUCOES LTDA    4828552000143     TRANSPARÊNCIA\n",
       "81                       KADENCIAR PRODUCOES E EVANTOS    9141725000174       PÃO E CIRCO\n",
       "82                                 KM CONSTRUCOES LTDA                      TRANSPARÊNCIA\n",
       "83   L&D  LACERDA E DUARTE CONSTRUTORA E SERVICOS ...                        GARPARZINHO\n",
       "84   LJL CONSTRUCOES INCORPORACOES LOCACOES E CONSU...    7698967000138     TRANSPARÊNCIA\n",
       "85               LOPEL - LOPES PEREIRA ENGENHARIA LTDA    5060557000131     TRANSPARÊNCIA\n",
       "86   LORENA & ADRIA CONSTRUÇÕES, COMÉRCIO E LOCAÇÕE...   15407975000160           ANDAIME\n",
       "87                             LUMAR CONSTRUCOES LTDA     5820995000150     TRANSPARÊNCIA\n",
       "88                                          MC EVENTOS    7847779000124       PÃO E CIRCO\n",
       "89                                        MEGA EVENTOS   10369875000119       PÃO E CIRCO\n",
       "90              MISTURART PRODUCOES ARTISTICAS LTDA ME    9010231000150       PÃO E CIRCO\n",
       "91   NEFERTITI PRODUCOES SONORIZACOES E ILUMINACAO ...    5192899000105       PÃO E CIRCO\n",
       "92                             NET EVENTOS E MONTAGENS    5008442000106       PÃO E CIRCO\n",
       "93                    ONIX CONSTRUCOES E SERVICOS LTDA    9588495000196     TRANSPARÊNCIA\n",
       "94                               PARAIBA LUBRIFICANTES    7699893000154       PÃO E CIRCO\n",
       "95            PHOENIX INVESTIMENTOS E CONSTRUCOES LTDA    9043253000117     TRANSPARÊNCIA\n",
       "96                                    PROMOV PRODUCOES    9373097000152       PÃO E CIRCO\n",
       "97                    REAL CONSTRUCOES E SERVICOS LTDA    9013606000136     TRANSPARÊNCIA\n",
       "98                       REALIZE SONORIZACAO E EVENTOS    6071362000150       PÃO E CIRCO\n",
       "99                          RIO Negro CONSTRUCOES LTDA    7295321000100     CARTA MARCADA\n",
       "100                         RIO NORTE CONSTRUCOES LTDA    3321045000156     CARTA MARCADA\n",
       "101  RIO SUL COMERCIO, CONSTRUCAO E REPRESENTACAO LTDA    1446724000126     CARTA MARCADA\n",
       "102         RIO SUL CONSTRUCOES E EMPREENDIMENTOS LTDA    1226485000107     CARTA MARCADA\n",
       "103      RV SERVICOS EMPREENDIMENTOS E CONSTRUCAO LTDA                      TRANSPARÊNCIA\n",
       "104               SANTERRA CONSTRUCOES E COMERCIO LTDA    9414485000134     TRANSPARÊNCIA\n",
       "105                       SENHOR DO BONFIM CONSTRUCOES                            CIRANDA\n",
       "106  SERVCON CONSTRUÇÕES COMÉRCIO E SERVIÇOS LTDA -...   10997953000120           ANDAIME\n",
       "107                   SJL CONSTRUCOES E SERVICOS LTDA     4966148000136     TRANSPARÊNCIA\n",
       "108  STENG  SERVICOS TECNICOS DE ENGENHARIA E ARQU...                        GARPARZINHO\n",
       "109                TEC NOVA CONSTRUÇÃO CIVIL LTDA - ME   14958510000180           ANDAIME\n",
       "110   TIROL COMERCIO, CONSTRUCAO E REPRESENTACOES LTDA    1585516000108     CARTA MARCADA\n",
       "111          TRANSAMERICA CONSTRUTORES ASSOCIADOS LTDA    3086582000169     CARTA MARCADA\n",
       "112                           ULTRA-MAX SERVICOS LTDA.                       I-LICITAÇÕES\n",
       "113                            ZEN PRODUCOES & EVENTOS    7793682000186       PÃO E CIRCO\n",
       "114           AGILIZA CONSTRUÇÕES E SERVIÇOS LTDA  ME   04763831000176           Andaime\n",
       "115  AMPLA  CONSULTORIA, PROJETOS, OBRAS E SERVIÇO...   12402703000125           Andaime\n",
       "116       BELCHIOR CONSTRUTORA E IMOBILIÁRIA LTDA  ME  014798786000149           Andaime\n",
       "117  CONCRETEX COMÉRCIO, CONSTRUÇÕES E SERVIÇOS LTD...   13637564000181           Andaime\n",
       "118  CONSTRUSER  CONSTRUÇÃO E SERVIÇOS DE TERRAPLE...   08701149000100           Andaime\n",
       "119  CONSTRUTORA CONSTRUTERRA E SERVIÇOS EIRELI  E...   14976728000168           Andaime\n",
       "120                      COVALE CONSTRUÇÕES LTDA. - ME   11170603000158           Andaime\n",
       "121        CSL CONSTRUÇÕES E SERVIÇOS LAVRAS LTDA  ME   10543216000157           Andaime\n",
       "122              DB CONSTRUÇÕES E SERVIÇOS EIRELI  ME   18578731000184           Andaime\n",
       "123        EDIFICA EDIFICAÇÕES E CONSTRUÇÕES LTDA  ME   41577669000128           Andaime\n",
       "124        GERCAL CONSTRUÇÕES PROJETOS E SERVIÇOS LTDA   12070359000114           Andaime\n",
       "125                            GONDIM & REGO LTDA  ME   02349756000176           Andaime\n",
       "126              IMCON LIMPEZA & CONSTRUÇÕES LTDA  ME   03007452000193           Andaime\n",
       "127            INPREL CONSTRUÇÕES E SERVIÇOS LTDA  ME   03757786000184           Andaime\n",
       "128                J2 CONSTRUÇÕES E SERVIÇOS LTDA  ME   97545946000175           Andaime\n",
       "129                  MESSIAS, FEITOSA E CIA. LTDA  ME   04233913000109           Andaime\n",
       "130          NOGUEIRA CONSTRUÇÕES E SERVIÇOS LTDA  ME   10507466000131           Andaime\n",
       "131  LORENA & ÁDRIA CONSTRUÇÕES, COMÉRCIO E LOCAÇÕE...   15407975000106           Andaime\n",
       "132                      MÁRIO MESSIAS FILHO LTDA  ME   01049370000186           Andaime\n",
       "133                   MÁRIO MESSIAS MARQUES FILHO  ME   05884076000140           Andaime\n",
       "134         MAXICON  CONSTRUÇÕES E SERVIÇOS LTDA  ME   01747581000192           Andaime\n",
       "135        MAXISTRATE CONSTRUÇÕES E SERVIÇOS LTDA  ME   16600654000196           Andaime\n",
       "136            NSEG CONSTRUÇÕES E INCORPORAÇÕES EIRELI   16715147000106           Andaime\n",
       "137             CONSTRUTORA PRINCESA DO VALE LTDA  ME   15233791000177           Andaime\n",
       "138   PRISMA CONSTRUÇÃO, COMÉRCIO E SERVIÇOS LTDA  ME   07439152000134           Andaime\n",
       "139          PROJEMAQ CONSTRUÇÕES E SERVIÇOS LTDA  ME   21784773000186           Andaime\n",
       "140            PRUMOS CONSTRUÇÕES E SERVIÇOS LTDA  ME   10749194000186           Andaime\n",
       "141  REAL CONSTRUÇÕES  REAL CONSTRUÇÕES E SERVIÇOS...   09013606000136           Andaime\n",
       "142         SÃO BENTO CONSTRUÇÕES E SERVIÇOS LTDA  ME   09356377000152           Andaime\n",
       "143                 JOSÉ GOMES DE ABREU SOBRINHO E.P.P   05079341000118           Andaime\n",
       "144   START CONSTRUÇÕES, COMÉRCIO E SERVIÇOS LTDA  ME   08952179000199           Andaime\n",
       "145   TOTAL CONSTRUÇÕES, COMÉRCIO E SERVIÇOS LTDA  ME   10409223000160           Andaime\n",
       "146            VANTUR CONSTRUÇÕES E SERVIÇOS LTDA  ME   02750635000131           Andaime\n",
       "147                             VIGA ENGENHARIA EIRELI   14575353000124           Andaime\n",
       "148                      VW CONSTRUÇÃO CIVIL LTDA  ME   08635878000105           Andaime\n",
       "149                WD CONSTRUÇÕES E SERVIÇOS LTDA  ME   19369906000106           Andaime\n",
       "150            WELOX CONSTRUÇÃO E SERVIÇOS EIRELI  ME   10546376000150           Andaime\n",
       "151                            WJ ENGENHARIA LTDA  ME   12396152000134           Andaime"
      ]
     },
     "execution_count": 178,
     "metadata": {},
     "output_type": "execute_result"
    }
   ],
   "source": [
    "empresas_Operacoes_PF"
   ]
  },
  {
   "cell_type": "code",
   "execution_count": 179,
   "metadata": {},
   "outputs": [
    {
     "data": {
      "text/plain": [
       "             CNPJ                        Razão Social_x       Operação\n",
       "0  10749194000186   Prumos Construcoes E Servicos Ltda         Andaime\n",
       "1   3086586000147  Consbrasil - Construtora Brasil Ltda  TRANSPARÊNCIA\n",
       "2   2735064000166     HIDROGEO PROJETOS E SERVIÇOS LTDA  TRANSPARÊNCIA\n",
       "3  12396152000134                    WJ ENGENHARIA LTDA        Andaime"
      ]
     },
     "execution_count": 179,
     "metadata": {},
     "output_type": "execute_result"
    }
   ],
   "source": [
    "join_contratadas_PF[['CNPJ','Razão Social_x', 'Operação']]"
   ]
  },
  {
   "cell_type": "markdown",
   "metadata": {},
   "source": [
    "## Empresas que constam da lista de empresas suspeitas enviada pelo GAECO"
   ]
  },
  {
   "cell_type": "code",
   "execution_count": 180,
   "metadata": {},
   "outputs": [],
   "source": [
    "empresas_GAECO =  empresas_GAECO[['CNPJ', 'NOME_CREDOR', 'NOME_FANTASIA', 'SIT_CADAST']]"
   ]
  },
  {
   "cell_type": "code",
   "execution_count": 181,
   "metadata": {},
   "outputs": [],
   "source": [
    "join_GAECO = pd.merge(contratadas_pb, empresas_GAECO, on='CNPJ', how='inner')"
   ]
  },
  {
   "cell_type": "code",
   "execution_count": 182,
   "metadata": {},
   "outputs": [],
   "source": [
    "# remove os duplicados\n",
    "join_GAECO = join_GAECO.drop_duplicates('CNPJ', keep='first')"
   ]
  },
  {
   "cell_type": "code",
   "execution_count": 183,
   "metadata": {},
   "outputs": [
    {
     "data": {
      "text/plain": [
       "              CNPJ                                        NOME_CREDOR                                      Razão Social\n",
       "0   10749194000186            PRUMOS CONSTRUCOES E SERVICOS LTDA - ME               Prumos Construcoes E Servicos Ltda \n",
       "1    5463105000109                       CAMAT CONSTRUTORA LTDA - EPP                            CAMAT CONSTRUTORA LTDA\n",
       "2    3503388000131   COMPECC ENGENHARIA, COMERCIO E CONSTRUCOES LTDA.   COMPECC ENGENHARIA COMÉRCIO E CONSTRUÇÕES LTDA.\n",
       "3    3086586000147               CONSBRASIL - CONSTRUTORA BRASIL LTDA              Consbrasil - Construtora Brasil Ltda\n",
       "4    5219643000144              CONSERV - CONSTRUCOES E SERVICOS LTDA               CONSERV CONSTRUÇÕES E SERVIÇOS LTDA\n",
       "5   11322888000103    CONSTRUTORA E METALURGICA VASCONCELOS LTDA - ME        CONSTRUTORA E MATALURGICA VASCONCELOS LTDA\n",
       "6    4667686000120                    CONSTRUTORA GONCALVES LTDA - ME                        CONSTRUTORA GONCALVES LTDA\n",
       "7    5962039000103               COPAL ENGENHARIA E PLANEJAMENTO LTDA                       COPAL - ENGª E PLANEJAMENTO\n",
       "8   17560794000140  E L F TEIXEIRA CONSTRUCOES E SERVICOS EIRELI -...  E L F TEIXEIRA CONSTRUCOES E SERVICOS EIRELI EPP\n",
       "9    7914131000123                        GASA ENGENHARIA LTDA. - EPP                             GASA ENGENHARIA LTDA \n",
       "10   2735064000166            HYDROGEO PROJETOS E SERVICOS LTDA - EPP                 HIDROGEO PROJETOS E SERVIÇOS LTDA\n",
       "11   6176355000112          IBIUNA EMPREENDIMENTOS E CONSTRUCOES LTDA         IBIUNA EMPREENDIMENTOS E CONSTRUCOES LTDA\n",
       "12   8686945000110                         JMR CONSTRUCOES LTDA - EPP                              JMR CONSTRUCOES LTDA\n",
       "13   6074105000171                                MK CONSTRUCOES LTDA                               MK CONSTRUCOES LTDA\n",
       "14  10542457000181                    N R J - CONSTRUCOES LTDA. - EPP                              NRJ CONSTRUÇÕES LTDA\n",
       "15   3300005000128                      QUARTZO CONSTRUCOES LTDA - ME                         Quartzo Construções Ltda.\n",
       "16  70104302000195    SENCO SERVICOS DE ENGENHARIA E CONSTRUCOES LTDA   SENCO SERVICOS DE ENGENHARIA E CONSTRUCOES LTDA\n",
       "17   4984971000174      SIBEZA - SILVA BEZERRA CONSTRUCOES LTDA - EPP                           SIBEZA CONSTRUCOES LTDA\n",
       "18  12396152000134                           WJ ENGENHARIA LTDA - EPP                                WJ ENGENHARIA LTDA"
      ]
     },
     "execution_count": 183,
     "metadata": {},
     "output_type": "execute_result"
    }
   ],
   "source": [
    "join_GAECO[['CNPJ', 'NOME_CREDOR', 'Razão Social']]"
   ]
  },
  {
   "cell_type": "markdown",
   "metadata": {},
   "source": [
    "## Empresas da Operação Andaime - GAECO"
   ]
  },
  {
   "cell_type": "code",
   "execution_count": 184,
   "metadata": {
    "collapsed": true
   },
   "outputs": [],
   "source": [
    "empresas_Operação_Andaime = pd.read_csv(os.path.join(path_cruzamentos_empresas, 'Empresas_Operacao_Andaime.csv'),\n",
    "                                    sep=';', \n",
    "                                    encoding='ISO-8859-1',\n",
    "                                    converters={'CNPJ': str})"
   ]
  },
  {
   "cell_type": "markdown",
   "metadata": {},
   "source": [
    "### Retuira a máscara do CNPJ para permitir o cruzamento dos dados"
   ]
  },
  {
   "cell_type": "markdown",
   "metadata": {},
   "source": [
    "### Faz o Join da nossa lista de empresas contratadas para realizar as obras dos convênios com as empresas da operação ANDAIME"
   ]
  },
  {
   "cell_type": "code",
   "execution_count": 185,
   "metadata": {
    "collapsed": true
   },
   "outputs": [],
   "source": [
    "join_contratadas_Andaime = pd.merge(contratadas_pb, empresas_Operação_Andaime, on='CNPJ', how='inner')"
   ]
  },
  {
   "cell_type": "code",
   "execution_count": 186,
   "metadata": {},
   "outputs": [
    {
     "data": {
      "text/plain": [
       "             CNPJ                          Razão Social                                    RAZÃO\n",
       "0  10749194000186   Prumos Construcoes E Servicos Ltda   Prumos Construções E Serviços Ltda  ME\n",
       "1  12396152000134                    WJ ENGENHARIA LTDA                  WJ Engenharia Ltda  ME"
      ]
     },
     "execution_count": 186,
     "metadata": {},
     "output_type": "execute_result"
    }
   ],
   "source": [
    "join_contratadas_Andaime"
   ]
  },
  {
   "cell_type": "markdown",
   "metadata": {},
   "source": [
    "### Faz o Join das empresas contratadas que encontramos com a RAIS"
   ]
  },
  {
   "cell_type": "code",
   "execution_count": 187,
   "metadata": {},
   "outputs": [],
   "source": [
    "# pega o nome completo do arquivo da RAIS\n",
    "nome_arq_rais = os.path.join(path_cruzamentos_empresas_geral, 'rais_estabelecimento.csv')\n",
    "# carrega o arquivo da RAIS que veio do DGI\n",
    "rais_estabelecimento = pd.read_csv(nome_arq_rais, sep=';', encoding='ISO-8859-1')\n",
    "# renomeia o CNPJ \n",
    "rais_estabelecimento.rename(columns={'CNPJEstab.':'CNPJ'}, inplace=True)\n",
    "# agrupa para contar "
   ]
  },
  {
   "cell_type": "code",
   "execution_count": 188,
   "metadata": {},
   "outputs": [],
   "source": [
    "# Pega os dados da RAIS \n",
    "#rais_estabelecimento = rais_estabelecimento[rais_estabelecimento['AnoRais'] == 2015]]"
   ]
  },
  {
   "cell_type": "code",
   "execution_count": 189,
   "metadata": {},
   "outputs": [],
   "source": [
    "#rais_estabelecimento[['Razão Social do Estabelecimento', 'Qte.VínculoEstab.']]"
   ]
  },
  {
   "cell_type": "code",
   "execution_count": 190,
   "metadata": {},
   "outputs": [],
   "source": [
    "#grupo['CNPJ'].count().sort_values()"
   ]
  },
  {
   "cell_type": "markdown",
   "metadata": {},
   "source": [
    "### Sócios das empresas que constam no CADÚNICO"
   ]
  },
  {
   "cell_type": "code",
   "execution_count": 191,
   "metadata": {},
   "outputs": [],
   "source": [
    "# carrega o arquivo que contém os sócios das empresas constratadas\n",
    "socios_contratadas = pd.read_csv(os.path.join(path_cruzamentos_empresas_geral, 'cruzamento_cnpj_Socios.csv'), \n",
    "                      sep=';',\n",
    "                      encoding='ISO-8859-1', \n",
    "                      converters={'CPFSócio': str})"
   ]
  },
  {
   "cell_type": "code",
   "execution_count": 192,
   "metadata": {
    "collapsed": true
   },
   "outputs": [],
   "source": [
    "socios_contratadas.rename(columns={'CPFSócio':'CPF'}, inplace=True)"
   ]
  },
  {
   "cell_type": "code",
   "execution_count": 193,
   "metadata": {},
   "outputs": [],
   "source": [
    "socios_cad_UNICO =  pd.read_csv(os.path.join(path_cruzamentos_empresas_geral, 'cruzamento_cpf_socios_CAD_UNico.csv'), \n",
    "                      sep=';',\n",
    "                      encoding='ISO-8859-1', \n",
    "                      converters={'CPF': str})"
   ]
  },
  {
   "cell_type": "markdown",
   "metadata": {},
   "source": [
    "### Junta os dados dos sócios com os dados do cruzamento com o CAD ÚNICO"
   ]
  },
  {
   "cell_type": "code",
   "execution_count": 194,
   "metadata": {
    "collapsed": true
   },
   "outputs": [],
   "source": [
    "join_socios_cad_UNICO = pd.merge(socios_contratadas, socios_cad_UNICO, on='CPF', how='inner')"
   ]
  },
  {
   "cell_type": "markdown",
   "metadata": {},
   "source": [
    "### Lista completa de sócios que estão no CADÚNICO"
   ]
  },
  {
   "cell_type": "code",
   "execution_count": 195,
   "metadata": {},
   "outputs": [
    {
     "data": {
      "text/plain": [
       "           CPF             Nome Completo (no CPF) EstadoCadastro                    Nome / Razão Social (no CNPJ)\n",
       "0    754519481        IVANILDA VIEGAS DE OLIVEIRA     Cadastrado             CONSBRASIL - CONSTRUTORA BRASIL LTDA\n",
       "1   9816631415            SEVERINO JOSE ALEXANDRE     Cadastrado             CONSBRASIL - CONSTRUTORA BRASIL LTDA\n",
       "2   9894440401       MICHAEL SANTOS DO NASCIMENTO       Excluído                    QUARTZO CONSTRUCOES LTDA - ME\n",
       "3   9894440401       MICHAEL SANTOS DO NASCIMENTO       Excluído                    QUARTZO CONSTRUCOES LTDA - ME\n",
       "4   9894440401       MICHAEL SANTOS DO NASCIMENTO       Excluído                    QUARTZO CONSTRUCOES LTDA - ME\n",
       "5   9894440401       MICHAEL SANTOS DO NASCIMENTO       Excluído                    QUARTZO CONSTRUCOES LTDA - ME\n",
       "6   9894439497  MARCELO JOSE SANTOS DO NASCIMENTO       Excluído                    QUARTZO CONSTRUCOES LTDA - ME\n",
       "7   9894439497  MARCELO JOSE SANTOS DO NASCIMENTO       Excluído                    QUARTZO CONSTRUCOES LTDA - ME\n",
       "8   9894439497  MARCELO JOSE SANTOS DO NASCIMENTO       Excluído                    QUARTZO CONSTRUCOES LTDA - ME\n",
       "9   9894439497  MARCELO JOSE SANTOS DO NASCIMENTO       Excluído                    QUARTZO CONSTRUCOES LTDA - ME\n",
       "10  6013748438    ALYSON PAULINELY LEITE DE SOUSA     Cadastrado          PRUMOS CONSTRUCOES E SERVICOS LTDA - ME\n",
       "11  8538504452          MOISES LUCENA SOUZA SOUTO     Cadastrado  CONSTRUTORA E METALURGICA VASCONCELOS LTDA - ME\n",
       "12  8538504452          MOISES LUCENA SOUZA SOUTO       Excluído  CONSTRUTORA E METALURGICA VASCONCELOS LTDA - ME\n",
       "13  8538504452          MOISES LUCENA SOUZA SOUTO       Excluído  CONSTRUTORA E METALURGICA VASCONCELOS LTDA - ME\n",
       "14  4588313444        JORGE LUIZ LOPES DOS SANTOS       Excluído                         WJ ENGENHARIA LTDA - EPP\n",
       "15  4588313444        JORGE LUIZ LOPES DOS SANTOS       Excluído                         WJ ENGENHARIA LTDA - EPP\n",
       "16  4588313444        JORGE LUIZ LOPES DOS SANTOS       Excluído                         WJ ENGENHARIA LTDA - EPP\n",
       "17  4588313444        JORGE LUIZ LOPES DOS SANTOS       Excluído                         WJ ENGENHARIA LTDA - EPP"
      ]
     },
     "execution_count": 195,
     "metadata": {},
     "output_type": "execute_result"
    }
   ],
   "source": [
    "join_socios_cad_UNICO[['CPF', 'Nome Completo (no CPF)', 'EstadoCadastro', 'Nome / Razão Social (no CNPJ)']]"
   ]
  },
  {
   "cell_type": "markdown",
   "metadata": {},
   "source": [
    "###  Retira os cadastros excluídos"
   ]
  },
  {
   "cell_type": "code",
   "execution_count": 196,
   "metadata": {
    "collapsed": true
   },
   "outputs": [],
   "source": [
    "join_socios_cad_UNICO = join_socios_cad_UNICO[join_socios_cad_UNICO['EstadoCadastro'] == 'Cadastrado']"
   ]
  },
  {
   "cell_type": "markdown",
   "metadata": {},
   "source": [
    "### Lista de Sócios que estão com cadastros ativos no CADÚNICO"
   ]
  },
  {
   "cell_type": "code",
   "execution_count": 197,
   "metadata": {},
   "outputs": [
    {
     "data": {
      "text/plain": [
       "           CPF           Nome Completo (no CPF) EstadoCadastro                    Nome / Razão Social (no CNPJ)\n",
       "0    754519481      IVANILDA VIEGAS DE OLIVEIRA     Cadastrado             CONSBRASIL - CONSTRUTORA BRASIL LTDA\n",
       "1   9816631415          SEVERINO JOSE ALEXANDRE     Cadastrado             CONSBRASIL - CONSTRUTORA BRASIL LTDA\n",
       "10  6013748438  ALYSON PAULINELY LEITE DE SOUSA     Cadastrado          PRUMOS CONSTRUCOES E SERVICOS LTDA - ME\n",
       "11  8538504452        MOISES LUCENA SOUZA SOUTO     Cadastrado  CONSTRUTORA E METALURGICA VASCONCELOS LTDA - ME"
      ]
     },
     "execution_count": 197,
     "metadata": {},
     "output_type": "execute_result"
    }
   ],
   "source": [
    "join_socios_cad_UNICO[['CPF', 'Nome Completo (no CPF)', 'EstadoCadastro', 'Nome / Razão Social (no CNPJ)']]"
   ]
  },
  {
   "cell_type": "code",
   "execution_count": 198,
   "metadata": {
    "collapsed": true
   },
   "outputs": [],
   "source": [
    "join_socios_cad_UNICO[['CPF', 'Nome Completo (no CPF)', 'EstadoCadastro', 'Nome / Razão Social (no CNPJ)']].to_excel('Socios_CAD_UNICO.xlsx')"
   ]
  },
  {
   "cell_type": "markdown",
   "metadata": {},
   "source": [
    "##  <img src=\"files/Figuras/movimentacoes.png\" align=\"left\" height=\"90\" width=\"90\"> 4ª Etapa - Movimentações Financeiras Atípicas"
   ]
  },
  {
   "cell_type": "markdown",
   "metadata": {},
   "source": [
    "### Lê os arquivos com os dados das contas dos municípios e do extrato da conta dos Convênios"
   ]
  },
  {
   "cell_type": "code",
   "execution_count": 199,
   "metadata": {},
   "outputs": [],
   "source": [
    "# Lê o arquivo das contas dos Municípios que foi extraído do SAGRES\n",
    "contas_municipios =  pd.read_csv(os.path.join(path_movimentacoes_financeiras, 'Contas_Municipios_CSV.csv'),\n",
    "                                 sep=';', \n",
    "                                 encoding='ISO-8859-1')"
   ]
  },
  {
   "cell_type": "code",
   "execution_count": 200,
   "metadata": {},
   "outputs": [],
   "source": [
    "extrato_conta_convenios = pd.read_csv(os.path.join(path_movimentacoes_financeiras, 'Extrato das Contas Bancarias.csv'),\n",
    "                                 sep=';', \n",
    "                                 encoding='ISO-8859-1')"
   ]
  },
  {
   "cell_type": "code",
   "execution_count": 201,
   "metadata": {},
   "outputs": [
    {
     "name": "stdout",
     "output_type": "stream",
     "text": [
      "<class 'pandas.core.frame.DataFrame'>\n",
      "RangeIndex: 2085 entries, 0 to 2084\n",
      "Data columns (total 6 columns):\n",
      "Banco         2085 non-null int64\n",
      "Agência       2085 non-null object\n",
      "Nº Conta      2085 non-null object\n",
      "Conta         2085 non-null object\n",
      "Saldo (R$)    2085 non-null object\n",
      "Município     2085 non-null object\n",
      "dtypes: int64(1), object(5)\n",
      "memory usage: 97.8+ KB\n"
     ]
    }
   ],
   "source": [
    "contas_municipios.info()"
   ]
  },
  {
   "cell_type": "markdown",
   "metadata": {},
   "source": [
    "### Remove os caracteres não numéricos do campo agência e conta para poder transformá-los em numérico"
   ]
  },
  {
   "cell_type": "code",
   "execution_count": 202,
   "metadata": {},
   "outputs": [],
   "source": [
    "contas_municipios['Agência'] = contas_municipios.apply(removeNaoNumeroAgencia, axis=1)"
   ]
  },
  {
   "cell_type": "code",
   "execution_count": 203,
   "metadata": {
    "collapsed": true
   },
   "outputs": [],
   "source": [
    "contas_municipios['Agência'] = contas_municipios['Agência'].astype('int')"
   ]
  },
  {
   "cell_type": "code",
   "execution_count": 204,
   "metadata": {
    "collapsed": true
   },
   "outputs": [],
   "source": [
    "# renomeia para fazer o Join\n",
    "contas_municipios.rename(columns={'Agência':'AGENCIA'}, inplace=True)"
   ]
  },
  {
   "cell_type": "code",
   "execution_count": 205,
   "metadata": {
    "collapsed": true
   },
   "outputs": [],
   "source": [
    "contas_municipios.rename(columns={'Nº Conta':'CONTA'}, inplace=True)"
   ]
  },
  {
   "cell_type": "code",
   "execution_count": 206,
   "metadata": {},
   "outputs": [],
   "source": [
    "contas_municipios['CONTA'] = contas_municipios.apply(removeNaoNumeroConta, axis=1)"
   ]
  },
  {
   "cell_type": "code",
   "execution_count": 207,
   "metadata": {},
   "outputs": [],
   "source": [
    "contas_municipios['CONTA'] = contas_municipios['CONTA'].astype('float')"
   ]
  },
  {
   "cell_type": "code",
   "execution_count": 208,
   "metadata": {},
   "outputs": [],
   "source": [
    "join_contas_extratos = pd.merge(extrato_conta_convenios, contas_municipios, how='inner', on=['AGENCIA', 'CONTA'] )"
   ]
  },
  {
   "cell_type": "code",
   "execution_count": 209,
   "metadata": {},
   "outputs": [],
   "source": [
    "join_contas_extratos.to_excel('join_contas_extratos.xlsx')"
   ]
  }
 ],
 "metadata": {
  "anaconda-cloud": {},
  "kernelspec": {
   "display_name": "Python 3",
   "language": "python",
   "name": "python3"
  },
  "language_info": {
   "codemirror_mode": {
    "name": "ipython",
    "version": 3
   },
   "file_extension": ".py",
   "mimetype": "text/x-python",
   "name": "python",
   "nbconvert_exporter": "python",
   "pygments_lexer": "ipython3",
   "version": "3.6.3"
  }
 },
 "nbformat": 4,
 "nbformat_minor": 1
}
