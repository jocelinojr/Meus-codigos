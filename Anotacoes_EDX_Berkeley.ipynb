{
 "cells": [
  {
   "cell_type": "code",
   "execution_count": 4,
   "metadata": {},
   "outputs": [],
   "source": [
    "import pandas as pd\n",
    "from datascience import *\n",
    "import numpy as np"
   ]
  },
  {
   "cell_type": "code",
   "execution_count": 9,
   "metadata": {},
   "outputs": [
    {
     "data": {
      "text/plain": [
       "array([ 9, 10, 11, 12, 13, 14, 15, 16, 17, 18, 19, 20, 21, 22, 23, 24, 25,\n",
       "       26, 27, 28, 29, 30, 31, 32, 33, 34, 35, 36, 37, 38, 39, 40, 41, 42,\n",
       "       43, 44, 45, 46, 47, 48, 49, 50, 51, 52, 53, 54, 55, 56, 57, 58, 59])"
      ]
     },
     "execution_count": 9,
     "metadata": {},
     "output_type": "execute_result"
    }
   ],
   "source": [
    "# cria um array com idades\n",
    "arr_idades = np.arange(9, 60)\n",
    "arr_idades"
   ]
  },
  {
   "cell_type": "code",
   "execution_count": 10,
   "metadata": {},
   "outputs": [
    {
     "data": {
      "text/html": [
       "<table border=\"1\" class=\"dataframe\">\n",
       "    <thead>\n",
       "        <tr>\n",
       "            <th>idade</th>\n",
       "        </tr>\n",
       "    </thead>\n",
       "    <tbody>\n",
       "        <tr>\n",
       "            <td>9    </td>\n",
       "        </tr>\n",
       "    </tbody>\n",
       "        <tr>\n",
       "            <td>10   </td>\n",
       "        </tr>\n",
       "    </tbody>\n",
       "        <tr>\n",
       "            <td>11   </td>\n",
       "        </tr>\n",
       "    </tbody>\n",
       "        <tr>\n",
       "            <td>12   </td>\n",
       "        </tr>\n",
       "    </tbody>\n",
       "        <tr>\n",
       "            <td>13   </td>\n",
       "        </tr>\n",
       "    </tbody>\n",
       "        <tr>\n",
       "            <td>14   </td>\n",
       "        </tr>\n",
       "    </tbody>\n",
       "        <tr>\n",
       "            <td>15   </td>\n",
       "        </tr>\n",
       "    </tbody>\n",
       "        <tr>\n",
       "            <td>16   </td>\n",
       "        </tr>\n",
       "    </tbody>\n",
       "        <tr>\n",
       "            <td>17   </td>\n",
       "        </tr>\n",
       "    </tbody>\n",
       "        <tr>\n",
       "            <td>18   </td>\n",
       "        </tr>\n",
       "    </tbody>\n",
       "</table>\n",
       "<p>... (41 rows omitted)</p>"
      ],
      "text/plain": [
       "idade\n",
       "9\n",
       "10\n",
       "11\n",
       "12\n",
       "13\n",
       "14\n",
       "15\n",
       "16\n",
       "17\n",
       "18\n",
       "... (41 rows omitted)"
      ]
     },
     "execution_count": 10,
     "metadata": {},
     "output_type": "execute_result"
    }
   ],
   "source": [
    "tb_idades = Table().with_column('idade', arr_idades)\n",
    "tb_idades"
   ]
  },
  {
   "cell_type": "markdown",
   "metadata": {},
   "source": [
    "### Predicates\n",
    "#### Predicados na verdade são funções que podem ser passadas no where"
   ]
  },
  {
   "cell_type": "code",
   "execution_count": 13,
   "metadata": {},
   "outputs": [
    {
     "data": {
      "text/plain": [
       "<datascience.predicates._combinable at 0x167640d4748>"
      ]
     },
     "execution_count": 13,
     "metadata": {},
     "output_type": "execute_result"
    }
   ],
   "source": [
    "ainda_jovem = are.between(35,41)\n",
    "ainda_jovem"
   ]
  },
  {
   "cell_type": "code",
   "execution_count": 14,
   "metadata": {},
   "outputs": [
    {
     "data": {
      "text/html": [
       "<table border=\"1\" class=\"dataframe\">\n",
       "    <thead>\n",
       "        <tr>\n",
       "            <th>idade</th>\n",
       "        </tr>\n",
       "    </thead>\n",
       "    <tbody>\n",
       "        <tr>\n",
       "            <td>35   </td>\n",
       "        </tr>\n",
       "    </tbody>\n",
       "        <tr>\n",
       "            <td>36   </td>\n",
       "        </tr>\n",
       "    </tbody>\n",
       "        <tr>\n",
       "            <td>37   </td>\n",
       "        </tr>\n",
       "    </tbody>\n",
       "        <tr>\n",
       "            <td>38   </td>\n",
       "        </tr>\n",
       "    </tbody>\n",
       "        <tr>\n",
       "            <td>39   </td>\n",
       "        </tr>\n",
       "    </tbody>\n",
       "        <tr>\n",
       "            <td>40   </td>\n",
       "        </tr>\n",
       "    </tbody>\n",
       "</table>"
      ],
      "text/plain": [
       "idade\n",
       "35\n",
       "36\n",
       "37\n",
       "38\n",
       "39\n",
       "40"
      ]
     },
     "execution_count": 14,
     "metadata": {},
     "output_type": "execute_result"
    }
   ],
   "source": [
    "tb_idades.where('idade', ainda_jovem)"
   ]
  },
  {
   "cell_type": "markdown",
   "metadata": {},
   "source": [
    "### podemos passar um predicate para um apply"
   ]
  },
  {
   "cell_type": "code",
   "execution_count": 15,
   "metadata": {},
   "outputs": [],
   "source": [
    "# cria outro predicado\n",
    "adolescente = are.between(12, 16)"
   ]
  },
  {
   "cell_type": "code",
   "execution_count": 16,
   "metadata": {},
   "outputs": [
    {
     "data": {
      "text/plain": [
       "array([False, False, False,  True,  True,  True,  True, False, False,\n",
       "       False, False, False, False, False, False, False, False, False,\n",
       "       False, False, False, False, False, False, False, False, False,\n",
       "       False, False, False, False, False, False, False, False, False,\n",
       "       False, False, False, False, False, False, False, False, False,\n",
       "       False, False, False, False, False, False])"
      ]
     },
     "execution_count": 16,
     "metadata": {},
     "output_type": "execute_result"
    }
   ],
   "source": [
    "tb_idades.apply(adolescente, 'idade')"
   ]
  },
  {
   "cell_type": "code",
   "execution_count": 17,
   "metadata": {},
   "outputs": [
    {
     "data": {
      "text/html": [
       "<table border=\"1\" class=\"dataframe\">\n",
       "    <thead>\n",
       "        <tr>\n",
       "            <th>idade</th>\n",
       "        </tr>\n",
       "    </thead>\n",
       "    <tbody>\n",
       "        <tr>\n",
       "            <td>12   </td>\n",
       "        </tr>\n",
       "    </tbody>\n",
       "        <tr>\n",
       "            <td>13   </td>\n",
       "        </tr>\n",
       "    </tbody>\n",
       "        <tr>\n",
       "            <td>14   </td>\n",
       "        </tr>\n",
       "    </tbody>\n",
       "        <tr>\n",
       "            <td>15   </td>\n",
       "        </tr>\n",
       "    </tbody>\n",
       "</table>"
      ],
      "text/plain": [
       "idade\n",
       "12\n",
       "13\n",
       "14\n",
       "15"
      ]
     },
     "execution_count": 17,
     "metadata": {},
     "output_type": "execute_result"
    }
   ],
   "source": [
    "tb_idades.where('idade', adolescente)"
   ]
  },
  {
   "cell_type": "markdown",
   "metadata": {},
   "source": [
    "### Random Selection"
   ]
  },
  {
   "cell_type": "code",
   "execution_count": 18,
   "metadata": {},
   "outputs": [
    {
     "data": {
      "text/plain": [
       "<function RandomState.choice>"
      ]
     },
     "execution_count": 18,
     "metadata": {},
     "output_type": "execute_result"
    }
   ],
   "source": [
    "# with replacenent (independent events)\n",
    "np.random.choice"
   ]
  },
  {
   "cell_type": "code",
   "execution_count": 19,
   "metadata": {},
   "outputs": [],
   "source": [
    "# meu universo de opções\n",
    "dois_grupos = make_array('controle', 'tratamento')"
   ]
  },
  {
   "cell_type": "code",
   "execution_count": 24,
   "metadata": {},
   "outputs": [
    {
     "data": {
      "text/plain": [
       "'controle'"
      ]
     },
     "execution_count": 24,
     "metadata": {},
     "output_type": "execute_result"
    }
   ],
   "source": [
    "np.random.choice(dois_grupos)"
   ]
  },
  {
   "cell_type": "code",
   "execution_count": 35,
   "metadata": {},
   "outputs": [
    {
     "data": {
      "text/plain": [
       "array(['tratamento', 'controle', 'controle', 'controle', 'tratamento',\n",
       "       'tratamento', 'controle', 'tratamento', 'tratamento', 'tratamento'],\n",
       "      dtype='<U10')"
      ]
     },
     "execution_count": 35,
     "metadata": {},
     "output_type": "execute_result"
    }
   ],
   "source": [
    "np.random.choice(dois_grupos, replace=True, size=10)"
   ]
  },
  {
   "cell_type": "code",
   "execution_count": 36,
   "metadata": {},
   "outputs": [],
   "source": [
    "outcomes = np.random.choice(dois_grupos, 10)"
   ]
  },
  {
   "cell_type": "code",
   "execution_count": 37,
   "metadata": {},
   "outputs": [
    {
     "data": {
      "text/plain": [
       "array(['tratamento', 'tratamento', 'controle', 'tratamento', 'controle',\n",
       "       'tratamento', 'controle', 'controle', 'controle', 'controle'],\n",
       "      dtype='<U10')"
      ]
     },
     "execution_count": 37,
     "metadata": {},
     "output_type": "execute_result"
    }
   ],
   "source": [
    "outcomes"
   ]
  },
  {
   "cell_type": "code",
   "execution_count": 38,
   "metadata": {},
   "outputs": [
    {
     "data": {
      "text/plain": [
       "array([False, False,  True, False,  True, False,  True,  True,  True,\n",
       "        True])"
      ]
     },
     "execution_count": 38,
     "metadata": {},
     "output_type": "execute_result"
    }
   ],
   "source": [
    "outcomes == 'controle'"
   ]
  },
  {
   "cell_type": "code",
   "execution_count": 40,
   "metadata": {},
   "outputs": [
    {
     "data": {
      "text/plain": [
       "4"
      ]
     },
     "execution_count": 40,
     "metadata": {},
     "output_type": "execute_result"
    }
   ],
   "source": [
    "sum(outcomes == 'tratamento')"
   ]
  },
  {
   "cell_type": "code",
   "execution_count": 41,
   "metadata": {},
   "outputs": [
    {
     "data": {
      "text/plain": [
       "6"
      ]
     },
     "execution_count": 41,
     "metadata": {},
     "output_type": "execute_result"
    }
   ],
   "source": [
    "sum(outcomes == 'controle')"
   ]
  },
  {
   "cell_type": "markdown",
   "metadata": {},
   "source": [
    "### Cria nosso dado não viciado"
   ]
  },
  {
   "cell_type": "code",
   "execution_count": 43,
   "metadata": {},
   "outputs": [
    {
     "data": {
      "text/plain": [
       "array([1, 2, 3, 4, 5, 6])"
      ]
     },
     "execution_count": 43,
     "metadata": {},
     "output_type": "execute_result"
    }
   ],
   "source": [
    "d = np.arange(6) +  1\n",
    "d"
   ]
  },
  {
   "cell_type": "markdown",
   "metadata": {},
   "source": [
    "### joga o dado 1000 vezes"
   ]
  },
  {
   "cell_type": "code",
   "execution_count": 45,
   "metadata": {},
   "outputs": [],
   "source": [
    "arr_rolls_1000 = np.random.choice(d, 1000)"
   ]
  },
  {
   "cell_type": "code",
   "execution_count": 48,
   "metadata": {},
   "outputs": [
    {
     "data": {
      "text/plain": [
       "array([2, 6, 5, 4, 5, 1, 1, 2, 3, 3, 4, 5, 5, 4, 6, 5, 5, 3, 3, 5, 4, 1,\n",
       "       4, 6, 4, 2, 6, 2, 1, 5, 3, 3, 1, 6, 6, 6, 1, 3, 5, 3, 5, 4, 5, 4,\n",
       "       3, 1, 6, 5, 4, 3, 2, 3, 5, 1, 6, 1, 3, 2, 5, 5, 6, 2, 3, 2, 2, 4,\n",
       "       3, 4, 2, 5, 3, 2, 3, 2, 3, 3, 1, 1, 1, 1, 4, 6, 2, 4, 1, 5, 1, 3,\n",
       "       2, 4, 6, 1, 6, 1, 5, 4, 5, 2, 5, 6, 6, 2, 4, 4, 6, 6, 5, 1, 3, 5,\n",
       "       5, 3, 6, 6, 1, 1, 2, 3, 1, 5, 5, 5, 5, 1, 4, 2, 1, 3, 3, 2, 1, 4,\n",
       "       5, 2, 3, 5, 1, 6, 5, 1, 4, 3, 4, 1, 2, 1, 2, 4, 1, 5, 1, 1, 5, 4,\n",
       "       1, 4, 2, 2, 6, 3, 2, 6, 4, 3, 6, 3, 5, 4, 6, 3, 1, 3, 4, 5, 6, 6,\n",
       "       4, 5, 6, 1, 3, 5, 3, 1, 3, 2, 5, 2, 1, 1, 4, 6, 1, 2, 6, 1, 3, 2,\n",
       "       5, 1, 5, 5, 6, 1, 2, 3, 1, 2, 1, 3, 3, 3, 4, 4, 5, 3, 6, 4, 4, 3,\n",
       "       5, 6, 2, 2, 4, 2, 4, 6, 1, 3, 1, 3, 1, 5, 1, 5, 1, 1, 4, 6, 2, 3,\n",
       "       1, 6, 3, 2, 6, 1, 4, 6, 3, 5, 6, 6, 1, 5, 4, 6, 4, 6, 3, 6, 5, 1,\n",
       "       1, 2, 2, 1, 2, 5, 5, 3, 5, 5, 6, 3, 5, 4, 6, 1, 1, 1, 4, 6, 3, 5,\n",
       "       6, 4, 1, 5, 3, 2, 1, 5, 3, 1, 4, 2, 6, 2, 5, 3, 2, 1, 3, 5, 1, 6,\n",
       "       2, 5, 4, 3, 3, 4, 1, 3, 4, 2, 4, 3, 4, 3, 3, 1, 6, 1, 2, 1, 4, 2,\n",
       "       4, 6, 1, 5, 1, 5, 4, 4, 4, 4, 6, 4, 2, 2, 5, 6, 4, 6, 4, 3, 6, 4,\n",
       "       1, 4, 1, 2, 2, 6, 2, 2, 1, 6, 5, 5, 1, 2, 5, 6, 2, 6, 3, 1, 3, 4,\n",
       "       2, 6, 5, 6, 5, 6, 5, 6, 4, 4, 6, 2, 6, 4, 4, 4, 1, 5, 1, 6, 4, 4,\n",
       "       2, 1, 4, 2, 6, 3, 1, 3, 4, 6, 4, 5, 3, 2, 1, 5, 5, 1, 6, 4, 1, 3,\n",
       "       4, 2, 5, 4, 6, 2, 1, 6, 1, 3, 2, 2, 3, 5, 1, 6, 1, 5, 1, 1, 2, 5,\n",
       "       4, 2, 6, 6, 4, 3, 1, 3, 5, 1, 3, 6, 3, 6, 2, 2, 4, 5, 6, 6, 4, 1,\n",
       "       6, 6, 1, 3, 3, 6, 6, 4, 2, 6, 3, 5, 4, 4, 4, 1, 1, 1, 1, 3, 6, 4,\n",
       "       4, 4, 3, 6, 4, 5, 5, 5, 5, 5, 5, 2, 3, 5, 2, 4, 1, 1, 1, 1, 6, 6,\n",
       "       2, 1, 3, 3, 3, 4, 6, 5, 1, 4, 3, 5, 1, 3, 4, 1, 4, 3, 6, 1, 5, 4,\n",
       "       4, 3, 6, 4, 2, 3, 5, 1, 4, 2, 1, 6, 1, 2, 5, 4, 3, 6, 4, 5, 4, 1,\n",
       "       6, 1, 4, 2, 5, 6, 5, 5, 3, 6, 2, 5, 3, 3, 2, 4, 5, 3, 3, 3, 5, 2,\n",
       "       4, 2, 6, 3, 2, 1, 5, 1, 6, 6, 5, 2, 4, 2, 1, 1, 2, 1, 5, 4, 4, 3,\n",
       "       1, 1, 5, 2, 6, 1, 3, 5, 6, 3, 3, 5, 6, 6, 1, 2, 1, 5, 6, 4, 2, 1,\n",
       "       1, 5, 2, 2, 1, 5, 3, 3, 5, 6, 2, 1, 1, 2, 3, 5, 2, 6, 4, 5, 6, 3,\n",
       "       5, 5, 5, 4, 5, 3, 2, 5, 5, 3, 6, 6, 3, 2, 1, 5, 2, 6, 5, 6, 6, 5,\n",
       "       6, 6, 5, 1, 6, 2, 5, 5, 2, 2, 3, 6, 3, 5, 3, 4, 6, 1, 3, 4, 4, 6,\n",
       "       3, 3, 5, 5, 3, 2, 4, 6, 6, 5, 6, 3, 1, 2, 5, 3, 2, 1, 1, 3, 3, 5,\n",
       "       1, 4, 4, 3, 4, 6, 5, 6, 4, 4, 4, 5, 1, 6, 5, 5, 3, 3, 5, 6, 4, 5,\n",
       "       6, 3, 4, 1, 6, 4, 2, 1, 5, 6, 3, 3, 3, 2, 6, 3, 6, 6, 5, 4, 3, 4,\n",
       "       3, 1, 6, 3, 3, 1, 3, 3, 6, 3, 2, 6, 4, 2, 3, 3, 2, 2, 2, 6, 5, 4,\n",
       "       2, 3, 2, 2, 6, 3, 2, 4, 1, 4, 6, 3, 2, 6, 1, 1, 6, 6, 5, 4, 3, 4,\n",
       "       4, 2, 2, 2, 5, 6, 5, 6, 1, 2, 1, 5, 3, 2, 4, 1, 6, 2, 2, 2, 4, 3,\n",
       "       5, 6, 2, 2, 5, 1, 1, 2, 6, 1, 5, 5, 3, 6, 6, 3, 2, 6, 2, 3, 6, 6,\n",
       "       3, 1, 3, 4, 3, 2, 1, 1, 1, 4, 6, 5, 6, 4, 1, 6, 6, 1, 4, 5, 5, 4,\n",
       "       3, 3, 2, 5, 3, 2, 2, 2, 4, 3, 4, 5, 3, 1, 6, 2, 3, 2, 5, 3, 2, 1,\n",
       "       6, 6, 1, 3, 3, 6, 3, 2, 1, 3, 2, 1, 6, 4, 6, 6, 2, 3, 1, 6, 5, 4,\n",
       "       1, 6, 4, 4, 2, 6, 1, 1, 5, 5, 6, 3, 1, 5, 4, 6, 1, 2, 4, 4, 4, 3,\n",
       "       1, 3, 3, 2, 5, 1, 2, 4, 5, 1, 3, 2, 1, 2, 1, 6, 5, 1, 3, 3, 2, 6,\n",
       "       6, 1, 4, 6, 3, 2, 5, 1, 4, 2, 3, 5, 5, 5, 5, 3, 2, 2, 2, 6, 1, 1,\n",
       "       5, 5, 6, 1, 1, 4, 2, 1, 6, 5, 3, 6, 1, 5, 2, 2, 1, 4, 1, 6, 5, 6,\n",
       "       4, 2, 2, 2, 6, 2, 2, 6, 2, 1])"
      ]
     },
     "execution_count": 48,
     "metadata": {},
     "output_type": "execute_result"
    }
   ],
   "source": [
    "# vizualiza o resultado\n",
    "arr_rolls_1000"
   ]
  },
  {
   "cell_type": "code",
   "execution_count": 49,
   "metadata": {},
   "outputs": [
    {
     "data": {
      "text/html": [
       "<table border=\"1\" class=\"dataframe\">\n",
       "    <thead>\n",
       "        <tr>\n",
       "            <th>dado</th>\n",
       "        </tr>\n",
       "    </thead>\n",
       "    <tbody>\n",
       "        <tr>\n",
       "            <td>2   </td>\n",
       "        </tr>\n",
       "    </tbody>\n",
       "        <tr>\n",
       "            <td>6   </td>\n",
       "        </tr>\n",
       "    </tbody>\n",
       "        <tr>\n",
       "            <td>5   </td>\n",
       "        </tr>\n",
       "    </tbody>\n",
       "        <tr>\n",
       "            <td>4   </td>\n",
       "        </tr>\n",
       "    </tbody>\n",
       "        <tr>\n",
       "            <td>5   </td>\n",
       "        </tr>\n",
       "    </tbody>\n",
       "        <tr>\n",
       "            <td>1   </td>\n",
       "        </tr>\n",
       "    </tbody>\n",
       "        <tr>\n",
       "            <td>1   </td>\n",
       "        </tr>\n",
       "    </tbody>\n",
       "        <tr>\n",
       "            <td>2   </td>\n",
       "        </tr>\n",
       "    </tbody>\n",
       "        <tr>\n",
       "            <td>3   </td>\n",
       "        </tr>\n",
       "    </tbody>\n",
       "        <tr>\n",
       "            <td>3   </td>\n",
       "        </tr>\n",
       "    </tbody>\n",
       "</table>\n",
       "<p>... (990 rows omitted)</p>"
      ],
      "text/plain": [
       "dado\n",
       "2\n",
       "6\n",
       "5\n",
       "4\n",
       "5\n",
       "1\n",
       "1\n",
       "2\n",
       "3\n",
       "3\n",
       "... (990 rows omitted)"
      ]
     },
     "execution_count": 49,
     "metadata": {},
     "output_type": "execute_result"
    }
   ],
   "source": [
    "# cria uma tabela com os resultados dos dados\n",
    "tb_dado_1000 = Table().with_column('dado', arr_rolls_1000)\n",
    "tb_dado_1000"
   ]
  },
  {
   "cell_type": "code",
   "execution_count": 50,
   "metadata": {},
   "outputs": [],
   "source": [
    "tb_dado_1000.hist()"
   ]
  }
 ],
 "metadata": {
  "kernelspec": {
   "display_name": "Python 3",
   "language": "python",
   "name": "python3"
  },
  "language_info": {
   "codemirror_mode": {
    "name": "ipython",
    "version": 3
   },
   "file_extension": ".py",
   "mimetype": "text/x-python",
   "name": "python",
   "nbconvert_exporter": "python",
   "pygments_lexer": "ipython3",
   "version": "3.6.4"
  }
 },
 "nbformat": 4,
 "nbformat_minor": 2
}
